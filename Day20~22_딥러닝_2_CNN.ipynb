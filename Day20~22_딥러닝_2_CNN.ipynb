{
  "nbformat": 4,
  "nbformat_minor": 0,
  "metadata": {
    "colab": {
      "name": "Day 20~22 딥러닝 #2 CNN.ipynb",
      "provenance": [],
      "collapsed_sections": [],
      "toc_visible": true,
      "authorship_tag": "ABX9TyOwlFDLIZ+qAO43m30mQBRs",
      "include_colab_link": true
    },
    "kernelspec": {
      "name": "python3",
      "display_name": "Python 3"
    },
    "language_info": {
      "name": "python"
    },
    "accelerator": "GPU"
  },
  "cells": [
    {
      "cell_type": "markdown",
      "metadata": {
        "id": "view-in-github",
        "colab_type": "text"
      },
      "source": [
        "<a href=\"https://colab.research.google.com/github/futurebly/Web-AI/blob/main/Day20~22_%EB%94%A5%EB%9F%AC%EB%8B%9D_2_CNN.ipynb\" target=\"_parent\"><img src=\"https://colab.research.google.com/assets/colab-badge.svg\" alt=\"Open In Colab\"/></a>"
      ]
    },
    {
      "cell_type": "markdown",
      "metadata": {
        "id": "pLGSNIGTDxds"
      },
      "source": [
        "# 딥러닝 #2 CNN"
      ]
    },
    {
      "cell_type": "markdown",
      "metadata": {
        "id": "bq1dXmC3Fyc1"
      },
      "source": [
        "## 사용할 이미지 구경\n",
        "- MNIST\n",
        "- CIFAR10"
      ]
    },
    {
      "cell_type": "code",
      "metadata": {
        "id": "rE5HirRuDrII",
        "colab": {
          "base_uri": "https://localhost:8080/"
        },
        "outputId": "15c6829e-de63-450f-9b96-181a0bcab60a"
      },
      "source": [
        "import tensorflow as tf\n",
        "\n",
        "(x_train, y_train), (x_test, y_test) = tf.keras.datasets.mnist.load_data()\n",
        "print(x_train.shape, y_train.shape)\n",
        "print(x_test.shape, y_test.shape)\n",
        "\n",
        "(x_train, y_train), (x_test, y_test) = tf.keras.datasets.cifar10.load_data()\n",
        "print(x_train.shape, y_train.shape)\n",
        "print(x_test.shape, y_test.shape)"
      ],
      "execution_count": null,
      "outputs": [
        {
          "output_type": "stream",
          "name": "stdout",
          "text": [
            "(60000, 28, 28) (60000,)\n",
            "(10000, 28, 28) (10000,)\n",
            "(50000, 32, 32, 3) (50000, 1)\n",
            "(10000, 32, 32, 3) (10000, 1)\n"
          ]
        }
      ]
    },
    {
      "cell_type": "code",
      "metadata": {
        "id": "9bP5T8HzEgs_",
        "colab": {
          "base_uri": "https://localhost:8080/"
        },
        "outputId": "0388199c-9a31-4feb-f63c-daac4c9e2653"
      },
      "source": [
        "help(tf.keras.datasets.mnist.load_data())"
      ],
      "execution_count": null,
      "outputs": [
        {
          "output_type": "stream",
          "name": "stdout",
          "text": [
            "Help on tuple object:\n",
            "\n",
            "class tuple(object)\n",
            " |  tuple(iterable=(), /)\n",
            " |  \n",
            " |  Built-in immutable sequence.\n",
            " |  \n",
            " |  If no argument is given, the constructor returns an empty tuple.\n",
            " |  If iterable is specified the tuple is initialized from iterable's items.\n",
            " |  \n",
            " |  If the argument is a tuple, the return value is the same object.\n",
            " |  \n",
            " |  Methods defined here:\n",
            " |  \n",
            " |  __add__(self, value, /)\n",
            " |      Return self+value.\n",
            " |  \n",
            " |  __contains__(self, key, /)\n",
            " |      Return key in self.\n",
            " |  \n",
            " |  __eq__(self, value, /)\n",
            " |      Return self==value.\n",
            " |  \n",
            " |  __ge__(self, value, /)\n",
            " |      Return self>=value.\n",
            " |  \n",
            " |  __getattribute__(self, name, /)\n",
            " |      Return getattr(self, name).\n",
            " |  \n",
            " |  __getitem__(self, key, /)\n",
            " |      Return self[key].\n",
            " |  \n",
            " |  __getnewargs__(self, /)\n",
            " |  \n",
            " |  __gt__(self, value, /)\n",
            " |      Return self>value.\n",
            " |  \n",
            " |  __hash__(self, /)\n",
            " |      Return hash(self).\n",
            " |  \n",
            " |  __iter__(self, /)\n",
            " |      Implement iter(self).\n",
            " |  \n",
            " |  __le__(self, value, /)\n",
            " |      Return self<=value.\n",
            " |  \n",
            " |  __len__(self, /)\n",
            " |      Return len(self).\n",
            " |  \n",
            " |  __lt__(self, value, /)\n",
            " |      Return self<value.\n",
            " |  \n",
            " |  __mul__(self, value, /)\n",
            " |      Return self*value.\n",
            " |  \n",
            " |  __ne__(self, value, /)\n",
            " |      Return self!=value.\n",
            " |  \n",
            " |  __repr__(self, /)\n",
            " |      Return repr(self).\n",
            " |  \n",
            " |  __rmul__(self, value, /)\n",
            " |      Return value*self.\n",
            " |  \n",
            " |  count(self, value, /)\n",
            " |      Return number of occurrences of value.\n",
            " |  \n",
            " |  index(self, value, start=0, stop=9223372036854775807, /)\n",
            " |      Return first index of value.\n",
            " |      \n",
            " |      Raises ValueError if the value is not present.\n",
            " |  \n",
            " |  ----------------------------------------------------------------------\n",
            " |  Static methods defined here:\n",
            " |  \n",
            " |  __new__(*args, **kwargs) from builtins.type\n",
            " |      Create and return a new object.  See help(type) for accurate signature.\n",
            "\n"
          ]
        }
      ]
    },
    {
      "cell_type": "code",
      "metadata": {
        "colab": {
          "base_uri": "https://localhost:8080/"
        },
        "id": "f3Upt45MFTvg",
        "outputId": "e8913445-f685-4de9-851f-c0427df694c0"
      },
      "source": [
        "import numpy as np\n",
        "\n",
        "numbers = np.array([1, 2, 3, 4, 5, 6, 7, 8, 9, 10, 11, 12])\n",
        "print(numbers)\n",
        "print(type(numbers))\n",
        "print(numbers.shape)"
      ],
      "execution_count": null,
      "outputs": [
        {
          "output_type": "stream",
          "name": "stdout",
          "text": [
            "[ 1  2  3  4  5  6  7  8  9 10 11 12]\n",
            "<class 'numpy.ndarray'>\n",
            "(12,)\n"
          ]
        }
      ]
    },
    {
      "cell_type": "code",
      "metadata": {
        "colab": {
          "base_uri": "https://localhost:8080/"
        },
        "id": "hloEp1e0GTw5",
        "outputId": "064bf019-19b7-4abd-8e53-00ad32c73e84"
      },
      "source": [
        "numbers = numbers.reshape(12, 1)\n",
        "print(numbers)\n",
        "print(numbers.shape)"
      ],
      "execution_count": null,
      "outputs": [
        {
          "output_type": "stream",
          "name": "stdout",
          "text": [
            "[[ 1]\n",
            " [ 2]\n",
            " [ 3]\n",
            " [ 4]\n",
            " [ 5]\n",
            " [ 6]\n",
            " [ 7]\n",
            " [ 8]\n",
            " [ 9]\n",
            " [10]\n",
            " [11]\n",
            " [12]]\n",
            "(12, 1)\n"
          ]
        }
      ]
    },
    {
      "cell_type": "code",
      "metadata": {
        "colab": {
          "base_uri": "https://localhost:8080/"
        },
        "id": "rIlWSGXhGjFw",
        "outputId": "31c1800b-d82b-4f68-9705-a6fc8cb7b065"
      },
      "source": [
        "numbers = numbers.reshape(1, 12, 1)\n",
        "print(numbers)\n",
        "print(numbers.shape)"
      ],
      "execution_count": null,
      "outputs": [
        {
          "output_type": "stream",
          "name": "stdout",
          "text": [
            "[[[ 1]\n",
            "  [ 2]\n",
            "  [ 3]\n",
            "  [ 4]\n",
            "  [ 5]\n",
            "  [ 6]\n",
            "  [ 7]\n",
            "  [ 8]\n",
            "  [ 9]\n",
            "  [10]\n",
            "  [11]\n",
            "  [12]]]\n",
            "(1, 12, 1)\n"
          ]
        }
      ]
    },
    {
      "cell_type": "code",
      "metadata": {
        "colab": {
          "base_uri": "https://localhost:8080/"
        },
        "id": "CVTkRdXFGxIl",
        "outputId": "245fe5a9-d73c-46cd-cf5c-8bd689dc86a2"
      },
      "source": [
        "numbers = numbers.reshape(3,2,2)\n",
        "print(numbers)\n",
        "print(numbers.shape)"
      ],
      "execution_count": null,
      "outputs": [
        {
          "output_type": "stream",
          "name": "stdout",
          "text": [
            "[[[ 1  2]\n",
            "  [ 3  4]]\n",
            "\n",
            " [[ 5  6]\n",
            "  [ 7  8]]\n",
            "\n",
            " [[ 9 10]\n",
            "  [11 12]]]\n",
            "(3, 2, 2)\n"
          ]
        }
      ]
    },
    {
      "cell_type": "code",
      "metadata": {
        "colab": {
          "base_uri": "https://localhost:8080/"
        },
        "id": "RzOEYMZrG3FL",
        "outputId": "91bea4ff-c977-4df3-b65e-456c89f44981"
      },
      "source": [
        "numbers = numbers.reshape(1,3,2,2)\n",
        "print(numbers)\n",
        "print(numbers.shape)"
      ],
      "execution_count": null,
      "outputs": [
        {
          "output_type": "stream",
          "name": "stdout",
          "text": [
            "[[[[ 1  2]\n",
            "   [ 3  4]]\n",
            "\n",
            "  [[ 5  6]\n",
            "   [ 7  8]]\n",
            "\n",
            "  [[ 9 10]\n",
            "   [11 12]]]]\n",
            "(1, 3, 2, 2)\n"
          ]
        }
      ]
    },
    {
      "cell_type": "code",
      "metadata": {
        "colab": {
          "base_uri": "https://localhost:8080/"
        },
        "id": "HQKZfT3-HLRK",
        "outputId": "849bb458-b54b-4c91-caf1-ebb9e6757391"
      },
      "source": [
        "numbers = numbers.reshape(1,3,2,2,1)\n",
        "print(numbers)\n",
        "print(numbers.shape)"
      ],
      "execution_count": null,
      "outputs": [
        {
          "output_type": "stream",
          "name": "stdout",
          "text": [
            "[[[[[ 1]\n",
            "    [ 2]]\n",
            "\n",
            "   [[ 3]\n",
            "    [ 4]]]\n",
            "\n",
            "\n",
            "  [[[ 5]\n",
            "    [ 6]]\n",
            "\n",
            "   [[ 7]\n",
            "    [ 8]]]\n",
            "\n",
            "\n",
            "  [[[ 9]\n",
            "    [10]]\n",
            "\n",
            "   [[11]\n",
            "    [12]]]]]\n",
            "(1, 3, 2, 2, 1)\n"
          ]
        }
      ]
    },
    {
      "cell_type": "code",
      "metadata": {
        "colab": {
          "base_uri": "https://localhost:8080/"
        },
        "id": "M4s2Uf7hHPwg",
        "outputId": "36b258fc-2273-4926-9848-bbd957fa72c6"
      },
      "source": [
        "import tensorflow as tf\n",
        "\n",
        "(x_train, y_train), (x_test, y_test) = tf.keras.datasets.mnist.load_data()\n",
        "print(x_train.shape, y_train.shape)\n",
        "print(x_test.shape, y_test.shape)"
      ],
      "execution_count": null,
      "outputs": [
        {
          "output_type": "stream",
          "name": "stdout",
          "text": [
            "(60000, 28, 28) (60000,)\n",
            "(10000, 28, 28) (10000,)\n"
          ]
        }
      ]
    },
    {
      "cell_type": "code",
      "metadata": {
        "colab": {
          "base_uri": "https://localhost:8080/",
          "height": 283
        },
        "id": "UE5_AoSnH8bW",
        "outputId": "845039b4-aedd-41cd-c6a3-9daf2ad490e6"
      },
      "source": [
        "import matplotlib.pyplot as plt\n",
        "\n",
        "plt.imshow(x_train[0])"
      ],
      "execution_count": null,
      "outputs": [
        {
          "output_type": "execute_result",
          "data": {
            "text/plain": [
              "<matplotlib.image.AxesImage at 0x7fd6700de650>"
            ]
          },
          "metadata": {},
          "execution_count": 17
        },
        {
          "output_type": "display_data",
          "data": {
            "image/png": "[encoded data removed]",
            "text/plain": [
              "<Figure size 432x288 with 1 Axes>"
            ]
          },
          "metadata": {
            "needs_background": "light"
          }
        }
      ]
    },
    {
      "cell_type": "code",
      "metadata": {
        "colab": {
          "base_uri": "https://localhost:8080/",
          "height": 283
        },
        "id": "_JCmgmquIFbo",
        "outputId": "827ec1af-14e3-409b-92a4-fb162ce65863"
      },
      "source": [
        "plt.imshow(x_train[0], cmap='gray')"
      ],
      "execution_count": null,
      "outputs": [
        {
          "output_type": "execute_result",
          "data": {
            "text/plain": [
              "<matplotlib.image.AxesImage at 0x7fd670085b90>"
            ]
          },
          "metadata": {},
          "execution_count": 18
        },
        {
          "output_type": "display_data",
          "data": {
            "image/png": "[encoded data removed]",
            "text/plain": [
              "<Figure size 432x288 with 1 Axes>"
            ]
          },
          "metadata": {
            "needs_background": "light"
          }
        }
      ]
    },
    {
      "cell_type": "code",
      "metadata": {
        "colab": {
          "base_uri": "https://localhost:8080/",
          "height": 926
        },
        "id": "f5cFZ30kIQo5",
        "outputId": "538439a9-ffef-4dcc-9c39-0791a93dd1f9"
      },
      "source": [
        "import pandas as pd\n",
        "pd.DataFrame(x_train[0])"
      ],
      "execution_count": null,
      "outputs": [
        {
          "output_type": "execute_result",
          "data": {
            "text/html": [
              "<div>\n",
              "<style scoped>\n",
              "    .dataframe tbody tr th:only-of-type {\n",
              "        vertical-align: middle;\n",
              "    }\n",
              "\n",
              "    .dataframe tbody tr th {\n",
              "        vertical-align: top;\n",
              "    }\n",
              "\n",
              "    .dataframe thead th {\n",
              "        text-align: right;\n",
              "    }\n",
              "</style>\n",
              "<table border=\"1\" class=\"dataframe\">\n",
              "  <thead>\n",
              "    <tr style=\"text-align: right;\">\n",
              "      <th></th>\n",
              "      <th>0</th>\n",
              "      <th>1</th>\n",
              "      <th>2</th>\n",
              "      <th>3</th>\n",
              "      <th>4</th>\n",
              "      <th>5</th>\n",
              "      <th>6</th>\n",
              "      <th>7</th>\n",
              "      <th>8</th>\n",
              "      <th>9</th>\n",
              "      <th>10</th>\n",
              "      <th>11</th>\n",
              "      <th>12</th>\n",
              "      <th>13</th>\n",
              "      <th>14</th>\n",
              "      <th>15</th>\n",
              "      <th>16</th>\n",
              "      <th>17</th>\n",
              "      <th>18</th>\n",
              "      <th>19</th>\n",
              "      <th>20</th>\n",
              "      <th>21</th>\n",
              "      <th>22</th>\n",
              "      <th>23</th>\n",
              "      <th>24</th>\n",
              "      <th>25</th>\n",
              "      <th>26</th>\n",
              "      <th>27</th>\n",
              "    </tr>\n",
              "  </thead>\n",
              "  <tbody>\n",
              "    <tr>\n",
              "      <th>0</th>\n",
              "      <td>0</td>\n",
              "      <td>0</td>\n",
              "      <td>0</td>\n",
              "      <td>0</td>\n",
              "      <td>0</td>\n",
              "      <td>0</td>\n",
              "      <td>0</td>\n",
              "      <td>0</td>\n",
              "      <td>0</td>\n",
              "      <td>0</td>\n",
              "      <td>0</td>\n",
              "      <td>0</td>\n",
              "      <td>0</td>\n",
              "      <td>0</td>\n",
              "      <td>0</td>\n",
              "      <td>0</td>\n",
              "      <td>0</td>\n",
              "      <td>0</td>\n",
              "      <td>0</td>\n",
              "      <td>0</td>\n",
              "      <td>0</td>\n",
              "      <td>0</td>\n",
              "      <td>0</td>\n",
              "      <td>0</td>\n",
              "      <td>0</td>\n",
              "      <td>0</td>\n",
              "      <td>0</td>\n",
              "      <td>0</td>\n",
              "    </tr>\n",
              "    <tr>\n",
              "      <th>1</th>\n",
              "      <td>0</td>\n",
              "      <td>0</td>\n",
              "      <td>0</td>\n",
              "      <td>0</td>\n",
              "      <td>0</td>\n",
              "      <td>0</td>\n",
              "      <td>0</td>\n",
              "      <td>0</td>\n",
              "      <td>0</td>\n",
              "      <td>0</td>\n",
              "      <td>0</td>\n",
              "      <td>0</td>\n",
              "      <td>0</td>\n",
              "      <td>0</td>\n",
              "      <td>0</td>\n",
              "      <td>0</td>\n",
              "      <td>0</td>\n",
              "      <td>0</td>\n",
              "      <td>0</td>\n",
              "      <td>0</td>\n",
              "      <td>0</td>\n",
              "      <td>0</td>\n",
              "      <td>0</td>\n",
              "      <td>0</td>\n",
              "      <td>0</td>\n",
              "      <td>0</td>\n",
              "      <td>0</td>\n",
              "      <td>0</td>\n",
              "    </tr>\n",
              "    <tr>\n",
              "      <th>2</th>\n",
              "      <td>0</td>\n",
              "      <td>0</td>\n",
              "      <td>0</td>\n",
              "      <td>0</td>\n",
              "      <td>0</td>\n",
              "      <td>0</td>\n",
              "      <td>0</td>\n",
              "      <td>0</td>\n",
              "      <td>0</td>\n",
              "      <td>0</td>\n",
              "      <td>0</td>\n",
              "      <td>0</td>\n",
              "      <td>0</td>\n",
              "      <td>0</td>\n",
              "      <td>0</td>\n",
              "      <td>0</td>\n",
              "      <td>0</td>\n",
              "      <td>0</td>\n",
              "      <td>0</td>\n",
              "      <td>0</td>\n",
              "      <td>0</td>\n",
              "      <td>0</td>\n",
              "      <td>0</td>\n",
              "      <td>0</td>\n",
              "      <td>0</td>\n",
              "      <td>0</td>\n",
              "      <td>0</td>\n",
              "      <td>0</td>\n",
              "    </tr>\n",
              "    <tr>\n",
              "      <th>3</th>\n",
              "      <td>0</td>\n",
              "      <td>0</td>\n",
              "      <td>0</td>\n",
              "      <td>0</td>\n",
              "      <td>0</td>\n",
              "      <td>0</td>\n",
              "      <td>0</td>\n",
              "      <td>0</td>\n",
              "      <td>0</td>\n",
              "      <td>0</td>\n",
              "      <td>0</td>\n",
              "      <td>0</td>\n",
              "      <td>0</td>\n",
              "      <td>0</td>\n",
              "      <td>0</td>\n",
              "      <td>0</td>\n",
              "      <td>0</td>\n",
              "      <td>0</td>\n",
              "      <td>0</td>\n",
              "      <td>0</td>\n",
              "      <td>0</td>\n",
              "      <td>0</td>\n",
              "      <td>0</td>\n",
              "      <td>0</td>\n",
              "      <td>0</td>\n",
              "      <td>0</td>\n",
              "      <td>0</td>\n",
              "      <td>0</td>\n",
              "    </tr>\n",
              "    <tr>\n",
              "      <th>4</th>\n",
              "      <td>0</td>\n",
              "      <td>0</td>\n",
              "      <td>0</td>\n",
              "      <td>0</td>\n",
              "      <td>0</td>\n",
              "      <td>0</td>\n",
              "      <td>0</td>\n",
              "      <td>0</td>\n",
              "      <td>0</td>\n",
              "      <td>0</td>\n",
              "      <td>0</td>\n",
              "      <td>0</td>\n",
              "      <td>0</td>\n",
              "      <td>0</td>\n",
              "      <td>0</td>\n",
              "      <td>0</td>\n",
              "      <td>0</td>\n",
              "      <td>0</td>\n",
              "      <td>0</td>\n",
              "      <td>0</td>\n",
              "      <td>0</td>\n",
              "      <td>0</td>\n",
              "      <td>0</td>\n",
              "      <td>0</td>\n",
              "      <td>0</td>\n",
              "      <td>0</td>\n",
              "      <td>0</td>\n",
              "      <td>0</td>\n",
              "    </tr>\n",
              "    <tr>\n",
              "      <th>5</th>\n",
              "      <td>0</td>\n",
              "      <td>0</td>\n",
              "      <td>0</td>\n",
              "      <td>0</td>\n",
              "      <td>0</td>\n",
              "      <td>0</td>\n",
              "      <td>0</td>\n",
              "      <td>0</td>\n",
              "      <td>0</td>\n",
              "      <td>0</td>\n",
              "      <td>0</td>\n",
              "      <td>0</td>\n",
              "      <td>3</td>\n",
              "      <td>18</td>\n",
              "      <td>18</td>\n",
              "      <td>18</td>\n",
              "      <td>126</td>\n",
              "      <td>136</td>\n",
              "      <td>175</td>\n",
              "      <td>26</td>\n",
              "      <td>166</td>\n",
              "      <td>255</td>\n",
              "      <td>247</td>\n",
              "      <td>127</td>\n",
              "      <td>0</td>\n",
              "      <td>0</td>\n",
              "      <td>0</td>\n",
              "      <td>0</td>\n",
              "    </tr>\n",
              "    <tr>\n",
              "      <th>6</th>\n",
              "      <td>0</td>\n",
              "      <td>0</td>\n",
              "      <td>0</td>\n",
              "      <td>0</td>\n",
              "      <td>0</td>\n",
              "      <td>0</td>\n",
              "      <td>0</td>\n",
              "      <td>0</td>\n",
              "      <td>30</td>\n",
              "      <td>36</td>\n",
              "      <td>94</td>\n",
              "      <td>154</td>\n",
              "      <td>170</td>\n",
              "      <td>253</td>\n",
              "      <td>253</td>\n",
              "      <td>253</td>\n",
              "      <td>253</td>\n",
              "      <td>253</td>\n",
              "      <td>225</td>\n",
              "      <td>172</td>\n",
              "      <td>253</td>\n",
              "      <td>242</td>\n",
              "      <td>195</td>\n",
              "      <td>64</td>\n",
              "      <td>0</td>\n",
              "      <td>0</td>\n",
              "      <td>0</td>\n",
              "      <td>0</td>\n",
              "    </tr>\n",
              "    <tr>\n",
              "      <th>7</th>\n",
              "      <td>0</td>\n",
              "      <td>0</td>\n",
              "      <td>0</td>\n",
              "      <td>0</td>\n",
              "      <td>0</td>\n",
              "      <td>0</td>\n",
              "      <td>0</td>\n",
              "      <td>49</td>\n",
              "      <td>238</td>\n",
              "      <td>253</td>\n",
              "      <td>253</td>\n",
              "      <td>253</td>\n",
              "      <td>253</td>\n",
              "      <td>253</td>\n",
              "      <td>253</td>\n",
              "      <td>253</td>\n",
              "      <td>253</td>\n",
              "      <td>251</td>\n",
              "      <td>93</td>\n",
              "      <td>82</td>\n",
              "      <td>82</td>\n",
              "      <td>56</td>\n",
              "      <td>39</td>\n",
              "      <td>0</td>\n",
              "      <td>0</td>\n",
              "      <td>0</td>\n",
              "      <td>0</td>\n",
              "      <td>0</td>\n",
              "    </tr>\n",
              "    <tr>\n",
              "      <th>8</th>\n",
              "      <td>0</td>\n",
              "      <td>0</td>\n",
              "      <td>0</td>\n",
              "      <td>0</td>\n",
              "      <td>0</td>\n",
              "      <td>0</td>\n",
              "      <td>0</td>\n",
              "      <td>18</td>\n",
              "      <td>219</td>\n",
              "      <td>253</td>\n",
              "      <td>253</td>\n",
              "      <td>253</td>\n",
              "      <td>253</td>\n",
              "      <td>253</td>\n",
              "      <td>198</td>\n",
              "      <td>182</td>\n",
              "      <td>247</td>\n",
              "      <td>241</td>\n",
              "      <td>0</td>\n",
              "      <td>0</td>\n",
              "      <td>0</td>\n",
              "      <td>0</td>\n",
              "      <td>0</td>\n",
              "      <td>0</td>\n",
              "      <td>0</td>\n",
              "      <td>0</td>\n",
              "      <td>0</td>\n",
              "      <td>0</td>\n",
              "    </tr>\n",
              "    <tr>\n",
              "      <th>9</th>\n",
              "      <td>0</td>\n",
              "      <td>0</td>\n",
              "      <td>0</td>\n",
              "      <td>0</td>\n",
              "      <td>0</td>\n",
              "      <td>0</td>\n",
              "      <td>0</td>\n",
              "      <td>0</td>\n",
              "      <td>80</td>\n",
              "      <td>156</td>\n",
              "      <td>107</td>\n",
              "      <td>253</td>\n",
              "      <td>253</td>\n",
              "      <td>205</td>\n",
              "      <td>11</td>\n",
              "      <td>0</td>\n",
              "      <td>43</td>\n",
              "      <td>154</td>\n",
              "      <td>0</td>\n",
              "      <td>0</td>\n",
              "      <td>0</td>\n",
              "      <td>0</td>\n",
              "      <td>0</td>\n",
              "      <td>0</td>\n",
              "      <td>0</td>\n",
              "      <td>0</td>\n",
              "      <td>0</td>\n",
              "      <td>0</td>\n",
              "    </tr>\n",
              "    <tr>\n",
              "      <th>10</th>\n",
              "      <td>0</td>\n",
              "      <td>0</td>\n",
              "      <td>0</td>\n",
              "      <td>0</td>\n",
              "      <td>0</td>\n",
              "      <td>0</td>\n",
              "      <td>0</td>\n",
              "      <td>0</td>\n",
              "      <td>0</td>\n",
              "      <td>14</td>\n",
              "      <td>1</td>\n",
              "      <td>154</td>\n",
              "      <td>253</td>\n",
              "      <td>90</td>\n",
              "      <td>0</td>\n",
              "      <td>0</td>\n",
              "      <td>0</td>\n",
              "      <td>0</td>\n",
              "      <td>0</td>\n",
              "      <td>0</td>\n",
              "      <td>0</td>\n",
              "      <td>0</td>\n",
              "      <td>0</td>\n",
              "      <td>0</td>\n",
              "      <td>0</td>\n",
              "      <td>0</td>\n",
              "      <td>0</td>\n",
              "      <td>0</td>\n",
              "    </tr>\n",
              "    <tr>\n",
              "      <th>11</th>\n",
              "      <td>0</td>\n",
              "      <td>0</td>\n",
              "      <td>0</td>\n",
              "      <td>0</td>\n",
              "      <td>0</td>\n",
              "      <td>0</td>\n",
              "      <td>0</td>\n",
              "      <td>0</td>\n",
              "      <td>0</td>\n",
              "      <td>0</td>\n",
              "      <td>0</td>\n",
              "      <td>139</td>\n",
              "      <td>253</td>\n",
              "      <td>190</td>\n",
              "      <td>2</td>\n",
              "      <td>0</td>\n",
              "      <td>0</td>\n",
              "      <td>0</td>\n",
              "      <td>0</td>\n",
              "      <td>0</td>\n",
              "      <td>0</td>\n",
              "      <td>0</td>\n",
              "      <td>0</td>\n",
              "      <td>0</td>\n",
              "      <td>0</td>\n",
              "      <td>0</td>\n",
              "      <td>0</td>\n",
              "      <td>0</td>\n",
              "    </tr>\n",
              "    <tr>\n",
              "      <th>12</th>\n",
              "      <td>0</td>\n",
              "      <td>0</td>\n",
              "      <td>0</td>\n",
              "      <td>0</td>\n",
              "      <td>0</td>\n",
              "      <td>0</td>\n",
              "      <td>0</td>\n",
              "      <td>0</td>\n",
              "      <td>0</td>\n",
              "      <td>0</td>\n",
              "      <td>0</td>\n",
              "      <td>11</td>\n",
              "      <td>190</td>\n",
              "      <td>253</td>\n",
              "      <td>70</td>\n",
              "      <td>0</td>\n",
              "      <td>0</td>\n",
              "      <td>0</td>\n",
              "      <td>0</td>\n",
              "      <td>0</td>\n",
              "      <td>0</td>\n",
              "      <td>0</td>\n",
              "      <td>0</td>\n",
              "      <td>0</td>\n",
              "      <td>0</td>\n",
              "      <td>0</td>\n",
              "      <td>0</td>\n",
              "      <td>0</td>\n",
              "    </tr>\n",
              "    <tr>\n",
              "      <th>13</th>\n",
              "      <td>0</td>\n",
              "      <td>0</td>\n",
              "      <td>0</td>\n",
              "      <td>0</td>\n",
              "      <td>0</td>\n",
              "      <td>0</td>\n",
              "      <td>0</td>\n",
              "      <td>0</td>\n",
              "      <td>0</td>\n",
              "      <td>0</td>\n",
              "      <td>0</td>\n",
              "      <td>0</td>\n",
              "      <td>35</td>\n",
              "      <td>241</td>\n",
              "      <td>225</td>\n",
              "      <td>160</td>\n",
              "      <td>108</td>\n",
              "      <td>1</td>\n",
              "      <td>0</td>\n",
              "      <td>0</td>\n",
              "      <td>0</td>\n",
              "      <td>0</td>\n",
              "      <td>0</td>\n",
              "      <td>0</td>\n",
              "      <td>0</td>\n",
              "      <td>0</td>\n",
              "      <td>0</td>\n",
              "      <td>0</td>\n",
              "    </tr>\n",
              "    <tr>\n",
              "      <th>14</th>\n",
              "      <td>0</td>\n",
              "      <td>0</td>\n",
              "      <td>0</td>\n",
              "      <td>0</td>\n",
              "      <td>0</td>\n",
              "      <td>0</td>\n",
              "      <td>0</td>\n",
              "      <td>0</td>\n",
              "      <td>0</td>\n",
              "      <td>0</td>\n",
              "      <td>0</td>\n",
              "      <td>0</td>\n",
              "      <td>0</td>\n",
              "      <td>81</td>\n",
              "      <td>240</td>\n",
              "      <td>253</td>\n",
              "      <td>253</td>\n",
              "      <td>119</td>\n",
              "      <td>25</td>\n",
              "      <td>0</td>\n",
              "      <td>0</td>\n",
              "      <td>0</td>\n",
              "      <td>0</td>\n",
              "      <td>0</td>\n",
              "      <td>0</td>\n",
              "      <td>0</td>\n",
              "      <td>0</td>\n",
              "      <td>0</td>\n",
              "    </tr>\n",
              "    <tr>\n",
              "      <th>15</th>\n",
              "      <td>0</td>\n",
              "      <td>0</td>\n",
              "      <td>0</td>\n",
              "      <td>0</td>\n",
              "      <td>0</td>\n",
              "      <td>0</td>\n",
              "      <td>0</td>\n",
              "      <td>0</td>\n",
              "      <td>0</td>\n",
              "      <td>0</td>\n",
              "      <td>0</td>\n",
              "      <td>0</td>\n",
              "      <td>0</td>\n",
              "      <td>0</td>\n",
              "      <td>45</td>\n",
              "      <td>186</td>\n",
              "      <td>253</td>\n",
              "      <td>253</td>\n",
              "      <td>150</td>\n",
              "      <td>27</td>\n",
              "      <td>0</td>\n",
              "      <td>0</td>\n",
              "      <td>0</td>\n",
              "      <td>0</td>\n",
              "      <td>0</td>\n",
              "      <td>0</td>\n",
              "      <td>0</td>\n",
              "      <td>0</td>\n",
              "    </tr>\n",
              "    <tr>\n",
              "      <th>16</th>\n",
              "      <td>0</td>\n",
              "      <td>0</td>\n",
              "      <td>0</td>\n",
              "      <td>0</td>\n",
              "      <td>0</td>\n",
              "      <td>0</td>\n",
              "      <td>0</td>\n",
              "      <td>0</td>\n",
              "      <td>0</td>\n",
              "      <td>0</td>\n",
              "      <td>0</td>\n",
              "      <td>0</td>\n",
              "      <td>0</td>\n",
              "      <td>0</td>\n",
              "      <td>0</td>\n",
              "      <td>16</td>\n",
              "      <td>93</td>\n",
              "      <td>252</td>\n",
              "      <td>253</td>\n",
              "      <td>187</td>\n",
              "      <td>0</td>\n",
              "      <td>0</td>\n",
              "      <td>0</td>\n",
              "      <td>0</td>\n",
              "      <td>0</td>\n",
              "      <td>0</td>\n",
              "      <td>0</td>\n",
              "      <td>0</td>\n",
              "    </tr>\n",
              "    <tr>\n",
              "      <th>17</th>\n",
              "      <td>0</td>\n",
              "      <td>0</td>\n",
              "      <td>0</td>\n",
              "      <td>0</td>\n",
              "      <td>0</td>\n",
              "      <td>0</td>\n",
              "      <td>0</td>\n",
              "      <td>0</td>\n",
              "      <td>0</td>\n",
              "      <td>0</td>\n",
              "      <td>0</td>\n",
              "      <td>0</td>\n",
              "      <td>0</td>\n",
              "      <td>0</td>\n",
              "      <td>0</td>\n",
              "      <td>0</td>\n",
              "      <td>0</td>\n",
              "      <td>249</td>\n",
              "      <td>253</td>\n",
              "      <td>249</td>\n",
              "      <td>64</td>\n",
              "      <td>0</td>\n",
              "      <td>0</td>\n",
              "      <td>0</td>\n",
              "      <td>0</td>\n",
              "      <td>0</td>\n",
              "      <td>0</td>\n",
              "      <td>0</td>\n",
              "    </tr>\n",
              "    <tr>\n",
              "      <th>18</th>\n",
              "      <td>0</td>\n",
              "      <td>0</td>\n",
              "      <td>0</td>\n",
              "      <td>0</td>\n",
              "      <td>0</td>\n",
              "      <td>0</td>\n",
              "      <td>0</td>\n",
              "      <td>0</td>\n",
              "      <td>0</td>\n",
              "      <td>0</td>\n",
              "      <td>0</td>\n",
              "      <td>0</td>\n",
              "      <td>0</td>\n",
              "      <td>0</td>\n",
              "      <td>46</td>\n",
              "      <td>130</td>\n",
              "      <td>183</td>\n",
              "      <td>253</td>\n",
              "      <td>253</td>\n",
              "      <td>207</td>\n",
              "      <td>2</td>\n",
              "      <td>0</td>\n",
              "      <td>0</td>\n",
              "      <td>0</td>\n",
              "      <td>0</td>\n",
              "      <td>0</td>\n",
              "      <td>0</td>\n",
              "      <td>0</td>\n",
              "    </tr>\n",
              "    <tr>\n",
              "      <th>19</th>\n",
              "      <td>0</td>\n",
              "      <td>0</td>\n",
              "      <td>0</td>\n",
              "      <td>0</td>\n",
              "      <td>0</td>\n",
              "      <td>0</td>\n",
              "      <td>0</td>\n",
              "      <td>0</td>\n",
              "      <td>0</td>\n",
              "      <td>0</td>\n",
              "      <td>0</td>\n",
              "      <td>0</td>\n",
              "      <td>39</td>\n",
              "      <td>148</td>\n",
              "      <td>229</td>\n",
              "      <td>253</td>\n",
              "      <td>253</td>\n",
              "      <td>253</td>\n",
              "      <td>250</td>\n",
              "      <td>182</td>\n",
              "      <td>0</td>\n",
              "      <td>0</td>\n",
              "      <td>0</td>\n",
              "      <td>0</td>\n",
              "      <td>0</td>\n",
              "      <td>0</td>\n",
              "      <td>0</td>\n",
              "      <td>0</td>\n",
              "    </tr>\n",
              "    <tr>\n",
              "      <th>20</th>\n",
              "      <td>0</td>\n",
              "      <td>0</td>\n",
              "      <td>0</td>\n",
              "      <td>0</td>\n",
              "      <td>0</td>\n",
              "      <td>0</td>\n",
              "      <td>0</td>\n",
              "      <td>0</td>\n",
              "      <td>0</td>\n",
              "      <td>0</td>\n",
              "      <td>24</td>\n",
              "      <td>114</td>\n",
              "      <td>221</td>\n",
              "      <td>253</td>\n",
              "      <td>253</td>\n",
              "      <td>253</td>\n",
              "      <td>253</td>\n",
              "      <td>201</td>\n",
              "      <td>78</td>\n",
              "      <td>0</td>\n",
              "      <td>0</td>\n",
              "      <td>0</td>\n",
              "      <td>0</td>\n",
              "      <td>0</td>\n",
              "      <td>0</td>\n",
              "      <td>0</td>\n",
              "      <td>0</td>\n",
              "      <td>0</td>\n",
              "    </tr>\n",
              "    <tr>\n",
              "      <th>21</th>\n",
              "      <td>0</td>\n",
              "      <td>0</td>\n",
              "      <td>0</td>\n",
              "      <td>0</td>\n",
              "      <td>0</td>\n",
              "      <td>0</td>\n",
              "      <td>0</td>\n",
              "      <td>0</td>\n",
              "      <td>23</td>\n",
              "      <td>66</td>\n",
              "      <td>213</td>\n",
              "      <td>253</td>\n",
              "      <td>253</td>\n",
              "      <td>253</td>\n",
              "      <td>253</td>\n",
              "      <td>198</td>\n",
              "      <td>81</td>\n",
              "      <td>2</td>\n",
              "      <td>0</td>\n",
              "      <td>0</td>\n",
              "      <td>0</td>\n",
              "      <td>0</td>\n",
              "      <td>0</td>\n",
              "      <td>0</td>\n",
              "      <td>0</td>\n",
              "      <td>0</td>\n",
              "      <td>0</td>\n",
              "      <td>0</td>\n",
              "    </tr>\n",
              "    <tr>\n",
              "      <th>22</th>\n",
              "      <td>0</td>\n",
              "      <td>0</td>\n",
              "      <td>0</td>\n",
              "      <td>0</td>\n",
              "      <td>0</td>\n",
              "      <td>0</td>\n",
              "      <td>18</td>\n",
              "      <td>171</td>\n",
              "      <td>219</td>\n",
              "      <td>253</td>\n",
              "      <td>253</td>\n",
              "      <td>253</td>\n",
              "      <td>253</td>\n",
              "      <td>195</td>\n",
              "      <td>80</td>\n",
              "      <td>9</td>\n",
              "      <td>0</td>\n",
              "      <td>0</td>\n",
              "      <td>0</td>\n",
              "      <td>0</td>\n",
              "      <td>0</td>\n",
              "      <td>0</td>\n",
              "      <td>0</td>\n",
              "      <td>0</td>\n",
              "      <td>0</td>\n",
              "      <td>0</td>\n",
              "      <td>0</td>\n",
              "      <td>0</td>\n",
              "    </tr>\n",
              "    <tr>\n",
              "      <th>23</th>\n",
              "      <td>0</td>\n",
              "      <td>0</td>\n",
              "      <td>0</td>\n",
              "      <td>0</td>\n",
              "      <td>55</td>\n",
              "      <td>172</td>\n",
              "      <td>226</td>\n",
              "      <td>253</td>\n",
              "      <td>253</td>\n",
              "      <td>253</td>\n",
              "      <td>253</td>\n",
              "      <td>244</td>\n",
              "      <td>133</td>\n",
              "      <td>11</td>\n",
              "      <td>0</td>\n",
              "      <td>0</td>\n",
              "      <td>0</td>\n",
              "      <td>0</td>\n",
              "      <td>0</td>\n",
              "      <td>0</td>\n",
              "      <td>0</td>\n",
              "      <td>0</td>\n",
              "      <td>0</td>\n",
              "      <td>0</td>\n",
              "      <td>0</td>\n",
              "      <td>0</td>\n",
              "      <td>0</td>\n",
              "      <td>0</td>\n",
              "    </tr>\n",
              "    <tr>\n",
              "      <th>24</th>\n",
              "      <td>0</td>\n",
              "      <td>0</td>\n",
              "      <td>0</td>\n",
              "      <td>0</td>\n",
              "      <td>136</td>\n",
              "      <td>253</td>\n",
              "      <td>253</td>\n",
              "      <td>253</td>\n",
              "      <td>212</td>\n",
              "      <td>135</td>\n",
              "      <td>132</td>\n",
              "      <td>16</td>\n",
              "      <td>0</td>\n",
              "      <td>0</td>\n",
              "      <td>0</td>\n",
              "      <td>0</td>\n",
              "      <td>0</td>\n",
              "      <td>0</td>\n",
              "      <td>0</td>\n",
              "      <td>0</td>\n",
              "      <td>0</td>\n",
              "      <td>0</td>\n",
              "      <td>0</td>\n",
              "      <td>0</td>\n",
              "      <td>0</td>\n",
              "      <td>0</td>\n",
              "      <td>0</td>\n",
              "      <td>0</td>\n",
              "    </tr>\n",
              "    <tr>\n",
              "      <th>25</th>\n",
              "      <td>0</td>\n",
              "      <td>0</td>\n",
              "      <td>0</td>\n",
              "      <td>0</td>\n",
              "      <td>0</td>\n",
              "      <td>0</td>\n",
              "      <td>0</td>\n",
              "      <td>0</td>\n",
              "      <td>0</td>\n",
              "      <td>0</td>\n",
              "      <td>0</td>\n",
              "      <td>0</td>\n",
              "      <td>0</td>\n",
              "      <td>0</td>\n",
              "      <td>0</td>\n",
              "      <td>0</td>\n",
              "      <td>0</td>\n",
              "      <td>0</td>\n",
              "      <td>0</td>\n",
              "      <td>0</td>\n",
              "      <td>0</td>\n",
              "      <td>0</td>\n",
              "      <td>0</td>\n",
              "      <td>0</td>\n",
              "      <td>0</td>\n",
              "      <td>0</td>\n",
              "      <td>0</td>\n",
              "      <td>0</td>\n",
              "    </tr>\n",
              "    <tr>\n",
              "      <th>26</th>\n",
              "      <td>0</td>\n",
              "      <td>0</td>\n",
              "      <td>0</td>\n",
              "      <td>0</td>\n",
              "      <td>0</td>\n",
              "      <td>0</td>\n",
              "      <td>0</td>\n",
              "      <td>0</td>\n",
              "      <td>0</td>\n",
              "      <td>0</td>\n",
              "      <td>0</td>\n",
              "      <td>0</td>\n",
              "      <td>0</td>\n",
              "      <td>0</td>\n",
              "      <td>0</td>\n",
              "      <td>0</td>\n",
              "      <td>0</td>\n",
              "      <td>0</td>\n",
              "      <td>0</td>\n",
              "      <td>0</td>\n",
              "      <td>0</td>\n",
              "      <td>0</td>\n",
              "      <td>0</td>\n",
              "      <td>0</td>\n",
              "      <td>0</td>\n",
              "      <td>0</td>\n",
              "      <td>0</td>\n",
              "      <td>0</td>\n",
              "    </tr>\n",
              "    <tr>\n",
              "      <th>27</th>\n",
              "      <td>0</td>\n",
              "      <td>0</td>\n",
              "      <td>0</td>\n",
              "      <td>0</td>\n",
              "      <td>0</td>\n",
              "      <td>0</td>\n",
              "      <td>0</td>\n",
              "      <td>0</td>\n",
              "      <td>0</td>\n",
              "      <td>0</td>\n",
              "      <td>0</td>\n",
              "      <td>0</td>\n",
              "      <td>0</td>\n",
              "      <td>0</td>\n",
              "      <td>0</td>\n",
              "      <td>0</td>\n",
              "      <td>0</td>\n",
              "      <td>0</td>\n",
              "      <td>0</td>\n",
              "      <td>0</td>\n",
              "      <td>0</td>\n",
              "      <td>0</td>\n",
              "      <td>0</td>\n",
              "      <td>0</td>\n",
              "      <td>0</td>\n",
              "      <td>0</td>\n",
              "      <td>0</td>\n",
              "      <td>0</td>\n",
              "    </tr>\n",
              "  </tbody>\n",
              "</table>\n",
              "</div>"
            ],
            "text/plain": [
              "    0   1   2   3    4    5    6    7   ...   20   21   22   23  24  25  26  27\n",
              "0    0   0   0   0    0    0    0    0  ...    0    0    0    0   0   0   0   0\n",
              "1    0   0   0   0    0    0    0    0  ...    0    0    0    0   0   0   0   0\n",
              "2    0   0   0   0    0    0    0    0  ...    0    0    0    0   0   0   0   0\n",
              "3    0   0   0   0    0    0    0    0  ...    0    0    0    0   0   0   0   0\n",
              "4    0   0   0   0    0    0    0    0  ...    0    0    0    0   0   0   0   0\n",
              "5    0   0   0   0    0    0    0    0  ...  166  255  247  127   0   0   0   0\n",
              "6    0   0   0   0    0    0    0    0  ...  253  242  195   64   0   0   0   0\n",
              "7    0   0   0   0    0    0    0   49  ...   82   56   39    0   0   0   0   0\n",
              "8    0   0   0   0    0    0    0   18  ...    0    0    0    0   0   0   0   0\n",
              "9    0   0   0   0    0    0    0    0  ...    0    0    0    0   0   0   0   0\n",
              "10   0   0   0   0    0    0    0    0  ...    0    0    0    0   0   0   0   0\n",
              "11   0   0   0   0    0    0    0    0  ...    0    0    0    0   0   0   0   0\n",
              "12   0   0   0   0    0    0    0    0  ...    0    0    0    0   0   0   0   0\n",
              "13   0   0   0   0    0    0    0    0  ...    0    0    0    0   0   0   0   0\n",
              "14   0   0   0   0    0    0    0    0  ...    0    0    0    0   0   0   0   0\n",
              "15   0   0   0   0    0    0    0    0  ...    0    0    0    0   0   0   0   0\n",
              "16   0   0   0   0    0    0    0    0  ...    0    0    0    0   0   0   0   0\n",
              "17   0   0   0   0    0    0    0    0  ...   64    0    0    0   0   0   0   0\n",
              "18   0   0   0   0    0    0    0    0  ...    2    0    0    0   0   0   0   0\n",
              "19   0   0   0   0    0    0    0    0  ...    0    0    0    0   0   0   0   0\n",
              "20   0   0   0   0    0    0    0    0  ...    0    0    0    0   0   0   0   0\n",
              "21   0   0   0   0    0    0    0    0  ...    0    0    0    0   0   0   0   0\n",
              "22   0   0   0   0    0    0   18  171  ...    0    0    0    0   0   0   0   0\n",
              "23   0   0   0   0   55  172  226  253  ...    0    0    0    0   0   0   0   0\n",
              "24   0   0   0   0  136  253  253  253  ...    0    0    0    0   0   0   0   0\n",
              "25   0   0   0   0    0    0    0    0  ...    0    0    0    0   0   0   0   0\n",
              "26   0   0   0   0    0    0    0    0  ...    0    0    0    0   0   0   0   0\n",
              "27   0   0   0   0    0    0    0    0  ...    0    0    0    0   0   0   0   0\n",
              "\n",
              "[28 rows x 28 columns]"
            ]
          },
          "metadata": {},
          "execution_count": 19
        }
      ]
    },
    {
      "cell_type": "code",
      "metadata": {
        "colab": {
          "base_uri": "https://localhost:8080/",
          "height": 283
        },
        "id": "6HfUMKVmIV9l",
        "outputId": "28ba046e-deef-4b69-88f0-dcbca23363f7"
      },
      "source": [
        "plt.imshow(x_train[1])"
      ],
      "execution_count": null,
      "outputs": [
        {
          "output_type": "execute_result",
          "data": {
            "text/plain": [
              "<matplotlib.image.AxesImage at 0x7fd60787ded0>"
            ]
          },
          "metadata": {},
          "execution_count": 20
        },
        {
          "output_type": "display_data",
          "data": {
            "image/png": "[encoded data removed]",
            "text/plain": [
              "<Figure size 432x288 with 1 Axes>"
            ]
          },
          "metadata": {
            "needs_background": "light"
          }
        }
      ]
    },
    {
      "cell_type": "code",
      "metadata": {
        "colab": {
          "base_uri": "https://localhost:8080/",
          "height": 283
        },
        "id": "31RuE2WHIlbs",
        "outputId": "f5d20802-c2d3-485a-ac6e-2dacb812e407"
      },
      "source": [
        "plt.imshow(x_train[-1])"
      ],
      "execution_count": null,
      "outputs": [
        {
          "output_type": "execute_result",
          "data": {
            "text/plain": [
              "<matplotlib.image.AxesImage at 0x7fd6077e5bd0>"
            ]
          },
          "metadata": {},
          "execution_count": 21
        },
        {
          "output_type": "display_data",
          "data": {
            "image/png": "[encoded data removed]",
            "text/plain": [
              "<Figure size 432x288 with 1 Axes>"
            ]
          },
          "metadata": {
            "needs_background": "light"
          }
        }
      ]
    },
    {
      "cell_type": "code",
      "metadata": {
        "colab": {
          "base_uri": "https://localhost:8080/",
          "height": 300
        },
        "id": "ZgafkbbmInqo",
        "outputId": "29cc413d-020e-45cb-9f4e-3962e88085b0"
      },
      "source": [
        "print(y_train[2])\n",
        "plt.imshow(x_train[2])"
      ],
      "execution_count": null,
      "outputs": [
        {
          "output_type": "stream",
          "name": "stdout",
          "text": [
            "4\n"
          ]
        },
        {
          "output_type": "execute_result",
          "data": {
            "text/plain": [
              "<matplotlib.image.AxesImage at 0x7fd6077d2990>"
            ]
          },
          "metadata": {},
          "execution_count": 22
        },
        {
          "output_type": "display_data",
          "data": {
            "image/png": "[encoded data removed]",
            "text/plain": [
              "<Figure size 432x288 with 1 Axes>"
            ]
          },
          "metadata": {
            "needs_background": "light"
          }
        }
      ]
    },
    {
      "cell_type": "code",
      "metadata": {
        "colab": {
          "base_uri": "https://localhost:8080/"
        },
        "id": "xPyzCHiEIqQA",
        "outputId": "9694ec47-84fb-4b7f-b25c-923bd76369e2"
      },
      "source": [
        "(x_train, y_train), (x_test, y_test) = tf.keras.datasets.cifar10.load_data()\n",
        "print(x_train.shape, y_train.shape)\n",
        "print(x_test.shape, y_test.shape)"
      ],
      "execution_count": null,
      "outputs": [
        {
          "output_type": "stream",
          "name": "stdout",
          "text": [
            "(50000, 32, 32, 3) (50000, 1)\n",
            "(10000, 32, 32, 3) (10000, 1)\n"
          ]
        }
      ]
    },
    {
      "cell_type": "code",
      "metadata": {
        "colab": {
          "base_uri": "https://localhost:8080/",
          "height": 284
        },
        "id": "JIqvBpj7JI0R",
        "outputId": "49225949-245a-4765-86f1-55b05742bf0c"
      },
      "source": [
        "plt.imshow(x_train[83])"
      ],
      "execution_count": null,
      "outputs": [
        {
          "output_type": "execute_result",
          "data": {
            "text/plain": [
              "<matplotlib.image.AxesImage at 0x7fd60773d290>"
            ]
          },
          "metadata": {},
          "execution_count": 24
        },
        {
          "output_type": "display_data",
          "data": {
            "image/png": "[encoded data removed]",
            "text/plain": [
              "<Figure size 432x288 with 1 Axes>"
            ]
          },
          "metadata": {
            "needs_background": "light"
          }
        }
      ]
    },
    {
      "cell_type": "markdown",
      "metadata": {
        "id": "c13phAnFPxl7"
      },
      "source": [
        "## Flatten Layer"
      ]
    },
    {
      "cell_type": "code",
      "metadata": {
        "colab": {
          "base_uri": "https://localhost:8080/"
        },
        "id": "8kzUt0DkJfCf",
        "outputId": "b7516fb3-4f97-4cf5-e072-b5aec35ca6e9"
      },
      "source": [
        "#데이터를 준비\n",
        "import tensorflow as tf\n",
        "\n",
        "(x_train, y_train), (x_test, y_test) = tf.keras.datasets.mnist.load_data()\n",
        "\n",
        "print(x_train.shape, y_train.shape)\n",
        "print(x_test.shape, y_test.shape)"
      ],
      "execution_count": null,
      "outputs": [
        {
          "output_type": "stream",
          "name": "stdout",
          "text": [
            "(60000, 28, 28) (60000,)\n",
            "(10000, 28, 28) (10000,)\n"
          ]
        }
      ]
    },
    {
      "cell_type": "code",
      "metadata": {
        "colab": {
          "base_uri": "https://localhost:8080/"
        },
        "id": "bmIcG3mhP0eZ",
        "outputId": "c5206e57-cd08-4912-a5e3-70d60ea4e139"
      },
      "source": [
        "# 모델 생성\n",
        "X = tf.keras.Input(shape=[28,28])\n",
        "H = tf.keras.layers.Flatten()(X)\n",
        "H = tf.keras.layers.Dense(84, activation='swish')(H)\n",
        "Y = tf.keras.layers.Dense(10, activation='softmax')(H)\n",
        "model = tf.keras.Model(X, Y)\n",
        "model.compile(loss='sparse_categorical_crossentropy', metrics='accuracy') #sparse 붙이면 앞에서 원핫인코딩 안해도 됨(숫자로 인덱싱 되어 있을때만)\n",
        "\n",
        "model.summary()\n"
      ],
      "execution_count": null,
      "outputs": [
        {
          "output_type": "stream",
          "name": "stdout",
          "text": [
            "Model: \"model_1\"\n",
            "_________________________________________________________________\n",
            " Layer (type)                Output Shape              Param #   \n",
            "=================================================================\n",
            " input_2 (InputLayer)        [(None, 28, 28)]          0         \n",
            "                                                                 \n",
            " flatten_1 (Flatten)         (None, 784)               0         \n",
            "                                                                 \n",
            " dense_2 (Dense)             (None, 84)                65940     \n",
            "                                                                 \n",
            " dense_3 (Dense)             (None, 10)                850       \n",
            "                                                                 \n",
            "=================================================================\n",
            "Total params: 66,790\n",
            "Trainable params: 66,790\n",
            "Non-trainable params: 0\n",
            "_________________________________________________________________\n"
          ]
        }
      ]
    },
    {
      "cell_type": "code",
      "metadata": {
        "colab": {
          "base_uri": "https://localhost:8080/"
        },
        "id": "KS3aKEpxQ1fw",
        "outputId": "018a4be7-1bb3-4108-b899-0d40f638601c"
      },
      "source": [
        "# 모델을 데이터로 학습\n",
        "model.fit(x_train, y_train, batch_size=100, epochs=10, validation_split=0.2)"
      ],
      "execution_count": null,
      "outputs": [
        {
          "output_type": "stream",
          "name": "stdout",
          "text": [
            "Epoch 1/10\n",
            "480/480 [==============================] - 3s 4ms/step - loss: 3.8234 - accuracy: 0.8204 - val_loss: 0.5772 - val_accuracy: 0.8834\n",
            "Epoch 2/10\n",
            "480/480 [==============================] - 2s 4ms/step - loss: 0.5211 - accuracy: 0.9032 - val_loss: 0.4372 - val_accuracy: 0.9202\n",
            "Epoch 3/10\n",
            "480/480 [==============================] - 2s 4ms/step - loss: 0.3742 - accuracy: 0.9276 - val_loss: 0.3889 - val_accuracy: 0.9293\n",
            "Epoch 4/10\n",
            "480/480 [==============================] - 2s 4ms/step - loss: 0.3013 - accuracy: 0.9406 - val_loss: 0.3601 - val_accuracy: 0.9365\n",
            "Epoch 5/10\n",
            "480/480 [==============================] - 2s 4ms/step - loss: 0.2568 - accuracy: 0.9472 - val_loss: 0.3842 - val_accuracy: 0.9347\n",
            "Epoch 6/10\n",
            "480/480 [==============================] - 2s 4ms/step - loss: 0.2318 - accuracy: 0.9548 - val_loss: 0.3554 - val_accuracy: 0.9448\n",
            "Epoch 7/10\n",
            "480/480 [==============================] - 2s 4ms/step - loss: 0.2181 - accuracy: 0.9568 - val_loss: 0.3347 - val_accuracy: 0.9460\n",
            "Epoch 8/10\n",
            "480/480 [==============================] - 2s 4ms/step - loss: 0.2022 - accuracy: 0.9601 - val_loss: 0.3845 - val_accuracy: 0.9480\n",
            "Epoch 9/10\n",
            "480/480 [==============================] - 2s 4ms/step - loss: 0.1850 - accuracy: 0.9630 - val_loss: 0.3498 - val_accuracy: 0.9474\n",
            "Epoch 10/10\n",
            "480/480 [==============================] - 2s 4ms/step - loss: 0.1731 - accuracy: 0.9646 - val_loss: 0.3904 - val_accuracy: 0.9461\n"
          ]
        },
        {
          "output_type": "execute_result",
          "data": {
            "text/plain": [
              "<keras.callbacks.History at 0x7fd604a4bc50>"
            ]
          },
          "metadata": {},
          "execution_count": 27
        }
      ]
    },
    {
      "cell_type": "code",
      "metadata": {
        "colab": {
          "base_uri": "https://localhost:8080/"
        },
        "id": "bScBh2NZSBVr",
        "outputId": "cb1fe185-4a7c-4183-f3df-577b99af8dd4"
      },
      "source": [
        "#모델을 이용\n",
        "model.evaluate(x_test, y_test)"
      ],
      "execution_count": null,
      "outputs": [
        {
          "output_type": "stream",
          "name": "stdout",
          "text": [
            "313/313 [==============================] - 1s 4ms/step - loss: 0.4927 - accuracy: 0.9430\n"
          ]
        },
        {
          "output_type": "execute_result",
          "data": {
            "text/plain": [
              "[0.49268344044685364, 0.9430000185966492]"
            ]
          },
          "metadata": {},
          "execution_count": 28
        }
      ]
    },
    {
      "cell_type": "code",
      "metadata": {
        "colab": {
          "base_uri": "https://localhost:8080/"
        },
        "id": "yvhgi3_eUQn2",
        "outputId": "c1852136-6eec-4ffb-b15b-23d080b7766f"
      },
      "source": [
        "model.predict(x_test[:5])"
      ],
      "execution_count": null,
      "outputs": [
        {
          "output_type": "execute_result",
          "data": {
            "text/plain": [
              "array([[0.0000000e+00, 0.0000000e+00, 4.9540982e-24, 1.0694527e-21,\n",
              "        1.7296602e-28, 0.0000000e+00, 0.0000000e+00, 1.0000000e+00,\n",
              "        0.0000000e+00, 5.4279269e-18],\n",
              "       [0.0000000e+00, 3.1118257e-27, 1.0000000e+00, 0.0000000e+00,\n",
              "        0.0000000e+00, 0.0000000e+00, 0.0000000e+00, 0.0000000e+00,\n",
              "        0.0000000e+00, 0.0000000e+00],\n",
              "       [1.7278226e-33, 1.0000000e+00, 3.5129397e-10, 5.1995696e-13,\n",
              "        2.8686764e-10, 9.2231565e-16, 9.9394876e-17, 6.5377015e-09,\n",
              "        2.3478323e-08, 1.1708534e-17],\n",
              "       [9.9726832e-01, 1.9683997e-19, 1.1996191e-03, 1.1827372e-07,\n",
              "        2.0955621e-08, 6.4240560e-08, 1.5318111e-03, 8.3292511e-15,\n",
              "        8.7123073e-09, 2.5291615e-09],\n",
              "       [5.5252459e-30, 0.0000000e+00, 3.4214976e-25, 0.0000000e+00,\n",
              "        1.0000000e+00, 8.1061760e-27, 0.0000000e+00, 3.8383111e-21,\n",
              "        5.5332785e-31, 1.5813227e-11]], dtype=float32)"
            ]
          },
          "metadata": {},
          "execution_count": 29
        }
      ]
    },
    {
      "cell_type": "code",
      "metadata": {
        "colab": {
          "base_uri": "https://localhost:8080/"
        },
        "id": "MECvgnyCUUnv",
        "outputId": "f61675cf-6a75-4eaf-fa46-5671fe7d739c"
      },
      "source": [
        "y_test[:5]"
      ],
      "execution_count": null,
      "outputs": [
        {
          "output_type": "execute_result",
          "data": {
            "text/plain": [
              "array([7, 2, 1, 0, 4], dtype=uint8)"
            ]
          },
          "metadata": {},
          "execution_count": 30
        }
      ]
    },
    {
      "cell_type": "code",
      "metadata": {
        "colab": {
          "base_uri": "https://localhost:8080/",
          "height": 283
        },
        "id": "DiWJFBMPUkxT",
        "outputId": "3dc87404-270d-4ab6-9a67-19a3bc047e10"
      },
      "source": [
        "plt.imshow(x_test[0], cmap='gray')"
      ],
      "execution_count": null,
      "outputs": [
        {
          "output_type": "execute_result",
          "data": {
            "text/plain": [
              "<matplotlib.image.AxesImage at 0x7fd6703f9e90>"
            ]
          },
          "metadata": {},
          "execution_count": 31
        },
        {
          "output_type": "display_data",
          "data": {
            "image/png": "[encoded data removed]",
            "text/plain": [
              "<Figure size 432x288 with 1 Axes>"
            ]
          },
          "metadata": {
            "needs_background": "light"
          }
        }
      ]
    },
    {
      "cell_type": "code",
      "metadata": {
        "colab": {
          "base_uri": "https://localhost:8080/",
          "height": 283
        },
        "id": "yIYj7zeXUp5L",
        "outputId": "9f84f0da-98dc-4779-a27c-646410a62f89"
      },
      "source": [
        "plt.imshow(x_test[1], cmap='gray')"
      ],
      "execution_count": null,
      "outputs": [
        {
          "output_type": "execute_result",
          "data": {
            "text/plain": [
              "<matplotlib.image.AxesImage at 0x7fd67022bd50>"
            ]
          },
          "metadata": {},
          "execution_count": 32
        },
        {
          "output_type": "display_data",
          "data": {
            "image/png": "[encoded data removed]",
            "text/plain": [
              "<Figure size 432x288 with 1 Axes>"
            ]
          },
          "metadata": {
            "needs_background": "light"
          }
        }
      ]
    },
    {
      "cell_type": "code",
      "metadata": {
        "colab": {
          "base_uri": "https://localhost:8080/",
          "height": 283
        },
        "id": "oP7_xR0nUtTS",
        "outputId": "8ea6b0ff-16b3-43d6-f514-7360a01d522d"
      },
      "source": [
        "plt.imshow(x_test[2], cmap='gray')"
      ],
      "execution_count": null,
      "outputs": [
        {
          "output_type": "execute_result",
          "data": {
            "text/plain": [
              "<matplotlib.image.AxesImage at 0x7fd670225b50>"
            ]
          },
          "metadata": {},
          "execution_count": 33
        },
        {
          "output_type": "display_data",
          "data": {
            "image/png": "[encoded data removed]",
            "text/plain": [
              "<Figure size 432x288 with 1 Axes>"
            ]
          },
          "metadata": {
            "needs_background": "light"
          }
        }
      ]
    },
    {
      "cell_type": "markdown",
      "metadata": {
        "id": "GOI7ZJtBSlPX"
      },
      "source": [
        "## Convolution Layer"
      ]
    },
    {
      "cell_type": "code",
      "metadata": {
        "colab": {
          "base_uri": "https://localhost:8080/"
        },
        "id": "-qUCsZ0YEP4l",
        "outputId": "2b58303b-def4-45ed-a92d-db0456829dcb"
      },
      "source": [
        "import tensorflow as tf\n",
        "\n",
        "#데이터 준비\n",
        "(x_train, y_train), (x_test, y_test) = tf.keras.datasets.mnist.load_data()\n",
        "\n",
        "x_train = x_train.reshape(60000, 28, 28, 1)\n",
        "x_test = x_test.reshape(10000, 28, 28, 1)\n",
        "\n",
        "print(x_train.shape, y_train.shape)\n",
        "print(x_test.shape, y_test.shape)"
      ],
      "execution_count": null,
      "outputs": [
        {
          "output_type": "stream",
          "name": "stdout",
          "text": [
            "(60000, 28, 28, 1) (60000,)\n",
            "(10000, 28, 28, 1) (10000,)\n"
          ]
        }
      ]
    },
    {
      "cell_type": "code",
      "metadata": {
        "colab": {
          "base_uri": "https://localhost:8080/"
        },
        "id": "02vJobw2S9o4",
        "outputId": "5396626d-79f2-441b-e09f-90dfc7d17f3b"
      },
      "source": [
        "#모델 만들기\n",
        "X = tf.keras.Input(shape=[28,28,1])\n",
        "H = tf.keras.layers.Conv2D(3, kernel_size=5, activation='swish')(X) #필터 사이즈는 (5, 5, 1) * 3 = (3, 5, 5, 1)\n",
        "H = tf.keras.layers.Conv2D(6, kernel_size=5, activation='swish')(H) #필터 (6, 5, 5, 3)\n",
        "H = tf.keras.layers.Flatten()(H)\n",
        "H = tf.keras.layers.Dense(84, activation='swish')(H)\n",
        "Y = tf.keras.layers.Dense(10, activation='softmax')(H)\n",
        "\n",
        "model = tf.keras.Model(X, Y)\n",
        "model.compile(loss='sparse_categorical_crossentropy', metrics='accuracy')\n",
        "\n",
        "model.summary() #2400*84 + 84 = 첫번째 dense 레이어의 가중치 수 계산"
      ],
      "execution_count": null,
      "outputs": [
        {
          "output_type": "stream",
          "name": "stdout",
          "text": [
            "Model: \"model_2\"\n",
            "_________________________________________________________________\n",
            " Layer (type)                Output Shape              Param #   \n",
            "=================================================================\n",
            " input_4 (InputLayer)        [(None, 28, 28, 1)]       0         \n",
            "                                                                 \n",
            " conv2d (Conv2D)             (None, 24, 24, 3)         78        \n",
            "                                                                 \n",
            " conv2d_1 (Conv2D)           (None, 20, 20, 6)         456       \n",
            "                                                                 \n",
            " flatten_2 (Flatten)         (None, 2400)              0         \n",
            "                                                                 \n",
            " dense_4 (Dense)             (None, 84)                201684    \n",
            "                                                                 \n",
            " dense_5 (Dense)             (None, 10)                850       \n",
            "                                                                 \n",
            "=================================================================\n",
            "Total params: 203,068\n",
            "Trainable params: 203,068\n",
            "Non-trainable params: 0\n",
            "_________________________________________________________________\n"
          ]
        }
      ]
    },
    {
      "cell_type": "code",
      "metadata": {
        "colab": {
          "base_uri": "https://localhost:8080/"
        },
        "id": "sZW2H_SfUU45",
        "outputId": "4b07cf16-dbb8-473f-d8c3-7203f2dd96d6"
      },
      "source": [
        "model.fit(x_train, y_train, batch_size=128, epochs=10, validation_split=0.2)"
      ],
      "execution_count": null,
      "outputs": [
        {
          "output_type": "stream",
          "name": "stdout",
          "text": [
            "Epoch 1/10\n",
            "375/375 [==============================] - 11s 10ms/step - loss: 0.5407 - accuracy: 0.9029 - val_loss: 0.1382 - val_accuracy: 0.9621\n",
            "Epoch 2/10\n",
            "375/375 [==============================] - 3s 9ms/step - loss: 0.0826 - accuracy: 0.9770 - val_loss: 0.1095 - val_accuracy: 0.9708\n",
            "Epoch 3/10\n",
            "375/375 [==============================] - 3s 9ms/step - loss: 0.0384 - accuracy: 0.9885 - val_loss: 0.1215 - val_accuracy: 0.9740\n",
            "Epoch 4/10\n",
            "375/375 [==============================] - 3s 9ms/step - loss: 0.0228 - accuracy: 0.9929 - val_loss: 0.1493 - val_accuracy: 0.9711\n",
            "Epoch 5/10\n",
            "375/375 [==============================] - 3s 9ms/step - loss: 0.0157 - accuracy: 0.9954 - val_loss: 0.1540 - val_accuracy: 0.9754\n",
            "Epoch 6/10\n",
            "375/375 [==============================] - 4s 9ms/step - loss: 0.0104 - accuracy: 0.9965 - val_loss: 0.1444 - val_accuracy: 0.9785\n",
            "Epoch 7/10\n",
            "375/375 [==============================] - 3s 9ms/step - loss: 0.0074 - accuracy: 0.9975 - val_loss: 0.1697 - val_accuracy: 0.9763\n",
            "Epoch 8/10\n",
            "375/375 [==============================] - 3s 9ms/step - loss: 0.0070 - accuracy: 0.9977 - val_loss: 0.1889 - val_accuracy: 0.9774\n",
            "Epoch 9/10\n",
            "375/375 [==============================] - 4s 9ms/step - loss: 0.0057 - accuracy: 0.9981 - val_loss: 0.1887 - val_accuracy: 0.9777\n",
            "Epoch 10/10\n",
            "375/375 [==============================] - 4s 9ms/step - loss: 0.0049 - accuracy: 0.9988 - val_loss: 0.2133 - val_accuracy: 0.9744\n"
          ]
        },
        {
          "output_type": "execute_result",
          "data": {
            "text/plain": [
              "<keras.callbacks.History at 0x7fd5fe05c910>"
            ]
          },
          "metadata": {},
          "execution_count": 40
        }
      ]
    },
    {
      "cell_type": "markdown",
      "metadata": {
        "id": "BkDn3kyzV2cu"
      },
      "source": [
        "### Q1. ConV모델의 식에 대해\n",
        "- image shape : (28, 28, 1)\n",
        "- filter size : (5, 5)\n",
        "- stride : 1 (default=1)\n",
        "output size? (24, 24, ?)"
      ]
    },
    {
      "cell_type": "markdown",
      "metadata": {
        "id": "9nyxd6OAXYz8"
      },
      "source": [
        "### Q2. ConV모델의 식에 대해\n",
        "- image shape : (10, 10, 1)\n",
        "- filter size : (3, 3)\n",
        "- stride : 1 (default=1)\n",
        "output size? (8,8)"
      ]
    },
    {
      "cell_type": "markdown",
      "metadata": {
        "id": "P1S18HCjXdzJ"
      },
      "source": [
        "### Q3. ConV모델의 식에 대해\n",
        "- image shape : (10, 10, 1)\n",
        "- filter size : (3, 3)\n",
        "- stride : 2 (default=1)\n",
        "- output size : (4,4)"
      ]
    },
    {
      "cell_type": "markdown",
      "metadata": {
        "id": "N7ORDdfBl6xG"
      },
      "source": [
        "## Pooling Layer"
      ]
    },
    {
      "cell_type": "code",
      "metadata": {
        "colab": {
          "base_uri": "https://localhost:8080/"
        },
        "id": "tGy0_kDfVE9P",
        "outputId": "4d6b0da8-96ae-47ba-fbc3-65db4516fd1c"
      },
      "source": [
        "import tensorflow as tf\n",
        "\n",
        "#데이터 준비\n",
        "(x_train, y_train), (x_test, y_test) = tf.keras.datasets.mnist.load_data()\n",
        "\n",
        "x_train = x_train.reshape(60000, 28, 28, 1)\n",
        "x_test = x_test.reshape(10000, 28, 28, 1)\n",
        "\n",
        "print(x_train.shape, y_train.shape)\n",
        "print(x_test.shape, y_test.shape)"
      ],
      "execution_count": null,
      "outputs": [
        {
          "output_type": "stream",
          "name": "stdout",
          "text": [
            "(60000, 28, 28, 1) (60000,)\n",
            "(10000, 28, 28, 1) (10000,)\n"
          ]
        }
      ]
    },
    {
      "cell_type": "code",
      "metadata": {
        "colab": {
          "base_uri": "https://localhost:8080/"
        },
        "id": "YrvlywPObjoM",
        "outputId": "9426a7e3-2e5c-43a4-fd70-62432a9a85de"
      },
      "source": [
        "#모델 만들기\n",
        "X = tf.keras.Input(shape=[28,28,1])\n",
        "H = tf.keras.layers.Conv2D(3, kernel_size=5, activation='swish')(X) #필터 사이즈는 (5, 5, 1) * 3 = (3, 5, 5, 1)\n",
        "H = tf.keras.layers.MaxPool2D()(H)\n",
        "H = tf.keras.layers.Conv2D(6, kernel_size=5, activation='swish')(H) #필터 (6, 5, 5, 3)\n",
        "H = tf.keras.layers.MaxPool2D()(H)\n",
        "H = tf.keras.layers.Flatten()(H)\n",
        "H = tf.keras.layers.Dense(84, activation='swish')(H)\n",
        "Y = tf.keras.layers.Dense(10, activation='softmax')(H)\n",
        "\n",
        "model = tf.keras.Model(X, Y)\n",
        "model.compile(loss='sparse_categorical_crossentropy', metrics='accuracy')\n",
        "\n",
        "model.summary()"
      ],
      "execution_count": null,
      "outputs": [
        {
          "output_type": "stream",
          "name": "stdout",
          "text": [
            "Model: \"model_3\"\n",
            "_________________________________________________________________\n",
            " Layer (type)                Output Shape              Param #   \n",
            "=================================================================\n",
            " input_5 (InputLayer)        [(None, 28, 28, 1)]       0         \n",
            "                                                                 \n",
            " conv2d_2 (Conv2D)           (None, 24, 24, 3)         78        \n",
            "                                                                 \n",
            " max_pooling2d (MaxPooling2D  (None, 12, 12, 3)        0         \n",
            " )                                                               \n",
            "                                                                 \n",
            " conv2d_3 (Conv2D)           (None, 8, 8, 6)           456       \n",
            "                                                                 \n",
            " max_pooling2d_1 (MaxPooling  (None, 4, 4, 6)          0         \n",
            " 2D)                                                             \n",
            "                                                                 \n",
            " flatten_3 (Flatten)         (None, 96)                0         \n",
            "                                                                 \n",
            " dense_6 (Dense)             (None, 84)                8148      \n",
            "                                                                 \n",
            " dense_7 (Dense)             (None, 10)                850       \n",
            "                                                                 \n",
            "=================================================================\n",
            "Total params: 9,532\n",
            "Trainable params: 9,532\n",
            "Non-trainable params: 0\n",
            "_________________________________________________________________\n"
          ]
        }
      ]
    },
    {
      "cell_type": "code",
      "metadata": {
        "colab": {
          "base_uri": "https://localhost:8080/"
        },
        "id": "1vbu5rVyb9zg",
        "outputId": "eab5210d-df34-4217-e0e4-baa24c0cb8dd"
      },
      "source": [
        "model.fit(x_train, y_train, batch_size=128, epochs=10, validation_split=0.2)"
      ],
      "execution_count": null,
      "outputs": [
        {
          "output_type": "stream",
          "name": "stdout",
          "text": [
            "Epoch 1/10\n",
            "375/375 [==============================] - 4s 7ms/step - loss: 2.1724 - accuracy: 0.7732 - val_loss: 0.3171 - val_accuracy: 0.9126\n",
            "Epoch 2/10\n",
            "375/375 [==============================] - 3s 7ms/step - loss: 0.2454 - accuracy: 0.9309 - val_loss: 0.1828 - val_accuracy: 0.9463\n",
            "Epoch 3/10\n",
            "375/375 [==============================] - 2s 7ms/step - loss: 0.1582 - accuracy: 0.9539 - val_loss: 0.1554 - val_accuracy: 0.9530\n",
            "Epoch 4/10\n",
            "375/375 [==============================] - 3s 7ms/step - loss: 0.1196 - accuracy: 0.9645 - val_loss: 0.1217 - val_accuracy: 0.9644\n",
            "Epoch 5/10\n",
            "375/375 [==============================] - 3s 7ms/step - loss: 0.0999 - accuracy: 0.9699 - val_loss: 0.1204 - val_accuracy: 0.9640\n",
            "Epoch 6/10\n",
            "375/375 [==============================] - 3s 7ms/step - loss: 0.0848 - accuracy: 0.9736 - val_loss: 0.1065 - val_accuracy: 0.9708\n",
            "Epoch 7/10\n",
            "375/375 [==============================] - 3s 7ms/step - loss: 0.0752 - accuracy: 0.9776 - val_loss: 0.0983 - val_accuracy: 0.9732\n",
            "Epoch 8/10\n",
            "375/375 [==============================] - 3s 7ms/step - loss: 0.0674 - accuracy: 0.9794 - val_loss: 0.1017 - val_accuracy: 0.9712\n",
            "Epoch 9/10\n",
            "375/375 [==============================] - 2s 7ms/step - loss: 0.0598 - accuracy: 0.9813 - val_loss: 0.0996 - val_accuracy: 0.9730\n",
            "Epoch 10/10\n",
            "375/375 [==============================] - 2s 7ms/step - loss: 0.0556 - accuracy: 0.9826 - val_loss: 0.0980 - val_accuracy: 0.9733\n"
          ]
        },
        {
          "output_type": "execute_result",
          "data": {
            "text/plain": [
              "<keras.callbacks.History at 0x7fd6036cba10>"
            ]
          },
          "metadata": {},
          "execution_count": 43
        }
      ]
    },
    {
      "cell_type": "markdown",
      "metadata": {
        "id": "DzWynGSViRqx"
      },
      "source": [
        "## LeNet"
      ]
    },
    {
      "cell_type": "code",
      "metadata": {
        "colab": {
          "base_uri": "https://localhost:8080/"
        },
        "id": "5LBXs0jFcAO3",
        "outputId": "291ace89-7b97-4376-8042-718a752b27ca"
      },
      "source": [
        "import tensorflow as tf\n",
        "\n",
        "#데이터 준비\n",
        "(x_train, y_train), (x_test, y_test) = tf.keras.datasets.mnist.load_data()\n",
        "\n",
        "x_train = x_train.reshape(60000, 28, 28, 1)\n",
        "x_test = x_test.reshape(10000, 28, 28, 1)\n",
        "\n",
        "print(x_train.shape, y_train.shape)\n",
        "print(x_test.shape, y_test.shape)"
      ],
      "execution_count": null,
      "outputs": [
        {
          "output_type": "stream",
          "name": "stdout",
          "text": [
            "(60000, 28, 28, 1) (60000,)\n",
            "(10000, 28, 28, 1) (10000,)\n"
          ]
        }
      ]
    },
    {
      "cell_type": "code",
      "metadata": {
        "colab": {
          "base_uri": "https://localhost:8080/"
        },
        "id": "_lZ6K_cKibH_",
        "outputId": "665acb98-724c-4f48-90af-e44b21d779ab"
      },
      "source": [
        "X = tf.keras.Input(shape=[28, 28, 1])\n",
        "H = tf.keras.layers.Conv2D(6, kernel_size=5, padding='same', activation='swish')(X)\n",
        "H = tf.keras.layers.MaxPool2D()(H)\n",
        "H = tf.keras.layers.Conv2D(16, kernel_size=5, activation='swish')(H)\n",
        "H = tf.keras.layers.MaxPool2D()(H)\n",
        "H = tf.keras.layers.Flatten()(H)\n",
        "H = tf.keras.layers.Dense(120, activation='swish')(H)\n",
        "H = tf.keras.layers.Dense(84, activation='swish')(H)\n",
        "Y = tf.keras.layers.Dense(10, activation='softmax')(H)\n",
        "\n",
        "model = tf.keras.Model(X, Y)\n",
        "model.compile(loss = tf.keras.losses.sparse_categorical_crossentropy, metrics='accuracy')\n",
        "model.summary()"
      ],
      "execution_count": null,
      "outputs": [
        {
          "output_type": "stream",
          "name": "stdout",
          "text": [
            "Model: \"model_4\"\n",
            "_________________________________________________________________\n",
            " Layer (type)                Output Shape              Param #   \n",
            "=================================================================\n",
            " input_7 (InputLayer)        [(None, 28, 28, 1)]       0         \n",
            "                                                                 \n",
            " conv2d_6 (Conv2D)           (None, 28, 28, 6)         156       \n",
            "                                                                 \n",
            " max_pooling2d_4 (MaxPooling  (None, 14, 14, 6)        0         \n",
            " 2D)                                                             \n",
            "                                                                 \n",
            " conv2d_7 (Conv2D)           (None, 10, 10, 16)        2416      \n",
            "                                                                 \n",
            " max_pooling2d_5 (MaxPooling  (None, 5, 5, 16)         0         \n",
            " 2D)                                                             \n",
            "                                                                 \n",
            " flatten_5 (Flatten)         (None, 400)               0         \n",
            "                                                                 \n",
            " dense_10 (Dense)            (None, 120)               48120     \n",
            "                                                                 \n",
            " dense_11 (Dense)            (None, 84)                10164     \n",
            "                                                                 \n",
            " dense_12 (Dense)            (None, 10)                850       \n",
            "                                                                 \n",
            "=================================================================\n",
            "Total params: 61,706\n",
            "Trainable params: 61,706\n",
            "Non-trainable params: 0\n",
            "_________________________________________________________________\n"
          ]
        }
      ]
    },
    {
      "cell_type": "code",
      "metadata": {
        "colab": {
          "base_uri": "https://localhost:8080/"
        },
        "id": "hp8Wg2pBi9sS",
        "outputId": "e1158904-dcdf-4ff9-dcb5-45758b68da79"
      },
      "source": [
        "model.fit(x_train, y_train, batch_size=128, epochs=10, validation_split=0.2)"
      ],
      "execution_count": null,
      "outputs": [
        {
          "output_type": "stream",
          "name": "stdout",
          "text": [
            "Epoch 1/10\n",
            "375/375 [==============================] - 5s 10ms/step - loss: 0.8224 - accuracy: 0.8752 - val_loss: 0.1507 - val_accuracy: 0.9532\n",
            "Epoch 2/10\n",
            "375/375 [==============================] - 3s 8ms/step - loss: 0.1032 - accuracy: 0.9698 - val_loss: 0.0990 - val_accuracy: 0.9702\n",
            "Epoch 3/10\n",
            "375/375 [==============================] - 3s 8ms/step - loss: 0.0658 - accuracy: 0.9808 - val_loss: 0.0991 - val_accuracy: 0.9723\n",
            "Epoch 4/10\n",
            "375/375 [==============================] - 3s 8ms/step - loss: 0.0496 - accuracy: 0.9852 - val_loss: 0.0652 - val_accuracy: 0.9837\n",
            "Epoch 5/10\n",
            "375/375 [==============================] - 3s 9ms/step - loss: 0.0404 - accuracy: 0.9881 - val_loss: 0.0601 - val_accuracy: 0.9852\n",
            "Epoch 6/10\n",
            "375/375 [==============================] - 3s 9ms/step - loss: 0.0329 - accuracy: 0.9899 - val_loss: 0.0669 - val_accuracy: 0.9833\n",
            "Epoch 7/10\n",
            "375/375 [==============================] - 3s 9ms/step - loss: 0.0273 - accuracy: 0.9914 - val_loss: 0.0781 - val_accuracy: 0.9828\n",
            "Epoch 8/10\n",
            "375/375 [==============================] - 3s 8ms/step - loss: 0.0241 - accuracy: 0.9929 - val_loss: 0.0870 - val_accuracy: 0.9825\n",
            "Epoch 9/10\n",
            "375/375 [==============================] - 3s 9ms/step - loss: 0.0230 - accuracy: 0.9932 - val_loss: 0.0910 - val_accuracy: 0.9837\n",
            "Epoch 10/10\n",
            "375/375 [==============================] - 3s 9ms/step - loss: 0.0182 - accuracy: 0.9950 - val_loss: 0.1151 - val_accuracy: 0.9827\n"
          ]
        },
        {
          "output_type": "execute_result",
          "data": {
            "text/plain": [
              "<keras.callbacks.History at 0x7fd603429d10>"
            ]
          },
          "metadata": {},
          "execution_count": 47
        }
      ]
    },
    {
      "cell_type": "markdown",
      "metadata": {
        "id": "IUz7kOqIvG_N"
      },
      "source": [
        "## Lenet + fashion MNIST"
      ]
    },
    {
      "cell_type": "code",
      "metadata": {
        "id": "rsU-pm4WvkBu"
      },
      "source": [
        "import tensorflow as tf\n",
        "\n",
        "# 데이터를 준비합니다. \n",
        "(x_train, y_train), (x_test, y_test) = tf.keras.datasets.fashion_mnist.load_data()\n",
        "\n",
        "x_train = x_train.reshape(60000, 28, 28, 1)\n",
        "x_test = x_test.reshape(10000, 28, 28, 1)\n",
        "\n",
        "print(x_train.shape, y_train.shape)\n",
        "print(x_test.shape, y_test.shape)"
      ],
      "execution_count": null,
      "outputs": []
    },
    {
      "cell_type": "code",
      "metadata": {
        "colab": {
          "base_uri": "https://localhost:8080/",
          "height": 283
        },
        "id": "R0inck0zjvuu",
        "outputId": "f5013bf9-34cb-4e2c-f55c-25495e5bf94b"
      },
      "source": [
        "import matplotlib.pyplot as plt\n",
        "plt.imshow(x_train[2].reshape(28, 28), cmap='gray')"
      ],
      "execution_count": null,
      "outputs": [
        {
          "output_type": "execute_result",
          "data": {
            "text/plain": [
              "<matplotlib.image.AxesImage at 0x7fd6034155d0>"
            ]
          },
          "metadata": {},
          "execution_count": 49
        },
        {
          "output_type": "display_data",
          "data": {
            "image/png": "[encoded data removed]",
            "text/plain": [
              "<Figure size 432x288 with 1 Axes>"
            ]
          },
          "metadata": {
            "needs_background": "light"
          }
        }
      ]
    },
    {
      "cell_type": "code",
      "metadata": {
        "colab": {
          "base_uri": "https://localhost:8080/"
        },
        "id": "T2yqcZ4dvoJu",
        "outputId": "bc9a0119-359d-4f9d-c0f4-9064ed336212"
      },
      "source": [
        "X = tf.keras.Input(shape=[28, 28, 1])\n",
        "H = tf.keras.layers.Conv2D(6, kernel_size=5, padding='same')(X)\n",
        "H = tf.keras.layers.BatchNormalization()(H)\n",
        "H = tf.keras.layers.Activation('swish')(H)\n",
        "H = tf.keras.layers.MaxPool2D()(H)\n",
        "\n",
        "H = tf.keras.layers.Dropout(0.4)(H) #0.6만큼만 랜덤으로 뽑아서 학습할 것, 데이터 충분하면 0.7까지도 씀. 높이면 오버피팅이 거의 안생기는 경우도 있음\n",
        "H = tf.keras.layers.Conv2D(16, kernel_size=5, activation='swish')(H)\n",
        "H = tf.keras.layers.BatchNormalization()(H)\n",
        "H = tf.keras.layers.Activation('swish')(H)\n",
        "H = tf.keras.layers.MaxPool2D()(H)\n",
        "H = tf.keras.layers.Flatten()(H)\n",
        "\n",
        "H = tf.keras.layers.Dropout(0.4)(H)\n",
        "H = tf.keras.layers.Dense(120, activation='swish')(H)\n",
        "H = tf.keras.layers.Dense(84, activation='swish')(H)\n",
        "Y = tf.keras.layers.Dense(10, activation='softmax')(H)\n",
        "\n",
        "model = tf.keras.Model(X, Y)\n",
        "model.compile(loss=tf.keras.losses.sparse_categorical_crossentropy, metrics='accuracy')\n",
        "model.summary()"
      ],
      "execution_count": null,
      "outputs": [
        {
          "output_type": "stream",
          "name": "stdout",
          "text": [
            "Model: \"model_7\"\n",
            "_________________________________________________________________\n",
            " Layer (type)                Output Shape              Param #   \n",
            "=================================================================\n",
            " input_13 (InputLayer)       [(None, 28, 28, 1)]       0         \n",
            "                                                                 \n",
            " conv2d_17 (Conv2D)          (None, 28, 28, 6)         156       \n",
            "                                                                 \n",
            " batch_normalization_1 (Batc  (None, 28, 28, 6)        24        \n",
            " hNormalization)                                                 \n",
            "                                                                 \n",
            " activation_1 (Activation)   (None, 28, 28, 6)         0         \n",
            "                                                                 \n",
            " max_pooling2d_13 (MaxPoolin  (None, 14, 14, 6)        0         \n",
            " g2D)                                                            \n",
            "                                                                 \n",
            " dropout_4 (Dropout)         (None, 14, 14, 6)         0         \n",
            "                                                                 \n",
            " conv2d_18 (Conv2D)          (None, 10, 10, 16)        2416      \n",
            "                                                                 \n",
            " batch_normalization_2 (Batc  (None, 10, 10, 16)       64        \n",
            " hNormalization)                                                 \n",
            "                                                                 \n",
            " activation_2 (Activation)   (None, 10, 10, 16)        0         \n",
            "                                                                 \n",
            " max_pooling2d_14 (MaxPoolin  (None, 5, 5, 16)         0         \n",
            " g2D)                                                            \n",
            "                                                                 \n",
            " flatten_8 (Flatten)         (None, 400)               0         \n",
            "                                                                 \n",
            " dropout_5 (Dropout)         (None, 400)               0         \n",
            "                                                                 \n",
            " dense_19 (Dense)            (None, 120)               48120     \n",
            "                                                                 \n",
            " dense_20 (Dense)            (None, 84)                10164     \n",
            "                                                                 \n",
            " dense_21 (Dense)            (None, 10)                850       \n",
            "                                                                 \n",
            "=================================================================\n",
            "Total params: 61,794\n",
            "Trainable params: 61,750\n",
            "Non-trainable params: 44\n",
            "_________________________________________________________________\n"
          ]
        }
      ]
    },
    {
      "cell_type": "code",
      "metadata": {
        "colab": {
          "base_uri": "https://localhost:8080/"
        },
        "id": "bhr3cQb1wXvx",
        "outputId": "89142578-5771-4551-d972-516dedd859f4"
      },
      "source": [
        "model.fit(x_train, y_train, batch_size=128, epochs=20, validation_split=0.2)"
      ],
      "execution_count": null,
      "outputs": [
        {
          "output_type": "stream",
          "name": "stdout",
          "text": [
            "Epoch 1/20\n",
            "375/375 [==============================] - 5s 11ms/step - loss: 0.4424 - accuracy: 0.8568 - val_loss: 0.0966 - val_accuracy: 0.9718\n",
            "Epoch 2/20\n",
            "375/375 [==============================] - 4s 11ms/step - loss: 0.1710 - accuracy: 0.9469 - val_loss: 0.0731 - val_accuracy: 0.9793\n",
            "Epoch 3/20\n",
            "375/375 [==============================] - 4s 10ms/step - loss: 0.1288 - accuracy: 0.9592 - val_loss: 0.0560 - val_accuracy: 0.9841\n",
            "Epoch 4/20\n",
            "375/375 [==============================] - 4s 10ms/step - loss: 0.1111 - accuracy: 0.9649 - val_loss: 0.0590 - val_accuracy: 0.9829\n",
            "Epoch 5/20\n",
            "375/375 [==============================] - 4s 11ms/step - loss: 0.0978 - accuracy: 0.9695 - val_loss: 0.0529 - val_accuracy: 0.9842\n",
            "Epoch 6/20\n",
            "375/375 [==============================] - 4s 11ms/step - loss: 0.0886 - accuracy: 0.9719 - val_loss: 0.0468 - val_accuracy: 0.9872\n",
            "Epoch 7/20\n",
            "375/375 [==============================] - 4s 11ms/step - loss: 0.0810 - accuracy: 0.9744 - val_loss: 0.0488 - val_accuracy: 0.9852\n",
            "Epoch 8/20\n",
            "375/375 [==============================] - 4s 11ms/step - loss: 0.0754 - accuracy: 0.9759 - val_loss: 0.0395 - val_accuracy: 0.9886\n",
            "Epoch 9/20\n",
            "375/375 [==============================] - 4s 11ms/step - loss: 0.0679 - accuracy: 0.9787 - val_loss: 0.0400 - val_accuracy: 0.9880\n",
            "Epoch 10/20\n",
            "375/375 [==============================] - 4s 11ms/step - loss: 0.0660 - accuracy: 0.9787 - val_loss: 0.0389 - val_accuracy: 0.9883\n",
            "Epoch 11/20\n",
            "375/375 [==============================] - 4s 10ms/step - loss: 0.0664 - accuracy: 0.9789 - val_loss: 0.0347 - val_accuracy: 0.9898\n",
            "Epoch 12/20\n",
            "375/375 [==============================] - 4s 11ms/step - loss: 0.0629 - accuracy: 0.9802 - val_loss: 0.0356 - val_accuracy: 0.9898\n",
            "Epoch 13/20\n",
            "375/375 [==============================] - 4s 10ms/step - loss: 0.0591 - accuracy: 0.9820 - val_loss: 0.0345 - val_accuracy: 0.9902\n",
            "Epoch 14/20\n",
            "375/375 [==============================] - 4s 11ms/step - loss: 0.0558 - accuracy: 0.9825 - val_loss: 0.0350 - val_accuracy: 0.9902\n",
            "Epoch 15/20\n",
            "375/375 [==============================] - 4s 10ms/step - loss: 0.0558 - accuracy: 0.9821 - val_loss: 0.0321 - val_accuracy: 0.9910\n",
            "Epoch 16/20\n",
            "375/375 [==============================] - 4s 11ms/step - loss: 0.0512 - accuracy: 0.9836 - val_loss: 0.0311 - val_accuracy: 0.9920\n",
            "Epoch 17/20\n",
            "375/375 [==============================] - 4s 10ms/step - loss: 0.0540 - accuracy: 0.9828 - val_loss: 0.0317 - val_accuracy: 0.9910\n",
            "Epoch 18/20\n",
            "375/375 [==============================] - 4s 11ms/step - loss: 0.0496 - accuracy: 0.9840 - val_loss: 0.0356 - val_accuracy: 0.9899\n",
            "Epoch 19/20\n",
            "375/375 [==============================] - 4s 11ms/step - loss: 0.0499 - accuracy: 0.9844 - val_loss: 0.0330 - val_accuracy: 0.9897\n",
            "Epoch 20/20\n",
            "375/375 [==============================] - 4s 10ms/step - loss: 0.0462 - accuracy: 0.9853 - val_loss: 0.0319 - val_accuracy: 0.9907\n"
          ]
        },
        {
          "output_type": "execute_result",
          "data": {
            "text/plain": [
              "<keras.callbacks.History at 0x7fd5893f4990>"
            ]
          },
          "metadata": {},
          "execution_count": 60
        }
      ]
    },
    {
      "cell_type": "code",
      "metadata": {
        "colab": {
          "base_uri": "https://localhost:8080/"
        },
        "id": "NT9S_HjP2pwl",
        "outputId": "70730325-9aa5-4664-9db7-7da8b9253ee9"
      },
      "source": [
        "#(255x255) * 10000\n",
        "256-224"
      ],
      "execution_count": null,
      "outputs": [
        {
          "output_type": "execute_result",
          "data": {
            "text/plain": [
              "32"
            ]
          },
          "metadata": {},
          "execution_count": 64
        }
      ]
    },
    {
      "cell_type": "code",
      "metadata": {
        "colab": {
          "base_uri": "https://localhost:8080/"
        },
        "id": "ABMMUXKt2vUA",
        "outputId": "d1d732e0-16fd-4ffe-c3e2-075161f1df5a"
      },
      "source": [
        "# 256 => 224\n",
        "32 * 32 * 10000 * 2 #좌우반전"
      ],
      "execution_count": null,
      "outputs": [
        {
          "output_type": "execute_result",
          "data": {
            "text/plain": [
              "20480000"
            ]
          },
          "metadata": {},
          "execution_count": 66
        }
      ]
    },
    {
      "cell_type": "markdown",
      "metadata": {
        "id": "OEuSBlAoMbGv"
      },
      "source": [
        "## 복습용 실습문제\n",
        "\n",
        "- fashion mnist 학습 cnn 모델 만들기\n",
        "- conv layer 4개 이상 쓰기\n",
        "- 학습 가중치(parameter 개수)는 5만개 미만으로 사용하기\n",
        "\n",
        "- 학습 데이터에 대해서는 100$ fitting에 가깝게 해보기\n",
        "- overfitting 발생하는 것 확인하기"
      ]
    },
    {
      "cell_type": "code",
      "metadata": {
        "colab": {
          "base_uri": "https://localhost:8080/"
        },
        "id": "Dmsfm1g9O3Zj",
        "outputId": "4e592f0f-6dee-4551-9355-5223bab4e16b"
      },
      "source": [
        "# 데이터 준비하기\n",
        "import tensorflow as tf\n",
        "\n",
        "(x_train, y_train), (x_test, y_test) = tf.keras.datasets.fashion_mnist.load_data()\n",
        "\n",
        "x_train = x_train.reshape(-1, 28, 28, 1) #-1써주면 알아서 계산해서 줌\n",
        "x_test = x_test.reshape(-1, 28, 28, 1)\n",
        "\n",
        "print(x_train.shape, y_train.shape)\n",
        "print(x_test.shape, y_test.shape)"
      ],
      "execution_count": null,
      "outputs": [
        {
          "output_type": "stream",
          "name": "stdout",
          "text": [
            "Downloading data from https://storage.googleapis.com/tensorflow/tf-keras-datasets/train-labels-idx1-ubyte.gz\n",
            "32768/29515 [=================================] - 0s 0us/step\n",
            "40960/29515 [=========================================] - 0s 0us/step\n",
            "Downloading data from https://storage.googleapis.com/tensorflow/tf-keras-datasets/train-images-idx3-ubyte.gz\n",
            "26427392/26421880 [==============================] - 0s 0us/step\n",
            "26435584/26421880 [==============================] - 0s 0us/step\n",
            "Downloading data from https://storage.googleapis.com/tensorflow/tf-keras-datasets/t10k-labels-idx1-ubyte.gz\n",
            "16384/5148 [===============================================================================================] - 0s 0us/step\n",
            "Downloading data from https://storage.googleapis.com/tensorflow/tf-keras-datasets/t10k-images-idx3-ubyte.gz\n",
            "4423680/4422102 [==============================] - 0s 0us/step\n",
            "4431872/4422102 [==============================] - 0s 0us/step\n",
            "(60000, 28, 28, 1) (60000,)\n",
            "(10000, 28, 28, 1) (10000,)\n"
          ]
        }
      ]
    },
    {
      "cell_type": "code",
      "metadata": {
        "colab": {
          "base_uri": "https://localhost:8080/"
        },
        "id": "q4tVRBk2O-zQ",
        "outputId": "6fd1b983-bb0c-4534-ea3a-6055f67e2365"
      },
      "source": [
        "#conv layer\n",
        "X=tf.keras.Input(shape=[28,28,1])\n",
        "\n",
        "H=tf.keras.layers.Conv2D(16, kernel_size=3, padding='same', activation='swish')(X)\n",
        "H=tf.keras.layers.Conv2D(16, kernel_size=3, padding='same', activation='swish')(H)\n",
        "H=tf.keras.layers.MaxPool2D()(H)\n",
        "\n",
        "H=tf.keras.layers.Conv2D(16, kernel_size=3, padding='same', activation='swish')(H)\n",
        "H=tf.keras.layers.Conv2D(16, kernel_size=3, padding='same', activation='swish')(H)\n",
        "H=tf.keras.layers.MaxPool2D()(H)\n",
        "\n",
        "H=tf.keras.layers.Flatten()(H)\n",
        "H=tf.keras.layers.Dense(48, activation='swish')(H)\n",
        "Y=tf.keras.layers.Dense(10,activation='softmax')(H)\n",
        "\n",
        "model=tf.keras.Model(X,Y)\n",
        "model.compile(loss=tf.keras.losses.sparse_categorical_crossentropy, metrics='accuracy')\n",
        "model.summary()"
      ],
      "execution_count": null,
      "outputs": [
        {
          "output_type": "stream",
          "name": "stdout",
          "text": [
            "Model: \"model_15\"\n",
            "_________________________________________________________________\n",
            " Layer (type)                Output Shape              Param #   \n",
            "=================================================================\n",
            " input_16 (InputLayer)       [(None, 28, 28, 1)]       0         \n",
            "                                                                 \n",
            " conv2d_60 (Conv2D)          (None, 28, 28, 16)        160       \n",
            "                                                                 \n",
            " conv2d_61 (Conv2D)          (None, 28, 28, 16)        2320      \n",
            "                                                                 \n",
            " max_pooling2d_40 (MaxPoolin  (None, 14, 14, 16)       0         \n",
            " g2D)                                                            \n",
            "                                                                 \n",
            " conv2d_62 (Conv2D)          (None, 14, 14, 16)        2320      \n",
            "                                                                 \n",
            " conv2d_63 (Conv2D)          (None, 14, 14, 16)        2320      \n",
            "                                                                 \n",
            " max_pooling2d_41 (MaxPoolin  (None, 7, 7, 16)         0         \n",
            " g2D)                                                            \n",
            "                                                                 \n",
            " flatten_15 (Flatten)        (None, 784)               0         \n",
            "                                                                 \n",
            " dense_32 (Dense)            (None, 48)                37680     \n",
            "                                                                 \n",
            " dense_33 (Dense)            (None, 10)                490       \n",
            "                                                                 \n",
            "=================================================================\n",
            "Total params: 45,290\n",
            "Trainable params: 45,290\n",
            "Non-trainable params: 0\n",
            "_________________________________________________________________\n"
          ]
        }
      ]
    },
    {
      "cell_type": "code",
      "metadata": {
        "colab": {
          "base_uri": "https://localhost:8080/"
        },
        "id": "8fip8yIvRDhc",
        "outputId": "83026838-0dc9-47fb-94ee-1ce8e7157179"
      },
      "source": [
        "result = model.fit(x_train, y_train, batch_size=256, epochs=30, validation_split=0.2)"
      ],
      "execution_count": null,
      "outputs": [
        {
          "output_type": "stream",
          "name": "stdout",
          "text": [
            "Epoch 1/30\n",
            "188/188 [==============================] - 6s 26ms/step - loss: 0.7925 - accuracy: 0.7691 - val_loss: 0.4066 - val_accuracy: 0.8529\n",
            "Epoch 2/30\n",
            "188/188 [==============================] - 5s 24ms/step - loss: 0.3640 - accuracy: 0.8662 - val_loss: 0.3543 - val_accuracy: 0.8730\n",
            "Epoch 3/30\n",
            "188/188 [==============================] - 4s 24ms/step - loss: 0.2981 - accuracy: 0.8908 - val_loss: 0.3510 - val_accuracy: 0.8706\n",
            "Epoch 4/30\n",
            "188/188 [==============================] - 5s 24ms/step - loss: 0.2612 - accuracy: 0.9057 - val_loss: 0.2948 - val_accuracy: 0.8923\n",
            "Epoch 5/30\n",
            "188/188 [==============================] - 5s 24ms/step - loss: 0.2347 - accuracy: 0.9134 - val_loss: 0.3123 - val_accuracy: 0.8877\n",
            "Epoch 6/30\n",
            "188/188 [==============================] - 5s 24ms/step - loss: 0.2134 - accuracy: 0.9199 - val_loss: 0.3216 - val_accuracy: 0.8820\n",
            "Epoch 7/30\n",
            "188/188 [==============================] - 5s 24ms/step - loss: 0.1953 - accuracy: 0.9280 - val_loss: 0.2794 - val_accuracy: 0.9013\n",
            "Epoch 8/30\n",
            "188/188 [==============================] - 5s 24ms/step - loss: 0.1798 - accuracy: 0.9340 - val_loss: 0.3070 - val_accuracy: 0.8925\n",
            "Epoch 9/30\n",
            "188/188 [==============================] - 5s 24ms/step - loss: 0.1660 - accuracy: 0.9385 - val_loss: 0.2987 - val_accuracy: 0.8997\n",
            "Epoch 10/30\n",
            "188/188 [==============================] - 4s 24ms/step - loss: 0.1533 - accuracy: 0.9433 - val_loss: 0.3554 - val_accuracy: 0.8879\n",
            "Epoch 11/30\n",
            "188/188 [==============================] - 4s 24ms/step - loss: 0.1404 - accuracy: 0.9485 - val_loss: 0.3208 - val_accuracy: 0.8928\n",
            "Epoch 12/30\n",
            "188/188 [==============================] - 5s 25ms/step - loss: 0.1298 - accuracy: 0.9519 - val_loss: 0.3440 - val_accuracy: 0.8907\n",
            "Epoch 13/30\n",
            "188/188 [==============================] - 4s 24ms/step - loss: 0.1189 - accuracy: 0.9570 - val_loss: 0.3142 - val_accuracy: 0.8975\n",
            "Epoch 14/30\n",
            "188/188 [==============================] - 5s 25ms/step - loss: 0.1105 - accuracy: 0.9586 - val_loss: 0.3430 - val_accuracy: 0.8947\n",
            "Epoch 15/30\n",
            "188/188 [==============================] - 4s 24ms/step - loss: 0.1014 - accuracy: 0.9623 - val_loss: 0.3880 - val_accuracy: 0.8977\n",
            "Epoch 16/30\n",
            "188/188 [==============================] - 5s 25ms/step - loss: 0.0958 - accuracy: 0.9649 - val_loss: 0.3962 - val_accuracy: 0.8948\n",
            "Epoch 17/30\n",
            "188/188 [==============================] - 4s 24ms/step - loss: 0.0889 - accuracy: 0.9671 - val_loss: 0.4325 - val_accuracy: 0.8873\n",
            "Epoch 18/30\n",
            "188/188 [==============================] - 4s 24ms/step - loss: 0.0814 - accuracy: 0.9700 - val_loss: 0.4362 - val_accuracy: 0.8893\n",
            "Epoch 19/30\n",
            "188/188 [==============================] - 5s 24ms/step - loss: 0.0777 - accuracy: 0.9721 - val_loss: 0.4368 - val_accuracy: 0.8911\n",
            "Epoch 20/30\n",
            "188/188 [==============================] - 4s 24ms/step - loss: 0.0727 - accuracy: 0.9734 - val_loss: 0.5224 - val_accuracy: 0.8818\n",
            "Epoch 21/30\n",
            "188/188 [==============================] - 5s 24ms/step - loss: 0.0678 - accuracy: 0.9754 - val_loss: 0.4850 - val_accuracy: 0.8874\n",
            "Epoch 22/30\n",
            "188/188 [==============================] - 5s 24ms/step - loss: 0.0631 - accuracy: 0.9771 - val_loss: 0.4636 - val_accuracy: 0.8927\n",
            "Epoch 23/30\n",
            "188/188 [==============================] - 5s 24ms/step - loss: 0.0599 - accuracy: 0.9782 - val_loss: 0.4791 - val_accuracy: 0.8944\n",
            "Epoch 24/30\n",
            "188/188 [==============================] - 4s 24ms/step - loss: 0.0573 - accuracy: 0.9796 - val_loss: 0.5541 - val_accuracy: 0.8889\n",
            "Epoch 25/30\n",
            "188/188 [==============================] - 4s 24ms/step - loss: 0.0540 - accuracy: 0.9798 - val_loss: 0.5328 - val_accuracy: 0.8942\n",
            "Epoch 26/30\n",
            "188/188 [==============================] - 4s 24ms/step - loss: 0.0509 - accuracy: 0.9807 - val_loss: 0.5328 - val_accuracy: 0.8956\n",
            "Epoch 27/30\n",
            "188/188 [==============================] - 4s 24ms/step - loss: 0.0494 - accuracy: 0.9815 - val_loss: 0.5574 - val_accuracy: 0.8895\n",
            "Epoch 28/30\n",
            "188/188 [==============================] - 5s 26ms/step - loss: 0.0483 - accuracy: 0.9824 - val_loss: 0.5679 - val_accuracy: 0.8954\n",
            "Epoch 29/30\n",
            "188/188 [==============================] - 4s 24ms/step - loss: 0.0458 - accuracy: 0.9833 - val_loss: 0.6070 - val_accuracy: 0.8896\n",
            "Epoch 30/30\n",
            "188/188 [==============================] - 5s 24ms/step - loss: 0.0464 - accuracy: 0.9829 - val_loss: 0.5983 - val_accuracy: 0.8872\n"
          ]
        }
      ]
    },
    {
      "cell_type": "code",
      "metadata": {
        "colab": {
          "base_uri": "https://localhost:8080/"
        },
        "id": "hhvTPX0abIlU",
        "outputId": "8e3e5c19-9743-4c9b-a921-f8c488bf1474"
      },
      "source": [
        "model.evaluate(x_test, y_test)"
      ],
      "execution_count": null,
      "outputs": [
        {
          "output_type": "stream",
          "name": "stdout",
          "text": [
            "313/313 [==============================] - 1s 5ms/step - loss: 0.6173 - accuracy: 0.8928\n"
          ]
        },
        {
          "output_type": "execute_result",
          "data": {
            "text/plain": [
              "[0.6173160672187805, 0.892799973487854]"
            ]
          },
          "metadata": {},
          "execution_count": 38
        }
      ]
    },
    {
      "cell_type": "markdown",
      "metadata": {
        "id": "_KxT58BJaOCk"
      },
      "source": [
        "### history plot\n",
        "- loss, val_loss\n",
        "- accuracy, val_accuracy"
      ]
    },
    {
      "cell_type": "code",
      "metadata": {
        "colab": {
          "base_uri": "https://localhost:8080/",
          "height": 283
        },
        "id": "1qCjNjYDZwEK",
        "outputId": "1338c9da-50ec-4c76-ab5a-9fc7f3cc8c39"
      },
      "source": [
        "import matplotlib.pyplot as plt\n",
        "plt.plot(result.history['loss'])\n",
        "plt.plot(result.history['val_loss'])\n",
        "plt.legend(['loss', 'val_loss'])"
      ],
      "execution_count": null,
      "outputs": [
        {
          "output_type": "execute_result",
          "data": {
            "text/plain": [
              "<matplotlib.legend.Legend at 0x7f794d339cd0>"
            ]
          },
          "metadata": {},
          "execution_count": 36
        },
        {
          "output_type": "display_data",
          "data": {
            "image/png": "[encoded data removed]",
            "text/plain": [
              "<Figure size 432x288 with 1 Axes>"
            ]
          },
          "metadata": {
            "needs_background": "light"
          }
        }
      ]
    },
    {
      "cell_type": "code",
      "metadata": {
        "colab": {
          "base_uri": "https://localhost:8080/",
          "height": 283
        },
        "id": "Txe8L_V6aEaA",
        "outputId": "409af758-317a-43bc-e2f1-faf70fa98876"
      },
      "source": [
        "import matplotlib.pyplot as plt\n",
        "plt.plot(result.history['accuracy'])\n",
        "plt.plot(result.history['val_accuracy'])\n",
        "plt.legend(['accuracy', 'val_accuracy'])"
      ],
      "execution_count": null,
      "outputs": [
        {
          "output_type": "execute_result",
          "data": {
            "text/plain": [
              "<matplotlib.legend.Legend at 0x7f794afd7850>"
            ]
          },
          "metadata": {},
          "execution_count": 37
        },
        {
          "output_type": "display_data",
          "data": {
            "image/png": "[encoded data removed]",
            "text/plain": [
              "<Figure size 432x288 with 1 Axes>"
            ]
          },
          "metadata": {
            "needs_background": "light"
          }
        }
      ]
    },
    {
      "cell_type": "markdown",
      "metadata": {
        "id": "5Vjv2i6YcbN2"
      },
      "source": [
        "### early stopping\n",
        "- 특정 조건이 되었을때 알아서 학습을 멈추게 하는 기능(오버피팅이라고 판단될때 그만)\n",
        "- 모델을 최적의 상태로 되돌리기\n"
      ]
    },
    {
      "cell_type": "code",
      "metadata": {
        "colab": {
          "base_uri": "https://localhost:8080/"
        },
        "id": "nCI2lGpDYqfm",
        "outputId": "ef6a6a40-9c6e-4aeb-eca7-2a1606161ab9"
      },
      "source": [
        "import tensorflow as tf\n",
        "\n",
        "(x_train, y_train), (x_test, y_test) = tf.keras.datasets.fashion_mnist.load_data()\n",
        "\n",
        "x_train = x_train.reshape(-1, 28, 28, 1) #-1써주면 알아서 계산해서 줌\n",
        "x_test = x_test.reshape(-1, 28, 28, 1)\n",
        "\n",
        "print(x_train.shape, y_train.shape)\n",
        "print(x_test.shape, y_test.shape)"
      ],
      "execution_count": null,
      "outputs": [
        {
          "output_type": "stream",
          "name": "stdout",
          "text": [
            "(60000, 28, 28, 1) (60000,)\n",
            "(10000, 28, 28, 1) (10000,)\n"
          ]
        }
      ]
    },
    {
      "cell_type": "code",
      "metadata": {
        "colab": {
          "base_uri": "https://localhost:8080/"
        },
        "id": "ipz3W7LcfVVJ",
        "outputId": "d0e2e542-55e9-4d34-d31a-b49c23114ef5"
      },
      "source": [
        "X=tf.keras.Input(shape=[28,28,1])\n",
        "\n",
        "H=tf.keras.layers.Conv2D(16, kernel_size=3, padding='same', activation='swish')(X)\n",
        "H=tf.keras.layers.Conv2D(16, kernel_size=3, padding='same', activation='swish')(H)\n",
        "H=tf.keras.layers.MaxPool2D()(H)\n",
        "\n",
        "H=tf.keras.layers.Conv2D(16, kernel_size=3, padding='same', activation='swish')(H)\n",
        "H=tf.keras.layers.Conv2D(16, kernel_size=3, padding='same', activation='swish')(H)\n",
        "H=tf.keras.layers.MaxPool2D()(H)\n",
        "\n",
        "H=tf.keras.layers.Flatten()(H)\n",
        "H=tf.keras.layers.Dense(48, activation='swish')(H)\n",
        "Y=tf.keras.layers.Dense(10,activation='softmax')(H)\n",
        "\n",
        "model=tf.keras.Model(X,Y)\n",
        "model.compile(loss=tf.keras.losses.sparse_categorical_crossentropy, metrics='accuracy')\n",
        "model.summary()"
      ],
      "execution_count": null,
      "outputs": [
        {
          "output_type": "stream",
          "name": "stdout",
          "text": [
            "Model: \"model_16\"\n",
            "_________________________________________________________________\n",
            " Layer (type)                Output Shape              Param #   \n",
            "=================================================================\n",
            " input_17 (InputLayer)       [(None, 28, 28, 1)]       0         \n",
            "                                                                 \n",
            " conv2d_64 (Conv2D)          (None, 28, 28, 16)        160       \n",
            "                                                                 \n",
            " conv2d_65 (Conv2D)          (None, 28, 28, 16)        2320      \n",
            "                                                                 \n",
            " max_pooling2d_42 (MaxPoolin  (None, 14, 14, 16)       0         \n",
            " g2D)                                                            \n",
            "                                                                 \n",
            " conv2d_66 (Conv2D)          (None, 14, 14, 16)        2320      \n",
            "                                                                 \n",
            " conv2d_67 (Conv2D)          (None, 14, 14, 16)        2320      \n",
            "                                                                 \n",
            " max_pooling2d_43 (MaxPoolin  (None, 7, 7, 16)         0         \n",
            " g2D)                                                            \n",
            "                                                                 \n",
            " flatten_16 (Flatten)        (None, 784)               0         \n",
            "                                                                 \n",
            " dense_34 (Dense)            (None, 48)                37680     \n",
            "                                                                 \n",
            " dense_35 (Dense)            (None, 10)                490       \n",
            "                                                                 \n",
            "=================================================================\n",
            "Total params: 45,290\n",
            "Trainable params: 45,290\n",
            "Non-trainable params: 0\n",
            "_________________________________________________________________\n"
          ]
        }
      ]
    },
    {
      "cell_type": "code",
      "metadata": {
        "colab": {
          "base_uri": "https://localhost:8080/"
        },
        "id": "cLlt-nvNcdM6",
        "outputId": "cc6a637c-ac50-4c70-99ea-2a2d46448f72"
      },
      "source": [
        "early = tf.keras.callbacks.EarlyStopping(\n",
        "    monitor='val_loss',\n",
        "    min_delta = 0, #개선되고 있다고 판단하기 위한 최소 변화량\n",
        "    patience = 5, #개선이 없는 상태를 몇번이나 기다릴것이냐\n",
        "    restore_best_weights = True\n",
        ")\n",
        "\n",
        "result = model.fit(x_train, y_train, batch_size=256, epochs=1000, validation_split=0.2, callbacks=[early])"
      ],
      "execution_count": null,
      "outputs": [
        {
          "output_type": "stream",
          "name": "stdout",
          "text": [
            "Epoch 1/1000\n",
            "188/188 [==============================] - 7s 29ms/step - loss: 0.8915 - accuracy: 0.7499 - val_loss: 0.4553 - val_accuracy: 0.8335\n",
            "Epoch 2/1000\n",
            "188/188 [==============================] - 5s 25ms/step - loss: 0.3645 - accuracy: 0.8686 - val_loss: 0.3537 - val_accuracy: 0.8718\n",
            "Epoch 3/1000\n",
            "188/188 [==============================] - 5s 25ms/step - loss: 0.2976 - accuracy: 0.8900 - val_loss: 0.3653 - val_accuracy: 0.8687\n",
            "Epoch 4/1000\n",
            "188/188 [==============================] - 5s 24ms/step - loss: 0.2603 - accuracy: 0.9046 - val_loss: 0.2866 - val_accuracy: 0.8962\n",
            "Epoch 5/1000\n",
            "188/188 [==============================] - 5s 24ms/step - loss: 0.2332 - accuracy: 0.9154 - val_loss: 0.2955 - val_accuracy: 0.8952\n",
            "Epoch 6/1000\n",
            "188/188 [==============================] - 4s 24ms/step - loss: 0.2118 - accuracy: 0.9208 - val_loss: 0.3298 - val_accuracy: 0.8805\n",
            "Epoch 7/1000\n",
            "188/188 [==============================] - 4s 24ms/step - loss: 0.1956 - accuracy: 0.9287 - val_loss: 0.2882 - val_accuracy: 0.9003\n",
            "Epoch 8/1000\n",
            "188/188 [==============================] - 4s 24ms/step - loss: 0.1797 - accuracy: 0.9331 - val_loss: 0.2813 - val_accuracy: 0.9018\n",
            "Epoch 9/1000\n",
            "188/188 [==============================] - 4s 24ms/step - loss: 0.1658 - accuracy: 0.9386 - val_loss: 0.2934 - val_accuracy: 0.9004\n",
            "Epoch 10/1000\n",
            "188/188 [==============================] - 5s 25ms/step - loss: 0.1530 - accuracy: 0.9426 - val_loss: 0.2851 - val_accuracy: 0.9059\n",
            "Epoch 11/1000\n",
            "188/188 [==============================] - 5s 24ms/step - loss: 0.1403 - accuracy: 0.9479 - val_loss: 0.3255 - val_accuracy: 0.8965\n",
            "Epoch 12/1000\n",
            "188/188 [==============================] - 5s 24ms/step - loss: 0.1299 - accuracy: 0.9520 - val_loss: 0.3350 - val_accuracy: 0.9013\n",
            "Epoch 13/1000\n",
            "188/188 [==============================] - 5s 24ms/step - loss: 0.1192 - accuracy: 0.9559 - val_loss: 0.3434 - val_accuracy: 0.9009\n"
          ]
        }
      ]
    },
    {
      "cell_type": "markdown",
      "metadata": {
        "id": "2vAlrNWDgU-E"
      },
      "source": [
        "### data augmentation"
      ]
    },
    {
      "cell_type": "code",
      "metadata": {
        "id": "n3KwU_kDeWwg"
      },
      "source": [
        "datagen = tf.keras.preprocessing.image.ImageDataGenerator(\n",
        "    width_shift_range = 0.1,\n",
        "    height_shift_range = 0.1,\n",
        "    horizontal_flip = True #좌우반전\n",
        ")\n",
        "\n",
        "train_gen = datagen.flow(x_train, y_train, batch_size=256)"
      ],
      "execution_count": null,
      "outputs": []
    },
    {
      "cell_type": "code",
      "metadata": {
        "colab": {
          "base_uri": "https://localhost:8080/",
          "height": 300
        },
        "id": "_A8T6ckcg26z",
        "outputId": "e66cfceb-d92b-4786-ac15-42879537d298"
      },
      "source": [
        "print(train_gen[0][0].shape, train_gen[0][1].shape)\n",
        "\n",
        "import matplotlib.pyplot as plt\n",
        "plt.imshow(train_gen[0][0][0].reshape(28, 28))\n",
        "#계속 눌러보면 조금씩 이동함"
      ],
      "execution_count": null,
      "outputs": [
        {
          "output_type": "stream",
          "name": "stdout",
          "text": [
            "(256, 28, 28, 1) (256,)\n"
          ]
        },
        {
          "output_type": "execute_result",
          "data": {
            "text/plain": [
              "<matplotlib.image.AxesImage at 0x7f79cb8bc650>"
            ]
          },
          "metadata": {},
          "execution_count": 59
        },
        {
          "output_type": "display_data",
          "data": {
            "image/png": "[encoded data removed]",
            "text/plain": [
              "<Figure size 432x288 with 1 Axes>"
            ]
          },
          "metadata": {
            "needs_background": "light"
          }
        }
      ]
    },
    {
      "cell_type": "code",
      "metadata": {
        "colab": {
          "base_uri": "https://localhost:8080/"
        },
        "id": "T1evw1i0hL-T",
        "outputId": "c9471be3-3568-4ed0-ef7b-d3817a9d2b3b"
      },
      "source": [
        "model.fit(train_gen, epochs=10)"
      ],
      "execution_count": null,
      "outputs": [
        {
          "output_type": "stream",
          "name": "stdout",
          "text": [
            "Epoch 1/10\n",
            "235/235 [==============================] - 23s 96ms/step - loss: 0.4804 - accuracy: 0.8253\n",
            "Epoch 2/10\n",
            "235/235 [==============================] - 23s 97ms/step - loss: 0.3826 - accuracy: 0.8590\n",
            "Epoch 3/10\n",
            "235/235 [==============================] - 23s 97ms/step - loss: 0.3494 - accuracy: 0.8706\n",
            "Epoch 4/10\n",
            "235/235 [==============================] - 23s 97ms/step - loss: 0.3345 - accuracy: 0.8775\n",
            "Epoch 5/10\n",
            "235/235 [==============================] - 23s 96ms/step - loss: 0.3181 - accuracy: 0.8813\n",
            "Epoch 6/10\n",
            "235/235 [==============================] - 23s 97ms/step - loss: 0.3077 - accuracy: 0.8861\n",
            "Epoch 7/10\n",
            "235/235 [==============================] - 23s 98ms/step - loss: 0.2995 - accuracy: 0.8891\n",
            "Epoch 8/10\n",
            "235/235 [==============================] - 23s 96ms/step - loss: 0.2926 - accuracy: 0.8915\n",
            "Epoch 9/10\n",
            "235/235 [==============================] - 22s 95ms/step - loss: 0.2858 - accuracy: 0.8940\n",
            "Epoch 10/10\n",
            "235/235 [==============================] - 23s 97ms/step - loss: 0.2830 - accuracy: 0.8942\n"
          ]
        },
        {
          "output_type": "execute_result",
          "data": {
            "text/plain": [
              "<keras.callbacks.History at 0x7f79cbbcc110>"
            ]
          },
          "metadata": {},
          "execution_count": 60
        }
      ]
    },
    {
      "cell_type": "code",
      "metadata": {
        "colab": {
          "base_uri": "https://localhost:8080/"
        },
        "id": "pEvlkiK8h5KP",
        "outputId": "9b558acb-1518-45b9-a60c-6a5a04422337"
      },
      "source": [
        "model.evaluate(x_test, y_test)"
      ],
      "execution_count": null,
      "outputs": [
        {
          "output_type": "stream",
          "name": "stdout",
          "text": [
            "313/313 [==============================] - 1s 5ms/step - loss: 0.2681 - accuracy: 0.9077\n"
          ]
        },
        {
          "output_type": "execute_result",
          "data": {
            "text/plain": [
              "[0.2681192457675934, 0.9077000021934509]"
            ]
          },
          "metadata": {},
          "execution_count": 61
        }
      ]
    },
    {
      "cell_type": "code",
      "metadata": {
        "colab": {
          "base_uri": "https://localhost:8080/"
        },
        "id": "AZxg0CQMj6PE",
        "outputId": "215ae392-fde4-41fe-ea27-daa4f50fe19b"
      },
      "source": [
        "import tensorflow as tf\n",
        "\n",
        "(x_train, y_train), (x_test, y_test) = tf.keras.datasets.fashion_mnist.load_data()\n",
        "\n",
        "x_train = x_train.reshape(-1, 28, 28, 1)\n",
        "x_test = x_test.reshape(-1, 28, 28, 1)\n",
        "\n",
        "x_train, x_val = x_train[:50000], x_train[50000:]\n",
        "y_train, y_val = y_train[:50000], y_train[50000:]\n",
        "\n",
        "print(x_train.shape, y_train.shape)\n",
        "print(x_val.shape, y_val.shape)\n",
        "print(x_test.shape, y_test.shape)"
      ],
      "execution_count": null,
      "outputs": [
        {
          "output_type": "stream",
          "name": "stdout",
          "text": [
            "(50000, 28, 28, 1) (50000,)\n",
            "(10000, 28, 28, 1) (10000,)\n",
            "(10000, 28, 28, 1) (10000,)\n"
          ]
        }
      ]
    },
    {
      "cell_type": "code",
      "metadata": {
        "id": "gFRyYjCFk-kT"
      },
      "source": [
        "datagen = tf.keras.preprocessing.image.ImageDataGenerator(\n",
        "    width_shift_range = 0.1,\n",
        "    height_shift_range = 0.1,\n",
        "    horizontal_flip = True\n",
        ")\n",
        "\n",
        "train_gen = datagen.flow(x_train, y_train, batch_size=256)"
      ],
      "execution_count": null,
      "outputs": []
    },
    {
      "cell_type": "code",
      "metadata": {
        "colab": {
          "base_uri": "https://localhost:8080/"
        },
        "id": "U5FYBvIDkNFG",
        "outputId": "dc354317-2a67-43be-ba38-ec1263e9e409"
      },
      "source": [
        "model.fit(train_gen, epochs=1000, validation_data=(x_val, y_val), callbacks=[early])"
      ],
      "execution_count": null,
      "outputs": [
        {
          "output_type": "stream",
          "name": "stdout",
          "text": [
            "Epoch 1/1000\n",
            "196/196 [==============================] - 20s 102ms/step - loss: 0.2743 - accuracy: 0.8990 - val_loss: 0.2631 - val_accuracy: 0.9038\n",
            "Epoch 2/1000\n",
            "196/196 [==============================] - 20s 103ms/step - loss: 0.2700 - accuracy: 0.8992 - val_loss: 0.2468 - val_accuracy: 0.9076\n",
            "Epoch 3/1000\n",
            "196/196 [==============================] - 20s 103ms/step - loss: 0.2678 - accuracy: 0.9014 - val_loss: 0.2441 - val_accuracy: 0.9072\n",
            "Epoch 4/1000\n",
            "196/196 [==============================] - 20s 103ms/step - loss: 0.2645 - accuracy: 0.9031 - val_loss: 0.2495 - val_accuracy: 0.9091\n",
            "Epoch 5/1000\n",
            "196/196 [==============================] - 20s 102ms/step - loss: 0.2621 - accuracy: 0.9026 - val_loss: 0.2572 - val_accuracy: 0.9052\n",
            "Epoch 6/1000\n",
            "196/196 [==============================] - 20s 102ms/step - loss: 0.2598 - accuracy: 0.9056 - val_loss: 0.2532 - val_accuracy: 0.9061\n",
            "Epoch 7/1000\n",
            "196/196 [==============================] - 20s 102ms/step - loss: 0.2553 - accuracy: 0.9056 - val_loss: 0.2230 - val_accuracy: 0.9185\n",
            "Epoch 8/1000\n",
            "196/196 [==============================] - 20s 100ms/step - loss: 0.2536 - accuracy: 0.9068 - val_loss: 0.2485 - val_accuracy: 0.9118\n",
            "Epoch 9/1000\n",
            "196/196 [==============================] - 20s 102ms/step - loss: 0.2530 - accuracy: 0.9072 - val_loss: 0.2419 - val_accuracy: 0.9112\n",
            "Epoch 10/1000\n",
            "196/196 [==============================] - 20s 102ms/step - loss: 0.2505 - accuracy: 0.9090 - val_loss: 0.2466 - val_accuracy: 0.9108\n",
            "Epoch 11/1000\n",
            "196/196 [==============================] - 20s 102ms/step - loss: 0.2487 - accuracy: 0.9086 - val_loss: 0.2361 - val_accuracy: 0.9117\n",
            "Epoch 12/1000\n",
            "196/196 [==============================] - 20s 102ms/step - loss: 0.2444 - accuracy: 0.9093 - val_loss: 0.2322 - val_accuracy: 0.9164\n"
          ]
        },
        {
          "output_type": "execute_result",
          "data": {
            "text/plain": [
              "<keras.callbacks.History at 0x7f79cb6954d0>"
            ]
          },
          "metadata": {},
          "execution_count": 64
        }
      ]
    },
    {
      "cell_type": "code",
      "metadata": {
        "colab": {
          "base_uri": "https://localhost:8080/"
        },
        "id": "Hbvw6mH2kdDj",
        "outputId": "8530f40c-422d-427a-bb2f-aa7faea991da"
      },
      "source": [
        "model.evaluate(x_test, y_test)"
      ],
      "execution_count": null,
      "outputs": [
        {
          "output_type": "stream",
          "name": "stdout",
          "text": [
            "313/313 [==============================] - 2s 5ms/step - loss: 0.2581 - accuracy: 0.9094\n"
          ]
        },
        {
          "output_type": "execute_result",
          "data": {
            "text/plain": [
              "[0.258137971162796, 0.9093999862670898]"
            ]
          },
          "metadata": {},
          "execution_count": 65
        }
      ]
    },
    {
      "cell_type": "markdown",
      "metadata": {
        "id": "DLGENOaNojHs"
      },
      "source": [
        "### 필터와 특징맵 출력해보기"
      ]
    },
    {
      "cell_type": "code",
      "metadata": {
        "colab": {
          "base_uri": "https://localhost:8080/"
        },
        "id": "GF8Pn2m_nZLM",
        "outputId": "5bc8a045-63f2-4aa5-db49-24f9882992e2"
      },
      "source": [
        "weights = model.get_weights()\n",
        "print(len(weights))\n",
        "print(weights[0].shape, weights[1].shape)\n",
        "print(weights[2].shape, weights[3].shape)\n",
        "print(weights[4].shape, weights[5].shape)\n",
        "print(weights[6].shape, weights[7].shape)\n",
        "print(weights[8].shape, weights[9].shape)\n",
        "print(weights[10].shape, weights[11].shape)"
      ],
      "execution_count": null,
      "outputs": [
        {
          "output_type": "stream",
          "name": "stdout",
          "text": [
            "12\n",
            "(3, 3, 1, 16) (16,)\n",
            "(3, 3, 16, 16) (16,)\n",
            "(3, 3, 16, 16) (16,)\n",
            "(3, 3, 16, 16) (16,)\n",
            "(784, 48) (48,)\n",
            "(48, 10) (10,)\n"
          ]
        }
      ]
    },
    {
      "cell_type": "code",
      "metadata": {
        "colab": {
          "base_uri": "https://localhost:8080/",
          "height": 460
        },
        "id": "lFk3lcNOnsBP",
        "outputId": "211f9015-d709-4faa-d6e6-1d31daba631b"
      },
      "source": [
        "import matplotlib.pyplot as plt\n",
        "plt.imshow(weights[0][:,:,:,-1].reshape(3,3), cmap='gray')\n",
        "print(weights[0][:,:,:,-1])"
      ],
      "execution_count": null,
      "outputs": [
        {
          "output_type": "stream",
          "name": "stdout",
          "text": [
            "[[[-0.0274251 ]\n",
            "  [-0.09708192]\n",
            "  [ 0.07142613]]\n",
            "\n",
            " [[ 0.17371975]\n",
            "  [-0.03837216]\n",
            "  [-0.06549069]]\n",
            "\n",
            " [[-0.19504882]\n",
            "  [-0.27827638]\n",
            "  [-0.16528916]]]\n"
          ]
        },
        {
          "output_type": "display_data",
          "data": {
            "image/png": "[encoded data removed]",
            "text/plain": [
              "<Figure size 432x288 with 1 Axes>"
            ]
          },
          "metadata": {
            "needs_background": "light"
          }
        }
      ]
    },
    {
      "cell_type": "code",
      "metadata": {
        "colab": {
          "base_uri": "https://localhost:8080/"
        },
        "id": "wh52rwWKoDdY",
        "outputId": "aa8d306e-81d5-4287-9202-d28cdec42b95"
      },
      "source": [
        "import tensorflow as tf\n",
        "\n",
        "(x_train, y_train), (x_test, y_test) = tf.keras.datasets.fashion_mnist.load_data()\n",
        "\n",
        "x_train = x_train.reshape(-1, 28, 28, 1) #-1써주면 알아서 계산해서 줌\n",
        "x_test = x_test.reshape(-1, 28, 28, 1)\n",
        "\n",
        "print(x_train.shape, y_train.shape)\n",
        "print(x_test.shape, y_test.shape)"
      ],
      "execution_count": null,
      "outputs": [
        {
          "output_type": "stream",
          "name": "stdout",
          "text": [
            "(60000, 28, 28, 1) (60000,)\n",
            "(10000, 28, 28, 1) (10000,)\n"
          ]
        }
      ]
    },
    {
      "cell_type": "code",
      "metadata": {
        "colab": {
          "base_uri": "https://localhost:8080/"
        },
        "id": "y8vU6qvhqTvs",
        "outputId": "d74bca5b-caab-47d1-8152-f827f42915cc"
      },
      "source": [
        "X=tf.keras.Input(shape=[28,28,1])\n",
        "\n",
        "H1=tf.keras.layers.Conv2D(16, kernel_size=3, padding='same', activation='swish')(X)\n",
        "H2=tf.keras.layers.Conv2D(16, kernel_size=3, padding='same', activation='swish')(H1)\n",
        "M1=tf.keras.layers.MaxPool2D()(H2)\n",
        "\n",
        "H3=tf.keras.layers.Conv2D(16, kernel_size=3, padding='same', activation='swish')(M1)\n",
        "H4=tf.keras.layers.Conv2D(16, kernel_size=3, padding='same', activation='swish')(H3)\n",
        "M2=tf.keras.layers.MaxPool2D()(H4)\n",
        "\n",
        "H=tf.keras.layers.Flatten()(M2)\n",
        "H=tf.keras.layers.Dense(48, activation='swish')(H)\n",
        "Y=tf.keras.layers.Dense(10,activation='softmax')(H)\n",
        "\n",
        "model=tf.keras.Model(X,Y)\n",
        "model.compile(loss=tf.keras.losses.sparse_categorical_crossentropy, metrics='accuracy')\n",
        "model.summary()"
      ],
      "execution_count": null,
      "outputs": [
        {
          "output_type": "stream",
          "name": "stdout",
          "text": [
            "Model: \"model_17\"\n",
            "_________________________________________________________________\n",
            " Layer (type)                Output Shape              Param #   \n",
            "=================================================================\n",
            " input_18 (InputLayer)       [(None, 28, 28, 1)]       0         \n",
            "                                                                 \n",
            " conv2d_68 (Conv2D)          (None, 28, 28, 16)        160       \n",
            "                                                                 \n",
            " conv2d_69 (Conv2D)          (None, 28, 28, 16)        2320      \n",
            "                                                                 \n",
            " max_pooling2d_44 (MaxPoolin  (None, 14, 14, 16)       0         \n",
            " g2D)                                                            \n",
            "                                                                 \n",
            " conv2d_70 (Conv2D)          (None, 14, 14, 16)        2320      \n",
            "                                                                 \n",
            " conv2d_71 (Conv2D)          (None, 14, 14, 16)        2320      \n",
            "                                                                 \n",
            " max_pooling2d_45 (MaxPoolin  (None, 7, 7, 16)         0         \n",
            " g2D)                                                            \n",
            "                                                                 \n",
            " flatten_17 (Flatten)        (None, 784)               0         \n",
            "                                                                 \n",
            " dense_36 (Dense)            (None, 48)                37680     \n",
            "                                                                 \n",
            " dense_37 (Dense)            (None, 10)                490       \n",
            "                                                                 \n",
            "=================================================================\n",
            "Total params: 45,290\n",
            "Trainable params: 45,290\n",
            "Non-trainable params: 0\n",
            "_________________________________________________________________\n"
          ]
        }
      ]
    },
    {
      "cell_type": "code",
      "metadata": {
        "colab": {
          "base_uri": "https://localhost:8080/"
        },
        "id": "4SQbzHsJqt0K",
        "outputId": "6e277c54-2c28-4c88-a709-c9b911f69a75"
      },
      "source": [
        "early = tf.keras.callbacks.EarlyStopping(\n",
        "    monitor='val_loss',\n",
        "    min_delta = 0,\n",
        "    patience = 5,\n",
        "    restore_best_weights = True\n",
        ")\n",
        "\n",
        "result = model.fit(x_train, y_train, batch_size=256, epochs=1000, validation_split=0.2, callbacks=[early])"
      ],
      "execution_count": null,
      "outputs": [
        {
          "output_type": "stream",
          "name": "stdout",
          "text": [
            "Epoch 1/1000\n",
            "188/188 [==============================] - 6s 26ms/step - loss: 1.1377 - accuracy: 0.7448 - val_loss: 0.5980 - val_accuracy: 0.7808\n",
            "Epoch 2/1000\n",
            "188/188 [==============================] - 4s 24ms/step - loss: 0.3810 - accuracy: 0.8614 - val_loss: 0.3740 - val_accuracy: 0.8621\n",
            "Epoch 3/1000\n",
            "188/188 [==============================] - 5s 24ms/step - loss: 0.3098 - accuracy: 0.8857 - val_loss: 0.3293 - val_accuracy: 0.8801\n",
            "Epoch 4/1000\n",
            "188/188 [==============================] - 5s 24ms/step - loss: 0.2694 - accuracy: 0.9013 - val_loss: 0.3110 - val_accuracy: 0.8896\n",
            "Epoch 5/1000\n",
            "188/188 [==============================] - 5s 24ms/step - loss: 0.2410 - accuracy: 0.9117 - val_loss: 0.3338 - val_accuracy: 0.8790\n",
            "Epoch 6/1000\n",
            "188/188 [==============================] - 5s 24ms/step - loss: 0.2219 - accuracy: 0.9177 - val_loss: 0.2789 - val_accuracy: 0.8988\n",
            "Epoch 7/1000\n",
            "188/188 [==============================] - 4s 24ms/step - loss: 0.2028 - accuracy: 0.9244 - val_loss: 0.2674 - val_accuracy: 0.9029\n",
            "Epoch 8/1000\n",
            "188/188 [==============================] - 5s 24ms/step - loss: 0.1878 - accuracy: 0.9301 - val_loss: 0.2626 - val_accuracy: 0.9092\n",
            "Epoch 9/1000\n",
            "188/188 [==============================] - 5s 24ms/step - loss: 0.1748 - accuracy: 0.9358 - val_loss: 0.2860 - val_accuracy: 0.9001\n",
            "Epoch 10/1000\n",
            "188/188 [==============================] - 5s 24ms/step - loss: 0.1604 - accuracy: 0.9412 - val_loss: 0.3086 - val_accuracy: 0.8963\n",
            "Epoch 11/1000\n",
            "188/188 [==============================] - 4s 24ms/step - loss: 0.1499 - accuracy: 0.9434 - val_loss: 0.2915 - val_accuracy: 0.9013\n",
            "Epoch 12/1000\n",
            "188/188 [==============================] - 5s 24ms/step - loss: 0.1397 - accuracy: 0.9482 - val_loss: 0.3098 - val_accuracy: 0.9029\n",
            "Epoch 13/1000\n",
            "188/188 [==============================] - 5s 24ms/step - loss: 0.1296 - accuracy: 0.9524 - val_loss: 0.3489 - val_accuracy: 0.8935\n"
          ]
        }
      ]
    },
    {
      "cell_type": "code",
      "metadata": {
        "id": "305Cc2smqzZ7"
      },
      "source": [
        "output1 = tf.keras.Model(X, [H1, H2, H3, H4])\n",
        "output2 = tf.keras.Model(X, [M1, M2])"
      ],
      "execution_count": null,
      "outputs": []
    },
    {
      "cell_type": "code",
      "metadata": {
        "colab": {
          "base_uri": "https://localhost:8080/"
        },
        "id": "4Y13A_ATrU-A",
        "outputId": "88bddd36-c0ca-492a-902c-54e2ea588a3f"
      },
      "source": [
        "h1, h2, h3, h4 = output1.predict(x_test[:1])\n",
        "print(h1.shape, h2.shape, h3.shape, h4.shape)\n",
        "\n",
        "m1, m2 = output2.predict(x_test[:1])\n",
        "print(m1.shape, m2.shape)"
      ],
      "execution_count": null,
      "outputs": [
        {
          "output_type": "stream",
          "name": "stdout",
          "text": [
            "(1, 28, 28, 16) (1, 28, 28, 16) (1, 14, 14, 16) (1, 14, 14, 16)\n",
            "(1, 14, 14, 16) (1, 7, 7, 16)\n"
          ]
        }
      ]
    },
    {
      "cell_type": "code",
      "metadata": {
        "colab": {
          "base_uri": "https://localhost:8080/",
          "height": 283
        },
        "id": "TApt9meUrirq",
        "outputId": "e75d8c69-bb6c-464f-f0e8-e3154a8cf320"
      },
      "source": [
        "plt.imshow(h1[0, :, :, -1], cmap='gray')"
      ],
      "execution_count": null,
      "outputs": [
        {
          "output_type": "execute_result",
          "data": {
            "text/plain": [
              "<matplotlib.image.AxesImage at 0x7f79cb52a150>"
            ]
          },
          "metadata": {},
          "execution_count": 82
        },
        {
          "output_type": "display_data",
          "data": {
            "image/png": "[encoded data removed]",
            "text/plain": [
              "<Figure size 432x288 with 1 Axes>"
            ]
          },
          "metadata": {
            "needs_background": "light"
          }
        }
      ]
    },
    {
      "cell_type": "code",
      "metadata": {
        "colab": {
          "base_uri": "https://localhost:8080/",
          "height": 283
        },
        "id": "P2Kzz3kir3ee",
        "outputId": "65710e72-b52f-4c88-850e-a9f015cd9b2a"
      },
      "source": [
        "plt.imshow(h2[0, :, :, 3], cmap='gray')"
      ],
      "execution_count": null,
      "outputs": [
        {
          "output_type": "execute_result",
          "data": {
            "text/plain": [
              "<matplotlib.image.AxesImage at 0x7f79ca679d90>"
            ]
          },
          "metadata": {},
          "execution_count": 81
        },
        {
          "output_type": "display_data",
          "data": {
            "image/png": "[encoded data removed]",
            "text/plain": [
              "<Figure size 432x288 with 1 Axes>"
            ]
          },
          "metadata": {
            "needs_background": "light"
          }
        }
      ]
    },
    {
      "cell_type": "code",
      "metadata": {
        "colab": {
          "base_uri": "https://localhost:8080/",
          "height": 283
        },
        "id": "Bmf2MEsMsJrx",
        "outputId": "9cde38cd-98c0-407e-d3c8-9896bcce4819"
      },
      "source": [
        "plt.imshow(h3[0, :, :, 2], cmap='gray')"
      ],
      "execution_count": null,
      "outputs": [
        {
          "output_type": "execute_result",
          "data": {
            "text/plain": [
              "<matplotlib.image.AxesImage at 0x7f79538323d0>"
            ]
          },
          "metadata": {},
          "execution_count": 83
        },
        {
          "output_type": "display_data",
          "data": {
            "image/png": "[encoded data removed]",
            "text/plain": [
              "<Figure size 432x288 with 1 Axes>"
            ]
          },
          "metadata": {
            "needs_background": "light"
          }
        }
      ]
    },
    {
      "cell_type": "code",
      "metadata": {
        "colab": {
          "base_uri": "https://localhost:8080/",
          "height": 283
        },
        "id": "l2emfFRwsO67",
        "outputId": "2de5bb28-6c1e-40d7-e963-4006bb815afb"
      },
      "source": [
        "plt.imshow(h4[0, :, :, -1], cmap='gray')"
      ],
      "execution_count": null,
      "outputs": [
        {
          "output_type": "execute_result",
          "data": {
            "text/plain": [
              "<matplotlib.image.AxesImage at 0x7f79cb4da090>"
            ]
          },
          "metadata": {},
          "execution_count": 84
        },
        {
          "output_type": "display_data",
          "data": {
            "image/png": "[encoded data removed]",
            "text/plain": [
              "<Figure size 432x288 with 1 Axes>"
            ]
          },
          "metadata": {
            "needs_background": "light"
          }
        }
      ]
    },
    {
      "cell_type": "code",
      "metadata": {
        "colab": {
          "base_uri": "https://localhost:8080/",
          "height": 283
        },
        "id": "ACoJLc3asQ7b",
        "outputId": "fcbc91e2-ae6f-491d-ce78-ae47ee021f83"
      },
      "source": [
        "plt.imshow(m1[0, :, :, 2], cmap='gray')"
      ],
      "execution_count": null,
      "outputs": [
        {
          "output_type": "execute_result",
          "data": {
            "text/plain": [
              "<matplotlib.image.AxesImage at 0x7f79536985d0>"
            ]
          },
          "metadata": {},
          "execution_count": 87
        },
        {
          "output_type": "display_data",
          "data": {
            "image/png": "[encoded data removed]",
            "text/plain": [
              "<Figure size 432x288 with 1 Axes>"
            ]
          },
          "metadata": {
            "needs_background": "light"
          }
        }
      ]
    },
    {
      "cell_type": "code",
      "metadata": {
        "colab": {
          "base_uri": "https://localhost:8080/",
          "height": 283
        },
        "id": "Dr7dZ_sxslJP",
        "outputId": "dcaddbc7-723d-4339-d84c-a2d0f789b3bf"
      },
      "source": [
        "plt.imshow(m2[0, :, :, 5], cmap='gray')"
      ],
      "execution_count": null,
      "outputs": [
        {
          "output_type": "execute_result",
          "data": {
            "text/plain": [
              "<matplotlib.image.AxesImage at 0x7f794d1ac510>"
            ]
          },
          "metadata": {},
          "execution_count": 88
        },
        {
          "output_type": "display_data",
          "data": {
            "image/png": "[encoded data removed]",
            "text/plain": [
              "<Figure size 432x288 with 1 Axes>"
            ]
          },
          "metadata": {
            "needs_background": "light"
          }
        }
      ]
    },
    {
      "cell_type": "markdown",
      "metadata": {
        "id": "vtaj1OGivSXE"
      },
      "source": [
        "## VGGNet"
      ]
    },
    {
      "cell_type": "code",
      "metadata": {
        "colab": {
          "base_uri": "https://localhost:8080/"
        },
        "id": "sH2nCm2pv-yW",
        "outputId": "12dad92d-3f7b-45b9-a53a-1ebf1573746f"
      },
      "source": [
        "import tensorflow as tf\n",
        "\n",
        "(x_train, y_train), (x_test, y_test) = tf.keras.datasets.cifar10.load_data()\n",
        "print(x_train.shape, y_train.shape)\n",
        "print(x_test.shape, y_test.shape)"
      ],
      "execution_count": null,
      "outputs": [
        {
          "output_type": "stream",
          "name": "stdout",
          "text": [
            "(50000, 32, 32, 3) (50000, 1)\n",
            "(10000, 32, 32, 3) (10000, 1)\n"
          ]
        }
      ]
    },
    {
      "cell_type": "code",
      "metadata": {
        "id": "jeJ31QQGydrx"
      },
      "source": [
        "def vgg_block(numbers, x):\n",
        "  net = tf.keras.layers.Conv2D(numbers, kernel_size=3, padding='same')(x)\n",
        "  net = tf.keras.layers.BatchNormalization()(net)\n",
        "  net = tf.keras.layers.Activation('swish')(net)\n",
        "  net = tf.keras.layers.Conv2D(numbers, kernel_size=3, padding='same', activation='swish')(net)\n",
        "  net = tf.keras.layers.BatchNormalization()(net)\n",
        "  net = tf.keras.layers.Activation('swish')(net)\n",
        "  return net"
      ],
      "execution_count": null,
      "outputs": []
    },
    {
      "cell_type": "code",
      "metadata": {
        "colab": {
          "base_uri": "https://localhost:8080/"
        },
        "id": "lY-C7uIBtbdw",
        "outputId": "165836a9-6614-4bb1-ccb3-81740af91a6d"
      },
      "source": [
        "X=tf.keras.Input(shape=[32,32,3])\n",
        "\n",
        "H=vgg_block(64, X)\n",
        "H=tf.keras.layers.MaxPool2D()(H)\n",
        "\n",
        "H=vgg_block(128, H)\n",
        "H=tf.keras.layers.MaxPool2D()(H)\n",
        "\n",
        "H=vgg_block(256, H)\n",
        "H=tf.keras.layers.MaxPool2D()(H)\n",
        "\n",
        "H=vgg_block(512, H)\n",
        "H=tf.keras.layers.MaxPool2D()(H)\n",
        "\n",
        "H=tf.keras.layers.Flatten()(H)\n",
        "H=tf.keras.layers.Dense(4096, activation='swish')(H)\n",
        "H=tf.keras.layers.Dense(4096, activation='swish')(H)\n",
        "H=tf.keras.layers.Dense(1000, activation='swish')(H)\n",
        "Y=tf.keras.layers.Dense(10, activation='softmax')(H)\n",
        "\n",
        "model=tf.keras.Model(X,Y)\n",
        "model.compile(loss=tf.keras.losses.sparse_categorical_crossentropy, metrics='accuracy', optimizer='adam')\n",
        "model.summary()"
      ],
      "execution_count": null,
      "outputs": [
        {
          "output_type": "stream",
          "name": "stdout",
          "text": [
            "Model: \"model_25\"\n",
            "_________________________________________________________________\n",
            " Layer (type)                Output Shape              Param #   \n",
            "=================================================================\n",
            " input_27 (InputLayer)       [(None, 32, 32, 3)]       0         \n",
            "                                                                 \n",
            " conv2d_129 (Conv2D)         (None, 32, 32, 64)        1792      \n",
            "                                                                 \n",
            " batch_normalization_32 (Bat  (None, 32, 32, 64)       256       \n",
            " chNormalization)                                                \n",
            "                                                                 \n",
            " activation_32 (Activation)  (None, 32, 32, 64)        0         \n",
            "                                                                 \n",
            " conv2d_130 (Conv2D)         (None, 32, 32, 64)        36928     \n",
            "                                                                 \n",
            " batch_normalization_33 (Bat  (None, 32, 32, 64)       256       \n",
            " chNormalization)                                                \n",
            "                                                                 \n",
            " activation_33 (Activation)  (None, 32, 32, 64)        0         \n",
            "                                                                 \n",
            " max_pooling2d_74 (MaxPoolin  (None, 16, 16, 64)       0         \n",
            " g2D)                                                            \n",
            "                                                                 \n",
            " conv2d_131 (Conv2D)         (None, 16, 16, 128)       73856     \n",
            "                                                                 \n",
            " batch_normalization_34 (Bat  (None, 16, 16, 128)      512       \n",
            " chNormalization)                                                \n",
            "                                                                 \n",
            " activation_34 (Activation)  (None, 16, 16, 128)       0         \n",
            "                                                                 \n",
            " conv2d_132 (Conv2D)         (None, 16, 16, 128)       147584    \n",
            "                                                                 \n",
            " batch_normalization_35 (Bat  (None, 16, 16, 128)      512       \n",
            " chNormalization)                                                \n",
            "                                                                 \n",
            " activation_35 (Activation)  (None, 16, 16, 128)       0         \n",
            "                                                                 \n",
            " max_pooling2d_75 (MaxPoolin  (None, 8, 8, 128)        0         \n",
            " g2D)                                                            \n",
            "                                                                 \n",
            " conv2d_133 (Conv2D)         (None, 8, 8, 256)         295168    \n",
            "                                                                 \n",
            " batch_normalization_36 (Bat  (None, 8, 8, 256)        1024      \n",
            " chNormalization)                                                \n",
            "                                                                 \n",
            " activation_36 (Activation)  (None, 8, 8, 256)         0         \n",
            "                                                                 \n",
            " conv2d_134 (Conv2D)         (None, 8, 8, 256)         590080    \n",
            "                                                                 \n",
            " batch_normalization_37 (Bat  (None, 8, 8, 256)        1024      \n",
            " chNormalization)                                                \n",
            "                                                                 \n",
            " activation_37 (Activation)  (None, 8, 8, 256)         0         \n",
            "                                                                 \n",
            " max_pooling2d_76 (MaxPoolin  (None, 4, 4, 256)        0         \n",
            " g2D)                                                            \n",
            "                                                                 \n",
            " conv2d_135 (Conv2D)         (None, 4, 4, 512)         1180160   \n",
            "                                                                 \n",
            " batch_normalization_38 (Bat  (None, 4, 4, 512)        2048      \n",
            " chNormalization)                                                \n",
            "                                                                 \n",
            " activation_38 (Activation)  (None, 4, 4, 512)         0         \n",
            "                                                                 \n",
            " conv2d_136 (Conv2D)         (None, 4, 4, 512)         2359808   \n",
            "                                                                 \n",
            " batch_normalization_39 (Bat  (None, 4, 4, 512)        2048      \n",
            " chNormalization)                                                \n",
            "                                                                 \n",
            " activation_39 (Activation)  (None, 4, 4, 512)         0         \n",
            "                                                                 \n",
            " max_pooling2d_77 (MaxPoolin  (None, 2, 2, 512)        0         \n",
            " g2D)                                                            \n",
            "                                                                 \n",
            " flatten_25 (Flatten)        (None, 2048)              0         \n",
            "                                                                 \n",
            " dense_60 (Dense)            (None, 4096)              8392704   \n",
            "                                                                 \n",
            " dense_61 (Dense)            (None, 4096)              16781312  \n",
            "                                                                 \n",
            " dense_62 (Dense)            (None, 1000)              4097000   \n",
            "                                                                 \n",
            " dense_63 (Dense)            (None, 10)                10010     \n",
            "                                                                 \n",
            "=================================================================\n",
            "Total params: 33,974,082\n",
            "Trainable params: 33,970,242\n",
            "Non-trainable params: 3,840\n",
            "_________________________________________________________________\n"
          ]
        }
      ]
    },
    {
      "cell_type": "code",
      "metadata": {
        "colab": {
          "base_uri": "https://localhost:8080/"
        },
        "id": "cIEb3M9gxCT3",
        "outputId": "f59340f2-d70b-488b-cc96-ee28b81da443"
      },
      "source": [
        "model.fit(x_train, y_train, epochs=10, batch_size=128, validation_split=0.2)"
      ],
      "execution_count": null,
      "outputs": [
        {
          "output_type": "stream",
          "name": "stdout",
          "text": [
            "Epoch 1/10\n",
            "313/313 [==============================] - 46s 140ms/step - loss: 1.7983 - accuracy: 0.3878 - val_loss: 1.5222 - val_accuracy: 0.4634\n",
            "Epoch 2/10\n",
            "313/313 [==============================] - 43s 139ms/step - loss: 1.0848 - accuracy: 0.6146 - val_loss: 1.3003 - val_accuracy: 0.5959\n",
            "Epoch 3/10\n",
            "313/313 [==============================] - 46s 145ms/step - loss: 0.8256 - accuracy: 0.7156 - val_loss: 0.8537 - val_accuracy: 0.7074\n",
            "Epoch 4/10\n",
            "313/313 [==============================] - 43s 139ms/step - loss: 0.6490 - accuracy: 0.7796 - val_loss: 1.0623 - val_accuracy: 0.6822\n",
            "Epoch 5/10\n",
            "313/313 [==============================] - 43s 139ms/step - loss: 0.5336 - accuracy: 0.8214 - val_loss: 0.7700 - val_accuracy: 0.7598\n",
            "Epoch 6/10\n",
            "313/313 [==============================] - 43s 139ms/step - loss: 0.4202 - accuracy: 0.8592 - val_loss: 0.6788 - val_accuracy: 0.7817\n",
            "Epoch 7/10\n",
            "313/313 [==============================] - 43s 138ms/step - loss: 0.3466 - accuracy: 0.8862 - val_loss: 0.6522 - val_accuracy: 0.7861\n",
            "Epoch 8/10\n",
            "313/313 [==============================] - 43s 138ms/step - loss: 0.4610 - accuracy: 0.8549 - val_loss: 1.4620 - val_accuracy: 0.5731\n",
            "Epoch 9/10\n",
            "313/313 [==============================] - 43s 138ms/step - loss: 0.3701 - accuracy: 0.8796 - val_loss: 0.6539 - val_accuracy: 0.8066\n",
            "Epoch 10/10\n",
            "313/313 [==============================] - 43s 138ms/step - loss: 0.2126 - accuracy: 0.9297 - val_loss: 0.6160 - val_accuracy: 0.8242\n"
          ]
        },
        {
          "output_type": "execute_result",
          "data": {
            "text/plain": [
              "<keras.callbacks.History at 0x7f794a070c10>"
            ]
          },
          "metadata": {},
          "execution_count": 113
        }
      ]
    },
    {
      "cell_type": "markdown",
      "metadata": {
        "id": "80xtUAPR5RV1"
      },
      "source": [
        "## ResNet"
      ]
    },
    {
      "cell_type": "code",
      "metadata": {
        "id": "RMpBGl6qxSD4"
      },
      "source": [
        "def residual_block(f_in, f_out, x):\n",
        "    net = tf.keras.layers.Conv2D(f_out // 4, kernel_size=1, padding=\"same\")(x)\n",
        "    net = tf.keras.layers.BatchNormalization()(net)\n",
        "    net = tf.keras.layers.Activation('swish')(net)\n",
        "\n",
        "    net = tf.keras.layers.Conv2D(f_out // 4, kernel_size=3, padding=\"same\")(net)\n",
        "    net = tf.keras.layers.BatchNormalization()(net)\n",
        "    net = tf.keras.layers.Activation('swish')(net)\n",
        "\n",
        "    net = tf.keras.layers.Conv2D(f_out, kernel_size=1, padding=\"same\")(net)\n",
        "    net = tf.keras.layers.BatchNormalization()(net)\n",
        "    if f_in == f_out:\n",
        "        net = tf.keras.layers.Add()([x, net])\n",
        "    net = tf.keras.layers.Activation('swish')(net)\n",
        "\n",
        "    return net"
      ],
      "execution_count": null,
      "outputs": []
    },
    {
      "cell_type": "code",
      "metadata": {
        "colab": {
          "base_uri": "https://localhost:8080/"
        },
        "id": "ar0U3mpZ6Rwf",
        "outputId": "db2fae3b-21e0-4b3e-daf6-5d5e29e57e77"
      },
      "source": [
        "X = tf.keras.Input(shape=[32, 32, 3])\n",
        "\n",
        "H = tf.keras.layers.Conv2D(64, kernel_size=7, padding='same')(X)\n",
        "H = tf.keras.layers.BatchNormalization()(H)\n",
        "H = tf.keras.layers.Activation('swish')(H)\n",
        "H = tf.keras.layers.MaxPool2D(pool_size=3)(H)\n",
        "\n",
        "H = residual_block(64, 256, H)\n",
        "for i in range(2):\n",
        "  H = residual_block(256, 256, H)\n",
        "H = tf.keras.layers.MaxPool2D()(H)\n",
        "\n",
        "H = residual_block(256, 512, H)\n",
        "for i in range(7):\n",
        "  H = residual_block(512, 512, H)\n",
        "H = tf.keras.layers.MaxPool2D()(H)\n",
        "\n",
        "H = residual_block(512, 1024, H)\n",
        "for i in range(35):\n",
        "  H = residual_block(1024, 1024, H)\n",
        "H = tf.keras.layers.MaxPool2D()(H)\n",
        "\n",
        "H = residual_block(1024, 2048, H)\n",
        "for i in range(2):\n",
        "  H = residual_block(2048, 2048, H)\n",
        "# H = tf.keras.layers.GlobalAveragePooling2D()(H)\n",
        "\n",
        "H = tf.keras.layers.Flatten()(H)\n",
        "H = tf.keras.layers.Dense(1000)(H)\n",
        "H = tf.keras.layers.BatchNormalization()(H)\n",
        "H = tf.keras.layers.Activation('swish')(H)\n",
        "Y = tf.keras.layers.Dense(10, activation='softmax')(H)\n",
        "\n",
        "model = tf.keras.Model(X, Y)\n",
        "model.compile(loss=tf.keras.losses.sparse_categorical_crossentropy, \n",
        "              metrics='accuracy', optimizer='adam')\n",
        "model.summary()"
      ],
      "execution_count": null,
      "outputs": [
        {
          "output_type": "stream",
          "name": "stdout",
          "text": [
            "Model: \"model_26\"\n",
            "__________________________________________________________________________________________________\n",
            " Layer (type)                   Output Shape         Param #     Connected to                     \n",
            "==================================================================================================\n",
            " input_32 (InputLayer)          [(None, 32, 32, 3)]  0           []                               \n",
            "                                                                                                  \n",
            " conv2d_153 (Conv2D)            (None, 32, 32, 64)   9472        ['input_32[0][0]']               \n",
            "                                                                                                  \n",
            " batch_normalization_56 (BatchN  (None, 32, 32, 64)  256         ['conv2d_153[0][0]']             \n",
            " ormalization)                                                                                    \n",
            "                                                                                                  \n",
            " activation_52 (Activation)     (None, 32, 32, 64)   0           ['batch_normalization_56[0][0]'] \n",
            "                                                                                                  \n",
            " max_pooling2d_82 (MaxPooling2D  (None, 10, 10, 64)  0           ['activation_52[0][0]']          \n",
            " )                                                                                                \n",
            "                                                                                                  \n",
            " conv2d_154 (Conv2D)            (None, 10, 10, 64)   4160        ['max_pooling2d_82[0][0]']       \n",
            "                                                                                                  \n",
            " batch_normalization_57 (BatchN  (None, 10, 10, 64)  256         ['conv2d_154[0][0]']             \n",
            " ormalization)                                                                                    \n",
            "                                                                                                  \n",
            " activation_53 (Activation)     (None, 10, 10, 64)   0           ['batch_normalization_57[0][0]'] \n",
            "                                                                                                  \n",
            " conv2d_155 (Conv2D)            (None, 10, 10, 64)   36928       ['activation_53[0][0]']          \n",
            "                                                                                                  \n",
            " batch_normalization_58 (BatchN  (None, 10, 10, 64)  256         ['conv2d_155[0][0]']             \n",
            " ormalization)                                                                                    \n",
            "                                                                                                  \n",
            " activation_54 (Activation)     (None, 10, 10, 64)   0           ['batch_normalization_58[0][0]'] \n",
            "                                                                                                  \n",
            " conv2d_156 (Conv2D)            (None, 10, 10, 256)  16640       ['activation_54[0][0]']          \n",
            "                                                                                                  \n",
            " batch_normalization_59 (BatchN  (None, 10, 10, 256)  1024       ['conv2d_156[0][0]']             \n",
            " ormalization)                                                                                    \n",
            "                                                                                                  \n",
            " activation_55 (Activation)     (None, 10, 10, 256)  0           ['batch_normalization_59[0][0]'] \n",
            "                                                                                                  \n",
            " conv2d_157 (Conv2D)            (None, 10, 10, 64)   16448       ['activation_55[0][0]']          \n",
            "                                                                                                  \n",
            " batch_normalization_60 (BatchN  (None, 10, 10, 64)  256         ['conv2d_157[0][0]']             \n",
            " ormalization)                                                                                    \n",
            "                                                                                                  \n",
            " activation_56 (Activation)     (None, 10, 10, 64)   0           ['batch_normalization_60[0][0]'] \n",
            "                                                                                                  \n",
            " conv2d_158 (Conv2D)            (None, 10, 10, 64)   36928       ['activation_56[0][0]']          \n",
            "                                                                                                  \n",
            " batch_normalization_61 (BatchN  (None, 10, 10, 64)  256         ['conv2d_158[0][0]']             \n",
            " ormalization)                                                                                    \n",
            "                                                                                                  \n",
            " activation_57 (Activation)     (None, 10, 10, 64)   0           ['batch_normalization_61[0][0]'] \n",
            "                                                                                                  \n",
            " conv2d_159 (Conv2D)            (None, 10, 10, 256)  16640       ['activation_57[0][0]']          \n",
            "                                                                                                  \n",
            " batch_normalization_62 (BatchN  (None, 10, 10, 256)  1024       ['conv2d_159[0][0]']             \n",
            " ormalization)                                                                                    \n",
            "                                                                                                  \n",
            " add_4 (Add)                    (None, 10, 10, 256)  0           ['activation_55[0][0]',          \n",
            "                                                                  'batch_normalization_62[0][0]'] \n",
            "                                                                                                  \n",
            " activation_58 (Activation)     (None, 10, 10, 256)  0           ['add_4[0][0]']                  \n",
            "                                                                                                  \n",
            " conv2d_160 (Conv2D)            (None, 10, 10, 64)   16448       ['activation_58[0][0]']          \n",
            "                                                                                                  \n",
            " batch_normalization_63 (BatchN  (None, 10, 10, 64)  256         ['conv2d_160[0][0]']             \n",
            " ormalization)                                                                                    \n",
            "                                                                                                  \n",
            " activation_59 (Activation)     (None, 10, 10, 64)   0           ['batch_normalization_63[0][0]'] \n",
            "                                                                                                  \n",
            " conv2d_161 (Conv2D)            (None, 10, 10, 64)   36928       ['activation_59[0][0]']          \n",
            "                                                                                                  \n",
            " batch_normalization_64 (BatchN  (None, 10, 10, 64)  256         ['conv2d_161[0][0]']             \n",
            " ormalization)                                                                                    \n",
            "                                                                                                  \n",
            " activation_60 (Activation)     (None, 10, 10, 64)   0           ['batch_normalization_64[0][0]'] \n",
            "                                                                                                  \n",
            " conv2d_162 (Conv2D)            (None, 10, 10, 256)  16640       ['activation_60[0][0]']          \n",
            "                                                                                                  \n",
            " batch_normalization_65 (BatchN  (None, 10, 10, 256)  1024       ['conv2d_162[0][0]']             \n",
            " ormalization)                                                                                    \n",
            "                                                                                                  \n",
            " add_5 (Add)                    (None, 10, 10, 256)  0           ['activation_58[0][0]',          \n",
            "                                                                  'batch_normalization_65[0][0]'] \n",
            "                                                                                                  \n",
            " activation_61 (Activation)     (None, 10, 10, 256)  0           ['add_5[0][0]']                  \n",
            "                                                                                                  \n",
            " max_pooling2d_83 (MaxPooling2D  (None, 5, 5, 256)   0           ['activation_61[0][0]']          \n",
            " )                                                                                                \n",
            "                                                                                                  \n",
            " conv2d_163 (Conv2D)            (None, 5, 5, 128)    32896       ['max_pooling2d_83[0][0]']       \n",
            "                                                                                                  \n",
            " batch_normalization_66 (BatchN  (None, 5, 5, 128)   512         ['conv2d_163[0][0]']             \n",
            " ormalization)                                                                                    \n",
            "                                                                                                  \n",
            " activation_62 (Activation)     (None, 5, 5, 128)    0           ['batch_normalization_66[0][0]'] \n",
            "                                                                                                  \n",
            " conv2d_164 (Conv2D)            (None, 5, 5, 128)    147584      ['activation_62[0][0]']          \n",
            "                                                                                                  \n",
            " batch_normalization_67 (BatchN  (None, 5, 5, 128)   512         ['conv2d_164[0][0]']             \n",
            " ormalization)                                                                                    \n",
            "                                                                                                  \n",
            " activation_63 (Activation)     (None, 5, 5, 128)    0           ['batch_normalization_67[0][0]'] \n",
            "                                                                                                  \n",
            " conv2d_165 (Conv2D)            (None, 5, 5, 512)    66048       ['activation_63[0][0]']          \n",
            "                                                                                                  \n",
            " batch_normalization_68 (BatchN  (None, 5, 5, 512)   2048        ['conv2d_165[0][0]']             \n",
            " ormalization)                                                                                    \n",
            "                                                                                                  \n",
            " activation_64 (Activation)     (None, 5, 5, 512)    0           ['batch_normalization_68[0][0]'] \n",
            "                                                                                                  \n",
            " conv2d_166 (Conv2D)            (None, 5, 5, 128)    65664       ['activation_64[0][0]']          \n",
            "                                                                                                  \n",
            " batch_normalization_69 (BatchN  (None, 5, 5, 128)   512         ['conv2d_166[0][0]']             \n",
            " ormalization)                                                                                    \n",
            "                                                                                                  \n",
            " activation_65 (Activation)     (None, 5, 5, 128)    0           ['batch_normalization_69[0][0]'] \n",
            "                                                                                                  \n",
            " conv2d_167 (Conv2D)            (None, 5, 5, 128)    147584      ['activation_65[0][0]']          \n",
            "                                                                                                  \n",
            " batch_normalization_70 (BatchN  (None, 5, 5, 128)   512         ['conv2d_167[0][0]']             \n",
            " ormalization)                                                                                    \n",
            "                                                                                                  \n",
            " activation_66 (Activation)     (None, 5, 5, 128)    0           ['batch_normalization_70[0][0]'] \n",
            "                                                                                                  \n",
            " conv2d_168 (Conv2D)            (None, 5, 5, 512)    66048       ['activation_66[0][0]']          \n",
            "                                                                                                  \n",
            " batch_normalization_71 (BatchN  (None, 5, 5, 512)   2048        ['conv2d_168[0][0]']             \n",
            " ormalization)                                                                                    \n",
            "                                                                                                  \n",
            " add_6 (Add)                    (None, 5, 5, 512)    0           ['activation_64[0][0]',          \n",
            "                                                                  'batch_normalization_71[0][0]'] \n",
            "                                                                                                  \n",
            " activation_67 (Activation)     (None, 5, 5, 512)    0           ['add_6[0][0]']                  \n",
            "                                                                                                  \n",
            " conv2d_169 (Conv2D)            (None, 5, 5, 128)    65664       ['activation_67[0][0]']          \n",
            "                                                                                                  \n",
            " batch_normalization_72 (BatchN  (None, 5, 5, 128)   512         ['conv2d_169[0][0]']             \n",
            " ormalization)                                                                                    \n",
            "                                                                                                  \n",
            " activation_68 (Activation)     (None, 5, 5, 128)    0           ['batch_normalization_72[0][0]'] \n",
            "                                                                                                  \n",
            " conv2d_170 (Conv2D)            (None, 5, 5, 128)    147584      ['activation_68[0][0]']          \n",
            "                                                                                                  \n",
            " batch_normalization_73 (BatchN  (None, 5, 5, 128)   512         ['conv2d_170[0][0]']             \n",
            " ormalization)                                                                                    \n",
            "                                                                                                  \n",
            " activation_69 (Activation)     (None, 5, 5, 128)    0           ['batch_normalization_73[0][0]'] \n",
            "                                                                                                  \n",
            " conv2d_171 (Conv2D)            (None, 5, 5, 512)    66048       ['activation_69[0][0]']          \n",
            "                                                                                                  \n",
            " batch_normalization_74 (BatchN  (None, 5, 5, 512)   2048        ['conv2d_171[0][0]']             \n",
            " ormalization)                                                                                    \n",
            "                                                                                                  \n",
            " add_7 (Add)                    (None, 5, 5, 512)    0           ['activation_67[0][0]',          \n",
            "                                                                  'batch_normalization_74[0][0]'] \n",
            "                                                                                                  \n",
            " activation_70 (Activation)     (None, 5, 5, 512)    0           ['add_7[0][0]']                  \n",
            "                                                                                                  \n",
            " conv2d_172 (Conv2D)            (None, 5, 5, 128)    65664       ['activation_70[0][0]']          \n",
            "                                                                                                  \n",
            " batch_normalization_75 (BatchN  (None, 5, 5, 128)   512         ['conv2d_172[0][0]']             \n",
            " ormalization)                                                                                    \n",
            "                                                                                                  \n",
            " activation_71 (Activation)     (None, 5, 5, 128)    0           ['batch_normalization_75[0][0]'] \n",
            "                                                                                                  \n",
            " conv2d_173 (Conv2D)            (None, 5, 5, 128)    147584      ['activation_71[0][0]']          \n",
            "                                                                                                  \n",
            " batch_normalization_76 (BatchN  (None, 5, 5, 128)   512         ['conv2d_173[0][0]']             \n",
            " ormalization)                                                                                    \n",
            "                                                                                                  \n",
            " activation_72 (Activation)     (None, 5, 5, 128)    0           ['batch_normalization_76[0][0]'] \n",
            "                                                                                                  \n",
            " conv2d_174 (Conv2D)            (None, 5, 5, 512)    66048       ['activation_72[0][0]']          \n",
            "                                                                                                  \n",
            " batch_normalization_77 (BatchN  (None, 5, 5, 512)   2048        ['conv2d_174[0][0]']             \n",
            " ormalization)                                                                                    \n",
            "                                                                                                  \n",
            " add_8 (Add)                    (None, 5, 5, 512)    0           ['activation_70[0][0]',          \n",
            "                                                                  'batch_normalization_77[0][0]'] \n",
            "                                                                                                  \n",
            " activation_73 (Activation)     (None, 5, 5, 512)    0           ['add_8[0][0]']                  \n",
            "                                                                                                  \n",
            " conv2d_175 (Conv2D)            (None, 5, 5, 128)    65664       ['activation_73[0][0]']          \n",
            "                                                                                                  \n",
            " batch_normalization_78 (BatchN  (None, 5, 5, 128)   512         ['conv2d_175[0][0]']             \n",
            " ormalization)                                                                                    \n",
            "                                                                                                  \n",
            " activation_74 (Activation)     (None, 5, 5, 128)    0           ['batch_normalization_78[0][0]'] \n",
            "                                                                                                  \n",
            " conv2d_176 (Conv2D)            (None, 5, 5, 128)    147584      ['activation_74[0][0]']          \n",
            "                                                                                                  \n",
            " batch_normalization_79 (BatchN  (None, 5, 5, 128)   512         ['conv2d_176[0][0]']             \n",
            " ormalization)                                                                                    \n",
            "                                                                                                  \n",
            " activation_75 (Activation)     (None, 5, 5, 128)    0           ['batch_normalization_79[0][0]'] \n",
            "                                                                                                  \n",
            " conv2d_177 (Conv2D)            (None, 5, 5, 512)    66048       ['activation_75[0][0]']          \n",
            "                                                                                                  \n",
            " batch_normalization_80 (BatchN  (None, 5, 5, 512)   2048        ['conv2d_177[0][0]']             \n",
            " ormalization)                                                                                    \n",
            "                                                                                                  \n",
            " add_9 (Add)                    (None, 5, 5, 512)    0           ['activation_73[0][0]',          \n",
            "                                                                  'batch_normalization_80[0][0]'] \n",
            "                                                                                                  \n",
            " activation_76 (Activation)     (None, 5, 5, 512)    0           ['add_9[0][0]']                  \n",
            "                                                                                                  \n",
            " conv2d_178 (Conv2D)            (None, 5, 5, 128)    65664       ['activation_76[0][0]']          \n",
            "                                                                                                  \n",
            " batch_normalization_81 (BatchN  (None, 5, 5, 128)   512         ['conv2d_178[0][0]']             \n",
            " ormalization)                                                                                    \n",
            "                                                                                                  \n",
            " activation_77 (Activation)     (None, 5, 5, 128)    0           ['batch_normalization_81[0][0]'] \n",
            "                                                                                                  \n",
            " conv2d_179 (Conv2D)            (None, 5, 5, 128)    147584      ['activation_77[0][0]']          \n",
            "                                                                                                  \n",
            " batch_normalization_82 (BatchN  (None, 5, 5, 128)   512         ['conv2d_179[0][0]']             \n",
            " ormalization)                                                                                    \n",
            "                                                                                                  \n",
            " activation_78 (Activation)     (None, 5, 5, 128)    0           ['batch_normalization_82[0][0]'] \n",
            "                                                                                                  \n",
            " conv2d_180 (Conv2D)            (None, 5, 5, 512)    66048       ['activation_78[0][0]']          \n",
            "                                                                                                  \n",
            " batch_normalization_83 (BatchN  (None, 5, 5, 512)   2048        ['conv2d_180[0][0]']             \n",
            " ormalization)                                                                                    \n",
            "                                                                                                  \n",
            " add_10 (Add)                   (None, 5, 5, 512)    0           ['activation_76[0][0]',          \n",
            "                                                                  'batch_normalization_83[0][0]'] \n",
            "                                                                                                  \n",
            " activation_79 (Activation)     (None, 5, 5, 512)    0           ['add_10[0][0]']                 \n",
            "                                                                                                  \n",
            " conv2d_181 (Conv2D)            (None, 5, 5, 128)    65664       ['activation_79[0][0]']          \n",
            "                                                                                                  \n",
            " batch_normalization_84 (BatchN  (None, 5, 5, 128)   512         ['conv2d_181[0][0]']             \n",
            " ormalization)                                                                                    \n",
            "                                                                                                  \n",
            " activation_80 (Activation)     (None, 5, 5, 128)    0           ['batch_normalization_84[0][0]'] \n",
            "                                                                                                  \n",
            " conv2d_182 (Conv2D)            (None, 5, 5, 128)    147584      ['activation_80[0][0]']          \n",
            "                                                                                                  \n",
            " batch_normalization_85 (BatchN  (None, 5, 5, 128)   512         ['conv2d_182[0][0]']             \n",
            " ormalization)                                                                                    \n",
            "                                                                                                  \n",
            " activation_81 (Activation)     (None, 5, 5, 128)    0           ['batch_normalization_85[0][0]'] \n",
            "                                                                                                  \n",
            " conv2d_183 (Conv2D)            (None, 5, 5, 512)    66048       ['activation_81[0][0]']          \n",
            "                                                                                                  \n",
            " batch_normalization_86 (BatchN  (None, 5, 5, 512)   2048        ['conv2d_183[0][0]']             \n",
            " ormalization)                                                                                    \n",
            "                                                                                                  \n",
            " add_11 (Add)                   (None, 5, 5, 512)    0           ['activation_79[0][0]',          \n",
            "                                                                  'batch_normalization_86[0][0]'] \n",
            "                                                                                                  \n",
            " activation_82 (Activation)     (None, 5, 5, 512)    0           ['add_11[0][0]']                 \n",
            "                                                                                                  \n",
            " conv2d_184 (Conv2D)            (None, 5, 5, 128)    65664       ['activation_82[0][0]']          \n",
            "                                                                                                  \n",
            " batch_normalization_87 (BatchN  (None, 5, 5, 128)   512         ['conv2d_184[0][0]']             \n",
            " ormalization)                                                                                    \n",
            "                                                                                                  \n",
            " activation_83 (Activation)     (None, 5, 5, 128)    0           ['batch_normalization_87[0][0]'] \n",
            "                                                                                                  \n",
            " conv2d_185 (Conv2D)            (None, 5, 5, 128)    147584      ['activation_83[0][0]']          \n",
            "                                                                                                  \n",
            " batch_normalization_88 (BatchN  (None, 5, 5, 128)   512         ['conv2d_185[0][0]']             \n",
            " ormalization)                                                                                    \n",
            "                                                                                                  \n",
            " activation_84 (Activation)     (None, 5, 5, 128)    0           ['batch_normalization_88[0][0]'] \n",
            "                                                                                                  \n",
            " conv2d_186 (Conv2D)            (None, 5, 5, 512)    66048       ['activation_84[0][0]']          \n",
            "                                                                                                  \n",
            " batch_normalization_89 (BatchN  (None, 5, 5, 512)   2048        ['conv2d_186[0][0]']             \n",
            " ormalization)                                                                                    \n",
            "                                                                                                  \n",
            " add_12 (Add)                   (None, 5, 5, 512)    0           ['activation_82[0][0]',          \n",
            "                                                                  'batch_normalization_89[0][0]'] \n",
            "                                                                                                  \n",
            " activation_85 (Activation)     (None, 5, 5, 512)    0           ['add_12[0][0]']                 \n",
            "                                                                                                  \n",
            " max_pooling2d_84 (MaxPooling2D  (None, 2, 2, 512)   0           ['activation_85[0][0]']          \n",
            " )                                                                                                \n",
            "                                                                                                  \n",
            " conv2d_187 (Conv2D)            (None, 2, 2, 256)    131328      ['max_pooling2d_84[0][0]']       \n",
            "                                                                                                  \n",
            " batch_normalization_90 (BatchN  (None, 2, 2, 256)   1024        ['conv2d_187[0][0]']             \n",
            " ormalization)                                                                                    \n",
            "                                                                                                  \n",
            " activation_86 (Activation)     (None, 2, 2, 256)    0           ['batch_normalization_90[0][0]'] \n",
            "                                                                                                  \n",
            " conv2d_188 (Conv2D)            (None, 2, 2, 256)    590080      ['activation_86[0][0]']          \n",
            "                                                                                                  \n",
            " batch_normalization_91 (BatchN  (None, 2, 2, 256)   1024        ['conv2d_188[0][0]']             \n",
            " ormalization)                                                                                    \n",
            "                                                                                                  \n",
            " activation_87 (Activation)     (None, 2, 2, 256)    0           ['batch_normalization_91[0][0]'] \n",
            "                                                                                                  \n",
            " conv2d_189 (Conv2D)            (None, 2, 2, 1024)   263168      ['activation_87[0][0]']          \n",
            "                                                                                                  \n",
            " batch_normalization_92 (BatchN  (None, 2, 2, 1024)  4096        ['conv2d_189[0][0]']             \n",
            " ormalization)                                                                                    \n",
            "                                                                                                  \n",
            " activation_88 (Activation)     (None, 2, 2, 1024)   0           ['batch_normalization_92[0][0]'] \n",
            "                                                                                                  \n",
            " conv2d_190 (Conv2D)            (None, 2, 2, 256)    262400      ['activation_88[0][0]']          \n",
            "                                                                                                  \n",
            " batch_normalization_93 (BatchN  (None, 2, 2, 256)   1024        ['conv2d_190[0][0]']             \n",
            " ormalization)                                                                                    \n",
            "                                                                                                  \n",
            " activation_89 (Activation)     (None, 2, 2, 256)    0           ['batch_normalization_93[0][0]'] \n",
            "                                                                                                  \n",
            " conv2d_191 (Conv2D)            (None, 2, 2, 256)    590080      ['activation_89[0][0]']          \n",
            "                                                                                                  \n",
            " batch_normalization_94 (BatchN  (None, 2, 2, 256)   1024        ['conv2d_191[0][0]']             \n",
            " ormalization)                                                                                    \n",
            "                                                                                                  \n",
            " activation_90 (Activation)     (None, 2, 2, 256)    0           ['batch_normalization_94[0][0]'] \n",
            "                                                                                                  \n",
            " conv2d_192 (Conv2D)            (None, 2, 2, 1024)   263168      ['activation_90[0][0]']          \n",
            "                                                                                                  \n",
            " batch_normalization_95 (BatchN  (None, 2, 2, 1024)  4096        ['conv2d_192[0][0]']             \n",
            " ormalization)                                                                                    \n",
            "                                                                                                  \n",
            " add_13 (Add)                   (None, 2, 2, 1024)   0           ['activation_88[0][0]',          \n",
            "                                                                  'batch_normalization_95[0][0]'] \n",
            "                                                                                                  \n",
            " activation_91 (Activation)     (None, 2, 2, 1024)   0           ['add_13[0][0]']                 \n",
            "                                                                                                  \n",
            " conv2d_193 (Conv2D)            (None, 2, 2, 256)    262400      ['activation_91[0][0]']          \n",
            "                                                                                                  \n",
            " batch_normalization_96 (BatchN  (None, 2, 2, 256)   1024        ['conv2d_193[0][0]']             \n",
            " ormalization)                                                                                    \n",
            "                                                                                                  \n",
            " activation_92 (Activation)     (None, 2, 2, 256)    0           ['batch_normalization_96[0][0]'] \n",
            "                                                                                                  \n",
            " conv2d_194 (Conv2D)            (None, 2, 2, 256)    590080      ['activation_92[0][0]']          \n",
            "                                                                                                  \n",
            " batch_normalization_97 (BatchN  (None, 2, 2, 256)   1024        ['conv2d_194[0][0]']             \n",
            " ormalization)                                                                                    \n",
            "                                                                                                  \n",
            " activation_93 (Activation)     (None, 2, 2, 256)    0           ['batch_normalization_97[0][0]'] \n",
            "                                                                                                  \n",
            " conv2d_195 (Conv2D)            (None, 2, 2, 1024)   263168      ['activation_93[0][0]']          \n",
            "                                                                                                  \n",
            " batch_normalization_98 (BatchN  (None, 2, 2, 1024)  4096        ['conv2d_195[0][0]']             \n",
            " ormalization)                                                                                    \n",
            "                                                                                                  \n",
            " add_14 (Add)                   (None, 2, 2, 1024)   0           ['activation_91[0][0]',          \n",
            "                                                                  'batch_normalization_98[0][0]'] \n",
            "                                                                                                  \n",
            " activation_94 (Activation)     (None, 2, 2, 1024)   0           ['add_14[0][0]']                 \n",
            "                                                                                                  \n",
            " conv2d_196 (Conv2D)            (None, 2, 2, 256)    262400      ['activation_94[0][0]']          \n",
            "                                                                                                  \n",
            " batch_normalization_99 (BatchN  (None, 2, 2, 256)   1024        ['conv2d_196[0][0]']             \n",
            " ormalization)                                                                                    \n",
            "                                                                                                  \n",
            " activation_95 (Activation)     (None, 2, 2, 256)    0           ['batch_normalization_99[0][0]'] \n",
            "                                                                                                  \n",
            " conv2d_197 (Conv2D)            (None, 2, 2, 256)    590080      ['activation_95[0][0]']          \n",
            "                                                                                                  \n",
            " batch_normalization_100 (Batch  (None, 2, 2, 256)   1024        ['conv2d_197[0][0]']             \n",
            " Normalization)                                                                                   \n",
            "                                                                                                  \n",
            " activation_96 (Activation)     (None, 2, 2, 256)    0           ['batch_normalization_100[0][0]']\n",
            "                                                                                                  \n",
            " conv2d_198 (Conv2D)            (None, 2, 2, 1024)   263168      ['activation_96[0][0]']          \n",
            "                                                                                                  \n",
            " batch_normalization_101 (Batch  (None, 2, 2, 1024)  4096        ['conv2d_198[0][0]']             \n",
            " Normalization)                                                                                   \n",
            "                                                                                                  \n",
            " add_15 (Add)                   (None, 2, 2, 1024)   0           ['activation_94[0][0]',          \n",
            "                                                                  'batch_normalization_101[0][0]']\n",
            "                                                                                                  \n",
            " activation_97 (Activation)     (None, 2, 2, 1024)   0           ['add_15[0][0]']                 \n",
            "                                                                                                  \n",
            " conv2d_199 (Conv2D)            (None, 2, 2, 256)    262400      ['activation_97[0][0]']          \n",
            "                                                                                                  \n",
            " batch_normalization_102 (Batch  (None, 2, 2, 256)   1024        ['conv2d_199[0][0]']             \n",
            " Normalization)                                                                                   \n",
            "                                                                                                  \n",
            " activation_98 (Activation)     (None, 2, 2, 256)    0           ['batch_normalization_102[0][0]']\n",
            "                                                                                                  \n",
            " conv2d_200 (Conv2D)            (None, 2, 2, 256)    590080      ['activation_98[0][0]']          \n",
            "                                                                                                  \n",
            " batch_normalization_103 (Batch  (None, 2, 2, 256)   1024        ['conv2d_200[0][0]']             \n",
            " Normalization)                                                                                   \n",
            "                                                                                                  \n",
            " activation_99 (Activation)     (None, 2, 2, 256)    0           ['batch_normalization_103[0][0]']\n",
            "                                                                                                  \n",
            " conv2d_201 (Conv2D)            (None, 2, 2, 1024)   263168      ['activation_99[0][0]']          \n",
            "                                                                                                  \n",
            " batch_normalization_104 (Batch  (None, 2, 2, 1024)  4096        ['conv2d_201[0][0]']             \n",
            " Normalization)                                                                                   \n",
            "                                                                                                  \n",
            " add_16 (Add)                   (None, 2, 2, 1024)   0           ['activation_97[0][0]',          \n",
            "                                                                  'batch_normalization_104[0][0]']\n",
            "                                                                                                  \n",
            " activation_100 (Activation)    (None, 2, 2, 1024)   0           ['add_16[0][0]']                 \n",
            "                                                                                                  \n",
            " conv2d_202 (Conv2D)            (None, 2, 2, 256)    262400      ['activation_100[0][0]']         \n",
            "                                                                                                  \n",
            " batch_normalization_105 (Batch  (None, 2, 2, 256)   1024        ['conv2d_202[0][0]']             \n",
            " Normalization)                                                                                   \n",
            "                                                                                                  \n",
            " activation_101 (Activation)    (None, 2, 2, 256)    0           ['batch_normalization_105[0][0]']\n",
            "                                                                                                  \n",
            " conv2d_203 (Conv2D)            (None, 2, 2, 256)    590080      ['activation_101[0][0]']         \n",
            "                                                                                                  \n",
            " batch_normalization_106 (Batch  (None, 2, 2, 256)   1024        ['conv2d_203[0][0]']             \n",
            " Normalization)                                                                                   \n",
            "                                                                                                  \n",
            " activation_102 (Activation)    (None, 2, 2, 256)    0           ['batch_normalization_106[0][0]']\n",
            "                                                                                                  \n",
            " conv2d_204 (Conv2D)            (None, 2, 2, 1024)   263168      ['activation_102[0][0]']         \n",
            "                                                                                                  \n",
            " batch_normalization_107 (Batch  (None, 2, 2, 1024)  4096        ['conv2d_204[0][0]']             \n",
            " Normalization)                                                                                   \n",
            "                                                                                                  \n",
            " add_17 (Add)                   (None, 2, 2, 1024)   0           ['activation_100[0][0]',         \n",
            "                                                                  'batch_normalization_107[0][0]']\n",
            "                                                                                                  \n",
            " activation_103 (Activation)    (None, 2, 2, 1024)   0           ['add_17[0][0]']                 \n",
            "                                                                                                  \n",
            " conv2d_205 (Conv2D)            (None, 2, 2, 256)    262400      ['activation_103[0][0]']         \n",
            "                                                                                                  \n",
            " batch_normalization_108 (Batch  (None, 2, 2, 256)   1024        ['conv2d_205[0][0]']             \n",
            " Normalization)                                                                                   \n",
            "                                                                                                  \n",
            " activation_104 (Activation)    (None, 2, 2, 256)    0           ['batch_normalization_108[0][0]']\n",
            "                                                                                                  \n",
            " conv2d_206 (Conv2D)            (None, 2, 2, 256)    590080      ['activation_104[0][0]']         \n",
            "                                                                                                  \n",
            " batch_normalization_109 (Batch  (None, 2, 2, 256)   1024        ['conv2d_206[0][0]']             \n",
            " Normalization)                                                                                   \n",
            "                                                                                                  \n",
            " activation_105 (Activation)    (None, 2, 2, 256)    0           ['batch_normalization_109[0][0]']\n",
            "                                                                                                  \n",
            " conv2d_207 (Conv2D)            (None, 2, 2, 1024)   263168      ['activation_105[0][0]']         \n",
            "                                                                                                  \n",
            " batch_normalization_110 (Batch  (None, 2, 2, 1024)  4096        ['conv2d_207[0][0]']             \n",
            " Normalization)                                                                                   \n",
            "                                                                                                  \n",
            " add_18 (Add)                   (None, 2, 2, 1024)   0           ['activation_103[0][0]',         \n",
            "                                                                  'batch_normalization_110[0][0]']\n",
            "                                                                                                  \n",
            " activation_106 (Activation)    (None, 2, 2, 1024)   0           ['add_18[0][0]']                 \n",
            "                                                                                                  \n",
            " conv2d_208 (Conv2D)            (None, 2, 2, 256)    262400      ['activation_106[0][0]']         \n",
            "                                                                                                  \n",
            " batch_normalization_111 (Batch  (None, 2, 2, 256)   1024        ['conv2d_208[0][0]']             \n",
            " Normalization)                                                                                   \n",
            "                                                                                                  \n",
            " activation_107 (Activation)    (None, 2, 2, 256)    0           ['batch_normalization_111[0][0]']\n",
            "                                                                                                  \n",
            " conv2d_209 (Conv2D)            (None, 2, 2, 256)    590080      ['activation_107[0][0]']         \n",
            "                                                                                                  \n",
            " batch_normalization_112 (Batch  (None, 2, 2, 256)   1024        ['conv2d_209[0][0]']             \n",
            " Normalization)                                                                                   \n",
            "                                                                                                  \n",
            " activation_108 (Activation)    (None, 2, 2, 256)    0           ['batch_normalization_112[0][0]']\n",
            "                                                                                                  \n",
            " conv2d_210 (Conv2D)            (None, 2, 2, 1024)   263168      ['activation_108[0][0]']         \n",
            "                                                                                                  \n",
            " batch_normalization_113 (Batch  (None, 2, 2, 1024)  4096        ['conv2d_210[0][0]']             \n",
            " Normalization)                                                                                   \n",
            "                                                                                                  \n",
            " add_19 (Add)                   (None, 2, 2, 1024)   0           ['activation_106[0][0]',         \n",
            "                                                                  'batch_normalization_113[0][0]']\n",
            "                                                                                                  \n",
            " activation_109 (Activation)    (None, 2, 2, 1024)   0           ['add_19[0][0]']                 \n",
            "                                                                                                  \n",
            " conv2d_211 (Conv2D)            (None, 2, 2, 256)    262400      ['activation_109[0][0]']         \n",
            "                                                                                                  \n",
            " batch_normalization_114 (Batch  (None, 2, 2, 256)   1024        ['conv2d_211[0][0]']             \n",
            " Normalization)                                                                                   \n",
            "                                                                                                  \n",
            " activation_110 (Activation)    (None, 2, 2, 256)    0           ['batch_normalization_114[0][0]']\n",
            "                                                                                                  \n",
            " conv2d_212 (Conv2D)            (None, 2, 2, 256)    590080      ['activation_110[0][0]']         \n",
            "                                                                                                  \n",
            " batch_normalization_115 (Batch  (None, 2, 2, 256)   1024        ['conv2d_212[0][0]']             \n",
            " Normalization)                                                                                   \n",
            "                                                                                                  \n",
            " activation_111 (Activation)    (None, 2, 2, 256)    0           ['batch_normalization_115[0][0]']\n",
            "                                                                                                  \n",
            " conv2d_213 (Conv2D)            (None, 2, 2, 1024)   263168      ['activation_111[0][0]']         \n",
            "                                                                                                  \n",
            " batch_normalization_116 (Batch  (None, 2, 2, 1024)  4096        ['conv2d_213[0][0]']             \n",
            " Normalization)                                                                                   \n",
            "                                                                                                  \n",
            " add_20 (Add)                   (None, 2, 2, 1024)   0           ['activation_109[0][0]',         \n",
            "                                                                  'batch_normalization_116[0][0]']\n",
            "                                                                                                  \n",
            " activation_112 (Activation)    (None, 2, 2, 1024)   0           ['add_20[0][0]']                 \n",
            "                                                                                                  \n",
            " conv2d_214 (Conv2D)            (None, 2, 2, 256)    262400      ['activation_112[0][0]']         \n",
            "                                                                                                  \n",
            " batch_normalization_117 (Batch  (None, 2, 2, 256)   1024        ['conv2d_214[0][0]']             \n",
            " Normalization)                                                                                   \n",
            "                                                                                                  \n",
            " activation_113 (Activation)    (None, 2, 2, 256)    0           ['batch_normalization_117[0][0]']\n",
            "                                                                                                  \n",
            " conv2d_215 (Conv2D)            (None, 2, 2, 256)    590080      ['activation_113[0][0]']         \n",
            "                                                                                                  \n",
            " batch_normalization_118 (Batch  (None, 2, 2, 256)   1024        ['conv2d_215[0][0]']             \n",
            " Normalization)                                                                                   \n",
            "                                                                                                  \n",
            " activation_114 (Activation)    (None, 2, 2, 256)    0           ['batch_normalization_118[0][0]']\n",
            "                                                                                                  \n",
            " conv2d_216 (Conv2D)            (None, 2, 2, 1024)   263168      ['activation_114[0][0]']         \n",
            "                                                                                                  \n",
            " batch_normalization_119 (Batch  (None, 2, 2, 1024)  4096        ['conv2d_216[0][0]']             \n",
            " Normalization)                                                                                   \n",
            "                                                                                                  \n",
            " add_21 (Add)                   (None, 2, 2, 1024)   0           ['activation_112[0][0]',         \n",
            "                                                                  'batch_normalization_119[0][0]']\n",
            "                                                                                                  \n",
            " activation_115 (Activation)    (None, 2, 2, 1024)   0           ['add_21[0][0]']                 \n",
            "                                                                                                  \n",
            " conv2d_217 (Conv2D)            (None, 2, 2, 256)    262400      ['activation_115[0][0]']         \n",
            "                                                                                                  \n",
            " batch_normalization_120 (Batch  (None, 2, 2, 256)   1024        ['conv2d_217[0][0]']             \n",
            " Normalization)                                                                                   \n",
            "                                                                                                  \n",
            " activation_116 (Activation)    (None, 2, 2, 256)    0           ['batch_normalization_120[0][0]']\n",
            "                                                                                                  \n",
            " conv2d_218 (Conv2D)            (None, 2, 2, 256)    590080      ['activation_116[0][0]']         \n",
            "                                                                                                  \n",
            " batch_normalization_121 (Batch  (None, 2, 2, 256)   1024        ['conv2d_218[0][0]']             \n",
            " Normalization)                                                                                   \n",
            "                                                                                                  \n",
            " activation_117 (Activation)    (None, 2, 2, 256)    0           ['batch_normalization_121[0][0]']\n",
            "                                                                                                  \n",
            " conv2d_219 (Conv2D)            (None, 2, 2, 1024)   263168      ['activation_117[0][0]']         \n",
            "                                                                                                  \n",
            " batch_normalization_122 (Batch  (None, 2, 2, 1024)  4096        ['conv2d_219[0][0]']             \n",
            " Normalization)                                                                                   \n",
            "                                                                                                  \n",
            " add_22 (Add)                   (None, 2, 2, 1024)   0           ['activation_115[0][0]',         \n",
            "                                                                  'batch_normalization_122[0][0]']\n",
            "                                                                                                  \n",
            " activation_118 (Activation)    (None, 2, 2, 1024)   0           ['add_22[0][0]']                 \n",
            "                                                                                                  \n",
            " conv2d_220 (Conv2D)            (None, 2, 2, 256)    262400      ['activation_118[0][0]']         \n",
            "                                                                                                  \n",
            " batch_normalization_123 (Batch  (None, 2, 2, 256)   1024        ['conv2d_220[0][0]']             \n",
            " Normalization)                                                                                   \n",
            "                                                                                                  \n",
            " activation_119 (Activation)    (None, 2, 2, 256)    0           ['batch_normalization_123[0][0]']\n",
            "                                                                                                  \n",
            " conv2d_221 (Conv2D)            (None, 2, 2, 256)    590080      ['activation_119[0][0]']         \n",
            "                                                                                                  \n",
            " batch_normalization_124 (Batch  (None, 2, 2, 256)   1024        ['conv2d_221[0][0]']             \n",
            " Normalization)                                                                                   \n",
            "                                                                                                  \n",
            " activation_120 (Activation)    (None, 2, 2, 256)    0           ['batch_normalization_124[0][0]']\n",
            "                                                                                                  \n",
            " conv2d_222 (Conv2D)            (None, 2, 2, 1024)   263168      ['activation_120[0][0]']         \n",
            "                                                                                                  \n",
            " batch_normalization_125 (Batch  (None, 2, 2, 1024)  4096        ['conv2d_222[0][0]']             \n",
            " Normalization)                                                                                   \n",
            "                                                                                                  \n",
            " add_23 (Add)                   (None, 2, 2, 1024)   0           ['activation_118[0][0]',         \n",
            "                                                                  'batch_normalization_125[0][0]']\n",
            "                                                                                                  \n",
            " activation_121 (Activation)    (None, 2, 2, 1024)   0           ['add_23[0][0]']                 \n",
            "                                                                                                  \n",
            " conv2d_223 (Conv2D)            (None, 2, 2, 256)    262400      ['activation_121[0][0]']         \n",
            "                                                                                                  \n",
            " batch_normalization_126 (Batch  (None, 2, 2, 256)   1024        ['conv2d_223[0][0]']             \n",
            " Normalization)                                                                                   \n",
            "                                                                                                  \n",
            " activation_122 (Activation)    (None, 2, 2, 256)    0           ['batch_normalization_126[0][0]']\n",
            "                                                                                                  \n",
            " conv2d_224 (Conv2D)            (None, 2, 2, 256)    590080      ['activation_122[0][0]']         \n",
            "                                                                                                  \n",
            " batch_normalization_127 (Batch  (None, 2, 2, 256)   1024        ['conv2d_224[0][0]']             \n",
            " Normalization)                                                                                   \n",
            "                                                                                                  \n",
            " activation_123 (Activation)    (None, 2, 2, 256)    0           ['batch_normalization_127[0][0]']\n",
            "                                                                                                  \n",
            " conv2d_225 (Conv2D)            (None, 2, 2, 1024)   263168      ['activation_123[0][0]']         \n",
            "                                                                                                  \n",
            " batch_normalization_128 (Batch  (None, 2, 2, 1024)  4096        ['conv2d_225[0][0]']             \n",
            " Normalization)                                                                                   \n",
            "                                                                                                  \n",
            " add_24 (Add)                   (None, 2, 2, 1024)   0           ['activation_121[0][0]',         \n",
            "                                                                  'batch_normalization_128[0][0]']\n",
            "                                                                                                  \n",
            " activation_124 (Activation)    (None, 2, 2, 1024)   0           ['add_24[0][0]']                 \n",
            "                                                                                                  \n",
            " conv2d_226 (Conv2D)            (None, 2, 2, 256)    262400      ['activation_124[0][0]']         \n",
            "                                                                                                  \n",
            " batch_normalization_129 (Batch  (None, 2, 2, 256)   1024        ['conv2d_226[0][0]']             \n",
            " Normalization)                                                                                   \n",
            "                                                                                                  \n",
            " activation_125 (Activation)    (None, 2, 2, 256)    0           ['batch_normalization_129[0][0]']\n",
            "                                                                                                  \n",
            " conv2d_227 (Conv2D)            (None, 2, 2, 256)    590080      ['activation_125[0][0]']         \n",
            "                                                                                                  \n",
            " batch_normalization_130 (Batch  (None, 2, 2, 256)   1024        ['conv2d_227[0][0]']             \n",
            " Normalization)                                                                                   \n",
            "                                                                                                  \n",
            " activation_126 (Activation)    (None, 2, 2, 256)    0           ['batch_normalization_130[0][0]']\n",
            "                                                                                                  \n",
            " conv2d_228 (Conv2D)            (None, 2, 2, 1024)   263168      ['activation_126[0][0]']         \n",
            "                                                                                                  \n",
            " batch_normalization_131 (Batch  (None, 2, 2, 1024)  4096        ['conv2d_228[0][0]']             \n",
            " Normalization)                                                                                   \n",
            "                                                                                                  \n",
            " add_25 (Add)                   (None, 2, 2, 1024)   0           ['activation_124[0][0]',         \n",
            "                                                                  'batch_normalization_131[0][0]']\n",
            "                                                                                                  \n",
            " activation_127 (Activation)    (None, 2, 2, 1024)   0           ['add_25[0][0]']                 \n",
            "                                                                                                  \n",
            " conv2d_229 (Conv2D)            (None, 2, 2, 256)    262400      ['activation_127[0][0]']         \n",
            "                                                                                                  \n",
            " batch_normalization_132 (Batch  (None, 2, 2, 256)   1024        ['conv2d_229[0][0]']             \n",
            " Normalization)                                                                                   \n",
            "                                                                                                  \n",
            " activation_128 (Activation)    (None, 2, 2, 256)    0           ['batch_normalization_132[0][0]']\n",
            "                                                                                                  \n",
            " conv2d_230 (Conv2D)            (None, 2, 2, 256)    590080      ['activation_128[0][0]']         \n",
            "                                                                                                  \n",
            " batch_normalization_133 (Batch  (None, 2, 2, 256)   1024        ['conv2d_230[0][0]']             \n",
            " Normalization)                                                                                   \n",
            "                                                                                                  \n",
            " activation_129 (Activation)    (None, 2, 2, 256)    0           ['batch_normalization_133[0][0]']\n",
            "                                                                                                  \n",
            " conv2d_231 (Conv2D)            (None, 2, 2, 1024)   263168      ['activation_129[0][0]']         \n",
            "                                                                                                  \n",
            " batch_normalization_134 (Batch  (None, 2, 2, 1024)  4096        ['conv2d_231[0][0]']             \n",
            " Normalization)                                                                                   \n",
            "                                                                                                  \n",
            " add_26 (Add)                   (None, 2, 2, 1024)   0           ['activation_127[0][0]',         \n",
            "                                                                  'batch_normalization_134[0][0]']\n",
            "                                                                                                  \n",
            " activation_130 (Activation)    (None, 2, 2, 1024)   0           ['add_26[0][0]']                 \n",
            "                                                                                                  \n",
            " conv2d_232 (Conv2D)            (None, 2, 2, 256)    262400      ['activation_130[0][0]']         \n",
            "                                                                                                  \n",
            " batch_normalization_135 (Batch  (None, 2, 2, 256)   1024        ['conv2d_232[0][0]']             \n",
            " Normalization)                                                                                   \n",
            "                                                                                                  \n",
            " activation_131 (Activation)    (None, 2, 2, 256)    0           ['batch_normalization_135[0][0]']\n",
            "                                                                                                  \n",
            " conv2d_233 (Conv2D)            (None, 2, 2, 256)    590080      ['activation_131[0][0]']         \n",
            "                                                                                                  \n",
            " batch_normalization_136 (Batch  (None, 2, 2, 256)   1024        ['conv2d_233[0][0]']             \n",
            " Normalization)                                                                                   \n",
            "                                                                                                  \n",
            " activation_132 (Activation)    (None, 2, 2, 256)    0           ['batch_normalization_136[0][0]']\n",
            "                                                                                                  \n",
            " conv2d_234 (Conv2D)            (None, 2, 2, 1024)   263168      ['activation_132[0][0]']         \n",
            "                                                                                                  \n",
            " batch_normalization_137 (Batch  (None, 2, 2, 1024)  4096        ['conv2d_234[0][0]']             \n",
            " Normalization)                                                                                   \n",
            "                                                                                                  \n",
            " add_27 (Add)                   (None, 2, 2, 1024)   0           ['activation_130[0][0]',         \n",
            "                                                                  'batch_normalization_137[0][0]']\n",
            "                                                                                                  \n",
            " activation_133 (Activation)    (None, 2, 2, 1024)   0           ['add_27[0][0]']                 \n",
            "                                                                                                  \n",
            " conv2d_235 (Conv2D)            (None, 2, 2, 256)    262400      ['activation_133[0][0]']         \n",
            "                                                                                                  \n",
            " batch_normalization_138 (Batch  (None, 2, 2, 256)   1024        ['conv2d_235[0][0]']             \n",
            " Normalization)                                                                                   \n",
            "                                                                                                  \n",
            " activation_134 (Activation)    (None, 2, 2, 256)    0           ['batch_normalization_138[0][0]']\n",
            "                                                                                                  \n",
            " conv2d_236 (Conv2D)            (None, 2, 2, 256)    590080      ['activation_134[0][0]']         \n",
            "                                                                                                  \n",
            " batch_normalization_139 (Batch  (None, 2, 2, 256)   1024        ['conv2d_236[0][0]']             \n",
            " Normalization)                                                                                   \n",
            "                                                                                                  \n",
            " activation_135 (Activation)    (None, 2, 2, 256)    0           ['batch_normalization_139[0][0]']\n",
            "                                                                                                  \n",
            " conv2d_237 (Conv2D)            (None, 2, 2, 1024)   263168      ['activation_135[0][0]']         \n",
            "                                                                                                  \n",
            " batch_normalization_140 (Batch  (None, 2, 2, 1024)  4096        ['conv2d_237[0][0]']             \n",
            " Normalization)                                                                                   \n",
            "                                                                                                  \n",
            " add_28 (Add)                   (None, 2, 2, 1024)   0           ['activation_133[0][0]',         \n",
            "                                                                  'batch_normalization_140[0][0]']\n",
            "                                                                                                  \n",
            " activation_136 (Activation)    (None, 2, 2, 1024)   0           ['add_28[0][0]']                 \n",
            "                                                                                                  \n",
            " conv2d_238 (Conv2D)            (None, 2, 2, 256)    262400      ['activation_136[0][0]']         \n",
            "                                                                                                  \n",
            " batch_normalization_141 (Batch  (None, 2, 2, 256)   1024        ['conv2d_238[0][0]']             \n",
            " Normalization)                                                                                   \n",
            "                                                                                                  \n",
            " activation_137 (Activation)    (None, 2, 2, 256)    0           ['batch_normalization_141[0][0]']\n",
            "                                                                                                  \n",
            " conv2d_239 (Conv2D)            (None, 2, 2, 256)    590080      ['activation_137[0][0]']         \n",
            "                                                                                                  \n",
            " batch_normalization_142 (Batch  (None, 2, 2, 256)   1024        ['conv2d_239[0][0]']             \n",
            " Normalization)                                                                                   \n",
            "                                                                                                  \n",
            " activation_138 (Activation)    (None, 2, 2, 256)    0           ['batch_normalization_142[0][0]']\n",
            "                                                                                                  \n",
            " conv2d_240 (Conv2D)            (None, 2, 2, 1024)   263168      ['activation_138[0][0]']         \n",
            "                                                                                                  \n",
            " batch_normalization_143 (Batch  (None, 2, 2, 1024)  4096        ['conv2d_240[0][0]']             \n",
            " Normalization)                                                                                   \n",
            "                                                                                                  \n",
            " add_29 (Add)                   (None, 2, 2, 1024)   0           ['activation_136[0][0]',         \n",
            "                                                                  'batch_normalization_143[0][0]']\n",
            "                                                                                                  \n",
            " activation_139 (Activation)    (None, 2, 2, 1024)   0           ['add_29[0][0]']                 \n",
            "                                                                                                  \n",
            " conv2d_241 (Conv2D)            (None, 2, 2, 256)    262400      ['activation_139[0][0]']         \n",
            "                                                                                                  \n",
            " batch_normalization_144 (Batch  (None, 2, 2, 256)   1024        ['conv2d_241[0][0]']             \n",
            " Normalization)                                                                                   \n",
            "                                                                                                  \n",
            " activation_140 (Activation)    (None, 2, 2, 256)    0           ['batch_normalization_144[0][0]']\n",
            "                                                                                                  \n",
            " conv2d_242 (Conv2D)            (None, 2, 2, 256)    590080      ['activation_140[0][0]']         \n",
            "                                                                                                  \n",
            " batch_normalization_145 (Batch  (None, 2, 2, 256)   1024        ['conv2d_242[0][0]']             \n",
            " Normalization)                                                                                   \n",
            "                                                                                                  \n",
            " activation_141 (Activation)    (None, 2, 2, 256)    0           ['batch_normalization_145[0][0]']\n",
            "                                                                                                  \n",
            " conv2d_243 (Conv2D)            (None, 2, 2, 1024)   263168      ['activation_141[0][0]']         \n",
            "                                                                                                  \n",
            " batch_normalization_146 (Batch  (None, 2, 2, 1024)  4096        ['conv2d_243[0][0]']             \n",
            " Normalization)                                                                                   \n",
            "                                                                                                  \n",
            " add_30 (Add)                   (None, 2, 2, 1024)   0           ['activation_139[0][0]',         \n",
            "                                                                  'batch_normalization_146[0][0]']\n",
            "                                                                                                  \n",
            " activation_142 (Activation)    (None, 2, 2, 1024)   0           ['add_30[0][0]']                 \n",
            "                                                                                                  \n",
            " conv2d_244 (Conv2D)            (None, 2, 2, 256)    262400      ['activation_142[0][0]']         \n",
            "                                                                                                  \n",
            " batch_normalization_147 (Batch  (None, 2, 2, 256)   1024        ['conv2d_244[0][0]']             \n",
            " Normalization)                                                                                   \n",
            "                                                                                                  \n",
            " activation_143 (Activation)    (None, 2, 2, 256)    0           ['batch_normalization_147[0][0]']\n",
            "                                                                                                  \n",
            " conv2d_245 (Conv2D)            (None, 2, 2, 256)    590080      ['activation_143[0][0]']         \n",
            "                                                                                                  \n",
            " batch_normalization_148 (Batch  (None, 2, 2, 256)   1024        ['conv2d_245[0][0]']             \n",
            " Normalization)                                                                                   \n",
            "                                                                                                  \n",
            " activation_144 (Activation)    (None, 2, 2, 256)    0           ['batch_normalization_148[0][0]']\n",
            "                                                                                                  \n",
            " conv2d_246 (Conv2D)            (None, 2, 2, 1024)   263168      ['activation_144[0][0]']         \n",
            "                                                                                                  \n",
            " batch_normalization_149 (Batch  (None, 2, 2, 1024)  4096        ['conv2d_246[0][0]']             \n",
            " Normalization)                                                                                   \n",
            "                                                                                                  \n",
            " add_31 (Add)                   (None, 2, 2, 1024)   0           ['activation_142[0][0]',         \n",
            "                                                                  'batch_normalization_149[0][0]']\n",
            "                                                                                                  \n",
            " activation_145 (Activation)    (None, 2, 2, 1024)   0           ['add_31[0][0]']                 \n",
            "                                                                                                  \n",
            " conv2d_247 (Conv2D)            (None, 2, 2, 256)    262400      ['activation_145[0][0]']         \n",
            "                                                                                                  \n",
            " batch_normalization_150 (Batch  (None, 2, 2, 256)   1024        ['conv2d_247[0][0]']             \n",
            " Normalization)                                                                                   \n",
            "                                                                                                  \n",
            " activation_146 (Activation)    (None, 2, 2, 256)    0           ['batch_normalization_150[0][0]']\n",
            "                                                                                                  \n",
            " conv2d_248 (Conv2D)            (None, 2, 2, 256)    590080      ['activation_146[0][0]']         \n",
            "                                                                                                  \n",
            " batch_normalization_151 (Batch  (None, 2, 2, 256)   1024        ['conv2d_248[0][0]']             \n",
            " Normalization)                                                                                   \n",
            "                                                                                                  \n",
            " activation_147 (Activation)    (None, 2, 2, 256)    0           ['batch_normalization_151[0][0]']\n",
            "                                                                                                  \n",
            " conv2d_249 (Conv2D)            (None, 2, 2, 1024)   263168      ['activation_147[0][0]']         \n",
            "                                                                                                  \n",
            " batch_normalization_152 (Batch  (None, 2, 2, 1024)  4096        ['conv2d_249[0][0]']             \n",
            " Normalization)                                                                                   \n",
            "                                                                                                  \n",
            " add_32 (Add)                   (None, 2, 2, 1024)   0           ['activation_145[0][0]',         \n",
            "                                                                  'batch_normalization_152[0][0]']\n",
            "                                                                                                  \n",
            " activation_148 (Activation)    (None, 2, 2, 1024)   0           ['add_32[0][0]']                 \n",
            "                                                                                                  \n",
            " conv2d_250 (Conv2D)            (None, 2, 2, 256)    262400      ['activation_148[0][0]']         \n",
            "                                                                                                  \n",
            " batch_normalization_153 (Batch  (None, 2, 2, 256)   1024        ['conv2d_250[0][0]']             \n",
            " Normalization)                                                                                   \n",
            "                                                                                                  \n",
            " activation_149 (Activation)    (None, 2, 2, 256)    0           ['batch_normalization_153[0][0]']\n",
            "                                                                                                  \n",
            " conv2d_251 (Conv2D)            (None, 2, 2, 256)    590080      ['activation_149[0][0]']         \n",
            "                                                                                                  \n",
            " batch_normalization_154 (Batch  (None, 2, 2, 256)   1024        ['conv2d_251[0][0]']             \n",
            " Normalization)                                                                                   \n",
            "                                                                                                  \n",
            " activation_150 (Activation)    (None, 2, 2, 256)    0           ['batch_normalization_154[0][0]']\n",
            "                                                                                                  \n",
            " conv2d_252 (Conv2D)            (None, 2, 2, 1024)   263168      ['activation_150[0][0]']         \n",
            "                                                                                                  \n",
            " batch_normalization_155 (Batch  (None, 2, 2, 1024)  4096        ['conv2d_252[0][0]']             \n",
            " Normalization)                                                                                   \n",
            "                                                                                                  \n",
            " add_33 (Add)                   (None, 2, 2, 1024)   0           ['activation_148[0][0]',         \n",
            "                                                                  'batch_normalization_155[0][0]']\n",
            "                                                                                                  \n",
            " activation_151 (Activation)    (None, 2, 2, 1024)   0           ['add_33[0][0]']                 \n",
            "                                                                                                  \n",
            " conv2d_253 (Conv2D)            (None, 2, 2, 256)    262400      ['activation_151[0][0]']         \n",
            "                                                                                                  \n",
            " batch_normalization_156 (Batch  (None, 2, 2, 256)   1024        ['conv2d_253[0][0]']             \n",
            " Normalization)                                                                                   \n",
            "                                                                                                  \n",
            " activation_152 (Activation)    (None, 2, 2, 256)    0           ['batch_normalization_156[0][0]']\n",
            "                                                                                                  \n",
            " conv2d_254 (Conv2D)            (None, 2, 2, 256)    590080      ['activation_152[0][0]']         \n",
            "                                                                                                  \n",
            " batch_normalization_157 (Batch  (None, 2, 2, 256)   1024        ['conv2d_254[0][0]']             \n",
            " Normalization)                                                                                   \n",
            "                                                                                                  \n",
            " activation_153 (Activation)    (None, 2, 2, 256)    0           ['batch_normalization_157[0][0]']\n",
            "                                                                                                  \n",
            " conv2d_255 (Conv2D)            (None, 2, 2, 1024)   263168      ['activation_153[0][0]']         \n",
            "                                                                                                  \n",
            " batch_normalization_158 (Batch  (None, 2, 2, 1024)  4096        ['conv2d_255[0][0]']             \n",
            " Normalization)                                                                                   \n",
            "                                                                                                  \n",
            " add_34 (Add)                   (None, 2, 2, 1024)   0           ['activation_151[0][0]',         \n",
            "                                                                  'batch_normalization_158[0][0]']\n",
            "                                                                                                  \n",
            " activation_154 (Activation)    (None, 2, 2, 1024)   0           ['add_34[0][0]']                 \n",
            "                                                                                                  \n",
            " conv2d_256 (Conv2D)            (None, 2, 2, 256)    262400      ['activation_154[0][0]']         \n",
            "                                                                                                  \n",
            " batch_normalization_159 (Batch  (None, 2, 2, 256)   1024        ['conv2d_256[0][0]']             \n",
            " Normalization)                                                                                   \n",
            "                                                                                                  \n",
            " activation_155 (Activation)    (None, 2, 2, 256)    0           ['batch_normalization_159[0][0]']\n",
            "                                                                                                  \n",
            " conv2d_257 (Conv2D)            (None, 2, 2, 256)    590080      ['activation_155[0][0]']         \n",
            "                                                                                                  \n",
            " batch_normalization_160 (Batch  (None, 2, 2, 256)   1024        ['conv2d_257[0][0]']             \n",
            " Normalization)                                                                                   \n",
            "                                                                                                  \n",
            " activation_156 (Activation)    (None, 2, 2, 256)    0           ['batch_normalization_160[0][0]']\n",
            "                                                                                                  \n",
            " conv2d_258 (Conv2D)            (None, 2, 2, 1024)   263168      ['activation_156[0][0]']         \n",
            "                                                                                                  \n",
            " batch_normalization_161 (Batch  (None, 2, 2, 1024)  4096        ['conv2d_258[0][0]']             \n",
            " Normalization)                                                                                   \n",
            "                                                                                                  \n",
            " add_35 (Add)                   (None, 2, 2, 1024)   0           ['activation_154[0][0]',         \n",
            "                                                                  'batch_normalization_161[0][0]']\n",
            "                                                                                                  \n",
            " activation_157 (Activation)    (None, 2, 2, 1024)   0           ['add_35[0][0]']                 \n",
            "                                                                                                  \n",
            " conv2d_259 (Conv2D)            (None, 2, 2, 256)    262400      ['activation_157[0][0]']         \n",
            "                                                                                                  \n",
            " batch_normalization_162 (Batch  (None, 2, 2, 256)   1024        ['conv2d_259[0][0]']             \n",
            " Normalization)                                                                                   \n",
            "                                                                                                  \n",
            " activation_158 (Activation)    (None, 2, 2, 256)    0           ['batch_normalization_162[0][0]']\n",
            "                                                                                                  \n",
            " conv2d_260 (Conv2D)            (None, 2, 2, 256)    590080      ['activation_158[0][0]']         \n",
            "                                                                                                  \n",
            " batch_normalization_163 (Batch  (None, 2, 2, 256)   1024        ['conv2d_260[0][0]']             \n",
            " Normalization)                                                                                   \n",
            "                                                                                                  \n",
            " activation_159 (Activation)    (None, 2, 2, 256)    0           ['batch_normalization_163[0][0]']\n",
            "                                                                                                  \n",
            " conv2d_261 (Conv2D)            (None, 2, 2, 1024)   263168      ['activation_159[0][0]']         \n",
            "                                                                                                  \n",
            " batch_normalization_164 (Batch  (None, 2, 2, 1024)  4096        ['conv2d_261[0][0]']             \n",
            " Normalization)                                                                                   \n",
            "                                                                                                  \n",
            " add_36 (Add)                   (None, 2, 2, 1024)   0           ['activation_157[0][0]',         \n",
            "                                                                  'batch_normalization_164[0][0]']\n",
            "                                                                                                  \n",
            " activation_160 (Activation)    (None, 2, 2, 1024)   0           ['add_36[0][0]']                 \n",
            "                                                                                                  \n",
            " conv2d_262 (Conv2D)            (None, 2, 2, 256)    262400      ['activation_160[0][0]']         \n",
            "                                                                                                  \n",
            " batch_normalization_165 (Batch  (None, 2, 2, 256)   1024        ['conv2d_262[0][0]']             \n",
            " Normalization)                                                                                   \n",
            "                                                                                                  \n",
            " activation_161 (Activation)    (None, 2, 2, 256)    0           ['batch_normalization_165[0][0]']\n",
            "                                                                                                  \n",
            " conv2d_263 (Conv2D)            (None, 2, 2, 256)    590080      ['activation_161[0][0]']         \n",
            "                                                                                                  \n",
            " batch_normalization_166 (Batch  (None, 2, 2, 256)   1024        ['conv2d_263[0][0]']             \n",
            " Normalization)                                                                                   \n",
            "                                                                                                  \n",
            " activation_162 (Activation)    (None, 2, 2, 256)    0           ['batch_normalization_166[0][0]']\n",
            "                                                                                                  \n",
            " conv2d_264 (Conv2D)            (None, 2, 2, 1024)   263168      ['activation_162[0][0]']         \n",
            "                                                                                                  \n",
            " batch_normalization_167 (Batch  (None, 2, 2, 1024)  4096        ['conv2d_264[0][0]']             \n",
            " Normalization)                                                                                   \n",
            "                                                                                                  \n",
            " add_37 (Add)                   (None, 2, 2, 1024)   0           ['activation_160[0][0]',         \n",
            "                                                                  'batch_normalization_167[0][0]']\n",
            "                                                                                                  \n",
            " activation_163 (Activation)    (None, 2, 2, 1024)   0           ['add_37[0][0]']                 \n",
            "                                                                                                  \n",
            " conv2d_265 (Conv2D)            (None, 2, 2, 256)    262400      ['activation_163[0][0]']         \n",
            "                                                                                                  \n",
            " batch_normalization_168 (Batch  (None, 2, 2, 256)   1024        ['conv2d_265[0][0]']             \n",
            " Normalization)                                                                                   \n",
            "                                                                                                  \n",
            " activation_164 (Activation)    (None, 2, 2, 256)    0           ['batch_normalization_168[0][0]']\n",
            "                                                                                                  \n",
            " conv2d_266 (Conv2D)            (None, 2, 2, 256)    590080      ['activation_164[0][0]']         \n",
            "                                                                                                  \n",
            " batch_normalization_169 (Batch  (None, 2, 2, 256)   1024        ['conv2d_266[0][0]']             \n",
            " Normalization)                                                                                   \n",
            "                                                                                                  \n",
            " activation_165 (Activation)    (None, 2, 2, 256)    0           ['batch_normalization_169[0][0]']\n",
            "                                                                                                  \n",
            " conv2d_267 (Conv2D)            (None, 2, 2, 1024)   263168      ['activation_165[0][0]']         \n",
            "                                                                                                  \n",
            " batch_normalization_170 (Batch  (None, 2, 2, 1024)  4096        ['conv2d_267[0][0]']             \n",
            " Normalization)                                                                                   \n",
            "                                                                                                  \n",
            " add_38 (Add)                   (None, 2, 2, 1024)   0           ['activation_163[0][0]',         \n",
            "                                                                  'batch_normalization_170[0][0]']\n",
            "                                                                                                  \n",
            " activation_166 (Activation)    (None, 2, 2, 1024)   0           ['add_38[0][0]']                 \n",
            "                                                                                                  \n",
            " conv2d_268 (Conv2D)            (None, 2, 2, 256)    262400      ['activation_166[0][0]']         \n",
            "                                                                                                  \n",
            " batch_normalization_171 (Batch  (None, 2, 2, 256)   1024        ['conv2d_268[0][0]']             \n",
            " Normalization)                                                                                   \n",
            "                                                                                                  \n",
            " activation_167 (Activation)    (None, 2, 2, 256)    0           ['batch_normalization_171[0][0]']\n",
            "                                                                                                  \n",
            " conv2d_269 (Conv2D)            (None, 2, 2, 256)    590080      ['activation_167[0][0]']         \n",
            "                                                                                                  \n",
            " batch_normalization_172 (Batch  (None, 2, 2, 256)   1024        ['conv2d_269[0][0]']             \n",
            " Normalization)                                                                                   \n",
            "                                                                                                  \n",
            " activation_168 (Activation)    (None, 2, 2, 256)    0           ['batch_normalization_172[0][0]']\n",
            "                                                                                                  \n",
            " conv2d_270 (Conv2D)            (None, 2, 2, 1024)   263168      ['activation_168[0][0]']         \n",
            "                                                                                                  \n",
            " batch_normalization_173 (Batch  (None, 2, 2, 1024)  4096        ['conv2d_270[0][0]']             \n",
            " Normalization)                                                                                   \n",
            "                                                                                                  \n",
            " add_39 (Add)                   (None, 2, 2, 1024)   0           ['activation_166[0][0]',         \n",
            "                                                                  'batch_normalization_173[0][0]']\n",
            "                                                                                                  \n",
            " activation_169 (Activation)    (None, 2, 2, 1024)   0           ['add_39[0][0]']                 \n",
            "                                                                                                  \n",
            " conv2d_271 (Conv2D)            (None, 2, 2, 256)    262400      ['activation_169[0][0]']         \n",
            "                                                                                                  \n",
            " batch_normalization_174 (Batch  (None, 2, 2, 256)   1024        ['conv2d_271[0][0]']             \n",
            " Normalization)                                                                                   \n",
            "                                                                                                  \n",
            " activation_170 (Activation)    (None, 2, 2, 256)    0           ['batch_normalization_174[0][0]']\n",
            "                                                                                                  \n",
            " conv2d_272 (Conv2D)            (None, 2, 2, 256)    590080      ['activation_170[0][0]']         \n",
            "                                                                                                  \n",
            " batch_normalization_175 (Batch  (None, 2, 2, 256)   1024        ['conv2d_272[0][0]']             \n",
            " Normalization)                                                                                   \n",
            "                                                                                                  \n",
            " activation_171 (Activation)    (None, 2, 2, 256)    0           ['batch_normalization_175[0][0]']\n",
            "                                                                                                  \n",
            " conv2d_273 (Conv2D)            (None, 2, 2, 1024)   263168      ['activation_171[0][0]']         \n",
            "                                                                                                  \n",
            " batch_normalization_176 (Batch  (None, 2, 2, 1024)  4096        ['conv2d_273[0][0]']             \n",
            " Normalization)                                                                                   \n",
            "                                                                                                  \n",
            " add_40 (Add)                   (None, 2, 2, 1024)   0           ['activation_169[0][0]',         \n",
            "                                                                  'batch_normalization_176[0][0]']\n",
            "                                                                                                  \n",
            " activation_172 (Activation)    (None, 2, 2, 1024)   0           ['add_40[0][0]']                 \n",
            "                                                                                                  \n",
            " conv2d_274 (Conv2D)            (None, 2, 2, 256)    262400      ['activation_172[0][0]']         \n",
            "                                                                                                  \n",
            " batch_normalization_177 (Batch  (None, 2, 2, 256)   1024        ['conv2d_274[0][0]']             \n",
            " Normalization)                                                                                   \n",
            "                                                                                                  \n",
            " activation_173 (Activation)    (None, 2, 2, 256)    0           ['batch_normalization_177[0][0]']\n",
            "                                                                                                  \n",
            " conv2d_275 (Conv2D)            (None, 2, 2, 256)    590080      ['activation_173[0][0]']         \n",
            "                                                                                                  \n",
            " batch_normalization_178 (Batch  (None, 2, 2, 256)   1024        ['conv2d_275[0][0]']             \n",
            " Normalization)                                                                                   \n",
            "                                                                                                  \n",
            " activation_174 (Activation)    (None, 2, 2, 256)    0           ['batch_normalization_178[0][0]']\n",
            "                                                                                                  \n",
            " conv2d_276 (Conv2D)            (None, 2, 2, 1024)   263168      ['activation_174[0][0]']         \n",
            "                                                                                                  \n",
            " batch_normalization_179 (Batch  (None, 2, 2, 1024)  4096        ['conv2d_276[0][0]']             \n",
            " Normalization)                                                                                   \n",
            "                                                                                                  \n",
            " add_41 (Add)                   (None, 2, 2, 1024)   0           ['activation_172[0][0]',         \n",
            "                                                                  'batch_normalization_179[0][0]']\n",
            "                                                                                                  \n",
            " activation_175 (Activation)    (None, 2, 2, 1024)   0           ['add_41[0][0]']                 \n",
            "                                                                                                  \n",
            " conv2d_277 (Conv2D)            (None, 2, 2, 256)    262400      ['activation_175[0][0]']         \n",
            "                                                                                                  \n",
            " batch_normalization_180 (Batch  (None, 2, 2, 256)   1024        ['conv2d_277[0][0]']             \n",
            " Normalization)                                                                                   \n",
            "                                                                                                  \n",
            " activation_176 (Activation)    (None, 2, 2, 256)    0           ['batch_normalization_180[0][0]']\n",
            "                                                                                                  \n",
            " conv2d_278 (Conv2D)            (None, 2, 2, 256)    590080      ['activation_176[0][0]']         \n",
            "                                                                                                  \n",
            " batch_normalization_181 (Batch  (None, 2, 2, 256)   1024        ['conv2d_278[0][0]']             \n",
            " Normalization)                                                                                   \n",
            "                                                                                                  \n",
            " activation_177 (Activation)    (None, 2, 2, 256)    0           ['batch_normalization_181[0][0]']\n",
            "                                                                                                  \n",
            " conv2d_279 (Conv2D)            (None, 2, 2, 1024)   263168      ['activation_177[0][0]']         \n",
            "                                                                                                  \n",
            " batch_normalization_182 (Batch  (None, 2, 2, 1024)  4096        ['conv2d_279[0][0]']             \n",
            " Normalization)                                                                                   \n",
            "                                                                                                  \n",
            " add_42 (Add)                   (None, 2, 2, 1024)   0           ['activation_175[0][0]',         \n",
            "                                                                  'batch_normalization_182[0][0]']\n",
            "                                                                                                  \n",
            " activation_178 (Activation)    (None, 2, 2, 1024)   0           ['add_42[0][0]']                 \n",
            "                                                                                                  \n",
            " conv2d_280 (Conv2D)            (None, 2, 2, 256)    262400      ['activation_178[0][0]']         \n",
            "                                                                                                  \n",
            " batch_normalization_183 (Batch  (None, 2, 2, 256)   1024        ['conv2d_280[0][0]']             \n",
            " Normalization)                                                                                   \n",
            "                                                                                                  \n",
            " activation_179 (Activation)    (None, 2, 2, 256)    0           ['batch_normalization_183[0][0]']\n",
            "                                                                                                  \n",
            " conv2d_281 (Conv2D)            (None, 2, 2, 256)    590080      ['activation_179[0][0]']         \n",
            "                                                                                                  \n",
            " batch_normalization_184 (Batch  (None, 2, 2, 256)   1024        ['conv2d_281[0][0]']             \n",
            " Normalization)                                                                                   \n",
            "                                                                                                  \n",
            " activation_180 (Activation)    (None, 2, 2, 256)    0           ['batch_normalization_184[0][0]']\n",
            "                                                                                                  \n",
            " conv2d_282 (Conv2D)            (None, 2, 2, 1024)   263168      ['activation_180[0][0]']         \n",
            "                                                                                                  \n",
            " batch_normalization_185 (Batch  (None, 2, 2, 1024)  4096        ['conv2d_282[0][0]']             \n",
            " Normalization)                                                                                   \n",
            "                                                                                                  \n",
            " add_43 (Add)                   (None, 2, 2, 1024)   0           ['activation_178[0][0]',         \n",
            "                                                                  'batch_normalization_185[0][0]']\n",
            "                                                                                                  \n",
            " activation_181 (Activation)    (None, 2, 2, 1024)   0           ['add_43[0][0]']                 \n",
            "                                                                                                  \n",
            " conv2d_283 (Conv2D)            (None, 2, 2, 256)    262400      ['activation_181[0][0]']         \n",
            "                                                                                                  \n",
            " batch_normalization_186 (Batch  (None, 2, 2, 256)   1024        ['conv2d_283[0][0]']             \n",
            " Normalization)                                                                                   \n",
            "                                                                                                  \n",
            " activation_182 (Activation)    (None, 2, 2, 256)    0           ['batch_normalization_186[0][0]']\n",
            "                                                                                                  \n",
            " conv2d_284 (Conv2D)            (None, 2, 2, 256)    590080      ['activation_182[0][0]']         \n",
            "                                                                                                  \n",
            " batch_normalization_187 (Batch  (None, 2, 2, 256)   1024        ['conv2d_284[0][0]']             \n",
            " Normalization)                                                                                   \n",
            "                                                                                                  \n",
            " activation_183 (Activation)    (None, 2, 2, 256)    0           ['batch_normalization_187[0][0]']\n",
            "                                                                                                  \n",
            " conv2d_285 (Conv2D)            (None, 2, 2, 1024)   263168      ['activation_183[0][0]']         \n",
            "                                                                                                  \n",
            " batch_normalization_188 (Batch  (None, 2, 2, 1024)  4096        ['conv2d_285[0][0]']             \n",
            " Normalization)                                                                                   \n",
            "                                                                                                  \n",
            " add_44 (Add)                   (None, 2, 2, 1024)   0           ['activation_181[0][0]',         \n",
            "                                                                  'batch_normalization_188[0][0]']\n",
            "                                                                                                  \n",
            " activation_184 (Activation)    (None, 2, 2, 1024)   0           ['add_44[0][0]']                 \n",
            "                                                                                                  \n",
            " conv2d_286 (Conv2D)            (None, 2, 2, 256)    262400      ['activation_184[0][0]']         \n",
            "                                                                                                  \n",
            " batch_normalization_189 (Batch  (None, 2, 2, 256)   1024        ['conv2d_286[0][0]']             \n",
            " Normalization)                                                                                   \n",
            "                                                                                                  \n",
            " activation_185 (Activation)    (None, 2, 2, 256)    0           ['batch_normalization_189[0][0]']\n",
            "                                                                                                  \n",
            " conv2d_287 (Conv2D)            (None, 2, 2, 256)    590080      ['activation_185[0][0]']         \n",
            "                                                                                                  \n",
            " batch_normalization_190 (Batch  (None, 2, 2, 256)   1024        ['conv2d_287[0][0]']             \n",
            " Normalization)                                                                                   \n",
            "                                                                                                  \n",
            " activation_186 (Activation)    (None, 2, 2, 256)    0           ['batch_normalization_190[0][0]']\n",
            "                                                                                                  \n",
            " conv2d_288 (Conv2D)            (None, 2, 2, 1024)   263168      ['activation_186[0][0]']         \n",
            "                                                                                                  \n",
            " batch_normalization_191 (Batch  (None, 2, 2, 1024)  4096        ['conv2d_288[0][0]']             \n",
            " Normalization)                                                                                   \n",
            "                                                                                                  \n",
            " add_45 (Add)                   (None, 2, 2, 1024)   0           ['activation_184[0][0]',         \n",
            "                                                                  'batch_normalization_191[0][0]']\n",
            "                                                                                                  \n",
            " activation_187 (Activation)    (None, 2, 2, 1024)   0           ['add_45[0][0]']                 \n",
            "                                                                                                  \n",
            " conv2d_289 (Conv2D)            (None, 2, 2, 256)    262400      ['activation_187[0][0]']         \n",
            "                                                                                                  \n",
            " batch_normalization_192 (Batch  (None, 2, 2, 256)   1024        ['conv2d_289[0][0]']             \n",
            " Normalization)                                                                                   \n",
            "                                                                                                  \n",
            " activation_188 (Activation)    (None, 2, 2, 256)    0           ['batch_normalization_192[0][0]']\n",
            "                                                                                                  \n",
            " conv2d_290 (Conv2D)            (None, 2, 2, 256)    590080      ['activation_188[0][0]']         \n",
            "                                                                                                  \n",
            " batch_normalization_193 (Batch  (None, 2, 2, 256)   1024        ['conv2d_290[0][0]']             \n",
            " Normalization)                                                                                   \n",
            "                                                                                                  \n",
            " activation_189 (Activation)    (None, 2, 2, 256)    0           ['batch_normalization_193[0][0]']\n",
            "                                                                                                  \n",
            " conv2d_291 (Conv2D)            (None, 2, 2, 1024)   263168      ['activation_189[0][0]']         \n",
            "                                                                                                  \n",
            " batch_normalization_194 (Batch  (None, 2, 2, 1024)  4096        ['conv2d_291[0][0]']             \n",
            " Normalization)                                                                                   \n",
            "                                                                                                  \n",
            " add_46 (Add)                   (None, 2, 2, 1024)   0           ['activation_187[0][0]',         \n",
            "                                                                  'batch_normalization_194[0][0]']\n",
            "                                                                                                  \n",
            " activation_190 (Activation)    (None, 2, 2, 1024)   0           ['add_46[0][0]']                 \n",
            "                                                                                                  \n",
            " conv2d_292 (Conv2D)            (None, 2, 2, 256)    262400      ['activation_190[0][0]']         \n",
            "                                                                                                  \n",
            " batch_normalization_195 (Batch  (None, 2, 2, 256)   1024        ['conv2d_292[0][0]']             \n",
            " Normalization)                                                                                   \n",
            "                                                                                                  \n",
            " activation_191 (Activation)    (None, 2, 2, 256)    0           ['batch_normalization_195[0][0]']\n",
            "                                                                                                  \n",
            " conv2d_293 (Conv2D)            (None, 2, 2, 256)    590080      ['activation_191[0][0]']         \n",
            "                                                                                                  \n",
            " batch_normalization_196 (Batch  (None, 2, 2, 256)   1024        ['conv2d_293[0][0]']             \n",
            " Normalization)                                                                                   \n",
            "                                                                                                  \n",
            " activation_192 (Activation)    (None, 2, 2, 256)    0           ['batch_normalization_196[0][0]']\n",
            "                                                                                                  \n",
            " conv2d_294 (Conv2D)            (None, 2, 2, 1024)   263168      ['activation_192[0][0]']         \n",
            "                                                                                                  \n",
            " batch_normalization_197 (Batch  (None, 2, 2, 1024)  4096        ['conv2d_294[0][0]']             \n",
            " Normalization)                                                                                   \n",
            "                                                                                                  \n",
            " add_47 (Add)                   (None, 2, 2, 1024)   0           ['activation_190[0][0]',         \n",
            "                                                                  'batch_normalization_197[0][0]']\n",
            "                                                                                                  \n",
            " activation_193 (Activation)    (None, 2, 2, 1024)   0           ['add_47[0][0]']                 \n",
            "                                                                                                  \n",
            " max_pooling2d_85 (MaxPooling2D  (None, 1, 1, 1024)  0           ['activation_193[0][0]']         \n",
            " )                                                                                                \n",
            "                                                                                                  \n",
            " conv2d_295 (Conv2D)            (None, 1, 1, 512)    524800      ['max_pooling2d_85[0][0]']       \n",
            "                                                                                                  \n",
            " batch_normalization_198 (Batch  (None, 1, 1, 512)   2048        ['conv2d_295[0][0]']             \n",
            " Normalization)                                                                                   \n",
            "                                                                                                  \n",
            " activation_194 (Activation)    (None, 1, 1, 512)    0           ['batch_normalization_198[0][0]']\n",
            "                                                                                                  \n",
            " conv2d_296 (Conv2D)            (None, 1, 1, 512)    2359808     ['activation_194[0][0]']         \n",
            "                                                                                                  \n",
            " batch_normalization_199 (Batch  (None, 1, 1, 512)   2048        ['conv2d_296[0][0]']             \n",
            " Normalization)                                                                                   \n",
            "                                                                                                  \n",
            " activation_195 (Activation)    (None, 1, 1, 512)    0           ['batch_normalization_199[0][0]']\n",
            "                                                                                                  \n",
            " conv2d_297 (Conv2D)            (None, 1, 1, 2048)   1050624     ['activation_195[0][0]']         \n",
            "                                                                                                  \n",
            " batch_normalization_200 (Batch  (None, 1, 1, 2048)  8192        ['conv2d_297[0][0]']             \n",
            " Normalization)                                                                                   \n",
            "                                                                                                  \n",
            " activation_196 (Activation)    (None, 1, 1, 2048)   0           ['batch_normalization_200[0][0]']\n",
            "                                                                                                  \n",
            " conv2d_298 (Conv2D)            (None, 1, 1, 512)    1049088     ['activation_196[0][0]']         \n",
            "                                                                                                  \n",
            " batch_normalization_201 (Batch  (None, 1, 1, 512)   2048        ['conv2d_298[0][0]']             \n",
            " Normalization)                                                                                   \n",
            "                                                                                                  \n",
            " activation_197 (Activation)    (None, 1, 1, 512)    0           ['batch_normalization_201[0][0]']\n",
            "                                                                                                  \n",
            " conv2d_299 (Conv2D)            (None, 1, 1, 512)    2359808     ['activation_197[0][0]']         \n",
            "                                                                                                  \n",
            " batch_normalization_202 (Batch  (None, 1, 1, 512)   2048        ['conv2d_299[0][0]']             \n",
            " Normalization)                                                                                   \n",
            "                                                                                                  \n",
            " activation_198 (Activation)    (None, 1, 1, 512)    0           ['batch_normalization_202[0][0]']\n",
            "                                                                                                  \n",
            " conv2d_300 (Conv2D)            (None, 1, 1, 2048)   1050624     ['activation_198[0][0]']         \n",
            "                                                                                                  \n",
            " batch_normalization_203 (Batch  (None, 1, 1, 2048)  8192        ['conv2d_300[0][0]']             \n",
            " Normalization)                                                                                   \n",
            "                                                                                                  \n",
            " add_48 (Add)                   (None, 1, 1, 2048)   0           ['activation_196[0][0]',         \n",
            "                                                                  'batch_normalization_203[0][0]']\n",
            "                                                                                                  \n",
            " activation_199 (Activation)    (None, 1, 1, 2048)   0           ['add_48[0][0]']                 \n",
            "                                                                                                  \n",
            " conv2d_301 (Conv2D)            (None, 1, 1, 512)    1049088     ['activation_199[0][0]']         \n",
            "                                                                                                  \n",
            " batch_normalization_204 (Batch  (None, 1, 1, 512)   2048        ['conv2d_301[0][0]']             \n",
            " Normalization)                                                                                   \n",
            "                                                                                                  \n",
            " activation_200 (Activation)    (None, 1, 1, 512)    0           ['batch_normalization_204[0][0]']\n",
            "                                                                                                  \n",
            " conv2d_302 (Conv2D)            (None, 1, 1, 512)    2359808     ['activation_200[0][0]']         \n",
            "                                                                                                  \n",
            " batch_normalization_205 (Batch  (None, 1, 1, 512)   2048        ['conv2d_302[0][0]']             \n",
            " Normalization)                                                                                   \n",
            "                                                                                                  \n",
            " activation_201 (Activation)    (None, 1, 1, 512)    0           ['batch_normalization_205[0][0]']\n",
            "                                                                                                  \n",
            " conv2d_303 (Conv2D)            (None, 1, 1, 2048)   1050624     ['activation_201[0][0]']         \n",
            "                                                                                                  \n",
            " batch_normalization_206 (Batch  (None, 1, 1, 2048)  8192        ['conv2d_303[0][0]']             \n",
            " Normalization)                                                                                   \n",
            "                                                                                                  \n",
            " add_49 (Add)                   (None, 1, 1, 2048)   0           ['activation_199[0][0]',         \n",
            "                                                                  'batch_normalization_206[0][0]']\n",
            "                                                                                                  \n",
            " activation_202 (Activation)    (None, 1, 1, 2048)   0           ['add_49[0][0]']                 \n",
            "                                                                                                  \n",
            " flatten_26 (Flatten)           (None, 2048)         0           ['activation_202[0][0]']         \n",
            "                                                                                                  \n",
            " dense_64 (Dense)               (None, 1000)         2049000     ['flatten_26[0][0]']             \n",
            "                                                                                                  \n",
            " batch_normalization_207 (Batch  (None, 1000)        4000        ['dense_64[0][0]']               \n",
            " Normalization)                                                                                   \n",
            "                                                                                                  \n",
            " activation_203 (Activation)    (None, 1000)         0           ['batch_normalization_207[0][0]']\n",
            "                                                                                                  \n",
            " dense_65 (Dense)               (None, 10)           10010       ['activation_203[0][0]']         \n",
            "                                                                                                  \n",
            "==================================================================================================\n",
            "Total params: 57,645,858\n",
            "Trainable params: 57,500,114\n",
            "Non-trainable params: 145,744\n",
            "__________________________________________________________________________________________________\n"
          ]
        }
      ]
    },
    {
      "cell_type": "code",
      "metadata": {
        "colab": {
          "base_uri": "https://localhost:8080/",
          "height": 451
        },
        "id": "s4UWWa25-Z8f",
        "outputId": "27e9d3c1-5cda-47b0-97e7-9a2f9a8092fc"
      },
      "source": [
        "model.fit(x_train, y_train, epochs=10, batch_size=128, validation_split=0.2)"
      ],
      "execution_count": null,
      "outputs": [
        {
          "output_type": "stream",
          "name": "stdout",
          "text": [
            "Epoch 1/10\n",
            "313/313 [==============================] - 227s 467ms/step - loss: 2.3456 - accuracy: 0.1036 - val_loss: 2.3053 - val_accuracy: 0.0980\n",
            "Epoch 2/10\n",
            "313/313 [==============================] - 149s 476ms/step - loss: 2.2958 - accuracy: 0.1188 - val_loss: 5.3087 - val_accuracy: 0.1028\n",
            "Epoch 3/10\n",
            "313/313 [==============================] - 149s 477ms/step - loss: 1.9956 - accuracy: 0.2269 - val_loss: 2.5600 - val_accuracy: 0.1703\n",
            "Epoch 4/10\n",
            "  5/313 [..............................] - ETA: 2:07 - loss: 1.8525 - accuracy: 0.2703"
          ]
        },
        {
          "output_type": "error",
          "ename": "KeyboardInterrupt",
          "evalue": "ignored",
          "traceback": [
            "\u001b[0;31m---------------------------------------------------------------------------\u001b[0m",
            "\u001b[0;31mKeyboardInterrupt\u001b[0m                         Traceback (most recent call last)",
            "\u001b[0;32m<ipython-input-125-92b37657f5bf>\u001b[0m in \u001b[0;36m<module>\u001b[0;34m()\u001b[0m\n\u001b[0;32m----> 1\u001b[0;31m \u001b[0mmodel\u001b[0m\u001b[0;34m.\u001b[0m\u001b[0mfit\u001b[0m\u001b[0;34m(\u001b[0m\u001b[0mx_train\u001b[0m\u001b[0;34m,\u001b[0m \u001b[0my_train\u001b[0m\u001b[0;34m,\u001b[0m \u001b[0mepochs\u001b[0m\u001b[0;34m=\u001b[0m\u001b[0;36m10\u001b[0m\u001b[0;34m,\u001b[0m \u001b[0mbatch_size\u001b[0m\u001b[0;34m=\u001b[0m\u001b[0;36m128\u001b[0m\u001b[0;34m,\u001b[0m \u001b[0mvalidation_split\u001b[0m\u001b[0;34m=\u001b[0m\u001b[0;36m0.2\u001b[0m\u001b[0;34m)\u001b[0m\u001b[0;34m\u001b[0m\u001b[0;34m\u001b[0m\u001b[0m\n\u001b[0m",
            "\u001b[0;32m/usr/local/lib/python3.7/dist-packages/keras/utils/traceback_utils.py\u001b[0m in \u001b[0;36merror_handler\u001b[0;34m(*args, **kwargs)\u001b[0m\n\u001b[1;32m     62\u001b[0m     \u001b[0mfiltered_tb\u001b[0m \u001b[0;34m=\u001b[0m \u001b[0;32mNone\u001b[0m\u001b[0;34m\u001b[0m\u001b[0;34m\u001b[0m\u001b[0m\n\u001b[1;32m     63\u001b[0m     \u001b[0;32mtry\u001b[0m\u001b[0;34m:\u001b[0m\u001b[0;34m\u001b[0m\u001b[0;34m\u001b[0m\u001b[0m\n\u001b[0;32m---> 64\u001b[0;31m       \u001b[0;32mreturn\u001b[0m \u001b[0mfn\u001b[0m\u001b[0;34m(\u001b[0m\u001b[0;34m*\u001b[0m\u001b[0margs\u001b[0m\u001b[0;34m,\u001b[0m \u001b[0;34m**\u001b[0m\u001b[0mkwargs\u001b[0m\u001b[0;34m)\u001b[0m\u001b[0;34m\u001b[0m\u001b[0;34m\u001b[0m\u001b[0m\n\u001b[0m\u001b[1;32m     65\u001b[0m     \u001b[0;32mexcept\u001b[0m \u001b[0mException\u001b[0m \u001b[0;32mas\u001b[0m \u001b[0me\u001b[0m\u001b[0;34m:\u001b[0m  \u001b[0;31m# pylint: disable=broad-except\u001b[0m\u001b[0;34m\u001b[0m\u001b[0;34m\u001b[0m\u001b[0m\n\u001b[1;32m     66\u001b[0m       \u001b[0mfiltered_tb\u001b[0m \u001b[0;34m=\u001b[0m \u001b[0m_process_traceback_frames\u001b[0m\u001b[0;34m(\u001b[0m\u001b[0me\u001b[0m\u001b[0;34m.\u001b[0m\u001b[0m__traceback__\u001b[0m\u001b[0;34m)\u001b[0m\u001b[0;34m\u001b[0m\u001b[0;34m\u001b[0m\u001b[0m\n",
            "\u001b[0;32m/usr/local/lib/python3.7/dist-packages/keras/engine/training.py\u001b[0m in \u001b[0;36mfit\u001b[0;34m(self, x, y, batch_size, epochs, verbose, callbacks, validation_split, validation_data, shuffle, class_weight, sample_weight, initial_epoch, steps_per_epoch, validation_steps, validation_batch_size, validation_freq, max_queue_size, workers, use_multiprocessing)\u001b[0m\n\u001b[1;32m   1219\u001b[0m               \u001b[0mlogs\u001b[0m \u001b[0;34m=\u001b[0m \u001b[0mtmp_logs\u001b[0m  \u001b[0;31m# No error, now safe to assign to logs.\u001b[0m\u001b[0;34m\u001b[0m\u001b[0;34m\u001b[0m\u001b[0m\n\u001b[1;32m   1220\u001b[0m               \u001b[0mend_step\u001b[0m \u001b[0;34m=\u001b[0m \u001b[0mstep\u001b[0m \u001b[0;34m+\u001b[0m \u001b[0mdata_handler\u001b[0m\u001b[0;34m.\u001b[0m\u001b[0mstep_increment\u001b[0m\u001b[0;34m\u001b[0m\u001b[0;34m\u001b[0m\u001b[0m\n\u001b[0;32m-> 1221\u001b[0;31m               \u001b[0mcallbacks\u001b[0m\u001b[0;34m.\u001b[0m\u001b[0mon_train_batch_end\u001b[0m\u001b[0;34m(\u001b[0m\u001b[0mend_step\u001b[0m\u001b[0;34m,\u001b[0m \u001b[0mlogs\u001b[0m\u001b[0;34m)\u001b[0m\u001b[0;34m\u001b[0m\u001b[0;34m\u001b[0m\u001b[0m\n\u001b[0m\u001b[1;32m   1222\u001b[0m               \u001b[0;32mif\u001b[0m \u001b[0mself\u001b[0m\u001b[0;34m.\u001b[0m\u001b[0mstop_training\u001b[0m\u001b[0;34m:\u001b[0m\u001b[0;34m\u001b[0m\u001b[0;34m\u001b[0m\u001b[0m\n\u001b[1;32m   1223\u001b[0m                 \u001b[0;32mbreak\u001b[0m\u001b[0;34m\u001b[0m\u001b[0;34m\u001b[0m\u001b[0m\n",
            "\u001b[0;32m/usr/local/lib/python3.7/dist-packages/keras/callbacks.py\u001b[0m in \u001b[0;36mon_train_batch_end\u001b[0;34m(self, batch, logs)\u001b[0m\n\u001b[1;32m    434\u001b[0m     \"\"\"\n\u001b[1;32m    435\u001b[0m     \u001b[0;32mif\u001b[0m \u001b[0mself\u001b[0m\u001b[0;34m.\u001b[0m\u001b[0m_should_call_train_batch_hooks\u001b[0m\u001b[0;34m:\u001b[0m\u001b[0;34m\u001b[0m\u001b[0;34m\u001b[0m\u001b[0m\n\u001b[0;32m--> 436\u001b[0;31m       \u001b[0mself\u001b[0m\u001b[0;34m.\u001b[0m\u001b[0m_call_batch_hook\u001b[0m\u001b[0;34m(\u001b[0m\u001b[0mModeKeys\u001b[0m\u001b[0;34m.\u001b[0m\u001b[0mTRAIN\u001b[0m\u001b[0;34m,\u001b[0m \u001b[0;34m'end'\u001b[0m\u001b[0;34m,\u001b[0m \u001b[0mbatch\u001b[0m\u001b[0;34m,\u001b[0m \u001b[0mlogs\u001b[0m\u001b[0;34m=\u001b[0m\u001b[0mlogs\u001b[0m\u001b[0;34m)\u001b[0m\u001b[0;34m\u001b[0m\u001b[0;34m\u001b[0m\u001b[0m\n\u001b[0m\u001b[1;32m    437\u001b[0m \u001b[0;34m\u001b[0m\u001b[0m\n\u001b[1;32m    438\u001b[0m   \u001b[0;32mdef\u001b[0m \u001b[0mon_test_batch_begin\u001b[0m\u001b[0;34m(\u001b[0m\u001b[0mself\u001b[0m\u001b[0;34m,\u001b[0m \u001b[0mbatch\u001b[0m\u001b[0;34m,\u001b[0m \u001b[0mlogs\u001b[0m\u001b[0;34m=\u001b[0m\u001b[0;32mNone\u001b[0m\u001b[0;34m)\u001b[0m\u001b[0;34m:\u001b[0m\u001b[0;34m\u001b[0m\u001b[0;34m\u001b[0m\u001b[0m\n",
            "\u001b[0;32m/usr/local/lib/python3.7/dist-packages/keras/callbacks.py\u001b[0m in \u001b[0;36m_call_batch_hook\u001b[0;34m(self, mode, hook, batch, logs)\u001b[0m\n\u001b[1;32m    293\u001b[0m       \u001b[0mself\u001b[0m\u001b[0;34m.\u001b[0m\u001b[0m_call_batch_begin_hook\u001b[0m\u001b[0;34m(\u001b[0m\u001b[0mmode\u001b[0m\u001b[0;34m,\u001b[0m \u001b[0mbatch\u001b[0m\u001b[0;34m,\u001b[0m \u001b[0mlogs\u001b[0m\u001b[0;34m)\u001b[0m\u001b[0;34m\u001b[0m\u001b[0;34m\u001b[0m\u001b[0m\n\u001b[1;32m    294\u001b[0m     \u001b[0;32melif\u001b[0m \u001b[0mhook\u001b[0m \u001b[0;34m==\u001b[0m \u001b[0;34m'end'\u001b[0m\u001b[0;34m:\u001b[0m\u001b[0;34m\u001b[0m\u001b[0;34m\u001b[0m\u001b[0m\n\u001b[0;32m--> 295\u001b[0;31m       \u001b[0mself\u001b[0m\u001b[0;34m.\u001b[0m\u001b[0m_call_batch_end_hook\u001b[0m\u001b[0;34m(\u001b[0m\u001b[0mmode\u001b[0m\u001b[0;34m,\u001b[0m \u001b[0mbatch\u001b[0m\u001b[0;34m,\u001b[0m \u001b[0mlogs\u001b[0m\u001b[0;34m)\u001b[0m\u001b[0;34m\u001b[0m\u001b[0;34m\u001b[0m\u001b[0m\n\u001b[0m\u001b[1;32m    296\u001b[0m     \u001b[0;32melse\u001b[0m\u001b[0;34m:\u001b[0m\u001b[0;34m\u001b[0m\u001b[0;34m\u001b[0m\u001b[0m\n\u001b[1;32m    297\u001b[0m       raise ValueError(\n",
            "\u001b[0;32m/usr/local/lib/python3.7/dist-packages/keras/callbacks.py\u001b[0m in \u001b[0;36m_call_batch_end_hook\u001b[0;34m(self, mode, batch, logs)\u001b[0m\n\u001b[1;32m    314\u001b[0m       \u001b[0mself\u001b[0m\u001b[0;34m.\u001b[0m\u001b[0m_batch_times\u001b[0m\u001b[0;34m.\u001b[0m\u001b[0mappend\u001b[0m\u001b[0;34m(\u001b[0m\u001b[0mbatch_time\u001b[0m\u001b[0;34m)\u001b[0m\u001b[0;34m\u001b[0m\u001b[0;34m\u001b[0m\u001b[0m\n\u001b[1;32m    315\u001b[0m \u001b[0;34m\u001b[0m\u001b[0m\n\u001b[0;32m--> 316\u001b[0;31m     \u001b[0mself\u001b[0m\u001b[0;34m.\u001b[0m\u001b[0m_call_batch_hook_helper\u001b[0m\u001b[0;34m(\u001b[0m\u001b[0mhook_name\u001b[0m\u001b[0;34m,\u001b[0m \u001b[0mbatch\u001b[0m\u001b[0;34m,\u001b[0m \u001b[0mlogs\u001b[0m\u001b[0;34m)\u001b[0m\u001b[0;34m\u001b[0m\u001b[0;34m\u001b[0m\u001b[0m\n\u001b[0m\u001b[1;32m    317\u001b[0m \u001b[0;34m\u001b[0m\u001b[0m\n\u001b[1;32m    318\u001b[0m     \u001b[0;32mif\u001b[0m \u001b[0mlen\u001b[0m\u001b[0;34m(\u001b[0m\u001b[0mself\u001b[0m\u001b[0;34m.\u001b[0m\u001b[0m_batch_times\u001b[0m\u001b[0;34m)\u001b[0m \u001b[0;34m>=\u001b[0m \u001b[0mself\u001b[0m\u001b[0;34m.\u001b[0m\u001b[0m_num_batches_for_timing_check\u001b[0m\u001b[0;34m:\u001b[0m\u001b[0;34m\u001b[0m\u001b[0;34m\u001b[0m\u001b[0m\n",
            "\u001b[0;32m/usr/local/lib/python3.7/dist-packages/keras/callbacks.py\u001b[0m in \u001b[0;36m_call_batch_hook_helper\u001b[0;34m(self, hook_name, batch, logs)\u001b[0m\n\u001b[1;32m    352\u001b[0m     \u001b[0;32mfor\u001b[0m \u001b[0mcallback\u001b[0m \u001b[0;32min\u001b[0m \u001b[0mself\u001b[0m\u001b[0;34m.\u001b[0m\u001b[0mcallbacks\u001b[0m\u001b[0;34m:\u001b[0m\u001b[0;34m\u001b[0m\u001b[0;34m\u001b[0m\u001b[0m\n\u001b[1;32m    353\u001b[0m       \u001b[0mhook\u001b[0m \u001b[0;34m=\u001b[0m \u001b[0mgetattr\u001b[0m\u001b[0;34m(\u001b[0m\u001b[0mcallback\u001b[0m\u001b[0;34m,\u001b[0m \u001b[0mhook_name\u001b[0m\u001b[0;34m)\u001b[0m\u001b[0;34m\u001b[0m\u001b[0;34m\u001b[0m\u001b[0m\n\u001b[0;32m--> 354\u001b[0;31m       \u001b[0mhook\u001b[0m\u001b[0;34m(\u001b[0m\u001b[0mbatch\u001b[0m\u001b[0;34m,\u001b[0m \u001b[0mlogs\u001b[0m\u001b[0;34m)\u001b[0m\u001b[0;34m\u001b[0m\u001b[0;34m\u001b[0m\u001b[0m\n\u001b[0m\u001b[1;32m    355\u001b[0m \u001b[0;34m\u001b[0m\u001b[0m\n\u001b[1;32m    356\u001b[0m     \u001b[0;32mif\u001b[0m \u001b[0mself\u001b[0m\u001b[0;34m.\u001b[0m\u001b[0m_check_timing\u001b[0m\u001b[0;34m:\u001b[0m\u001b[0;34m\u001b[0m\u001b[0;34m\u001b[0m\u001b[0m\n",
            "\u001b[0;32m/usr/local/lib/python3.7/dist-packages/keras/callbacks.py\u001b[0m in \u001b[0;36mon_train_batch_end\u001b[0;34m(self, batch, logs)\u001b[0m\n\u001b[1;32m   1030\u001b[0m \u001b[0;34m\u001b[0m\u001b[0m\n\u001b[1;32m   1031\u001b[0m   \u001b[0;32mdef\u001b[0m \u001b[0mon_train_batch_end\u001b[0m\u001b[0;34m(\u001b[0m\u001b[0mself\u001b[0m\u001b[0;34m,\u001b[0m \u001b[0mbatch\u001b[0m\u001b[0;34m,\u001b[0m \u001b[0mlogs\u001b[0m\u001b[0;34m=\u001b[0m\u001b[0;32mNone\u001b[0m\u001b[0;34m)\u001b[0m\u001b[0;34m:\u001b[0m\u001b[0;34m\u001b[0m\u001b[0;34m\u001b[0m\u001b[0m\n\u001b[0;32m-> 1032\u001b[0;31m     \u001b[0mself\u001b[0m\u001b[0;34m.\u001b[0m\u001b[0m_batch_update_progbar\u001b[0m\u001b[0;34m(\u001b[0m\u001b[0mbatch\u001b[0m\u001b[0;34m,\u001b[0m \u001b[0mlogs\u001b[0m\u001b[0;34m)\u001b[0m\u001b[0;34m\u001b[0m\u001b[0;34m\u001b[0m\u001b[0m\n\u001b[0m\u001b[1;32m   1033\u001b[0m \u001b[0;34m\u001b[0m\u001b[0m\n\u001b[1;32m   1034\u001b[0m   \u001b[0;32mdef\u001b[0m \u001b[0mon_test_batch_end\u001b[0m\u001b[0;34m(\u001b[0m\u001b[0mself\u001b[0m\u001b[0;34m,\u001b[0m \u001b[0mbatch\u001b[0m\u001b[0;34m,\u001b[0m \u001b[0mlogs\u001b[0m\u001b[0;34m=\u001b[0m\u001b[0;32mNone\u001b[0m\u001b[0;34m)\u001b[0m\u001b[0;34m:\u001b[0m\u001b[0;34m\u001b[0m\u001b[0;34m\u001b[0m\u001b[0m\n",
            "\u001b[0;32m/usr/local/lib/python3.7/dist-packages/keras/callbacks.py\u001b[0m in \u001b[0;36m_batch_update_progbar\u001b[0;34m(self, batch, logs)\u001b[0m\n\u001b[1;32m   1102\u001b[0m     \u001b[0;32mif\u001b[0m \u001b[0mself\u001b[0m\u001b[0;34m.\u001b[0m\u001b[0mverbose\u001b[0m \u001b[0;34m==\u001b[0m \u001b[0;36m1\u001b[0m\u001b[0;34m:\u001b[0m\u001b[0;34m\u001b[0m\u001b[0;34m\u001b[0m\u001b[0m\n\u001b[1;32m   1103\u001b[0m       \u001b[0;31m# Only block async when verbose = 1.\u001b[0m\u001b[0;34m\u001b[0m\u001b[0;34m\u001b[0m\u001b[0;34m\u001b[0m\u001b[0m\n\u001b[0;32m-> 1104\u001b[0;31m       \u001b[0mlogs\u001b[0m \u001b[0;34m=\u001b[0m \u001b[0mtf_utils\u001b[0m\u001b[0;34m.\u001b[0m\u001b[0msync_to_numpy_or_python_type\u001b[0m\u001b[0;34m(\u001b[0m\u001b[0mlogs\u001b[0m\u001b[0;34m)\u001b[0m\u001b[0;34m\u001b[0m\u001b[0;34m\u001b[0m\u001b[0m\n\u001b[0m\u001b[1;32m   1105\u001b[0m       \u001b[0mself\u001b[0m\u001b[0;34m.\u001b[0m\u001b[0mprogbar\u001b[0m\u001b[0;34m.\u001b[0m\u001b[0mupdate\u001b[0m\u001b[0;34m(\u001b[0m\u001b[0mself\u001b[0m\u001b[0;34m.\u001b[0m\u001b[0mseen\u001b[0m\u001b[0;34m,\u001b[0m \u001b[0mlist\u001b[0m\u001b[0;34m(\u001b[0m\u001b[0mlogs\u001b[0m\u001b[0;34m.\u001b[0m\u001b[0mitems\u001b[0m\u001b[0;34m(\u001b[0m\u001b[0;34m)\u001b[0m\u001b[0;34m)\u001b[0m\u001b[0;34m,\u001b[0m \u001b[0mfinalize\u001b[0m\u001b[0;34m=\u001b[0m\u001b[0;32mFalse\u001b[0m\u001b[0;34m)\u001b[0m\u001b[0;34m\u001b[0m\u001b[0;34m\u001b[0m\u001b[0m\n\u001b[1;32m   1106\u001b[0m \u001b[0;34m\u001b[0m\u001b[0m\n",
            "\u001b[0;32m/usr/local/lib/python3.7/dist-packages/keras/utils/tf_utils.py\u001b[0m in \u001b[0;36msync_to_numpy_or_python_type\u001b[0;34m(tensors)\u001b[0m\n\u001b[1;32m    552\u001b[0m     \u001b[0;32mreturn\u001b[0m \u001b[0mt\u001b[0m  \u001b[0;31m# Don't turn ragged or sparse tensors to NumPy.\u001b[0m\u001b[0;34m\u001b[0m\u001b[0;34m\u001b[0m\u001b[0m\n\u001b[1;32m    553\u001b[0m \u001b[0;34m\u001b[0m\u001b[0m\n\u001b[0;32m--> 554\u001b[0;31m   \u001b[0;32mreturn\u001b[0m \u001b[0mtf\u001b[0m\u001b[0;34m.\u001b[0m\u001b[0mnest\u001b[0m\u001b[0;34m.\u001b[0m\u001b[0mmap_structure\u001b[0m\u001b[0;34m(\u001b[0m\u001b[0m_to_single_numpy_or_python_type\u001b[0m\u001b[0;34m,\u001b[0m \u001b[0mtensors\u001b[0m\u001b[0;34m)\u001b[0m\u001b[0;34m\u001b[0m\u001b[0;34m\u001b[0m\u001b[0m\n\u001b[0m\u001b[1;32m    555\u001b[0m \u001b[0;34m\u001b[0m\u001b[0m\n\u001b[1;32m    556\u001b[0m \u001b[0;34m\u001b[0m\u001b[0m\n",
            "\u001b[0;32m/usr/local/lib/python3.7/dist-packages/tensorflow/python/util/nest.py\u001b[0m in \u001b[0;36mmap_structure\u001b[0;34m(func, *structure, **kwargs)\u001b[0m\n\u001b[1;32m    867\u001b[0m \u001b[0;34m\u001b[0m\u001b[0m\n\u001b[1;32m    868\u001b[0m   return pack_sequence_as(\n\u001b[0;32m--> 869\u001b[0;31m       \u001b[0mstructure\u001b[0m\u001b[0;34m[\u001b[0m\u001b[0;36m0\u001b[0m\u001b[0;34m]\u001b[0m\u001b[0;34m,\u001b[0m \u001b[0;34m[\u001b[0m\u001b[0mfunc\u001b[0m\u001b[0;34m(\u001b[0m\u001b[0;34m*\u001b[0m\u001b[0mx\u001b[0m\u001b[0;34m)\u001b[0m \u001b[0;32mfor\u001b[0m \u001b[0mx\u001b[0m \u001b[0;32min\u001b[0m \u001b[0mentries\u001b[0m\u001b[0;34m]\u001b[0m\u001b[0;34m,\u001b[0m\u001b[0;34m\u001b[0m\u001b[0;34m\u001b[0m\u001b[0m\n\u001b[0m\u001b[1;32m    870\u001b[0m       expand_composites=expand_composites)\n\u001b[1;32m    871\u001b[0m \u001b[0;34m\u001b[0m\u001b[0m\n",
            "\u001b[0;32m/usr/local/lib/python3.7/dist-packages/tensorflow/python/util/nest.py\u001b[0m in \u001b[0;36m<listcomp>\u001b[0;34m(.0)\u001b[0m\n\u001b[1;32m    867\u001b[0m \u001b[0;34m\u001b[0m\u001b[0m\n\u001b[1;32m    868\u001b[0m   return pack_sequence_as(\n\u001b[0;32m--> 869\u001b[0;31m       \u001b[0mstructure\u001b[0m\u001b[0;34m[\u001b[0m\u001b[0;36m0\u001b[0m\u001b[0;34m]\u001b[0m\u001b[0;34m,\u001b[0m \u001b[0;34m[\u001b[0m\u001b[0mfunc\u001b[0m\u001b[0;34m(\u001b[0m\u001b[0;34m*\u001b[0m\u001b[0mx\u001b[0m\u001b[0;34m)\u001b[0m \u001b[0;32mfor\u001b[0m \u001b[0mx\u001b[0m \u001b[0;32min\u001b[0m \u001b[0mentries\u001b[0m\u001b[0;34m]\u001b[0m\u001b[0;34m,\u001b[0m\u001b[0;34m\u001b[0m\u001b[0;34m\u001b[0m\u001b[0m\n\u001b[0m\u001b[1;32m    870\u001b[0m       expand_composites=expand_composites)\n\u001b[1;32m    871\u001b[0m \u001b[0;34m\u001b[0m\u001b[0m\n",
            "\u001b[0;32m/usr/local/lib/python3.7/dist-packages/keras/utils/tf_utils.py\u001b[0m in \u001b[0;36m_to_single_numpy_or_python_type\u001b[0;34m(t)\u001b[0m\n\u001b[1;32m    548\u001b[0m   \u001b[0;32mdef\u001b[0m \u001b[0m_to_single_numpy_or_python_type\u001b[0m\u001b[0;34m(\u001b[0m\u001b[0mt\u001b[0m\u001b[0;34m)\u001b[0m\u001b[0;34m:\u001b[0m\u001b[0;34m\u001b[0m\u001b[0;34m\u001b[0m\u001b[0m\n\u001b[1;32m    549\u001b[0m     \u001b[0;32mif\u001b[0m \u001b[0misinstance\u001b[0m\u001b[0;34m(\u001b[0m\u001b[0mt\u001b[0m\u001b[0;34m,\u001b[0m \u001b[0mtf\u001b[0m\u001b[0;34m.\u001b[0m\u001b[0mTensor\u001b[0m\u001b[0;34m)\u001b[0m\u001b[0;34m:\u001b[0m\u001b[0;34m\u001b[0m\u001b[0;34m\u001b[0m\u001b[0m\n\u001b[0;32m--> 550\u001b[0;31m       \u001b[0mx\u001b[0m \u001b[0;34m=\u001b[0m \u001b[0mt\u001b[0m\u001b[0;34m.\u001b[0m\u001b[0mnumpy\u001b[0m\u001b[0;34m(\u001b[0m\u001b[0;34m)\u001b[0m\u001b[0;34m\u001b[0m\u001b[0;34m\u001b[0m\u001b[0m\n\u001b[0m\u001b[1;32m    551\u001b[0m       \u001b[0;32mreturn\u001b[0m \u001b[0mx\u001b[0m\u001b[0;34m.\u001b[0m\u001b[0mitem\u001b[0m\u001b[0;34m(\u001b[0m\u001b[0;34m)\u001b[0m \u001b[0;32mif\u001b[0m \u001b[0mnp\u001b[0m\u001b[0;34m.\u001b[0m\u001b[0mndim\u001b[0m\u001b[0;34m(\u001b[0m\u001b[0mx\u001b[0m\u001b[0;34m)\u001b[0m \u001b[0;34m==\u001b[0m \u001b[0;36m0\u001b[0m \u001b[0;32melse\u001b[0m \u001b[0mx\u001b[0m\u001b[0;34m\u001b[0m\u001b[0;34m\u001b[0m\u001b[0m\n\u001b[1;32m    552\u001b[0m     \u001b[0;32mreturn\u001b[0m \u001b[0mt\u001b[0m  \u001b[0;31m# Don't turn ragged or sparse tensors to NumPy.\u001b[0m\u001b[0;34m\u001b[0m\u001b[0;34m\u001b[0m\u001b[0m\n",
            "\u001b[0;32m/usr/local/lib/python3.7/dist-packages/tensorflow/python/framework/ops.py\u001b[0m in \u001b[0;36mnumpy\u001b[0;34m(self)\u001b[0m\n\u001b[1;32m   1147\u001b[0m     \"\"\"\n\u001b[1;32m   1148\u001b[0m     \u001b[0;31m# TODO(slebedev): Consider avoiding a copy for non-CPU or remote tensors.\u001b[0m\u001b[0;34m\u001b[0m\u001b[0;34m\u001b[0m\u001b[0;34m\u001b[0m\u001b[0m\n\u001b[0;32m-> 1149\u001b[0;31m     \u001b[0mmaybe_arr\u001b[0m \u001b[0;34m=\u001b[0m \u001b[0mself\u001b[0m\u001b[0;34m.\u001b[0m\u001b[0m_numpy\u001b[0m\u001b[0;34m(\u001b[0m\u001b[0;34m)\u001b[0m  \u001b[0;31m# pylint: disable=protected-access\u001b[0m\u001b[0;34m\u001b[0m\u001b[0;34m\u001b[0m\u001b[0m\n\u001b[0m\u001b[1;32m   1150\u001b[0m     \u001b[0;32mreturn\u001b[0m \u001b[0mmaybe_arr\u001b[0m\u001b[0;34m.\u001b[0m\u001b[0mcopy\u001b[0m\u001b[0;34m(\u001b[0m\u001b[0;34m)\u001b[0m \u001b[0;32mif\u001b[0m \u001b[0misinstance\u001b[0m\u001b[0;34m(\u001b[0m\u001b[0mmaybe_arr\u001b[0m\u001b[0;34m,\u001b[0m \u001b[0mnp\u001b[0m\u001b[0;34m.\u001b[0m\u001b[0mndarray\u001b[0m\u001b[0;34m)\u001b[0m \u001b[0;32melse\u001b[0m \u001b[0mmaybe_arr\u001b[0m\u001b[0;34m\u001b[0m\u001b[0;34m\u001b[0m\u001b[0m\n\u001b[1;32m   1151\u001b[0m \u001b[0;34m\u001b[0m\u001b[0m\n",
            "\u001b[0;32m/usr/local/lib/python3.7/dist-packages/tensorflow/python/framework/ops.py\u001b[0m in \u001b[0;36m_numpy\u001b[0;34m(self)\u001b[0m\n\u001b[1;32m   1113\u001b[0m   \u001b[0;32mdef\u001b[0m \u001b[0m_numpy\u001b[0m\u001b[0;34m(\u001b[0m\u001b[0mself\u001b[0m\u001b[0;34m)\u001b[0m\u001b[0;34m:\u001b[0m\u001b[0;34m\u001b[0m\u001b[0;34m\u001b[0m\u001b[0m\n\u001b[1;32m   1114\u001b[0m     \u001b[0;32mtry\u001b[0m\u001b[0;34m:\u001b[0m\u001b[0;34m\u001b[0m\u001b[0;34m\u001b[0m\u001b[0m\n\u001b[0;32m-> 1115\u001b[0;31m       \u001b[0;32mreturn\u001b[0m \u001b[0mself\u001b[0m\u001b[0;34m.\u001b[0m\u001b[0m_numpy_internal\u001b[0m\u001b[0;34m(\u001b[0m\u001b[0;34m)\u001b[0m\u001b[0;34m\u001b[0m\u001b[0;34m\u001b[0m\u001b[0m\n\u001b[0m\u001b[1;32m   1116\u001b[0m     \u001b[0;32mexcept\u001b[0m \u001b[0mcore\u001b[0m\u001b[0;34m.\u001b[0m\u001b[0m_NotOkStatusException\u001b[0m \u001b[0;32mas\u001b[0m \u001b[0me\u001b[0m\u001b[0;34m:\u001b[0m  \u001b[0;31m# pylint: disable=protected-access\u001b[0m\u001b[0;34m\u001b[0m\u001b[0;34m\u001b[0m\u001b[0m\n\u001b[1;32m   1117\u001b[0m       \u001b[0;32mraise\u001b[0m \u001b[0mcore\u001b[0m\u001b[0;34m.\u001b[0m\u001b[0m_status_to_exception\u001b[0m\u001b[0;34m(\u001b[0m\u001b[0me\u001b[0m\u001b[0;34m)\u001b[0m \u001b[0;32mfrom\u001b[0m \u001b[0;32mNone\u001b[0m  \u001b[0;31m# pylint: disable=protected-access\u001b[0m\u001b[0;34m\u001b[0m\u001b[0;34m\u001b[0m\u001b[0m\n",
            "\u001b[0;31mKeyboardInterrupt\u001b[0m: "
          ]
        }
      ]
    }
  ]
}