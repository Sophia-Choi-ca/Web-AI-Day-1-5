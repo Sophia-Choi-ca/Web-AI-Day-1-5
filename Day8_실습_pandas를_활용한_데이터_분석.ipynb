{
  "nbformat": 4,
  "nbformat_minor": 0,
  "metadata": {
    "colab": {
      "name": "Day8 실습_pandas를 활용한 데이터 분석.ipynb",
      "provenance": [],
      "collapsed_sections": [],
      "authorship_tag": "ABX9TyP05wkveHwmcIRNpGXwyi8h",
      "include_colab_link": true
    },
    "kernelspec": {
      "name": "python3",
      "display_name": "Python 3"
    },
    "language_info": {
      "name": "python"
    }
  },
  "cells": [
    {
      "cell_type": "markdown",
      "metadata": {
        "id": "view-in-github",
        "colab_type": "text"
      },
      "source": [
        "<a href=\"https://colab.research.google.com/github/futurebly/Web-AI/blob/main/Day8_%EC%8B%A4%EC%8A%B5_pandas%EB%A5%BC_%ED%99%9C%EC%9A%A9%ED%95%9C_%EB%8D%B0%EC%9D%B4%ED%84%B0_%EB%B6%84%EC%84%9D.ipynb\" target=\"_parent\"><img src=\"https://colab.research.google.com/assets/colab-badge.svg\" alt=\"Open In Colab\"/></a>"
      ]
    },
    {
      "cell_type": "markdown",
      "metadata": {
        "id": "ua0KtlIQQ_Oy"
      },
      "source": [
        "# pandas"
      ]
    },
    {
      "cell_type": "markdown",
      "metadata": {
        "id": "sryhQ_x6RFb5"
      },
      "source": [
        "## 라이브러리 가져오기"
      ]
    },
    {
      "cell_type": "code",
      "metadata": {
        "id": "LvuR3kg8Qyq7"
      },
      "source": [
        "import pandas as pd\n",
        "import numpy as np #주로 배열을 이용할때 많이 씀"
      ],
      "execution_count": null,
      "outputs": []
    },
    {
      "cell_type": "markdown",
      "metadata": {
        "id": "3EbJ7VFWRKIw"
      },
      "source": [
        "## 자료 구조"
      ]
    },
    {
      "cell_type": "markdown",
      "metadata": {
        "id": "OFbY5RxYReyZ"
      },
      "source": [
        "### Series\n",
        "- 가장 기본이 되는 자료 구조로 1개의 열을 뜻함"
      ]
    },
    {
      "cell_type": "code",
      "metadata": {
        "colab": {
          "base_uri": "https://localhost:8080/"
        },
        "id": "D5FibTUZRLmG",
        "outputId": "1a3a82f0-68c1-40ce-af59-0dc7d8559e50"
      },
      "source": [
        "#시리즈는 1개의 자료 구조로 된 열. 1개의 열.\n",
        "#nan 으로 결측치를 나타냄\n",
        "\n",
        "#index가 0부터 자동으로 생성됨\n",
        "obj = pd.Series([10,20,np.nan,30,40])\n",
        "obj"
      ],
      "execution_count": null,
      "outputs": [
        {
          "output_type": "execute_result",
          "data": {
            "text/plain": [
              "0    10.0\n",
              "1    20.0\n",
              "2     NaN\n",
              "3    30.0\n",
              "4    40.0\n",
              "dtype: float64"
            ]
          },
          "metadata": {},
          "execution_count": 26
        }
      ]
    },
    {
      "cell_type": "code",
      "metadata": {
        "colab": {
          "base_uri": "https://localhost:8080/"
        },
        "id": "Ujc6VTodRd9h",
        "outputId": "879777a6-7fea-4360-9c88-64439531aa35"
      },
      "source": [
        "#numpy로 series 생성\n",
        "arr = np.arange(10,20)\n",
        "arr"
      ],
      "execution_count": null,
      "outputs": [
        {
          "output_type": "execute_result",
          "data": {
            "text/plain": [
              "array([10, 11, 12, 13, 14, 15, 16, 17, 18, 19])"
            ]
          },
          "metadata": {},
          "execution_count": 27
        }
      ]
    },
    {
      "cell_type": "code",
      "metadata": {
        "colab": {
          "base_uri": "https://localhost:8080/"
        },
        "id": "VJkwWBMCRhhY",
        "outputId": "91b13bbc-6332-462c-9148-e31a15cacb0a"
      },
      "source": [
        "obj = pd.Series(arr)\n",
        "obj\n",
        "#0~는 index / 10~ values"
      ],
      "execution_count": null,
      "outputs": [
        {
          "output_type": "execute_result",
          "data": {
            "text/plain": [
              "0    10\n",
              "1    11\n",
              "2    12\n",
              "3    13\n",
              "4    14\n",
              "5    15\n",
              "6    16\n",
              "7    17\n",
              "8    18\n",
              "9    19\n",
              "dtype: int64"
            ]
          },
          "metadata": {},
          "execution_count": 28
        }
      ]
    },
    {
      "cell_type": "code",
      "metadata": {
        "colab": {
          "base_uri": "https://localhost:8080/"
        },
        "id": "JdnGY7dzRjvI",
        "outputId": "a1d14355-ae10-4063-e9b8-01f4784c6225"
      },
      "source": [
        "#value 확인\n",
        "obj.values"
      ],
      "execution_count": null,
      "outputs": [
        {
          "output_type": "execute_result",
          "data": {
            "text/plain": [
              "array([10, 11, 12, 13, 14, 15, 16, 17, 18, 19])"
            ]
          },
          "metadata": {},
          "execution_count": 29
        }
      ]
    },
    {
      "cell_type": "code",
      "metadata": {
        "colab": {
          "base_uri": "https://localhost:8080/"
        },
        "id": "_q24t9_RRk9T",
        "outputId": "432eaae4-baba-4f8c-bbca-cd2524912597"
      },
      "source": [
        "#index 확인\n",
        "obj.index"
      ],
      "execution_count": null,
      "outputs": [
        {
          "output_type": "execute_result",
          "data": {
            "text/plain": [
              "RangeIndex(start=0, stop=10, step=1)"
            ]
          },
          "metadata": {},
          "execution_count": 30
        }
      ]
    },
    {
      "cell_type": "code",
      "metadata": {
        "colab": {
          "base_uri": "https://localhost:8080/"
        },
        "id": "zOtMxx31Rl6-",
        "outputId": "5566653d-c50a-4d9c-fe81-40028b2814a7"
      },
      "source": [
        "#임의의 index 사용 1\n",
        "obj = pd.Series([10,20,30,40], index=['갑','을','병','정'])\n",
        "obj"
      ],
      "execution_count": null,
      "outputs": [
        {
          "output_type": "execute_result",
          "data": {
            "text/plain": [
              "갑    10\n",
              "을    20\n",
              "병    30\n",
              "정    40\n",
              "dtype: int64"
            ]
          },
          "metadata": {},
          "execution_count": 31
        }
      ]
    },
    {
      "cell_type": "code",
      "metadata": {
        "colab": {
          "base_uri": "https://localhost:8080/"
        },
        "id": "yGHNA1zdRnId",
        "outputId": "1a57911a-5a9f-4426-ef68-1ab78a4ff57b"
      },
      "source": [
        "#임의의 index 사용 2\n",
        "#dictionary 사용\n",
        "data = {\"Seoul\":350, 'Daegu':15, \"Busan\":30}\n",
        "data"
      ],
      "execution_count": null,
      "outputs": [
        {
          "output_type": "execute_result",
          "data": {
            "text/plain": [
              "{'Busan': 30, 'Daegu': 15, 'Seoul': 350}"
            ]
          },
          "metadata": {},
          "execution_count": 32
        }
      ]
    },
    {
      "cell_type": "code",
      "metadata": {
        "colab": {
          "base_uri": "https://localhost:8080/"
        },
        "id": "9bejNTGqSvHS",
        "outputId": "db1354f7-9706-4592-847c-7db18ec39537"
      },
      "source": [
        "obj = pd.Series(data)\n",
        "obj"
      ],
      "execution_count": null,
      "outputs": [
        {
          "output_type": "execute_result",
          "data": {
            "text/plain": [
              "Seoul    350\n",
              "Daegu     15\n",
              "Busan     30\n",
              "dtype: int64"
            ]
          },
          "metadata": {},
          "execution_count": 33
        }
      ]
    },
    {
      "cell_type": "code",
      "metadata": {
        "colab": {
          "base_uri": "https://localhost:8080/"
        },
        "id": "eEGbcVuuRomp",
        "outputId": "3768cebf-1c41-4f6e-9240-aabc46251512"
      },
      "source": [
        "country = pd.Series(data)\n",
        "country"
      ],
      "execution_count": null,
      "outputs": [
        {
          "output_type": "execute_result",
          "data": {
            "text/plain": [
              "Seoul    350\n",
              "Daegu     15\n",
              "Busan     30\n",
              "dtype: int64"
            ]
          },
          "metadata": {},
          "execution_count": 10
        }
      ]
    },
    {
      "cell_type": "markdown",
      "metadata": {
        "id": "cMBWeOumRqii"
      },
      "source": [
        "### Series 원소 선택"
      ]
    },
    {
      "cell_type": "code",
      "metadata": {
        "colab": {
          "base_uri": "https://localhost:8080/"
        },
        "id": "SsZZe8PFS9Y3",
        "outputId": "a389286b-3df1-4b24-d589-d71f5573170f"
      },
      "source": [
        "#index 번호 사용\n",
        "obj[2]"
      ],
      "execution_count": null,
      "outputs": [
        {
          "output_type": "execute_result",
          "data": {
            "text/plain": [
              "30"
            ]
          },
          "metadata": {},
          "execution_count": 34
        }
      ]
    },
    {
      "cell_type": "code",
      "metadata": {
        "colab": {
          "base_uri": "https://localhost:8080/"
        },
        "id": "YOnWYuWPTA3H",
        "outputId": "90540f3a-1b10-4a7f-cabe-850b436c0728"
      },
      "source": [
        "#index 이름 사용\n",
        "obj['Daegu']"
      ],
      "execution_count": null,
      "outputs": [
        {
          "output_type": "execute_result",
          "data": {
            "text/plain": [
              "15"
            ]
          },
          "metadata": {},
          "execution_count": 35
        }
      ]
    },
    {
      "cell_type": "code",
      "metadata": {
        "colab": {
          "base_uri": "https://localhost:8080/"
        },
        "id": "1ccS4Js0Rp3e",
        "outputId": "76ac0fb0-37b7-4b76-ca1d-642366dcacab"
      },
      "source": [
        "country[2]"
      ],
      "execution_count": null,
      "outputs": [
        {
          "output_type": "execute_result",
          "data": {
            "text/plain": [
              "30"
            ]
          },
          "metadata": {},
          "execution_count": 11
        }
      ]
    },
    {
      "cell_type": "code",
      "metadata": {
        "colab": {
          "base_uri": "https://localhost:8080/"
        },
        "id": "nDsZTWemSAM-",
        "outputId": "b0e2e1aa-abea-407e-b842-59ddb8276c9d"
      },
      "source": [
        "country[0]"
      ],
      "execution_count": null,
      "outputs": [
        {
          "output_type": "execute_result",
          "data": {
            "text/plain": [
              "350"
            ]
          },
          "metadata": {},
          "execution_count": 12
        }
      ]
    },
    {
      "cell_type": "code",
      "metadata": {
        "colab": {
          "base_uri": "https://localhost:8080/"
        },
        "id": "3IIJIpmSSBt-",
        "outputId": "6338a50b-b767-4abb-c88b-2d69bfc46bf4"
      },
      "source": [
        "country['Seoul']"
      ],
      "execution_count": null,
      "outputs": [
        {
          "output_type": "execute_result",
          "data": {
            "text/plain": [
              "350"
            ]
          },
          "metadata": {},
          "execution_count": 13
        }
      ]
    },
    {
      "cell_type": "code",
      "metadata": {
        "colab": {
          "base_uri": "https://localhost:8080/"
        },
        "id": "JJzQNesYTM5x",
        "outputId": "fb652bf0-0bb0-40d5-fffe-ac80bc100987"
      },
      "source": [
        "#이중 대괄호로 여러 개 원소 선택 (index 이름 사용)\n",
        "obj[['Seoul', 'Daegu']]"
      ],
      "execution_count": null,
      "outputs": [
        {
          "output_type": "execute_result",
          "data": {
            "text/plain": [
              "Seoul    350\n",
              "Daegu     15\n",
              "dtype: int64"
            ]
          },
          "metadata": {},
          "execution_count": 36
        }
      ]
    },
    {
      "cell_type": "code",
      "metadata": {
        "colab": {
          "base_uri": "https://localhost:8080/"
        },
        "id": "hg1YHETVSDG5",
        "outputId": "47ecfdf7-0da0-4bb6-ca75-8eef443e3839"
      },
      "source": [
        "country[['Seoul', 'Daegu']]"
      ],
      "execution_count": null,
      "outputs": [
        {
          "output_type": "execute_result",
          "data": {
            "text/plain": [
              "Seoul    350\n",
              "Daegu     15\n",
              "dtype: int64"
            ]
          },
          "metadata": {},
          "execution_count": 14
        }
      ]
    },
    {
      "cell_type": "code",
      "metadata": {
        "colab": {
          "base_uri": "https://localhost:8080/"
        },
        "id": "0UA83cbGTSjj",
        "outputId": "67608bbc-d616-41d1-a6c7-6624c823cff9"
      },
      "source": [
        "#슬라이싱으로 여러 개 원소 선택 (index 번호 사용)\n",
        "obj[1:3]"
      ],
      "execution_count": null,
      "outputs": [
        {
          "output_type": "execute_result",
          "data": {
            "text/plain": [
              "Daegu    15\n",
              "Busan    30\n",
              "dtype: int64"
            ]
          },
          "metadata": {},
          "execution_count": 38
        }
      ]
    },
    {
      "cell_type": "markdown",
      "metadata": {
        "id": "9RWXwFvjSGo5"
      },
      "source": [
        "### DataFrame\n",
        "- 행과 열로 구성된 2차원 배열\n",
        "- 여러개의 Series(vector)가 모여 DataFrame(matrix)이 됨"
      ]
    },
    {
      "cell_type": "code",
      "metadata": {
        "colab": {
          "base_uri": "https://localhost:8080/"
        },
        "id": "ivO15YDaSEhG",
        "outputId": "a03781b7-9e3b-41cc-ff22-2281c2651a2c"
      },
      "source": [
        "#Dictionary로 프레임 생성\n",
        "#열로 변환\n",
        "data = {'Seoul':[51621,307], 'Daegu':[10631,6], 'Busan':[6360,25]}\n",
        "data"
      ],
      "execution_count": null,
      "outputs": [
        {
          "output_type": "execute_result",
          "data": {
            "text/plain": [
              "{'Busan': [6360, 25], 'Daegu': [10631, 6], 'Seoul': [51621, 307]}"
            ]
          },
          "metadata": {},
          "execution_count": 39
        }
      ]
    },
    {
      "cell_type": "code",
      "metadata": {
        "colab": {
          "base_uri": "https://localhost:8080/",
          "height": 110
        },
        "id": "2oHdeoyqSJNy",
        "outputId": "3a9673bd-ea57-4a1e-d6ed-cf52f00f3c9a"
      },
      "source": [
        "df = pd.DataFrame(data)\n",
        "df\n",
        "#Column들이 생기면서 그 안에 values들이 들어감. index도 자동으로 생성됨."
      ],
      "execution_count": null,
      "outputs": [
        {
          "output_type": "execute_result",
          "data": {
            "text/html": [
              "<div>\n",
              "<style scoped>\n",
              "    .dataframe tbody tr th:only-of-type {\n",
              "        vertical-align: middle;\n",
              "    }\n",
              "\n",
              "    .dataframe tbody tr th {\n",
              "        vertical-align: top;\n",
              "    }\n",
              "\n",
              "    .dataframe thead th {\n",
              "        text-align: right;\n",
              "    }\n",
              "</style>\n",
              "<table border=\"1\" class=\"dataframe\">\n",
              "  <thead>\n",
              "    <tr style=\"text-align: right;\">\n",
              "      <th></th>\n",
              "      <th>Seoul</th>\n",
              "      <th>Daegu</th>\n",
              "      <th>Busan</th>\n",
              "    </tr>\n",
              "  </thead>\n",
              "  <tbody>\n",
              "    <tr>\n",
              "      <th>0</th>\n",
              "      <td>51621</td>\n",
              "      <td>10631</td>\n",
              "      <td>6360</td>\n",
              "    </tr>\n",
              "    <tr>\n",
              "      <th>1</th>\n",
              "      <td>307</td>\n",
              "      <td>6</td>\n",
              "      <td>25</td>\n",
              "    </tr>\n",
              "  </tbody>\n",
              "</table>\n",
              "</div>"
            ],
            "text/plain": [
              "   Seoul  Daegu  Busan\n",
              "0  51621  10631   6360\n",
              "1    307      6     25"
            ]
          },
          "metadata": {},
          "execution_count": 40
        }
      ]
    },
    {
      "cell_type": "code",
      "metadata": {
        "colab": {
          "base_uri": "https://localhost:8080/"
        },
        "id": "HhKeJ9uESLC0",
        "outputId": "c4188010-1841-4111-a88a-99130f5526f0"
      },
      "source": [
        "# List로 프레임 생성\n",
        "# 행으로 변환\n",
        "data = [['Samsung', 80400,400], ['SK',12300,500], ['KaKao',15700,-2500], ['Naver',41000,-4000]]\n",
        "data"
      ],
      "execution_count": null,
      "outputs": [
        {
          "output_type": "execute_result",
          "data": {
            "text/plain": [
              "[['Samsung', 80400, 400],\n",
              " ['SK', 12300, 500],\n",
              " ['KaKao', 15700, -2500],\n",
              " ['Naver', 41000, -4000]]"
            ]
          },
          "metadata": {},
          "execution_count": 41
        }
      ]
    },
    {
      "cell_type": "code",
      "metadata": {
        "colab": {
          "base_uri": "https://localhost:8080/",
          "height": 172
        },
        "id": "i-XJZ4hRSMAD",
        "outputId": "ca4f65c3-fb0a-408c-de2f-335f44d02b7e"
      },
      "source": [
        "df = pd.DataFrame(data)\n",
        "df\n",
        "#index는 모두 자동으로 생성되고, Column이 아니라 원소로 다 들어갔음"
      ],
      "execution_count": null,
      "outputs": [
        {
          "output_type": "execute_result",
          "data": {
            "text/html": [
              "<div>\n",
              "<style scoped>\n",
              "    .dataframe tbody tr th:only-of-type {\n",
              "        vertical-align: middle;\n",
              "    }\n",
              "\n",
              "    .dataframe tbody tr th {\n",
              "        vertical-align: top;\n",
              "    }\n",
              "\n",
              "    .dataframe thead th {\n",
              "        text-align: right;\n",
              "    }\n",
              "</style>\n",
              "<table border=\"1\" class=\"dataframe\">\n",
              "  <thead>\n",
              "    <tr style=\"text-align: right;\">\n",
              "      <th></th>\n",
              "      <th>0</th>\n",
              "      <th>1</th>\n",
              "      <th>2</th>\n",
              "    </tr>\n",
              "  </thead>\n",
              "  <tbody>\n",
              "    <tr>\n",
              "      <th>0</th>\n",
              "      <td>Samsung</td>\n",
              "      <td>80400</td>\n",
              "      <td>400</td>\n",
              "    </tr>\n",
              "    <tr>\n",
              "      <th>1</th>\n",
              "      <td>SK</td>\n",
              "      <td>12300</td>\n",
              "      <td>500</td>\n",
              "    </tr>\n",
              "    <tr>\n",
              "      <th>2</th>\n",
              "      <td>KaKao</td>\n",
              "      <td>15700</td>\n",
              "      <td>-2500</td>\n",
              "    </tr>\n",
              "    <tr>\n",
              "      <th>3</th>\n",
              "      <td>Naver</td>\n",
              "      <td>41000</td>\n",
              "      <td>-4000</td>\n",
              "    </tr>\n",
              "  </tbody>\n",
              "</table>\n",
              "</div>"
            ],
            "text/plain": [
              "         0      1     2\n",
              "0  Samsung  80400   400\n",
              "1       SK  12300   500\n",
              "2    KaKao  15700 -2500\n",
              "3    Naver  41000 -4000"
            ]
          },
          "metadata": {},
          "execution_count": 64
        }
      ]
    },
    {
      "cell_type": "code",
      "metadata": {
        "colab": {
          "base_uri": "https://localhost:8080/",
          "height": 172
        },
        "id": "c0d1v4nYSNcU",
        "outputId": "a7210356-2f4b-44bd-eb66-b5b8c453eb56"
      },
      "source": [
        "# 임의의 행 인덱스, 열 이름\n",
        "df.index = ['1st', '2nd', '3rd', '4th']\n",
        "df.columns = ['title', 'price', 'change']\n",
        "df"
      ],
      "execution_count": null,
      "outputs": [
        {
          "output_type": "execute_result",
          "data": {
            "text/html": [
              "<div>\n",
              "<style scoped>\n",
              "    .dataframe tbody tr th:only-of-type {\n",
              "        vertical-align: middle;\n",
              "    }\n",
              "\n",
              "    .dataframe tbody tr th {\n",
              "        vertical-align: top;\n",
              "    }\n",
              "\n",
              "    .dataframe thead th {\n",
              "        text-align: right;\n",
              "    }\n",
              "</style>\n",
              "<table border=\"1\" class=\"dataframe\">\n",
              "  <thead>\n",
              "    <tr style=\"text-align: right;\">\n",
              "      <th></th>\n",
              "      <th>title</th>\n",
              "      <th>price</th>\n",
              "      <th>change</th>\n",
              "    </tr>\n",
              "  </thead>\n",
              "  <tbody>\n",
              "    <tr>\n",
              "      <th>1st</th>\n",
              "      <td>Samsung</td>\n",
              "      <td>80400</td>\n",
              "      <td>400</td>\n",
              "    </tr>\n",
              "    <tr>\n",
              "      <th>2nd</th>\n",
              "      <td>SK</td>\n",
              "      <td>12300</td>\n",
              "      <td>500</td>\n",
              "    </tr>\n",
              "    <tr>\n",
              "      <th>3rd</th>\n",
              "      <td>KaKao</td>\n",
              "      <td>15700</td>\n",
              "      <td>-2500</td>\n",
              "    </tr>\n",
              "    <tr>\n",
              "      <th>4th</th>\n",
              "      <td>Naver</td>\n",
              "      <td>41000</td>\n",
              "      <td>-4000</td>\n",
              "    </tr>\n",
              "  </tbody>\n",
              "</table>\n",
              "</div>"
            ],
            "text/plain": [
              "       title  price  change\n",
              "1st  Samsung  80400     400\n",
              "2nd       SK  12300     500\n",
              "3rd    KaKao  15700   -2500\n",
              "4th    Naver  41000   -4000"
            ]
          },
          "metadata": {},
          "execution_count": 65
        }
      ]
    },
    {
      "cell_type": "markdown",
      "metadata": {
        "id": "HwUeW6mLTrmL"
      },
      "source": [
        "### 행과 열 삭제 - .drop()\n",
        "- 행 삭제: .drop(index[,inplace=True])"
      ]
    },
    {
      "cell_type": "code",
      "metadata": {
        "colab": {
          "base_uri": "https://localhost:8080/",
          "height": 172
        },
        "id": "KGhEUn_tSOoJ",
        "outputId": "45a6a066-4bd0-4d76-d370-870687f8c380"
      },
      "source": [
        "df"
      ],
      "execution_count": null,
      "outputs": [
        {
          "output_type": "execute_result",
          "data": {
            "text/html": [
              "<div>\n",
              "<style scoped>\n",
              "    .dataframe tbody tr th:only-of-type {\n",
              "        vertical-align: middle;\n",
              "    }\n",
              "\n",
              "    .dataframe tbody tr th {\n",
              "        vertical-align: top;\n",
              "    }\n",
              "\n",
              "    .dataframe thead th {\n",
              "        text-align: right;\n",
              "    }\n",
              "</style>\n",
              "<table border=\"1\" class=\"dataframe\">\n",
              "  <thead>\n",
              "    <tr style=\"text-align: right;\">\n",
              "      <th></th>\n",
              "      <th>title</th>\n",
              "      <th>price</th>\n",
              "      <th>change</th>\n",
              "    </tr>\n",
              "  </thead>\n",
              "  <tbody>\n",
              "    <tr>\n",
              "      <th>1st</th>\n",
              "      <td>Samsung</td>\n",
              "      <td>80400</td>\n",
              "      <td>400</td>\n",
              "    </tr>\n",
              "    <tr>\n",
              "      <th>2nd</th>\n",
              "      <td>SK</td>\n",
              "      <td>12300</td>\n",
              "      <td>500</td>\n",
              "    </tr>\n",
              "    <tr>\n",
              "      <th>3rd</th>\n",
              "      <td>KaKao</td>\n",
              "      <td>15700</td>\n",
              "      <td>-2500</td>\n",
              "    </tr>\n",
              "    <tr>\n",
              "      <th>4th</th>\n",
              "      <td>Naver</td>\n",
              "      <td>41000</td>\n",
              "      <td>-4000</td>\n",
              "    </tr>\n",
              "  </tbody>\n",
              "</table>\n",
              "</div>"
            ],
            "text/plain": [
              "       title  price  change\n",
              "1st  Samsung  80400     400\n",
              "2nd       SK  12300     500\n",
              "3rd    KaKao  15700   -2500\n",
              "4th    Naver  41000   -4000"
            ]
          },
          "metadata": {},
          "execution_count": 66
        }
      ]
    },
    {
      "cell_type": "code",
      "metadata": {
        "colab": {
          "base_uri": "https://localhost:8080/",
          "height": 142
        },
        "id": "Pg6nF5f4T3uC",
        "outputId": "09442744-9189-4efd-b9de-1a731e8f12ab"
      },
      "source": [
        "#일시적으로 없애고 출력. 원본은 남아있음.\n",
        "newdf = df.drop('4th')\n",
        "newdf"
      ],
      "execution_count": null,
      "outputs": [
        {
          "output_type": "execute_result",
          "data": {
            "text/html": [
              "<div>\n",
              "<style scoped>\n",
              "    .dataframe tbody tr th:only-of-type {\n",
              "        vertical-align: middle;\n",
              "    }\n",
              "\n",
              "    .dataframe tbody tr th {\n",
              "        vertical-align: top;\n",
              "    }\n",
              "\n",
              "    .dataframe thead th {\n",
              "        text-align: right;\n",
              "    }\n",
              "</style>\n",
              "<table border=\"1\" class=\"dataframe\">\n",
              "  <thead>\n",
              "    <tr style=\"text-align: right;\">\n",
              "      <th></th>\n",
              "      <th>title</th>\n",
              "      <th>price</th>\n",
              "      <th>change</th>\n",
              "    </tr>\n",
              "  </thead>\n",
              "  <tbody>\n",
              "    <tr>\n",
              "      <th>1st</th>\n",
              "      <td>Samsung</td>\n",
              "      <td>80400</td>\n",
              "      <td>400</td>\n",
              "    </tr>\n",
              "    <tr>\n",
              "      <th>2nd</th>\n",
              "      <td>SK</td>\n",
              "      <td>12300</td>\n",
              "      <td>500</td>\n",
              "    </tr>\n",
              "    <tr>\n",
              "      <th>3rd</th>\n",
              "      <td>KaKao</td>\n",
              "      <td>15700</td>\n",
              "      <td>-2500</td>\n",
              "    </tr>\n",
              "  </tbody>\n",
              "</table>\n",
              "</div>"
            ],
            "text/plain": [
              "       title  price  change\n",
              "1st  Samsung  80400     400\n",
              "2nd       SK  12300     500\n",
              "3rd    KaKao  15700   -2500"
            ]
          },
          "metadata": {},
          "execution_count": 69
        }
      ]
    },
    {
      "cell_type": "code",
      "metadata": {
        "colab": {
          "base_uri": "https://localhost:8080/",
          "height": 172
        },
        "id": "gjxasY5PT5Eg",
        "outputId": "a9401196-79d9-45ef-e922-428e61d9862f"
      },
      "source": [
        "# 원본은 삭제되지 않았음을 확인\n",
        "df"
      ],
      "execution_count": null,
      "outputs": [
        {
          "output_type": "execute_result",
          "data": {
            "text/html": [
              "<div>\n",
              "<style scoped>\n",
              "    .dataframe tbody tr th:only-of-type {\n",
              "        vertical-align: middle;\n",
              "    }\n",
              "\n",
              "    .dataframe tbody tr th {\n",
              "        vertical-align: top;\n",
              "    }\n",
              "\n",
              "    .dataframe thead th {\n",
              "        text-align: right;\n",
              "    }\n",
              "</style>\n",
              "<table border=\"1\" class=\"dataframe\">\n",
              "  <thead>\n",
              "    <tr style=\"text-align: right;\">\n",
              "      <th></th>\n",
              "      <th>title</th>\n",
              "      <th>price</th>\n",
              "      <th>change</th>\n",
              "    </tr>\n",
              "  </thead>\n",
              "  <tbody>\n",
              "    <tr>\n",
              "      <th>1st</th>\n",
              "      <td>Samsung</td>\n",
              "      <td>80400</td>\n",
              "      <td>400</td>\n",
              "    </tr>\n",
              "    <tr>\n",
              "      <th>2nd</th>\n",
              "      <td>SK</td>\n",
              "      <td>12300</td>\n",
              "      <td>500</td>\n",
              "    </tr>\n",
              "    <tr>\n",
              "      <th>3rd</th>\n",
              "      <td>KaKao</td>\n",
              "      <td>15700</td>\n",
              "      <td>-2500</td>\n",
              "    </tr>\n",
              "    <tr>\n",
              "      <th>4th</th>\n",
              "      <td>Naver</td>\n",
              "      <td>41000</td>\n",
              "      <td>-4000</td>\n",
              "    </tr>\n",
              "  </tbody>\n",
              "</table>\n",
              "</div>"
            ],
            "text/plain": [
              "       title  price  change\n",
              "1st  Samsung  80400     400\n",
              "2nd       SK  12300     500\n",
              "3rd    KaKao  15700   -2500\n",
              "4th    Naver  41000   -4000"
            ]
          },
          "metadata": {},
          "execution_count": 71
        }
      ]
    },
    {
      "cell_type": "code",
      "metadata": {
        "colab": {
          "base_uri": "https://localhost:8080/",
          "height": 142
        },
        "id": "8pDWFcxvUSFC",
        "outputId": "68674ccc-691d-4f7c-9768-6459d25932dd"
      },
      "source": [
        "# 원본 df의 행을 삭제 (inplace 옵션 True로 명시)\n",
        "df.drop('4th', inplace=True)\n",
        "df"
      ],
      "execution_count": null,
      "outputs": [
        {
          "output_type": "execute_result",
          "data": {
            "text/html": [
              "<div>\n",
              "<style scoped>\n",
              "    .dataframe tbody tr th:only-of-type {\n",
              "        vertical-align: middle;\n",
              "    }\n",
              "\n",
              "    .dataframe tbody tr th {\n",
              "        vertical-align: top;\n",
              "    }\n",
              "\n",
              "    .dataframe thead th {\n",
              "        text-align: right;\n",
              "    }\n",
              "</style>\n",
              "<table border=\"1\" class=\"dataframe\">\n",
              "  <thead>\n",
              "    <tr style=\"text-align: right;\">\n",
              "      <th></th>\n",
              "      <th>title</th>\n",
              "      <th>price</th>\n",
              "      <th>change</th>\n",
              "    </tr>\n",
              "  </thead>\n",
              "  <tbody>\n",
              "    <tr>\n",
              "      <th>1st</th>\n",
              "      <td>Samsung</td>\n",
              "      <td>80400</td>\n",
              "      <td>400</td>\n",
              "    </tr>\n",
              "    <tr>\n",
              "      <th>2nd</th>\n",
              "      <td>SK</td>\n",
              "      <td>12300</td>\n",
              "      <td>500</td>\n",
              "    </tr>\n",
              "    <tr>\n",
              "      <th>3rd</th>\n",
              "      <td>KaKao</td>\n",
              "      <td>15700</td>\n",
              "      <td>-2500</td>\n",
              "    </tr>\n",
              "  </tbody>\n",
              "</table>\n",
              "</div>"
            ],
            "text/plain": [
              "       title  price  change\n",
              "1st  Samsung  80400     400\n",
              "2nd       SK  12300     500\n",
              "3rd    KaKao  15700   -2500"
            ]
          },
          "metadata": {},
          "execution_count": 72
        }
      ]
    },
    {
      "cell_type": "markdown",
      "metadata": {
        "id": "zPfN-BXNUo1Y"
      },
      "source": [
        "- 열 삭제 .drop()"
      ]
    },
    {
      "cell_type": "code",
      "metadata": {
        "colab": {
          "base_uri": "https://localhost:8080/",
          "height": 142
        },
        "id": "cDaMqT17Um9L",
        "outputId": "afba8d4e-c6c6-4010-e48c-5449af2c2acc"
      },
      "source": [
        "# 해당 열이 삭제된 새로운 df를 반환\n",
        "# 원본 열을 삭제하려면 행과 동일하게 inplace=True 명시\n",
        "newDf = df.drop('price', axis=1)\n",
        "newDf"
      ],
      "execution_count": null,
      "outputs": [
        {
          "output_type": "execute_result",
          "data": {
            "text/html": [
              "<div>\n",
              "<style scoped>\n",
              "    .dataframe tbody tr th:only-of-type {\n",
              "        vertical-align: middle;\n",
              "    }\n",
              "\n",
              "    .dataframe tbody tr th {\n",
              "        vertical-align: top;\n",
              "    }\n",
              "\n",
              "    .dataframe thead th {\n",
              "        text-align: right;\n",
              "    }\n",
              "</style>\n",
              "<table border=\"1\" class=\"dataframe\">\n",
              "  <thead>\n",
              "    <tr style=\"text-align: right;\">\n",
              "      <th></th>\n",
              "      <th>title</th>\n",
              "      <th>change</th>\n",
              "    </tr>\n",
              "  </thead>\n",
              "  <tbody>\n",
              "    <tr>\n",
              "      <th>1st</th>\n",
              "      <td>Samsung</td>\n",
              "      <td>400</td>\n",
              "    </tr>\n",
              "    <tr>\n",
              "      <th>2nd</th>\n",
              "      <td>SK</td>\n",
              "      <td>500</td>\n",
              "    </tr>\n",
              "    <tr>\n",
              "      <th>3rd</th>\n",
              "      <td>KaKao</td>\n",
              "      <td>-2500</td>\n",
              "    </tr>\n",
              "  </tbody>\n",
              "</table>\n",
              "</div>"
            ],
            "text/plain": [
              "       title  change\n",
              "1st  Samsung     400\n",
              "2nd       SK     500\n",
              "3rd    KaKao   -2500"
            ]
          },
          "metadata": {},
          "execution_count": 73
        }
      ]
    },
    {
      "cell_type": "code",
      "metadata": {
        "colab": {
          "base_uri": "https://localhost:8080/",
          "height": 142
        },
        "id": "bXq43ZVnUsi8",
        "outputId": "cbcdb2f7-c57c-42ff-cb08-df3cd4e93e5c"
      },
      "source": [
        "# 원본은 삭제되지 않았음을 확인\n",
        "df"
      ],
      "execution_count": null,
      "outputs": [
        {
          "output_type": "execute_result",
          "data": {
            "text/html": [
              "<div>\n",
              "<style scoped>\n",
              "    .dataframe tbody tr th:only-of-type {\n",
              "        vertical-align: middle;\n",
              "    }\n",
              "\n",
              "    .dataframe tbody tr th {\n",
              "        vertical-align: top;\n",
              "    }\n",
              "\n",
              "    .dataframe thead th {\n",
              "        text-align: right;\n",
              "    }\n",
              "</style>\n",
              "<table border=\"1\" class=\"dataframe\">\n",
              "  <thead>\n",
              "    <tr style=\"text-align: right;\">\n",
              "      <th></th>\n",
              "      <th>title</th>\n",
              "      <th>price</th>\n",
              "      <th>change</th>\n",
              "    </tr>\n",
              "  </thead>\n",
              "  <tbody>\n",
              "    <tr>\n",
              "      <th>1st</th>\n",
              "      <td>Samsung</td>\n",
              "      <td>80400</td>\n",
              "      <td>400</td>\n",
              "    </tr>\n",
              "    <tr>\n",
              "      <th>2nd</th>\n",
              "      <td>SK</td>\n",
              "      <td>12300</td>\n",
              "      <td>500</td>\n",
              "    </tr>\n",
              "    <tr>\n",
              "      <th>3rd</th>\n",
              "      <td>KaKao</td>\n",
              "      <td>15700</td>\n",
              "      <td>-2500</td>\n",
              "    </tr>\n",
              "  </tbody>\n",
              "</table>\n",
              "</div>"
            ],
            "text/plain": [
              "       title  price  change\n",
              "1st  Samsung  80400     400\n",
              "2nd       SK  12300     500\n",
              "3rd    KaKao  15700   -2500"
            ]
          },
          "metadata": {},
          "execution_count": 74
        }
      ]
    },
    {
      "cell_type": "markdown",
      "metadata": {
        "id": "0s3l7BkTUyu3"
      },
      "source": [
        "### 행과 열 선택: .loc[]. .iloc[]"
      ]
    },
    {
      "cell_type": "code",
      "metadata": {
        "colab": {
          "base_uri": "https://localhost:8080/",
          "height": 172
        },
        "id": "382z0f1QUtxK",
        "outputId": "abc55867-334f-4499-c042-21aec395d534"
      },
      "source": [
        "data = [['Samsung', 80400, 400], ['SK', 12300, 500], ['Kakao', 15700, -2500], ['naver', 410000, -4000]]\n",
        "df = pd.DataFrame(data)\n",
        "df.index=['1st', '2nd', '3rd', '4th']\n",
        "df.columns=['title', 'price', 'change']\n",
        "df"
      ],
      "execution_count": null,
      "outputs": [
        {
          "output_type": "execute_result",
          "data": {
            "text/html": [
              "<div>\n",
              "<style scoped>\n",
              "    .dataframe tbody tr th:only-of-type {\n",
              "        vertical-align: middle;\n",
              "    }\n",
              "\n",
              "    .dataframe tbody tr th {\n",
              "        vertical-align: top;\n",
              "    }\n",
              "\n",
              "    .dataframe thead th {\n",
              "        text-align: right;\n",
              "    }\n",
              "</style>\n",
              "<table border=\"1\" class=\"dataframe\">\n",
              "  <thead>\n",
              "    <tr style=\"text-align: right;\">\n",
              "      <th></th>\n",
              "      <th>title</th>\n",
              "      <th>price</th>\n",
              "      <th>change</th>\n",
              "    </tr>\n",
              "  </thead>\n",
              "  <tbody>\n",
              "    <tr>\n",
              "      <th>1st</th>\n",
              "      <td>Samsung</td>\n",
              "      <td>80400</td>\n",
              "      <td>400</td>\n",
              "    </tr>\n",
              "    <tr>\n",
              "      <th>2nd</th>\n",
              "      <td>SK</td>\n",
              "      <td>12300</td>\n",
              "      <td>500</td>\n",
              "    </tr>\n",
              "    <tr>\n",
              "      <th>3rd</th>\n",
              "      <td>Kakao</td>\n",
              "      <td>15700</td>\n",
              "      <td>-2500</td>\n",
              "    </tr>\n",
              "    <tr>\n",
              "      <th>4th</th>\n",
              "      <td>naver</td>\n",
              "      <td>410000</td>\n",
              "      <td>-4000</td>\n",
              "    </tr>\n",
              "  </tbody>\n",
              "</table>\n",
              "</div>"
            ],
            "text/plain": [
              "       title   price  change\n",
              "1st  Samsung   80400     400\n",
              "2nd       SK   12300     500\n",
              "3rd    Kakao   15700   -2500\n",
              "4th    naver  410000   -4000"
            ]
          },
          "metadata": {},
          "execution_count": 75
        }
      ]
    },
    {
      "cell_type": "markdown",
      "metadata": {
        "id": "tjhbU5RnU7Cp"
      },
      "source": [
        "- 행 선택"
      ]
    },
    {
      "cell_type": "code",
      "metadata": {
        "colab": {
          "base_uri": "https://localhost:8080/"
        },
        "id": "wrFcB_5CU3s_",
        "outputId": "bf0c8fa7-8980-47ef-8e7f-0ec0170eb218"
      },
      "source": [
        "# 1개 행 선택 (인덱스 이름 사용) - .loc[인덱스 이름]\n",
        "# 행과 열이 바껴서 출력됨(원본이 바뀌는건 아님)\n",
        "df.loc['3rd']"
      ],
      "execution_count": null,
      "outputs": [
        {
          "output_type": "execute_result",
          "data": {
            "text/plain": [
              "title     Kakao\n",
              "price     15700\n",
              "change    -2500\n",
              "Name: 3rd, dtype: object"
            ]
          },
          "metadata": {},
          "execution_count": 76
        }
      ]
    },
    {
      "cell_type": "code",
      "metadata": {
        "colab": {
          "base_uri": "https://localhost:8080/"
        },
        "id": "klbck8MoU9U-",
        "outputId": "453f1f1b-416a-4232-f97e-4fdc3b8872fb"
      },
      "source": [
        "# 1개 행 선택 (인덱스 번호 사용) - .iloc[인덱스 번호]\n",
        "# 행과 열이 바뀜\n",
        "df.iloc[1]"
      ],
      "execution_count": null,
      "outputs": [
        {
          "output_type": "execute_result",
          "data": {
            "text/plain": [
              "title        SK\n",
              "price     12300\n",
              "change      500\n",
              "Name: 2nd, dtype: object"
            ]
          },
          "metadata": {},
          "execution_count": 77
        }
      ]
    },
    {
      "cell_type": "code",
      "metadata": {
        "colab": {
          "base_uri": "https://localhost:8080/",
          "height": 110
        },
        "id": "n08_a1IgU-lv",
        "outputId": "edc3b132-8d88-48d7-ab2b-350077b04bc9"
      },
      "source": [
        "# 여러 행 선택 loc[[인덱스 이름, 인덱스 이름 , ,,,]] 사용\n",
        "df.loc[['3rd', '2nd']]"
      ],
      "execution_count": null,
      "outputs": [
        {
          "output_type": "execute_result",
          "data": {
            "text/html": [
              "<div>\n",
              "<style scoped>\n",
              "    .dataframe tbody tr th:only-of-type {\n",
              "        vertical-align: middle;\n",
              "    }\n",
              "\n",
              "    .dataframe tbody tr th {\n",
              "        vertical-align: top;\n",
              "    }\n",
              "\n",
              "    .dataframe thead th {\n",
              "        text-align: right;\n",
              "    }\n",
              "</style>\n",
              "<table border=\"1\" class=\"dataframe\">\n",
              "  <thead>\n",
              "    <tr style=\"text-align: right;\">\n",
              "      <th></th>\n",
              "      <th>title</th>\n",
              "      <th>price</th>\n",
              "      <th>change</th>\n",
              "    </tr>\n",
              "  </thead>\n",
              "  <tbody>\n",
              "    <tr>\n",
              "      <th>3rd</th>\n",
              "      <td>Kakao</td>\n",
              "      <td>15700</td>\n",
              "      <td>-2500</td>\n",
              "    </tr>\n",
              "    <tr>\n",
              "      <th>2nd</th>\n",
              "      <td>SK</td>\n",
              "      <td>12300</td>\n",
              "      <td>500</td>\n",
              "    </tr>\n",
              "  </tbody>\n",
              "</table>\n",
              "</div>"
            ],
            "text/plain": [
              "     title  price  change\n",
              "3rd  Kakao  15700   -2500\n",
              "2nd     SK  12300     500"
            ]
          },
          "metadata": {},
          "execution_count": 78
        }
      ]
    },
    {
      "cell_type": "code",
      "metadata": {
        "colab": {
          "base_uri": "https://localhost:8080/",
          "height": 110
        },
        "id": "In2HHbpEU_vd",
        "outputId": "3fa388e7-798b-41c7-9d23-599e260d7833"
      },
      "source": [
        "# 여러 행 선택 iloc[[인덱스 번호, 인덱스 번호 , ,,,]] 사용\n",
        "df.iloc[[2, 1]]"
      ],
      "execution_count": null,
      "outputs": [
        {
          "output_type": "execute_result",
          "data": {
            "text/html": [
              "<div>\n",
              "<style scoped>\n",
              "    .dataframe tbody tr th:only-of-type {\n",
              "        vertical-align: middle;\n",
              "    }\n",
              "\n",
              "    .dataframe tbody tr th {\n",
              "        vertical-align: top;\n",
              "    }\n",
              "\n",
              "    .dataframe thead th {\n",
              "        text-align: right;\n",
              "    }\n",
              "</style>\n",
              "<table border=\"1\" class=\"dataframe\">\n",
              "  <thead>\n",
              "    <tr style=\"text-align: right;\">\n",
              "      <th></th>\n",
              "      <th>title</th>\n",
              "      <th>price</th>\n",
              "      <th>change</th>\n",
              "    </tr>\n",
              "  </thead>\n",
              "  <tbody>\n",
              "    <tr>\n",
              "      <th>3rd</th>\n",
              "      <td>Kakao</td>\n",
              "      <td>15700</td>\n",
              "      <td>-2500</td>\n",
              "    </tr>\n",
              "    <tr>\n",
              "      <th>2nd</th>\n",
              "      <td>SK</td>\n",
              "      <td>12300</td>\n",
              "      <td>500</td>\n",
              "    </tr>\n",
              "  </tbody>\n",
              "</table>\n",
              "</div>"
            ],
            "text/plain": [
              "     title  price  change\n",
              "3rd  Kakao  15700   -2500\n",
              "2nd     SK  12300     500"
            ]
          },
          "metadata": {},
          "execution_count": 79
        }
      ]
    },
    {
      "cell_type": "code",
      "metadata": {
        "colab": {
          "base_uri": "https://localhost:8080/",
          "height": 142
        },
        "id": "NIFKuCV-VBG3",
        "outputId": "bab7acf6-2f9e-46fd-a20c-55492531a1b8"
      },
      "source": [
        "#여러 행 선택 슬라이싱 사용 - loc   end가 n-1이 아님\n",
        "df.loc['1st':'3rd']"
      ],
      "execution_count": null,
      "outputs": [
        {
          "output_type": "execute_result",
          "data": {
            "text/html": [
              "<div>\n",
              "<style scoped>\n",
              "    .dataframe tbody tr th:only-of-type {\n",
              "        vertical-align: middle;\n",
              "    }\n",
              "\n",
              "    .dataframe tbody tr th {\n",
              "        vertical-align: top;\n",
              "    }\n",
              "\n",
              "    .dataframe thead th {\n",
              "        text-align: right;\n",
              "    }\n",
              "</style>\n",
              "<table border=\"1\" class=\"dataframe\">\n",
              "  <thead>\n",
              "    <tr style=\"text-align: right;\">\n",
              "      <th></th>\n",
              "      <th>title</th>\n",
              "      <th>price</th>\n",
              "      <th>change</th>\n",
              "    </tr>\n",
              "  </thead>\n",
              "  <tbody>\n",
              "    <tr>\n",
              "      <th>1st</th>\n",
              "      <td>Samsung</td>\n",
              "      <td>80400</td>\n",
              "      <td>400</td>\n",
              "    </tr>\n",
              "    <tr>\n",
              "      <th>2nd</th>\n",
              "      <td>SK</td>\n",
              "      <td>12300</td>\n",
              "      <td>500</td>\n",
              "    </tr>\n",
              "    <tr>\n",
              "      <th>3rd</th>\n",
              "      <td>Kakao</td>\n",
              "      <td>15700</td>\n",
              "      <td>-2500</td>\n",
              "    </tr>\n",
              "  </tbody>\n",
              "</table>\n",
              "</div>"
            ],
            "text/plain": [
              "       title  price  change\n",
              "1st  Samsung  80400     400\n",
              "2nd       SK  12300     500\n",
              "3rd    Kakao  15700   -2500"
            ]
          },
          "metadata": {},
          "execution_count": 80
        }
      ]
    },
    {
      "cell_type": "code",
      "metadata": {
        "colab": {
          "base_uri": "https://localhost:8080/",
          "height": 110
        },
        "id": "baeB5g33VCaL",
        "outputId": "aa1eb698-e80b-4b3a-ae7f-ba7e5858fa1b"
      },
      "source": [
        "#여러 행 선택 슬라이싱 사용 - iloc  * n-1까지 선택\n",
        "df.iloc[0:2]"
      ],
      "execution_count": null,
      "outputs": [
        {
          "output_type": "execute_result",
          "data": {
            "text/html": [
              "<div>\n",
              "<style scoped>\n",
              "    .dataframe tbody tr th:only-of-type {\n",
              "        vertical-align: middle;\n",
              "    }\n",
              "\n",
              "    .dataframe tbody tr th {\n",
              "        vertical-align: top;\n",
              "    }\n",
              "\n",
              "    .dataframe thead th {\n",
              "        text-align: right;\n",
              "    }\n",
              "</style>\n",
              "<table border=\"1\" class=\"dataframe\">\n",
              "  <thead>\n",
              "    <tr style=\"text-align: right;\">\n",
              "      <th></th>\n",
              "      <th>title</th>\n",
              "      <th>price</th>\n",
              "      <th>change</th>\n",
              "    </tr>\n",
              "  </thead>\n",
              "  <tbody>\n",
              "    <tr>\n",
              "      <th>1st</th>\n",
              "      <td>Samsung</td>\n",
              "      <td>80400</td>\n",
              "      <td>400</td>\n",
              "    </tr>\n",
              "    <tr>\n",
              "      <th>2nd</th>\n",
              "      <td>SK</td>\n",
              "      <td>12300</td>\n",
              "      <td>500</td>\n",
              "    </tr>\n",
              "  </tbody>\n",
              "</table>\n",
              "</div>"
            ],
            "text/plain": [
              "       title  price  change\n",
              "1st  Samsung  80400     400\n",
              "2nd       SK  12300     500"
            ]
          },
          "metadata": {},
          "execution_count": 81
        }
      ]
    },
    {
      "cell_type": "markdown",
      "metadata": {
        "id": "40aaQ9WxVKea"
      },
      "source": [
        "- 열 선택"
      ]
    },
    {
      "cell_type": "code",
      "metadata": {
        "colab": {
          "base_uri": "https://localhost:8080/"
        },
        "id": "lwAxbI0ZVDmZ",
        "outputId": "57779fe1-099d-4161-c1c9-cfb8afc19395"
      },
      "source": [
        "print(df)\n",
        "# 열을 열의 인덱스 이름으로 가져오기\n",
        "df['title']"
      ],
      "execution_count": null,
      "outputs": [
        {
          "output_type": "stream",
          "name": "stdout",
          "text": [
            "       title   price  change\n",
            "1st  Samsung   80400     400\n",
            "2nd       SK   12300     500\n",
            "3rd    Kakao   15700   -2500\n",
            "4th    naver  410000   -4000\n"
          ]
        },
        {
          "output_type": "execute_result",
          "data": {
            "text/plain": [
              "1st    Samsung\n",
              "2nd         SK\n",
              "3rd      Kakao\n",
              "4th      naver\n",
              "Name: title, dtype: object"
            ]
          },
          "metadata": {},
          "execution_count": 82
        }
      ]
    },
    {
      "cell_type": "code",
      "metadata": {
        "colab": {
          "base_uri": "https://localhost:8080/"
        },
        "id": "7nDD6W0rVMSD",
        "outputId": "48f85f73-859c-4170-f16e-0bce4f454f5b"
      },
      "source": [
        "# 열을 열의 인덱스 번호로 가져오기\n",
        "df.iloc[:, 1]\n",
        "df['price']"
      ],
      "execution_count": null,
      "outputs": [
        {
          "output_type": "execute_result",
          "data": {
            "text/plain": [
              "1st     80400\n",
              "2nd     12300\n",
              "3rd     15700\n",
              "4th    410000\n",
              "Name: price, dtype: int64"
            ]
          },
          "metadata": {},
          "execution_count": 83
        }
      ]
    },
    {
      "cell_type": "code",
      "metadata": {
        "colab": {
          "base_uri": "https://localhost:8080/",
          "height": 256
        },
        "id": "qNCdb2-UVOh0",
        "outputId": "30684a32-970e-42e8-863d-5637126fde43"
      },
      "source": [
        "# 열을 슬라이싱으로 가져오기\n",
        "print(df)\n",
        "df.iloc[:, 1:3]"
      ],
      "execution_count": null,
      "outputs": [
        {
          "output_type": "stream",
          "name": "stdout",
          "text": [
            "       title   price  change\n",
            "1st  Samsung   80400     400\n",
            "2nd       SK   12300     500\n",
            "3rd    Kakao   15700   -2500\n",
            "4th    naver  410000   -4000\n"
          ]
        },
        {
          "output_type": "execute_result",
          "data": {
            "text/html": [
              "<div>\n",
              "<style scoped>\n",
              "    .dataframe tbody tr th:only-of-type {\n",
              "        vertical-align: middle;\n",
              "    }\n",
              "\n",
              "    .dataframe tbody tr th {\n",
              "        vertical-align: top;\n",
              "    }\n",
              "\n",
              "    .dataframe thead th {\n",
              "        text-align: right;\n",
              "    }\n",
              "</style>\n",
              "<table border=\"1\" class=\"dataframe\">\n",
              "  <thead>\n",
              "    <tr style=\"text-align: right;\">\n",
              "      <th></th>\n",
              "      <th>price</th>\n",
              "      <th>change</th>\n",
              "    </tr>\n",
              "  </thead>\n",
              "  <tbody>\n",
              "    <tr>\n",
              "      <th>1st</th>\n",
              "      <td>80400</td>\n",
              "      <td>400</td>\n",
              "    </tr>\n",
              "    <tr>\n",
              "      <th>2nd</th>\n",
              "      <td>12300</td>\n",
              "      <td>500</td>\n",
              "    </tr>\n",
              "    <tr>\n",
              "      <th>3rd</th>\n",
              "      <td>15700</td>\n",
              "      <td>-2500</td>\n",
              "    </tr>\n",
              "    <tr>\n",
              "      <th>4th</th>\n",
              "      <td>410000</td>\n",
              "      <td>-4000</td>\n",
              "    </tr>\n",
              "  </tbody>\n",
              "</table>\n",
              "</div>"
            ],
            "text/plain": [
              "      price  change\n",
              "1st   80400     400\n",
              "2nd   12300     500\n",
              "3rd   15700   -2500\n",
              "4th  410000   -4000"
            ]
          },
          "metadata": {},
          "execution_count": 84
        }
      ]
    },
    {
      "cell_type": "markdown",
      "metadata": {
        "id": "zrAn79VKVQIb"
      },
      "source": [
        "### 행과 열 추가"
      ]
    },
    {
      "cell_type": "markdown",
      "metadata": {
        "id": "wgwM6Zs4Vavp"
      },
      "source": [
        "- 행 추가"
      ]
    },
    {
      "cell_type": "code",
      "metadata": {
        "colab": {
          "base_uri": "https://localhost:8080/",
          "height": 287
        },
        "id": "hSuzE_zDVPlL",
        "outputId": "5f715bc0-db53-4c80-f8e7-ef3520130b64"
      },
      "source": [
        "print(df)\n",
        "# .loc[인덱스 이름]\n",
        "df.loc['5th'] = ['LG', 870000, 21000]\n",
        "df"
      ],
      "execution_count": null,
      "outputs": [
        {
          "output_type": "stream",
          "name": "stdout",
          "text": [
            "       title   price  change\n",
            "1st  Samsung   80400     400\n",
            "2nd       SK   12300     500\n",
            "3rd    Kakao   15700   -2500\n",
            "4th    naver  410000   -4000\n"
          ]
        },
        {
          "output_type": "execute_result",
          "data": {
            "text/html": [
              "<div>\n",
              "<style scoped>\n",
              "    .dataframe tbody tr th:only-of-type {\n",
              "        vertical-align: middle;\n",
              "    }\n",
              "\n",
              "    .dataframe tbody tr th {\n",
              "        vertical-align: top;\n",
              "    }\n",
              "\n",
              "    .dataframe thead th {\n",
              "        text-align: right;\n",
              "    }\n",
              "</style>\n",
              "<table border=\"1\" class=\"dataframe\">\n",
              "  <thead>\n",
              "    <tr style=\"text-align: right;\">\n",
              "      <th></th>\n",
              "      <th>title</th>\n",
              "      <th>price</th>\n",
              "      <th>change</th>\n",
              "    </tr>\n",
              "  </thead>\n",
              "  <tbody>\n",
              "    <tr>\n",
              "      <th>1st</th>\n",
              "      <td>Samsung</td>\n",
              "      <td>80400</td>\n",
              "      <td>400</td>\n",
              "    </tr>\n",
              "    <tr>\n",
              "      <th>2nd</th>\n",
              "      <td>SK</td>\n",
              "      <td>12300</td>\n",
              "      <td>500</td>\n",
              "    </tr>\n",
              "    <tr>\n",
              "      <th>3rd</th>\n",
              "      <td>Kakao</td>\n",
              "      <td>15700</td>\n",
              "      <td>-2500</td>\n",
              "    </tr>\n",
              "    <tr>\n",
              "      <th>4th</th>\n",
              "      <td>naver</td>\n",
              "      <td>410000</td>\n",
              "      <td>-4000</td>\n",
              "    </tr>\n",
              "    <tr>\n",
              "      <th>5th</th>\n",
              "      <td>LG</td>\n",
              "      <td>870000</td>\n",
              "      <td>21000</td>\n",
              "    </tr>\n",
              "  </tbody>\n",
              "</table>\n",
              "</div>"
            ],
            "text/plain": [
              "       title   price  change\n",
              "1st  Samsung   80400     400\n",
              "2nd       SK   12300     500\n",
              "3rd    Kakao   15700   -2500\n",
              "4th    naver  410000   -4000\n",
              "5th       LG  870000   21000"
            ]
          },
          "metadata": {},
          "execution_count": 85
        }
      ]
    },
    {
      "cell_type": "markdown",
      "metadata": {
        "id": "5lQtaU5HVXpU"
      },
      "source": [
        "- 열 추가"
      ]
    },
    {
      "cell_type": "code",
      "metadata": {
        "colab": {
          "base_uri": "https://localhost:8080/",
          "height": 203
        },
        "id": "hzZ51prsVTuM",
        "outputId": "4043ad0e-e21e-4d15-b625-e5ae8d27c07a"
      },
      "source": [
        "df['rate'] = [0.5, 0.41, -1.57, -0.97, 2.47]\n",
        "df"
      ],
      "execution_count": null,
      "outputs": [
        {
          "output_type": "execute_result",
          "data": {
            "text/html": [
              "<div>\n",
              "<style scoped>\n",
              "    .dataframe tbody tr th:only-of-type {\n",
              "        vertical-align: middle;\n",
              "    }\n",
              "\n",
              "    .dataframe tbody tr th {\n",
              "        vertical-align: top;\n",
              "    }\n",
              "\n",
              "    .dataframe thead th {\n",
              "        text-align: right;\n",
              "    }\n",
              "</style>\n",
              "<table border=\"1\" class=\"dataframe\">\n",
              "  <thead>\n",
              "    <tr style=\"text-align: right;\">\n",
              "      <th></th>\n",
              "      <th>title</th>\n",
              "      <th>price</th>\n",
              "      <th>change</th>\n",
              "      <th>rate</th>\n",
              "    </tr>\n",
              "  </thead>\n",
              "  <tbody>\n",
              "    <tr>\n",
              "      <th>1st</th>\n",
              "      <td>Samsung</td>\n",
              "      <td>80400</td>\n",
              "      <td>400</td>\n",
              "      <td>0.50</td>\n",
              "    </tr>\n",
              "    <tr>\n",
              "      <th>2nd</th>\n",
              "      <td>SK</td>\n",
              "      <td>12300</td>\n",
              "      <td>500</td>\n",
              "      <td>0.41</td>\n",
              "    </tr>\n",
              "    <tr>\n",
              "      <th>3rd</th>\n",
              "      <td>Kakao</td>\n",
              "      <td>15700</td>\n",
              "      <td>-2500</td>\n",
              "      <td>-1.57</td>\n",
              "    </tr>\n",
              "    <tr>\n",
              "      <th>4th</th>\n",
              "      <td>naver</td>\n",
              "      <td>410000</td>\n",
              "      <td>-4000</td>\n",
              "      <td>-0.97</td>\n",
              "    </tr>\n",
              "    <tr>\n",
              "      <th>5th</th>\n",
              "      <td>LG</td>\n",
              "      <td>870000</td>\n",
              "      <td>21000</td>\n",
              "      <td>2.47</td>\n",
              "    </tr>\n",
              "  </tbody>\n",
              "</table>\n",
              "</div>"
            ],
            "text/plain": [
              "       title   price  change  rate\n",
              "1st  Samsung   80400     400  0.50\n",
              "2nd       SK   12300     500  0.41\n",
              "3rd    Kakao   15700   -2500 -1.57\n",
              "4th    naver  410000   -4000 -0.97\n",
              "5th       LG  870000   21000  2.47"
            ]
          },
          "metadata": {},
          "execution_count": 86
        }
      ]
    },
    {
      "cell_type": "markdown",
      "metadata": {
        "id": "KvD4ymhlVjSa"
      },
      "source": [
        "# DataFrame 간 연결/병합하여 데이터 가공"
      ]
    },
    {
      "cell_type": "markdown",
      "metadata": {
        "id": "PAz88n4yVod_"
      },
      "source": [
        "## pandas 라이브러리로 데이터프레임 합치기"
      ]
    },
    {
      "cell_type": "markdown",
      "metadata": {
        "id": "i6ObLCv8VtdG"
      },
      "source": [
        "### 두 데이터프레임 만들기"
      ]
    },
    {
      "cell_type": "code",
      "metadata": {
        "colab": {
          "base_uri": "https://localhost:8080/",
          "height": 142
        },
        "id": "GnzSQhSwVXFE",
        "outputId": "c92ec5ad-c612-4ce5-b287-f4314e1527de"
      },
      "source": [
        "df1 = pd.DataFrame({\n",
        "    'id' : [1,2,3],\n",
        "    'customer_id' : [1,2,3],\n",
        "    'customer_name' : ['Robert', 'Peter', 'Dave']\n",
        "})\n",
        "df1"
      ],
      "execution_count": null,
      "outputs": [
        {
          "output_type": "execute_result",
          "data": {
            "text/html": [
              "<div>\n",
              "<style scoped>\n",
              "    .dataframe tbody tr th:only-of-type {\n",
              "        vertical-align: middle;\n",
              "    }\n",
              "\n",
              "    .dataframe tbody tr th {\n",
              "        vertical-align: top;\n",
              "    }\n",
              "\n",
              "    .dataframe thead th {\n",
              "        text-align: right;\n",
              "    }\n",
              "</style>\n",
              "<table border=\"1\" class=\"dataframe\">\n",
              "  <thead>\n",
              "    <tr style=\"text-align: right;\">\n",
              "      <th></th>\n",
              "      <th>id</th>\n",
              "      <th>customer_id</th>\n",
              "      <th>customer_name</th>\n",
              "    </tr>\n",
              "  </thead>\n",
              "  <tbody>\n",
              "    <tr>\n",
              "      <th>0</th>\n",
              "      <td>1</td>\n",
              "      <td>1</td>\n",
              "      <td>Robert</td>\n",
              "    </tr>\n",
              "    <tr>\n",
              "      <th>1</th>\n",
              "      <td>2</td>\n",
              "      <td>2</td>\n",
              "      <td>Peter</td>\n",
              "    </tr>\n",
              "    <tr>\n",
              "      <th>2</th>\n",
              "      <td>3</td>\n",
              "      <td>3</td>\n",
              "      <td>Dave</td>\n",
              "    </tr>\n",
              "  </tbody>\n",
              "</table>\n",
              "</div>"
            ],
            "text/plain": [
              "   id  customer_id customer_name\n",
              "0   1            1        Robert\n",
              "1   2            2         Peter\n",
              "2   3            3          Dave"
            ]
          },
          "metadata": {},
          "execution_count": 87
        }
      ]
    },
    {
      "cell_type": "code",
      "metadata": {
        "colab": {
          "base_uri": "https://localhost:8080/",
          "height": 142
        },
        "id": "VRieSwYwVwBb",
        "outputId": "55f12110-10bf-4874-db4d-e3c78587eef6"
      },
      "source": [
        "df2 = pd.DataFrame({\n",
        "    'id' : [1,2,4],\n",
        "    'order_id' : [100,200,300],\n",
        "    'order_date' : ['2021-01-21', '2021-02-03', '2020-10-01']\n",
        "})\n",
        "df2"
      ],
      "execution_count": null,
      "outputs": [
        {
          "output_type": "execute_result",
          "data": {
            "text/html": [
              "<div>\n",
              "<style scoped>\n",
              "    .dataframe tbody tr th:only-of-type {\n",
              "        vertical-align: middle;\n",
              "    }\n",
              "\n",
              "    .dataframe tbody tr th {\n",
              "        vertical-align: top;\n",
              "    }\n",
              "\n",
              "    .dataframe thead th {\n",
              "        text-align: right;\n",
              "    }\n",
              "</style>\n",
              "<table border=\"1\" class=\"dataframe\">\n",
              "  <thead>\n",
              "    <tr style=\"text-align: right;\">\n",
              "      <th></th>\n",
              "      <th>id</th>\n",
              "      <th>order_id</th>\n",
              "      <th>order_date</th>\n",
              "    </tr>\n",
              "  </thead>\n",
              "  <tbody>\n",
              "    <tr>\n",
              "      <th>0</th>\n",
              "      <td>1</td>\n",
              "      <td>100</td>\n",
              "      <td>2021-01-21</td>\n",
              "    </tr>\n",
              "    <tr>\n",
              "      <th>1</th>\n",
              "      <td>2</td>\n",
              "      <td>200</td>\n",
              "      <td>2021-02-03</td>\n",
              "    </tr>\n",
              "    <tr>\n",
              "      <th>2</th>\n",
              "      <td>4</td>\n",
              "      <td>300</td>\n",
              "      <td>2020-10-01</td>\n",
              "    </tr>\n",
              "  </tbody>\n",
              "</table>\n",
              "</div>"
            ],
            "text/plain": [
              "   id  order_id  order_date\n",
              "0   1       100  2021-01-21\n",
              "1   2       200  2021-02-03\n",
              "2   4       300  2020-10-01"
            ]
          },
          "metadata": {},
          "execution_count": 88
        }
      ]
    },
    {
      "cell_type": "markdown",
      "metadata": {
        "id": "F7QJnSWLV0Fn"
      },
      "source": [
        "### 두 데이터프레임 연결하기"
      ]
    },
    {
      "cell_type": "markdown",
      "metadata": {
        "id": "Bze258hzV9Cr"
      },
      "source": [
        "- concat() : 두 데이터프레임을 연결해서 하나의 데이터프레임으로 만들 수 있음\n",
        "-- 두 데이터프레임을 위/아래 또는 왼쪽/오른쪽으로 연결하기만 함\n",
        "-- pd.concat(데이터프레임1, 데이터프레임2)"
      ]
    },
    {
      "cell_type": "code",
      "metadata": {
        "colab": {
          "base_uri": "https://localhost:8080/",
          "height": 234
        },
        "id": "la5CCN7HWGM8",
        "outputId": "ace07bf7-df97-4f55-9b90-de0237a65c01"
      },
      "source": [
        "pd.concat([df1, df2])"
      ],
      "execution_count": null,
      "outputs": [
        {
          "output_type": "execute_result",
          "data": {
            "text/html": [
              "<div>\n",
              "<style scoped>\n",
              "    .dataframe tbody tr th:only-of-type {\n",
              "        vertical-align: middle;\n",
              "    }\n",
              "\n",
              "    .dataframe tbody tr th {\n",
              "        vertical-align: top;\n",
              "    }\n",
              "\n",
              "    .dataframe thead th {\n",
              "        text-align: right;\n",
              "    }\n",
              "</style>\n",
              "<table border=\"1\" class=\"dataframe\">\n",
              "  <thead>\n",
              "    <tr style=\"text-align: right;\">\n",
              "      <th></th>\n",
              "      <th>id</th>\n",
              "      <th>customer_id</th>\n",
              "      <th>customer_name</th>\n",
              "      <th>order_id</th>\n",
              "      <th>order_date</th>\n",
              "    </tr>\n",
              "  </thead>\n",
              "  <tbody>\n",
              "    <tr>\n",
              "      <th>0</th>\n",
              "      <td>1</td>\n",
              "      <td>1.0</td>\n",
              "      <td>Robert</td>\n",
              "      <td>NaN</td>\n",
              "      <td>NaN</td>\n",
              "    </tr>\n",
              "    <tr>\n",
              "      <th>1</th>\n",
              "      <td>2</td>\n",
              "      <td>2.0</td>\n",
              "      <td>Peter</td>\n",
              "      <td>NaN</td>\n",
              "      <td>NaN</td>\n",
              "    </tr>\n",
              "    <tr>\n",
              "      <th>2</th>\n",
              "      <td>3</td>\n",
              "      <td>3.0</td>\n",
              "      <td>Dave</td>\n",
              "      <td>NaN</td>\n",
              "      <td>NaN</td>\n",
              "    </tr>\n",
              "    <tr>\n",
              "      <th>0</th>\n",
              "      <td>1</td>\n",
              "      <td>NaN</td>\n",
              "      <td>NaN</td>\n",
              "      <td>100.0</td>\n",
              "      <td>2021-01-21</td>\n",
              "    </tr>\n",
              "    <tr>\n",
              "      <th>1</th>\n",
              "      <td>2</td>\n",
              "      <td>NaN</td>\n",
              "      <td>NaN</td>\n",
              "      <td>200.0</td>\n",
              "      <td>2021-02-03</td>\n",
              "    </tr>\n",
              "    <tr>\n",
              "      <th>2</th>\n",
              "      <td>4</td>\n",
              "      <td>NaN</td>\n",
              "      <td>NaN</td>\n",
              "      <td>300.0</td>\n",
              "      <td>2020-10-01</td>\n",
              "    </tr>\n",
              "  </tbody>\n",
              "</table>\n",
              "</div>"
            ],
            "text/plain": [
              "   id  customer_id customer_name  order_id  order_date\n",
              "0   1          1.0        Robert       NaN         NaN\n",
              "1   2          2.0         Peter       NaN         NaN\n",
              "2   3          3.0          Dave       NaN         NaN\n",
              "0   1          NaN           NaN     100.0  2021-01-21\n",
              "1   2          NaN           NaN     200.0  2021-02-03\n",
              "2   4          NaN           NaN     300.0  2020-10-01"
            ]
          },
          "metadata": {},
          "execution_count": 90
        }
      ]
    },
    {
      "cell_type": "markdown",
      "metadata": {
        "id": "7znXc4vLWJQw"
      },
      "source": [
        "- axis=0(default)이면 위에서 아래로 합치고 1이면 왼쪽과 오른쪽으로 합쳐짐"
      ]
    },
    {
      "cell_type": "code",
      "metadata": {
        "colab": {
          "base_uri": "https://localhost:8080/",
          "height": 142
        },
        "id": "T1Og1iLdWHxq",
        "outputId": "cef0c8f3-1e5f-4b3b-9ca2-a0930a9bf865"
      },
      "source": [
        "doc = pd.concat([df1, df2], axis=1)\n",
        "doc"
      ],
      "execution_count": null,
      "outputs": [
        {
          "output_type": "execute_result",
          "data": {
            "text/html": [
              "<div>\n",
              "<style scoped>\n",
              "    .dataframe tbody tr th:only-of-type {\n",
              "        vertical-align: middle;\n",
              "    }\n",
              "\n",
              "    .dataframe tbody tr th {\n",
              "        vertical-align: top;\n",
              "    }\n",
              "\n",
              "    .dataframe thead th {\n",
              "        text-align: right;\n",
              "    }\n",
              "</style>\n",
              "<table border=\"1\" class=\"dataframe\">\n",
              "  <thead>\n",
              "    <tr style=\"text-align: right;\">\n",
              "      <th></th>\n",
              "      <th>id</th>\n",
              "      <th>customer_id</th>\n",
              "      <th>customer_name</th>\n",
              "      <th>id</th>\n",
              "      <th>order_id</th>\n",
              "      <th>order_date</th>\n",
              "    </tr>\n",
              "  </thead>\n",
              "  <tbody>\n",
              "    <tr>\n",
              "      <th>0</th>\n",
              "      <td>1</td>\n",
              "      <td>1</td>\n",
              "      <td>Robert</td>\n",
              "      <td>1</td>\n",
              "      <td>100</td>\n",
              "      <td>2021-01-21</td>\n",
              "    </tr>\n",
              "    <tr>\n",
              "      <th>1</th>\n",
              "      <td>2</td>\n",
              "      <td>2</td>\n",
              "      <td>Peter</td>\n",
              "      <td>2</td>\n",
              "      <td>200</td>\n",
              "      <td>2021-02-03</td>\n",
              "    </tr>\n",
              "    <tr>\n",
              "      <th>2</th>\n",
              "      <td>3</td>\n",
              "      <td>3</td>\n",
              "      <td>Dave</td>\n",
              "      <td>4</td>\n",
              "      <td>300</td>\n",
              "      <td>2020-10-01</td>\n",
              "    </tr>\n",
              "  </tbody>\n",
              "</table>\n",
              "</div>"
            ],
            "text/plain": [
              "   id  customer_id customer_name  id  order_id  order_date\n",
              "0   1            1        Robert   1       100  2021-01-21\n",
              "1   2            2         Peter   2       200  2021-02-03\n",
              "2   3            3          Dave   4       300  2020-10-01"
            ]
          },
          "metadata": {},
          "execution_count": 91
        }
      ]
    },
    {
      "cell_type": "markdown",
      "metadata": {
        "id": "ePPDJNGRWRAN"
      },
      "source": [
        "### 두 프레임 합치기(병합하기)"
      ]
    },
    {
      "cell_type": "markdown",
      "metadata": {
        "id": "EPUT41GOWWWU"
      },
      "source": [
        "- merge() : 두 개 프레임 합치기\n",
        "-- merge(데이터프레임1, 데이터프레임2) : 두 데이터프레임에 동일한 이름을 가진 컬럼을 기준으로 두 데이터프레임을 합침"
      ]
    },
    {
      "cell_type": "code",
      "metadata": {
        "colab": {
          "base_uri": "https://localhost:8080/",
          "height": 110
        },
        "id": "iSTO1fgjWLFE",
        "outputId": "1b292c43-99f7-48eb-d5e8-3b3135501076"
      },
      "source": [
        "pd.merge(df1, df2)"
      ],
      "execution_count": null,
      "outputs": [
        {
          "output_type": "execute_result",
          "data": {
            "text/html": [
              "<div>\n",
              "<style scoped>\n",
              "    .dataframe tbody tr th:only-of-type {\n",
              "        vertical-align: middle;\n",
              "    }\n",
              "\n",
              "    .dataframe tbody tr th {\n",
              "        vertical-align: top;\n",
              "    }\n",
              "\n",
              "    .dataframe thead th {\n",
              "        text-align: right;\n",
              "    }\n",
              "</style>\n",
              "<table border=\"1\" class=\"dataframe\">\n",
              "  <thead>\n",
              "    <tr style=\"text-align: right;\">\n",
              "      <th></th>\n",
              "      <th>id</th>\n",
              "      <th>customer_id</th>\n",
              "      <th>customer_name</th>\n",
              "      <th>order_id</th>\n",
              "      <th>order_date</th>\n",
              "    </tr>\n",
              "  </thead>\n",
              "  <tbody>\n",
              "    <tr>\n",
              "      <th>0</th>\n",
              "      <td>1</td>\n",
              "      <td>1</td>\n",
              "      <td>Robert</td>\n",
              "      <td>100</td>\n",
              "      <td>2021-01-21</td>\n",
              "    </tr>\n",
              "    <tr>\n",
              "      <th>1</th>\n",
              "      <td>2</td>\n",
              "      <td>2</td>\n",
              "      <td>Peter</td>\n",
              "      <td>200</td>\n",
              "      <td>2021-02-03</td>\n",
              "    </tr>\n",
              "  </tbody>\n",
              "</table>\n",
              "</div>"
            ],
            "text/plain": [
              "   id  customer_id customer_name  order_id  order_date\n",
              "0   1            1        Robert       100  2021-01-21\n",
              "1   2            2         Peter       200  2021-02-03"
            ]
          },
          "metadata": {},
          "execution_count": 92
        }
      ]
    },
    {
      "cell_type": "markdown",
      "metadata": {
        "id": "-qXs2U-HWhdc"
      },
      "source": [
        "- merge(데이터프레임1, 데이터프레임2, on=기준컬럼명) : 기준 컬럼을 명시할 수 있음"
      ]
    },
    {
      "cell_type": "code",
      "metadata": {
        "colab": {
          "base_uri": "https://localhost:8080/",
          "height": 110
        },
        "id": "7NJdIyOiXJkL",
        "outputId": "b7764121-1513-468c-b5df-2525be753a97"
      },
      "source": [
        "pd.merge(df1, df2, on='id')"
      ],
      "execution_count": null,
      "outputs": [
        {
          "output_type": "execute_result",
          "data": {
            "text/html": [
              "<div>\n",
              "<style scoped>\n",
              "    .dataframe tbody tr th:only-of-type {\n",
              "        vertical-align: middle;\n",
              "    }\n",
              "\n",
              "    .dataframe tbody tr th {\n",
              "        vertical-align: top;\n",
              "    }\n",
              "\n",
              "    .dataframe thead th {\n",
              "        text-align: right;\n",
              "    }\n",
              "</style>\n",
              "<table border=\"1\" class=\"dataframe\">\n",
              "  <thead>\n",
              "    <tr style=\"text-align: right;\">\n",
              "      <th></th>\n",
              "      <th>id</th>\n",
              "      <th>customer_id</th>\n",
              "      <th>customer_name</th>\n",
              "      <th>order_id</th>\n",
              "      <th>order_date</th>\n",
              "    </tr>\n",
              "  </thead>\n",
              "  <tbody>\n",
              "    <tr>\n",
              "      <th>0</th>\n",
              "      <td>1</td>\n",
              "      <td>1</td>\n",
              "      <td>Robert</td>\n",
              "      <td>100</td>\n",
              "      <td>2021-01-21</td>\n",
              "    </tr>\n",
              "    <tr>\n",
              "      <th>1</th>\n",
              "      <td>2</td>\n",
              "      <td>2</td>\n",
              "      <td>Peter</td>\n",
              "      <td>200</td>\n",
              "      <td>2021-02-03</td>\n",
              "    </tr>\n",
              "  </tbody>\n",
              "</table>\n",
              "</div>"
            ],
            "text/plain": [
              "   id  customer_id customer_name  order_id  order_date\n",
              "0   1            1        Robert       100  2021-01-21\n",
              "1   2            2         Peter       200  2021-02-03"
            ]
          },
          "metadata": {},
          "execution_count": 99
        }
      ]
    },
    {
      "cell_type": "markdown",
      "metadata": {
        "id": "HPr2LRU5W9Zk"
      },
      "source": [
        "- merge() 를 통해 어떻게 두 데이터프레임을 결합시킬 것인가에 대한 상세한 기능을 제공\n",
        "-- inner : 내부조인 – 교집합 조인(디폴트)\n",
        "-- outer : 완전 외부 조인 – 어느한쪽에라도 없는 데이터가 있는 경우 NaN값이 지정\n",
        "-- left : 왼쪽 우선 외부 조인 – SQL의 LEFT OUTER JOIN과 동일\n",
        "-- right : 오른쪽 우선 외부 조인 - SQL의 RIGHT OUTER JOIN 과 동일"
      ]
    },
    {
      "cell_type": "code",
      "metadata": {
        "colab": {
          "base_uri": "https://localhost:8080/",
          "height": 142
        },
        "id": "XiTUnXwpWsq8",
        "outputId": "b942392b-a656-4de2-fb76-60e8840b1697"
      },
      "source": [
        "#df1기준\n",
        "pd.merge(df1, df2, how='left')"
      ],
      "execution_count": null,
      "outputs": [
        {
          "output_type": "execute_result",
          "data": {
            "text/html": [
              "<div>\n",
              "<style scoped>\n",
              "    .dataframe tbody tr th:only-of-type {\n",
              "        vertical-align: middle;\n",
              "    }\n",
              "\n",
              "    .dataframe tbody tr th {\n",
              "        vertical-align: top;\n",
              "    }\n",
              "\n",
              "    .dataframe thead th {\n",
              "        text-align: right;\n",
              "    }\n",
              "</style>\n",
              "<table border=\"1\" class=\"dataframe\">\n",
              "  <thead>\n",
              "    <tr style=\"text-align: right;\">\n",
              "      <th></th>\n",
              "      <th>id</th>\n",
              "      <th>customer_id</th>\n",
              "      <th>customer_name</th>\n",
              "      <th>order_id</th>\n",
              "      <th>order_date</th>\n",
              "    </tr>\n",
              "  </thead>\n",
              "  <tbody>\n",
              "    <tr>\n",
              "      <th>0</th>\n",
              "      <td>1</td>\n",
              "      <td>1</td>\n",
              "      <td>Robert</td>\n",
              "      <td>100.0</td>\n",
              "      <td>2021-01-21</td>\n",
              "    </tr>\n",
              "    <tr>\n",
              "      <th>1</th>\n",
              "      <td>2</td>\n",
              "      <td>2</td>\n",
              "      <td>Peter</td>\n",
              "      <td>200.0</td>\n",
              "      <td>2021-02-03</td>\n",
              "    </tr>\n",
              "    <tr>\n",
              "      <th>2</th>\n",
              "      <td>3</td>\n",
              "      <td>3</td>\n",
              "      <td>Dave</td>\n",
              "      <td>NaN</td>\n",
              "      <td>NaN</td>\n",
              "    </tr>\n",
              "  </tbody>\n",
              "</table>\n",
              "</div>"
            ],
            "text/plain": [
              "   id  customer_id customer_name  order_id  order_date\n",
              "0   1            1        Robert     100.0  2021-01-21\n",
              "1   2            2         Peter     200.0  2021-02-03\n",
              "2   3            3          Dave       NaN         NaN"
            ]
          },
          "metadata": {},
          "execution_count": 102
        }
      ]
    },
    {
      "cell_type": "code",
      "metadata": {
        "colab": {
          "base_uri": "https://localhost:8080/",
          "height": 142
        },
        "id": "RFqy70k7Wwqp",
        "outputId": "e1127399-5881-42e5-df59-2dce7009a9a6"
      },
      "source": [
        "#df2기준\n",
        "pd.merge(df1, df2, how='right')"
      ],
      "execution_count": null,
      "outputs": [
        {
          "output_type": "execute_result",
          "data": {
            "text/html": [
              "<div>\n",
              "<style scoped>\n",
              "    .dataframe tbody tr th:only-of-type {\n",
              "        vertical-align: middle;\n",
              "    }\n",
              "\n",
              "    .dataframe tbody tr th {\n",
              "        vertical-align: top;\n",
              "    }\n",
              "\n",
              "    .dataframe thead th {\n",
              "        text-align: right;\n",
              "    }\n",
              "</style>\n",
              "<table border=\"1\" class=\"dataframe\">\n",
              "  <thead>\n",
              "    <tr style=\"text-align: right;\">\n",
              "      <th></th>\n",
              "      <th>id</th>\n",
              "      <th>customer_id</th>\n",
              "      <th>customer_name</th>\n",
              "      <th>order_id</th>\n",
              "      <th>order_date</th>\n",
              "    </tr>\n",
              "  </thead>\n",
              "  <tbody>\n",
              "    <tr>\n",
              "      <th>0</th>\n",
              "      <td>1</td>\n",
              "      <td>1.0</td>\n",
              "      <td>Robert</td>\n",
              "      <td>100</td>\n",
              "      <td>2021-01-21</td>\n",
              "    </tr>\n",
              "    <tr>\n",
              "      <th>1</th>\n",
              "      <td>2</td>\n",
              "      <td>2.0</td>\n",
              "      <td>Peter</td>\n",
              "      <td>200</td>\n",
              "      <td>2021-02-03</td>\n",
              "    </tr>\n",
              "    <tr>\n",
              "      <th>2</th>\n",
              "      <td>4</td>\n",
              "      <td>NaN</td>\n",
              "      <td>NaN</td>\n",
              "      <td>300</td>\n",
              "      <td>2020-10-01</td>\n",
              "    </tr>\n",
              "  </tbody>\n",
              "</table>\n",
              "</div>"
            ],
            "text/plain": [
              "   id  customer_id customer_name  order_id  order_date\n",
              "0   1          1.0        Robert       100  2021-01-21\n",
              "1   2          2.0         Peter       200  2021-02-03\n",
              "2   4          NaN           NaN       300  2020-10-01"
            ]
          },
          "metadata": {},
          "execution_count": 103
        }
      ]
    },
    {
      "cell_type": "markdown",
      "metadata": {
        "id": "A3h64nQKXwSB"
      },
      "source": [
        "- inner 내부 조인\n",
        "-- on의 컬럼값이 두 데이터프레임에서 동일한 행 찾기\n",
        "-- 각 동일한 행의 컬럼/컬럼값만 가져오기"
      ]
    },
    {
      "cell_type": "code",
      "metadata": {
        "colab": {
          "base_uri": "https://localhost:8080/",
          "height": 110
        },
        "id": "ZDUGiw_CWx81",
        "outputId": "66cfbaac-1fda-4d28-ea1b-3856ecc49f7f"
      },
      "source": [
        "#교집합\n",
        "pd.merge(df1, df2, on='id', how='inner')"
      ],
      "execution_count": null,
      "outputs": [
        {
          "output_type": "execute_result",
          "data": {
            "text/html": [
              "<div>\n",
              "<style scoped>\n",
              "    .dataframe tbody tr th:only-of-type {\n",
              "        vertical-align: middle;\n",
              "    }\n",
              "\n",
              "    .dataframe tbody tr th {\n",
              "        vertical-align: top;\n",
              "    }\n",
              "\n",
              "    .dataframe thead th {\n",
              "        text-align: right;\n",
              "    }\n",
              "</style>\n",
              "<table border=\"1\" class=\"dataframe\">\n",
              "  <thead>\n",
              "    <tr style=\"text-align: right;\">\n",
              "      <th></th>\n",
              "      <th>id</th>\n",
              "      <th>customer_id</th>\n",
              "      <th>customer_name</th>\n",
              "      <th>order_id</th>\n",
              "      <th>order_date</th>\n",
              "    </tr>\n",
              "  </thead>\n",
              "  <tbody>\n",
              "    <tr>\n",
              "      <th>0</th>\n",
              "      <td>1</td>\n",
              "      <td>1</td>\n",
              "      <td>Robert</td>\n",
              "      <td>100</td>\n",
              "      <td>2021-01-21</td>\n",
              "    </tr>\n",
              "    <tr>\n",
              "      <th>1</th>\n",
              "      <td>2</td>\n",
              "      <td>2</td>\n",
              "      <td>Peter</td>\n",
              "      <td>200</td>\n",
              "      <td>2021-02-03</td>\n",
              "    </tr>\n",
              "  </tbody>\n",
              "</table>\n",
              "</div>"
            ],
            "text/plain": [
              "   id  customer_id customer_name  order_id  order_date\n",
              "0   1            1        Robert       100  2021-01-21\n",
              "1   2            2         Peter       200  2021-02-03"
            ]
          },
          "metadata": {},
          "execution_count": 105
        }
      ]
    },
    {
      "cell_type": "markdown",
      "metadata": {
        "id": "_Ei5rlR3X4RU"
      },
      "source": [
        "- outer 완전 외부 조인\n",
        "-- on의 컬럼값이 두 데이터프레임에서 동일한 행 찾기\n",
        "-- 각 동일한 행의 컬럼/컬럼값 가져와 붙이기\n",
        "-- 각 데이터프레임에서 on의 컬럼값이 다른 나머지 행을 찾기\n",
        "-- 각 나머지 행의 컬럼/컬럼값을 가져와 별도 행으로 붙이기\n",
        "-- 두 데이터프레임 각각에만 있는 컬럼이어서 컬럼값이 없을 경우 데이터 없음(NaN)으로 표기"
      ]
    },
    {
      "cell_type": "code",
      "metadata": {
        "colab": {
          "base_uri": "https://localhost:8080/",
          "height": 172
        },
        "id": "7xxlZopHWbln",
        "outputId": "f1365d0e-f0bf-4747-921e-8d12920d7521"
      },
      "source": [
        "#합집합 느낌. inner는 교집합만 조인(디폴트)\n",
        "pd.merge(df1, df2, how='outer')"
      ],
      "execution_count": null,
      "outputs": [
        {
          "output_type": "execute_result",
          "data": {
            "text/html": [
              "<div>\n",
              "<style scoped>\n",
              "    .dataframe tbody tr th:only-of-type {\n",
              "        vertical-align: middle;\n",
              "    }\n",
              "\n",
              "    .dataframe tbody tr th {\n",
              "        vertical-align: top;\n",
              "    }\n",
              "\n",
              "    .dataframe thead th {\n",
              "        text-align: right;\n",
              "    }\n",
              "</style>\n",
              "<table border=\"1\" class=\"dataframe\">\n",
              "  <thead>\n",
              "    <tr style=\"text-align: right;\">\n",
              "      <th></th>\n",
              "      <th>id</th>\n",
              "      <th>customer_id</th>\n",
              "      <th>customer_name</th>\n",
              "      <th>order_id</th>\n",
              "      <th>order_date</th>\n",
              "    </tr>\n",
              "  </thead>\n",
              "  <tbody>\n",
              "    <tr>\n",
              "      <th>0</th>\n",
              "      <td>1</td>\n",
              "      <td>1.0</td>\n",
              "      <td>Robert</td>\n",
              "      <td>100.0</td>\n",
              "      <td>2021-01-21</td>\n",
              "    </tr>\n",
              "    <tr>\n",
              "      <th>1</th>\n",
              "      <td>2</td>\n",
              "      <td>2.0</td>\n",
              "      <td>Peter</td>\n",
              "      <td>200.0</td>\n",
              "      <td>2021-02-03</td>\n",
              "    </tr>\n",
              "    <tr>\n",
              "      <th>2</th>\n",
              "      <td>3</td>\n",
              "      <td>3.0</td>\n",
              "      <td>Dave</td>\n",
              "      <td>NaN</td>\n",
              "      <td>NaN</td>\n",
              "    </tr>\n",
              "    <tr>\n",
              "      <th>3</th>\n",
              "      <td>4</td>\n",
              "      <td>NaN</td>\n",
              "      <td>NaN</td>\n",
              "      <td>300.0</td>\n",
              "      <td>2020-10-01</td>\n",
              "    </tr>\n",
              "  </tbody>\n",
              "</table>\n",
              "</div>"
            ],
            "text/plain": [
              "   id  customer_id customer_name  order_id  order_date\n",
              "0   1          1.0        Robert     100.0  2021-01-21\n",
              "1   2          2.0         Peter     200.0  2021-02-03\n",
              "2   3          3.0          Dave       NaN         NaN\n",
              "3   4          NaN           NaN     300.0  2020-10-01"
            ]
          },
          "metadata": {},
          "execution_count": 101
        }
      ]
    },
    {
      "cell_type": "markdown",
      "metadata": {
        "id": "8eViiD6SXj4y"
      },
      "source": [
        "# 타이타닉호 생존율 분석"
      ]
    },
    {
      "cell_type": "markdown",
      "metadata": {
        "id": "nLuQsZnuYJwV"
      },
      "source": [
        "## csv 파일 입출력"
      ]
    },
    {
      "cell_type": "code",
      "metadata": {
        "colab": {
          "base_uri": "https://localhost:8080/",
          "height": 492
        },
        "id": "_j-N08YnXGLF",
        "outputId": "a56a8e68-4f21-498d-fa6b-18348f965945"
      },
      "source": [
        "data = pd.read_csv('train.csv')\n",
        "data.head()"
      ],
      "execution_count": null,
      "outputs": [
        {
          "output_type": "execute_result",
          "data": {
            "text/html": [
              "<div>\n",
              "<style scoped>\n",
              "    .dataframe tbody tr th:only-of-type {\n",
              "        vertical-align: middle;\n",
              "    }\n",
              "\n",
              "    .dataframe tbody tr th {\n",
              "        vertical-align: top;\n",
              "    }\n",
              "\n",
              "    .dataframe thead th {\n",
              "        text-align: right;\n",
              "    }\n",
              "</style>\n",
              "<table border=\"1\" class=\"dataframe\">\n",
              "  <thead>\n",
              "    <tr style=\"text-align: right;\">\n",
              "      <th></th>\n",
              "      <th>PassengerId</th>\n",
              "      <th>Survived</th>\n",
              "      <th>Pclass</th>\n",
              "      <th>Name</th>\n",
              "      <th>Sex</th>\n",
              "      <th>Age</th>\n",
              "      <th>SibSp</th>\n",
              "      <th>Parch</th>\n",
              "      <th>Ticket</th>\n",
              "      <th>Fare</th>\n",
              "      <th>Cabin</th>\n",
              "      <th>Embarked</th>\n",
              "    </tr>\n",
              "  </thead>\n",
              "  <tbody>\n",
              "    <tr>\n",
              "      <th>0</th>\n",
              "      <td>1</td>\n",
              "      <td>0</td>\n",
              "      <td>3</td>\n",
              "      <td>Braund, Mr. Owen Harris</td>\n",
              "      <td>male</td>\n",
              "      <td>22.0</td>\n",
              "      <td>1</td>\n",
              "      <td>0</td>\n",
              "      <td>A/5 21171</td>\n",
              "      <td>7.2500</td>\n",
              "      <td>NaN</td>\n",
              "      <td>S</td>\n",
              "    </tr>\n",
              "    <tr>\n",
              "      <th>1</th>\n",
              "      <td>2</td>\n",
              "      <td>1</td>\n",
              "      <td>1</td>\n",
              "      <td>Cumings, Mrs. John Bradley (Florence Briggs Th...</td>\n",
              "      <td>female</td>\n",
              "      <td>38.0</td>\n",
              "      <td>1</td>\n",
              "      <td>0</td>\n",
              "      <td>PC 17599</td>\n",
              "      <td>71.2833</td>\n",
              "      <td>C85</td>\n",
              "      <td>C</td>\n",
              "    </tr>\n",
              "    <tr>\n",
              "      <th>2</th>\n",
              "      <td>3</td>\n",
              "      <td>1</td>\n",
              "      <td>3</td>\n",
              "      <td>Heikkinen, Miss. Laina</td>\n",
              "      <td>female</td>\n",
              "      <td>26.0</td>\n",
              "      <td>0</td>\n",
              "      <td>0</td>\n",
              "      <td>STON/O2. 3101282</td>\n",
              "      <td>7.9250</td>\n",
              "      <td>NaN</td>\n",
              "      <td>S</td>\n",
              "    </tr>\n",
              "    <tr>\n",
              "      <th>3</th>\n",
              "      <td>4</td>\n",
              "      <td>1</td>\n",
              "      <td>1</td>\n",
              "      <td>Futrelle, Mrs. Jacques Heath (Lily May Peel)</td>\n",
              "      <td>female</td>\n",
              "      <td>35.0</td>\n",
              "      <td>1</td>\n",
              "      <td>0</td>\n",
              "      <td>113803</td>\n",
              "      <td>53.1000</td>\n",
              "      <td>C123</td>\n",
              "      <td>S</td>\n",
              "    </tr>\n",
              "    <tr>\n",
              "      <th>4</th>\n",
              "      <td>5</td>\n",
              "      <td>0</td>\n",
              "      <td>3</td>\n",
              "      <td>Allen, Mr. William Henry</td>\n",
              "      <td>male</td>\n",
              "      <td>35.0</td>\n",
              "      <td>0</td>\n",
              "      <td>0</td>\n",
              "      <td>373450</td>\n",
              "      <td>8.0500</td>\n",
              "      <td>NaN</td>\n",
              "      <td>S</td>\n",
              "    </tr>\n",
              "  </tbody>\n",
              "</table>\n",
              "</div>"
            ],
            "text/plain": [
              "   PassengerId  Survived  Pclass  ...     Fare Cabin  Embarked\n",
              "0            1         0       3  ...   7.2500   NaN         S\n",
              "1            2         1       1  ...  71.2833   C85         C\n",
              "2            3         1       3  ...   7.9250   NaN         S\n",
              "3            4         1       1  ...  53.1000  C123         S\n",
              "4            5         0       3  ...   8.0500   NaN         S\n",
              "\n",
              "[5 rows x 12 columns]"
            ]
          },
          "metadata": {},
          "execution_count": 108
        }
      ]
    },
    {
      "cell_type": "code",
      "metadata": {
        "colab": {
          "base_uri": "https://localhost:8080/"
        },
        "id": "csgxe37OYMmi",
        "outputId": "dff64667-33ce-495e-b80f-bae3e461e032"
      },
      "source": [
        "# 데이터프레임의 컬럼 타입, null 개수, 데이터 분포 등 정보 확인\n",
        "data.info()"
      ],
      "execution_count": null,
      "outputs": [
        {
          "output_type": "stream",
          "name": "stdout",
          "text": [
            "<class 'pandas.core.frame.DataFrame'>\n",
            "RangeIndex: 891 entries, 0 to 890\n",
            "Data columns (total 12 columns):\n",
            " #   Column       Non-Null Count  Dtype  \n",
            "---  ------       --------------  -----  \n",
            " 0   PassengerId  891 non-null    int64  \n",
            " 1   Survived     891 non-null    int64  \n",
            " 2   Pclass       891 non-null    int64  \n",
            " 3   Name         891 non-null    object \n",
            " 4   Sex          891 non-null    object \n",
            " 5   Age          714 non-null    float64\n",
            " 6   SibSp        891 non-null    int64  \n",
            " 7   Parch        891 non-null    int64  \n",
            " 8   Ticket       891 non-null    object \n",
            " 9   Fare         891 non-null    float64\n",
            " 10  Cabin        204 non-null    object \n",
            " 11  Embarked     889 non-null    object \n",
            "dtypes: float64(2), int64(5), object(5)\n",
            "memory usage: 83.7+ KB\n"
          ]
        }
      ]
    },
    {
      "cell_type": "markdown",
      "metadata": {
        "id": "_2qsEWfTYU8H"
      },
      "source": [
        "## 데이터 분석&처리\n",
        "- 데이터프레임의 컬럼 타입, null 개수, 데이터 분포 등 정보 확인"
      ]
    },
    {
      "cell_type": "code",
      "metadata": {
        "colab": {
          "base_uri": "https://localhost:8080/"
        },
        "id": "678HJRxFYRN1",
        "outputId": "2dd8a50a-671c-4e1f-a684-c4e8841e8292"
      },
      "source": [
        "data['Pclass']"
      ],
      "execution_count": null,
      "outputs": [
        {
          "output_type": "execute_result",
          "data": {
            "text/plain": [
              "0      3\n",
              "1      1\n",
              "2      3\n",
              "3      1\n",
              "4      3\n",
              "      ..\n",
              "886    2\n",
              "887    1\n",
              "888    3\n",
              "889    1\n",
              "890    3\n",
              "Name: Pclass, Length: 891, dtype: int64"
            ]
          },
          "metadata": {},
          "execution_count": 111
        }
      ]
    },
    {
      "cell_type": "markdown",
      "metadata": {
        "id": "4ZWy46NsYg4z"
      },
      "source": [
        "- 컬럼의 unique value의 수를 카운트 : value_counts()"
      ]
    },
    {
      "cell_type": "code",
      "metadata": {
        "colab": {
          "base_uri": "https://localhost:8080/"
        },
        "id": "uKelt2eJYgNl",
        "outputId": "1d60eb5e-d259-407c-812e-ac5f9a2c6970"
      },
      "source": [
        "data['Pclass'].value_counts()"
      ],
      "execution_count": null,
      "outputs": [
        {
          "output_type": "execute_result",
          "data": {
            "text/plain": [
              "3    491\n",
              "1    216\n",
              "2    184\n",
              "Name: Pclass, dtype: int64"
            ]
          },
          "metadata": {},
          "execution_count": 112
        }
      ]
    },
    {
      "cell_type": "code",
      "metadata": {
        "colab": {
          "base_uri": "https://localhost:8080/"
        },
        "id": "C9RBIvQ5YkP3",
        "outputId": "675250b7-d16c-4047-b420-0328ef6fcb04"
      },
      "source": [
        "# index 기준으로 오름차순 정렬\n",
        "s = data['Pclass'].value_counts()\n",
        "s.sort_index()"
      ],
      "execution_count": null,
      "outputs": [
        {
          "output_type": "execute_result",
          "data": {
            "text/plain": [
              "1    216\n",
              "2    184\n",
              "3    491\n",
              "Name: Pclass, dtype: int64"
            ]
          },
          "metadata": {},
          "execution_count": 113
        }
      ]
    },
    {
      "cell_type": "code",
      "metadata": {
        "colab": {
          "base_uri": "https://localhost:8080/"
        },
        "id": "zMQjEr75YmQu",
        "outputId": "c934a68f-5072-4f07-e7a5-cf4df118f5a7"
      },
      "source": [
        "# value 기준으로 내림차순 정렬\n",
        "s.sort_values(ascending=False)"
      ],
      "execution_count": null,
      "outputs": [
        {
          "output_type": "execute_result",
          "data": {
            "text/plain": [
              "3    491\n",
              "1    216\n",
              "2    184\n",
              "Name: Pclass, dtype: int64"
            ]
          },
          "metadata": {},
          "execution_count": 114
        }
      ]
    },
    {
      "cell_type": "code",
      "metadata": {
        "colab": {
          "base_uri": "https://localhost:8080/"
        },
        "id": "iDDLdwyTYnyx",
        "outputId": "11ca6553-8c8c-42bd-bf5f-91bac427b562"
      },
      "source": [
        "# 성별 카운트\n",
        "data['Sex'].value_counts()"
      ],
      "execution_count": null,
      "outputs": [
        {
          "output_type": "execute_result",
          "data": {
            "text/plain": [
              "male      577\n",
              "female    314\n",
              "Name: Sex, dtype: int64"
            ]
          },
          "metadata": {},
          "execution_count": 115
        }
      ]
    },
    {
      "cell_type": "markdown",
      "metadata": {
        "id": "xqo9DyDfY1Qb"
      },
      "source": [
        "- 칼럼의 평균: mean()"
      ]
    },
    {
      "cell_type": "code",
      "metadata": {
        "colab": {
          "base_uri": "https://localhost:8080/"
        },
        "id": "d2GPjPCKYpHN",
        "outputId": "5ae56849-9bc4-4365-a092-9f26c096b72e"
      },
      "source": [
        "age_mean = data['Age'].mean()\n",
        "age_mean"
      ],
      "execution_count": null,
      "outputs": [
        {
          "output_type": "execute_result",
          "data": {
            "text/plain": [
              "29.69911764705882"
            ]
          },
          "metadata": {},
          "execution_count": 116
        }
      ]
    },
    {
      "cell_type": "code",
      "metadata": {
        "colab": {
          "base_uri": "https://localhost:8080/"
        },
        "id": "1EqZZKceY9co",
        "outputId": "7dce67f7-96de-48b8-c426-167be55247ad"
      },
      "source": [
        "data['Fare'].mean()"
      ],
      "execution_count": null,
      "outputs": [
        {
          "output_type": "execute_result",
          "data": {
            "text/plain": [
              "32.2042079685746"
            ]
          },
          "metadata": {},
          "execution_count": 118
        }
      ]
    },
    {
      "cell_type": "code",
      "metadata": {
        "colab": {
          "base_uri": "https://localhost:8080/",
          "height": 315
        },
        "id": "srwYLcIkY-xX",
        "outputId": "52583682-c4f5-4d0d-9df1-e5e5a69cc431"
      },
      "source": [
        "data.describe()"
      ],
      "execution_count": null,
      "outputs": [
        {
          "output_type": "execute_result",
          "data": {
            "text/html": [
              "<div>\n",
              "<style scoped>\n",
              "    .dataframe tbody tr th:only-of-type {\n",
              "        vertical-align: middle;\n",
              "    }\n",
              "\n",
              "    .dataframe tbody tr th {\n",
              "        vertical-align: top;\n",
              "    }\n",
              "\n",
              "    .dataframe thead th {\n",
              "        text-align: right;\n",
              "    }\n",
              "</style>\n",
              "<table border=\"1\" class=\"dataframe\">\n",
              "  <thead>\n",
              "    <tr style=\"text-align: right;\">\n",
              "      <th></th>\n",
              "      <th>PassengerId</th>\n",
              "      <th>Survived</th>\n",
              "      <th>Pclass</th>\n",
              "      <th>Age</th>\n",
              "      <th>SibSp</th>\n",
              "      <th>Parch</th>\n",
              "      <th>Fare</th>\n",
              "    </tr>\n",
              "  </thead>\n",
              "  <tbody>\n",
              "    <tr>\n",
              "      <th>count</th>\n",
              "      <td>891.000000</td>\n",
              "      <td>891.000000</td>\n",
              "      <td>891.000000</td>\n",
              "      <td>714.000000</td>\n",
              "      <td>891.000000</td>\n",
              "      <td>891.000000</td>\n",
              "      <td>891.000000</td>\n",
              "    </tr>\n",
              "    <tr>\n",
              "      <th>mean</th>\n",
              "      <td>446.000000</td>\n",
              "      <td>0.383838</td>\n",
              "      <td>2.308642</td>\n",
              "      <td>29.699118</td>\n",
              "      <td>0.523008</td>\n",
              "      <td>0.381594</td>\n",
              "      <td>32.204208</td>\n",
              "    </tr>\n",
              "    <tr>\n",
              "      <th>std</th>\n",
              "      <td>257.353842</td>\n",
              "      <td>0.486592</td>\n",
              "      <td>0.836071</td>\n",
              "      <td>14.526497</td>\n",
              "      <td>1.102743</td>\n",
              "      <td>0.806057</td>\n",
              "      <td>49.693429</td>\n",
              "    </tr>\n",
              "    <tr>\n",
              "      <th>min</th>\n",
              "      <td>1.000000</td>\n",
              "      <td>0.000000</td>\n",
              "      <td>1.000000</td>\n",
              "      <td>0.420000</td>\n",
              "      <td>0.000000</td>\n",
              "      <td>0.000000</td>\n",
              "      <td>0.000000</td>\n",
              "    </tr>\n",
              "    <tr>\n",
              "      <th>25%</th>\n",
              "      <td>223.500000</td>\n",
              "      <td>0.000000</td>\n",
              "      <td>2.000000</td>\n",
              "      <td>20.125000</td>\n",
              "      <td>0.000000</td>\n",
              "      <td>0.000000</td>\n",
              "      <td>7.910400</td>\n",
              "    </tr>\n",
              "    <tr>\n",
              "      <th>50%</th>\n",
              "      <td>446.000000</td>\n",
              "      <td>0.000000</td>\n",
              "      <td>3.000000</td>\n",
              "      <td>28.000000</td>\n",
              "      <td>0.000000</td>\n",
              "      <td>0.000000</td>\n",
              "      <td>14.454200</td>\n",
              "    </tr>\n",
              "    <tr>\n",
              "      <th>75%</th>\n",
              "      <td>668.500000</td>\n",
              "      <td>1.000000</td>\n",
              "      <td>3.000000</td>\n",
              "      <td>38.000000</td>\n",
              "      <td>1.000000</td>\n",
              "      <td>0.000000</td>\n",
              "      <td>31.000000</td>\n",
              "    </tr>\n",
              "    <tr>\n",
              "      <th>max</th>\n",
              "      <td>891.000000</td>\n",
              "      <td>1.000000</td>\n",
              "      <td>3.000000</td>\n",
              "      <td>80.000000</td>\n",
              "      <td>8.000000</td>\n",
              "      <td>6.000000</td>\n",
              "      <td>512.329200</td>\n",
              "    </tr>\n",
              "  </tbody>\n",
              "</table>\n",
              "</div>"
            ],
            "text/plain": [
              "       PassengerId    Survived      Pclass  ...       SibSp       Parch        Fare\n",
              "count   891.000000  891.000000  891.000000  ...  891.000000  891.000000  891.000000\n",
              "mean    446.000000    0.383838    2.308642  ...    0.523008    0.381594   32.204208\n",
              "std     257.353842    0.486592    0.836071  ...    1.102743    0.806057   49.693429\n",
              "min       1.000000    0.000000    1.000000  ...    0.000000    0.000000    0.000000\n",
              "25%     223.500000    0.000000    2.000000  ...    0.000000    0.000000    7.910400\n",
              "50%     446.000000    0.000000    3.000000  ...    0.000000    0.000000   14.454200\n",
              "75%     668.500000    1.000000    3.000000  ...    1.000000    0.000000   31.000000\n",
              "max     891.000000    1.000000    3.000000  ...    8.000000    6.000000  512.329200\n",
              "\n",
              "[8 rows x 7 columns]"
            ]
          },
          "metadata": {},
          "execution_count": 119
        }
      ]
    },
    {
      "cell_type": "markdown",
      "metadata": {
        "id": "yPB1bkQjZBNz"
      },
      "source": [
        "## 조건식"
      ]
    },
    {
      "cell_type": "code",
      "metadata": {
        "colab": {
          "base_uri": "https://localhost:8080/"
        },
        "id": "20AIWRbmY3wR",
        "outputId": "bc78ef0b-4deb-4b1d-90c7-a1fdc42d17a5"
      },
      "source": [
        "data['Survived'] == 0"
      ],
      "execution_count": null,
      "outputs": [
        {
          "output_type": "execute_result",
          "data": {
            "text/plain": [
              "0       True\n",
              "1      False\n",
              "2      False\n",
              "3      False\n",
              "4       True\n",
              "       ...  \n",
              "886     True\n",
              "887    False\n",
              "888     True\n",
              "889    False\n",
              "890     True\n",
              "Name: Survived, Length: 891, dtype: bool"
            ]
          },
          "metadata": {},
          "execution_count": 117
        }
      ]
    },
    {
      "cell_type": "code",
      "metadata": {
        "colab": {
          "base_uri": "https://localhost:8080/"
        },
        "id": "0EY5CZN3Y4vp",
        "outputId": "ca8f156c-573d-4ac4-c6bc-85524fc4a6e4"
      },
      "source": [
        "data['Survived'].value_counts()"
      ],
      "execution_count": null,
      "outputs": [
        {
          "output_type": "execute_result",
          "data": {
            "text/plain": [
              "0    549\n",
              "1    342\n",
              "Name: Survived, dtype: int64"
            ]
          },
          "metadata": {},
          "execution_count": 120
        }
      ]
    },
    {
      "cell_type": "code",
      "metadata": {
        "colab": {
          "base_uri": "https://localhost:8080/",
          "height": 857
        },
        "id": "RlsyHueRZEEo",
        "outputId": "da5aaef0-f6d6-4ffa-e847-464831a2bcb3"
      },
      "source": [
        "dead = data[data['Survived']==0]\n",
        "dead"
      ],
      "execution_count": null,
      "outputs": [
        {
          "output_type": "execute_result",
          "data": {
            "text/html": [
              "<div>\n",
              "<style scoped>\n",
              "    .dataframe tbody tr th:only-of-type {\n",
              "        vertical-align: middle;\n",
              "    }\n",
              "\n",
              "    .dataframe tbody tr th {\n",
              "        vertical-align: top;\n",
              "    }\n",
              "\n",
              "    .dataframe thead th {\n",
              "        text-align: right;\n",
              "    }\n",
              "</style>\n",
              "<table border=\"1\" class=\"dataframe\">\n",
              "  <thead>\n",
              "    <tr style=\"text-align: right;\">\n",
              "      <th></th>\n",
              "      <th>PassengerId</th>\n",
              "      <th>Survived</th>\n",
              "      <th>Pclass</th>\n",
              "      <th>Name</th>\n",
              "      <th>Sex</th>\n",
              "      <th>Age</th>\n",
              "      <th>SibSp</th>\n",
              "      <th>Parch</th>\n",
              "      <th>Ticket</th>\n",
              "      <th>Fare</th>\n",
              "      <th>Cabin</th>\n",
              "      <th>Embarked</th>\n",
              "    </tr>\n",
              "  </thead>\n",
              "  <tbody>\n",
              "    <tr>\n",
              "      <th>0</th>\n",
              "      <td>1</td>\n",
              "      <td>0</td>\n",
              "      <td>3</td>\n",
              "      <td>Braund, Mr. Owen Harris</td>\n",
              "      <td>male</td>\n",
              "      <td>22.0</td>\n",
              "      <td>1</td>\n",
              "      <td>0</td>\n",
              "      <td>A/5 21171</td>\n",
              "      <td>7.2500</td>\n",
              "      <td>NaN</td>\n",
              "      <td>S</td>\n",
              "    </tr>\n",
              "    <tr>\n",
              "      <th>4</th>\n",
              "      <td>5</td>\n",
              "      <td>0</td>\n",
              "      <td>3</td>\n",
              "      <td>Allen, Mr. William Henry</td>\n",
              "      <td>male</td>\n",
              "      <td>35.0</td>\n",
              "      <td>0</td>\n",
              "      <td>0</td>\n",
              "      <td>373450</td>\n",
              "      <td>8.0500</td>\n",
              "      <td>NaN</td>\n",
              "      <td>S</td>\n",
              "    </tr>\n",
              "    <tr>\n",
              "      <th>5</th>\n",
              "      <td>6</td>\n",
              "      <td>0</td>\n",
              "      <td>3</td>\n",
              "      <td>Moran, Mr. James</td>\n",
              "      <td>male</td>\n",
              "      <td>NaN</td>\n",
              "      <td>0</td>\n",
              "      <td>0</td>\n",
              "      <td>330877</td>\n",
              "      <td>8.4583</td>\n",
              "      <td>NaN</td>\n",
              "      <td>Q</td>\n",
              "    </tr>\n",
              "    <tr>\n",
              "      <th>6</th>\n",
              "      <td>7</td>\n",
              "      <td>0</td>\n",
              "      <td>1</td>\n",
              "      <td>McCarthy, Mr. Timothy J</td>\n",
              "      <td>male</td>\n",
              "      <td>54.0</td>\n",
              "      <td>0</td>\n",
              "      <td>0</td>\n",
              "      <td>17463</td>\n",
              "      <td>51.8625</td>\n",
              "      <td>E46</td>\n",
              "      <td>S</td>\n",
              "    </tr>\n",
              "    <tr>\n",
              "      <th>7</th>\n",
              "      <td>8</td>\n",
              "      <td>0</td>\n",
              "      <td>3</td>\n",
              "      <td>Palsson, Master. Gosta Leonard</td>\n",
              "      <td>male</td>\n",
              "      <td>2.0</td>\n",
              "      <td>3</td>\n",
              "      <td>1</td>\n",
              "      <td>349909</td>\n",
              "      <td>21.0750</td>\n",
              "      <td>NaN</td>\n",
              "      <td>S</td>\n",
              "    </tr>\n",
              "    <tr>\n",
              "      <th>...</th>\n",
              "      <td>...</td>\n",
              "      <td>...</td>\n",
              "      <td>...</td>\n",
              "      <td>...</td>\n",
              "      <td>...</td>\n",
              "      <td>...</td>\n",
              "      <td>...</td>\n",
              "      <td>...</td>\n",
              "      <td>...</td>\n",
              "      <td>...</td>\n",
              "      <td>...</td>\n",
              "      <td>...</td>\n",
              "    </tr>\n",
              "    <tr>\n",
              "      <th>884</th>\n",
              "      <td>885</td>\n",
              "      <td>0</td>\n",
              "      <td>3</td>\n",
              "      <td>Sutehall, Mr. Henry Jr</td>\n",
              "      <td>male</td>\n",
              "      <td>25.0</td>\n",
              "      <td>0</td>\n",
              "      <td>0</td>\n",
              "      <td>SOTON/OQ 392076</td>\n",
              "      <td>7.0500</td>\n",
              "      <td>NaN</td>\n",
              "      <td>S</td>\n",
              "    </tr>\n",
              "    <tr>\n",
              "      <th>885</th>\n",
              "      <td>886</td>\n",
              "      <td>0</td>\n",
              "      <td>3</td>\n",
              "      <td>Rice, Mrs. William (Margaret Norton)</td>\n",
              "      <td>female</td>\n",
              "      <td>39.0</td>\n",
              "      <td>0</td>\n",
              "      <td>5</td>\n",
              "      <td>382652</td>\n",
              "      <td>29.1250</td>\n",
              "      <td>NaN</td>\n",
              "      <td>Q</td>\n",
              "    </tr>\n",
              "    <tr>\n",
              "      <th>886</th>\n",
              "      <td>887</td>\n",
              "      <td>0</td>\n",
              "      <td>2</td>\n",
              "      <td>Montvila, Rev. Juozas</td>\n",
              "      <td>male</td>\n",
              "      <td>27.0</td>\n",
              "      <td>0</td>\n",
              "      <td>0</td>\n",
              "      <td>211536</td>\n",
              "      <td>13.0000</td>\n",
              "      <td>NaN</td>\n",
              "      <td>S</td>\n",
              "    </tr>\n",
              "    <tr>\n",
              "      <th>888</th>\n",
              "      <td>889</td>\n",
              "      <td>0</td>\n",
              "      <td>3</td>\n",
              "      <td>Johnston, Miss. Catherine Helen \"Carrie\"</td>\n",
              "      <td>female</td>\n",
              "      <td>NaN</td>\n",
              "      <td>1</td>\n",
              "      <td>2</td>\n",
              "      <td>W./C. 6607</td>\n",
              "      <td>23.4500</td>\n",
              "      <td>NaN</td>\n",
              "      <td>S</td>\n",
              "    </tr>\n",
              "    <tr>\n",
              "      <th>890</th>\n",
              "      <td>891</td>\n",
              "      <td>0</td>\n",
              "      <td>3</td>\n",
              "      <td>Dooley, Mr. Patrick</td>\n",
              "      <td>male</td>\n",
              "      <td>32.0</td>\n",
              "      <td>0</td>\n",
              "      <td>0</td>\n",
              "      <td>370376</td>\n",
              "      <td>7.7500</td>\n",
              "      <td>NaN</td>\n",
              "      <td>Q</td>\n",
              "    </tr>\n",
              "  </tbody>\n",
              "</table>\n",
              "<p>549 rows × 12 columns</p>\n",
              "</div>"
            ],
            "text/plain": [
              "     PassengerId  Survived  Pclass  ...     Fare Cabin  Embarked\n",
              "0              1         0       3  ...   7.2500   NaN         S\n",
              "4              5         0       3  ...   8.0500   NaN         S\n",
              "5              6         0       3  ...   8.4583   NaN         Q\n",
              "6              7         0       1  ...  51.8625   E46         S\n",
              "7              8         0       3  ...  21.0750   NaN         S\n",
              "..           ...       ...     ...  ...      ...   ...       ...\n",
              "884          885         0       3  ...   7.0500   NaN         S\n",
              "885          886         0       3  ...  29.1250   NaN         Q\n",
              "886          887         0       2  ...  13.0000   NaN         S\n",
              "888          889         0       3  ...  23.4500   NaN         S\n",
              "890          891         0       3  ...   7.7500   NaN         Q\n",
              "\n",
              "[549 rows x 12 columns]"
            ]
          },
          "metadata": {},
          "execution_count": 121
        }
      ]
    },
    {
      "cell_type": "code",
      "metadata": {
        "colab": {
          "base_uri": "https://localhost:8080/",
          "height": 1000
        },
        "id": "X30pR7X2ZFnZ",
        "outputId": "f9e3940d-4356-4fd2-e7b6-13b32ea2a72b"
      },
      "source": [
        "survived = data[data['Survived']==1]\n",
        "survived"
      ],
      "execution_count": null,
      "outputs": [
        {
          "output_type": "execute_result",
          "data": {
            "text/html": [
              "<div>\n",
              "<style scoped>\n",
              "    .dataframe tbody tr th:only-of-type {\n",
              "        vertical-align: middle;\n",
              "    }\n",
              "\n",
              "    .dataframe tbody tr th {\n",
              "        vertical-align: top;\n",
              "    }\n",
              "\n",
              "    .dataframe thead th {\n",
              "        text-align: right;\n",
              "    }\n",
              "</style>\n",
              "<table border=\"1\" class=\"dataframe\">\n",
              "  <thead>\n",
              "    <tr style=\"text-align: right;\">\n",
              "      <th></th>\n",
              "      <th>PassengerId</th>\n",
              "      <th>Survived</th>\n",
              "      <th>Pclass</th>\n",
              "      <th>Name</th>\n",
              "      <th>Sex</th>\n",
              "      <th>Age</th>\n",
              "      <th>SibSp</th>\n",
              "      <th>Parch</th>\n",
              "      <th>Ticket</th>\n",
              "      <th>Fare</th>\n",
              "      <th>Cabin</th>\n",
              "      <th>Embarked</th>\n",
              "    </tr>\n",
              "  </thead>\n",
              "  <tbody>\n",
              "    <tr>\n",
              "      <th>1</th>\n",
              "      <td>2</td>\n",
              "      <td>1</td>\n",
              "      <td>1</td>\n",
              "      <td>Cumings, Mrs. John Bradley (Florence Briggs Th...</td>\n",
              "      <td>female</td>\n",
              "      <td>38.0</td>\n",
              "      <td>1</td>\n",
              "      <td>0</td>\n",
              "      <td>PC 17599</td>\n",
              "      <td>71.2833</td>\n",
              "      <td>C85</td>\n",
              "      <td>C</td>\n",
              "    </tr>\n",
              "    <tr>\n",
              "      <th>2</th>\n",
              "      <td>3</td>\n",
              "      <td>1</td>\n",
              "      <td>3</td>\n",
              "      <td>Heikkinen, Miss. Laina</td>\n",
              "      <td>female</td>\n",
              "      <td>26.0</td>\n",
              "      <td>0</td>\n",
              "      <td>0</td>\n",
              "      <td>STON/O2. 3101282</td>\n",
              "      <td>7.9250</td>\n",
              "      <td>NaN</td>\n",
              "      <td>S</td>\n",
              "    </tr>\n",
              "    <tr>\n",
              "      <th>3</th>\n",
              "      <td>4</td>\n",
              "      <td>1</td>\n",
              "      <td>1</td>\n",
              "      <td>Futrelle, Mrs. Jacques Heath (Lily May Peel)</td>\n",
              "      <td>female</td>\n",
              "      <td>35.0</td>\n",
              "      <td>1</td>\n",
              "      <td>0</td>\n",
              "      <td>113803</td>\n",
              "      <td>53.1000</td>\n",
              "      <td>C123</td>\n",
              "      <td>S</td>\n",
              "    </tr>\n",
              "    <tr>\n",
              "      <th>8</th>\n",
              "      <td>9</td>\n",
              "      <td>1</td>\n",
              "      <td>3</td>\n",
              "      <td>Johnson, Mrs. Oscar W (Elisabeth Vilhelmina Berg)</td>\n",
              "      <td>female</td>\n",
              "      <td>27.0</td>\n",
              "      <td>0</td>\n",
              "      <td>2</td>\n",
              "      <td>347742</td>\n",
              "      <td>11.1333</td>\n",
              "      <td>NaN</td>\n",
              "      <td>S</td>\n",
              "    </tr>\n",
              "    <tr>\n",
              "      <th>9</th>\n",
              "      <td>10</td>\n",
              "      <td>1</td>\n",
              "      <td>2</td>\n",
              "      <td>Nasser, Mrs. Nicholas (Adele Achem)</td>\n",
              "      <td>female</td>\n",
              "      <td>14.0</td>\n",
              "      <td>1</td>\n",
              "      <td>0</td>\n",
              "      <td>237736</td>\n",
              "      <td>30.0708</td>\n",
              "      <td>NaN</td>\n",
              "      <td>C</td>\n",
              "    </tr>\n",
              "    <tr>\n",
              "      <th>...</th>\n",
              "      <td>...</td>\n",
              "      <td>...</td>\n",
              "      <td>...</td>\n",
              "      <td>...</td>\n",
              "      <td>...</td>\n",
              "      <td>...</td>\n",
              "      <td>...</td>\n",
              "      <td>...</td>\n",
              "      <td>...</td>\n",
              "      <td>...</td>\n",
              "      <td>...</td>\n",
              "      <td>...</td>\n",
              "    </tr>\n",
              "    <tr>\n",
              "      <th>875</th>\n",
              "      <td>876</td>\n",
              "      <td>1</td>\n",
              "      <td>3</td>\n",
              "      <td>Najib, Miss. Adele Kiamie \"Jane\"</td>\n",
              "      <td>female</td>\n",
              "      <td>15.0</td>\n",
              "      <td>0</td>\n",
              "      <td>0</td>\n",
              "      <td>2667</td>\n",
              "      <td>7.2250</td>\n",
              "      <td>NaN</td>\n",
              "      <td>C</td>\n",
              "    </tr>\n",
              "    <tr>\n",
              "      <th>879</th>\n",
              "      <td>880</td>\n",
              "      <td>1</td>\n",
              "      <td>1</td>\n",
              "      <td>Potter, Mrs. Thomas Jr (Lily Alexenia Wilson)</td>\n",
              "      <td>female</td>\n",
              "      <td>56.0</td>\n",
              "      <td>0</td>\n",
              "      <td>1</td>\n",
              "      <td>11767</td>\n",
              "      <td>83.1583</td>\n",
              "      <td>C50</td>\n",
              "      <td>C</td>\n",
              "    </tr>\n",
              "    <tr>\n",
              "      <th>880</th>\n",
              "      <td>881</td>\n",
              "      <td>1</td>\n",
              "      <td>2</td>\n",
              "      <td>Shelley, Mrs. William (Imanita Parrish Hall)</td>\n",
              "      <td>female</td>\n",
              "      <td>25.0</td>\n",
              "      <td>0</td>\n",
              "      <td>1</td>\n",
              "      <td>230433</td>\n",
              "      <td>26.0000</td>\n",
              "      <td>NaN</td>\n",
              "      <td>S</td>\n",
              "    </tr>\n",
              "    <tr>\n",
              "      <th>887</th>\n",
              "      <td>888</td>\n",
              "      <td>1</td>\n",
              "      <td>1</td>\n",
              "      <td>Graham, Miss. Margaret Edith</td>\n",
              "      <td>female</td>\n",
              "      <td>19.0</td>\n",
              "      <td>0</td>\n",
              "      <td>0</td>\n",
              "      <td>112053</td>\n",
              "      <td>30.0000</td>\n",
              "      <td>B42</td>\n",
              "      <td>S</td>\n",
              "    </tr>\n",
              "    <tr>\n",
              "      <th>889</th>\n",
              "      <td>890</td>\n",
              "      <td>1</td>\n",
              "      <td>1</td>\n",
              "      <td>Behr, Mr. Karl Howell</td>\n",
              "      <td>male</td>\n",
              "      <td>26.0</td>\n",
              "      <td>0</td>\n",
              "      <td>0</td>\n",
              "      <td>111369</td>\n",
              "      <td>30.0000</td>\n",
              "      <td>C148</td>\n",
              "      <td>C</td>\n",
              "    </tr>\n",
              "  </tbody>\n",
              "</table>\n",
              "<p>342 rows × 12 columns</p>\n",
              "</div>"
            ],
            "text/plain": [
              "     PassengerId  Survived  Pclass  ...     Fare Cabin  Embarked\n",
              "1              2         1       1  ...  71.2833   C85         C\n",
              "2              3         1       3  ...   7.9250   NaN         S\n",
              "3              4         1       1  ...  53.1000  C123         S\n",
              "8              9         1       3  ...  11.1333   NaN         S\n",
              "9             10         1       2  ...  30.0708   NaN         C\n",
              "..           ...       ...     ...  ...      ...   ...       ...\n",
              "875          876         1       3  ...   7.2250   NaN         C\n",
              "879          880         1       1  ...  83.1583   C50         C\n",
              "880          881         1       2  ...  26.0000   NaN         S\n",
              "887          888         1       1  ...  30.0000   B42         S\n",
              "889          890         1       1  ...  30.0000  C148         C\n",
              "\n",
              "[342 rows x 12 columns]"
            ]
          },
          "metadata": {},
          "execution_count": 122
        }
      ]
    },
    {
      "cell_type": "code",
      "metadata": {
        "colab": {
          "base_uri": "https://localhost:8080/"
        },
        "id": "WNhYNv85ZIGw",
        "outputId": "f395ea47-7880-4e49-d7e8-5c259ec70c66"
      },
      "source": [
        "len(dead)"
      ],
      "execution_count": null,
      "outputs": [
        {
          "output_type": "execute_result",
          "data": {
            "text/plain": [
              "549"
            ]
          },
          "metadata": {},
          "execution_count": 123
        }
      ]
    },
    {
      "cell_type": "code",
      "metadata": {
        "colab": {
          "base_uri": "https://localhost:8080/"
        },
        "id": "S2kdfQ6dZJ4o",
        "outputId": "daf1909a-a600-4f03-ed11-f9e3331d2c75"
      },
      "source": [
        "len(survived)"
      ],
      "execution_count": null,
      "outputs": [
        {
          "output_type": "execute_result",
          "data": {
            "text/plain": [
              "342"
            ]
          },
          "metadata": {},
          "execution_count": 124
        }
      ]
    },
    {
      "cell_type": "code",
      "metadata": {
        "colab": {
          "base_uri": "https://localhost:8080/"
        },
        "id": "DtigmuaRZKoG",
        "outputId": "85d1890e-394e-4fd1-d2c7-7ada832caee4"
      },
      "source": [
        "male = data[data['Sex']=='male']\n",
        "female = data[data['Sex']=='female']\n",
        "len(male)"
      ],
      "execution_count": null,
      "outputs": [
        {
          "output_type": "execute_result",
          "data": {
            "text/plain": [
              "577"
            ]
          },
          "metadata": {},
          "execution_count": 125
        }
      ]
    },
    {
      "cell_type": "code",
      "metadata": {
        "colab": {
          "base_uri": "https://localhost:8080/"
        },
        "id": "osT0XmS9ZMhL",
        "outputId": "55ba391d-ab27-4263-f9ec-b079c827fe95"
      },
      "source": [
        "len(female)"
      ],
      "execution_count": null,
      "outputs": [
        {
          "output_type": "execute_result",
          "data": {
            "text/plain": [
              "314"
            ]
          },
          "metadata": {},
          "execution_count": 126
        }
      ]
    },
    {
      "cell_type": "code",
      "metadata": {
        "colab": {
          "base_uri": "https://localhost:8080/",
          "height": 941
        },
        "id": "SZWmeGFCZNpE",
        "outputId": "91efe1aa-105e-4287-8b39-e08b1ae40403"
      },
      "source": [
        "schildren = data[(data['Survived']==1) & (data['Age']<=17)]\n",
        "schildren"
      ],
      "execution_count": null,
      "outputs": [
        {
          "output_type": "execute_result",
          "data": {
            "text/html": [
              "<div>\n",
              "<style scoped>\n",
              "    .dataframe tbody tr th:only-of-type {\n",
              "        vertical-align: middle;\n",
              "    }\n",
              "\n",
              "    .dataframe tbody tr th {\n",
              "        vertical-align: top;\n",
              "    }\n",
              "\n",
              "    .dataframe thead th {\n",
              "        text-align: right;\n",
              "    }\n",
              "</style>\n",
              "<table border=\"1\" class=\"dataframe\">\n",
              "  <thead>\n",
              "    <tr style=\"text-align: right;\">\n",
              "      <th></th>\n",
              "      <th>PassengerId</th>\n",
              "      <th>Survived</th>\n",
              "      <th>Pclass</th>\n",
              "      <th>Name</th>\n",
              "      <th>Sex</th>\n",
              "      <th>Age</th>\n",
              "      <th>SibSp</th>\n",
              "      <th>Parch</th>\n",
              "      <th>Ticket</th>\n",
              "      <th>Fare</th>\n",
              "      <th>Cabin</th>\n",
              "      <th>Embarked</th>\n",
              "    </tr>\n",
              "  </thead>\n",
              "  <tbody>\n",
              "    <tr>\n",
              "      <th>9</th>\n",
              "      <td>10</td>\n",
              "      <td>1</td>\n",
              "      <td>2</td>\n",
              "      <td>Nasser, Mrs. Nicholas (Adele Achem)</td>\n",
              "      <td>female</td>\n",
              "      <td>14.00</td>\n",
              "      <td>1</td>\n",
              "      <td>0</td>\n",
              "      <td>237736</td>\n",
              "      <td>30.0708</td>\n",
              "      <td>NaN</td>\n",
              "      <td>C</td>\n",
              "    </tr>\n",
              "    <tr>\n",
              "      <th>10</th>\n",
              "      <td>11</td>\n",
              "      <td>1</td>\n",
              "      <td>3</td>\n",
              "      <td>Sandstrom, Miss. Marguerite Rut</td>\n",
              "      <td>female</td>\n",
              "      <td>4.00</td>\n",
              "      <td>1</td>\n",
              "      <td>1</td>\n",
              "      <td>PP 9549</td>\n",
              "      <td>16.7000</td>\n",
              "      <td>G6</td>\n",
              "      <td>S</td>\n",
              "    </tr>\n",
              "    <tr>\n",
              "      <th>22</th>\n",
              "      <td>23</td>\n",
              "      <td>1</td>\n",
              "      <td>3</td>\n",
              "      <td>McGowan, Miss. Anna \"Annie\"</td>\n",
              "      <td>female</td>\n",
              "      <td>15.00</td>\n",
              "      <td>0</td>\n",
              "      <td>0</td>\n",
              "      <td>330923</td>\n",
              "      <td>8.0292</td>\n",
              "      <td>NaN</td>\n",
              "      <td>Q</td>\n",
              "    </tr>\n",
              "    <tr>\n",
              "      <th>39</th>\n",
              "      <td>40</td>\n",
              "      <td>1</td>\n",
              "      <td>3</td>\n",
              "      <td>Nicola-Yarred, Miss. Jamila</td>\n",
              "      <td>female</td>\n",
              "      <td>14.00</td>\n",
              "      <td>1</td>\n",
              "      <td>0</td>\n",
              "      <td>2651</td>\n",
              "      <td>11.2417</td>\n",
              "      <td>NaN</td>\n",
              "      <td>C</td>\n",
              "    </tr>\n",
              "    <tr>\n",
              "      <th>43</th>\n",
              "      <td>44</td>\n",
              "      <td>1</td>\n",
              "      <td>2</td>\n",
              "      <td>Laroche, Miss. Simonne Marie Anne Andree</td>\n",
              "      <td>female</td>\n",
              "      <td>3.00</td>\n",
              "      <td>1</td>\n",
              "      <td>2</td>\n",
              "      <td>SC/Paris 2123</td>\n",
              "      <td>41.5792</td>\n",
              "      <td>NaN</td>\n",
              "      <td>C</td>\n",
              "    </tr>\n",
              "    <tr>\n",
              "      <th>...</th>\n",
              "      <td>...</td>\n",
              "      <td>...</td>\n",
              "      <td>...</td>\n",
              "      <td>...</td>\n",
              "      <td>...</td>\n",
              "      <td>...</td>\n",
              "      <td>...</td>\n",
              "      <td>...</td>\n",
              "      <td>...</td>\n",
              "      <td>...</td>\n",
              "      <td>...</td>\n",
              "      <td>...</td>\n",
              "    </tr>\n",
              "    <tr>\n",
              "      <th>830</th>\n",
              "      <td>831</td>\n",
              "      <td>1</td>\n",
              "      <td>3</td>\n",
              "      <td>Yasbeck, Mrs. Antoni (Selini Alexander)</td>\n",
              "      <td>female</td>\n",
              "      <td>15.00</td>\n",
              "      <td>1</td>\n",
              "      <td>0</td>\n",
              "      <td>2659</td>\n",
              "      <td>14.4542</td>\n",
              "      <td>NaN</td>\n",
              "      <td>C</td>\n",
              "    </tr>\n",
              "    <tr>\n",
              "      <th>831</th>\n",
              "      <td>832</td>\n",
              "      <td>1</td>\n",
              "      <td>2</td>\n",
              "      <td>Richards, Master. George Sibley</td>\n",
              "      <td>male</td>\n",
              "      <td>0.83</td>\n",
              "      <td>1</td>\n",
              "      <td>1</td>\n",
              "      <td>29106</td>\n",
              "      <td>18.7500</td>\n",
              "      <td>NaN</td>\n",
              "      <td>S</td>\n",
              "    </tr>\n",
              "    <tr>\n",
              "      <th>853</th>\n",
              "      <td>854</td>\n",
              "      <td>1</td>\n",
              "      <td>1</td>\n",
              "      <td>Lines, Miss. Mary Conover</td>\n",
              "      <td>female</td>\n",
              "      <td>16.00</td>\n",
              "      <td>0</td>\n",
              "      <td>1</td>\n",
              "      <td>PC 17592</td>\n",
              "      <td>39.4000</td>\n",
              "      <td>D28</td>\n",
              "      <td>S</td>\n",
              "    </tr>\n",
              "    <tr>\n",
              "      <th>869</th>\n",
              "      <td>870</td>\n",
              "      <td>1</td>\n",
              "      <td>3</td>\n",
              "      <td>Johnson, Master. Harold Theodor</td>\n",
              "      <td>male</td>\n",
              "      <td>4.00</td>\n",
              "      <td>1</td>\n",
              "      <td>1</td>\n",
              "      <td>347742</td>\n",
              "      <td>11.1333</td>\n",
              "      <td>NaN</td>\n",
              "      <td>S</td>\n",
              "    </tr>\n",
              "    <tr>\n",
              "      <th>875</th>\n",
              "      <td>876</td>\n",
              "      <td>1</td>\n",
              "      <td>3</td>\n",
              "      <td>Najib, Miss. Adele Kiamie \"Jane\"</td>\n",
              "      <td>female</td>\n",
              "      <td>15.00</td>\n",
              "      <td>0</td>\n",
              "      <td>0</td>\n",
              "      <td>2667</td>\n",
              "      <td>7.2250</td>\n",
              "      <td>NaN</td>\n",
              "      <td>C</td>\n",
              "    </tr>\n",
              "  </tbody>\n",
              "</table>\n",
              "<p>61 rows × 12 columns</p>\n",
              "</div>"
            ],
            "text/plain": [
              "     PassengerId  Survived  Pclass  ...     Fare Cabin  Embarked\n",
              "9             10         1       2  ...  30.0708   NaN         C\n",
              "10            11         1       3  ...  16.7000    G6         S\n",
              "22            23         1       3  ...   8.0292   NaN         Q\n",
              "39            40         1       3  ...  11.2417   NaN         C\n",
              "43            44         1       2  ...  41.5792   NaN         C\n",
              "..           ...       ...     ...  ...      ...   ...       ...\n",
              "830          831         1       3  ...  14.4542   NaN         C\n",
              "831          832         1       2  ...  18.7500   NaN         S\n",
              "853          854         1       1  ...  39.4000   D28         S\n",
              "869          870         1       3  ...  11.1333   NaN         S\n",
              "875          876         1       3  ...   7.2250   NaN         C\n",
              "\n",
              "[61 rows x 12 columns]"
            ]
          },
          "metadata": {},
          "execution_count": 127
        }
      ]
    },
    {
      "cell_type": "code",
      "metadata": {
        "colab": {
          "base_uri": "https://localhost:8080/"
        },
        "id": "fRotmSYFZPVC",
        "outputId": "29036201-3d93-40e6-e13d-3343941be7d2"
      },
      "source": [
        "len(schildren)"
      ],
      "execution_count": null,
      "outputs": [
        {
          "output_type": "execute_result",
          "data": {
            "text/plain": [
              "61"
            ]
          },
          "metadata": {},
          "execution_count": 128
        }
      ]
    },
    {
      "cell_type": "code",
      "metadata": {
        "colab": {
          "base_uri": "https://localhost:8080/"
        },
        "id": "XQOGSddjZQ5S",
        "outputId": "44fcdec5-5253-4485-f397-245430824546"
      },
      "source": [
        "children = data[data['Age']<=17]\n",
        "len(children)"
      ],
      "execution_count": null,
      "outputs": [
        {
          "output_type": "execute_result",
          "data": {
            "text/plain": [
              "113"
            ]
          },
          "metadata": {},
          "execution_count": 129
        }
      ]
    },
    {
      "cell_type": "code",
      "metadata": {
        "colab": {
          "base_uri": "https://localhost:8080/"
        },
        "id": "M6wu7hyfZSBP",
        "outputId": "c99ffddc-13c6-4703-ec36-598b9a4ad6cf"
      },
      "source": [
        "print(len(schildren)/len(children)*100)"
      ],
      "execution_count": null,
      "outputs": [
        {
          "output_type": "stream",
          "name": "stdout",
          "text": [
            "53.98230088495575\n"
          ]
        }
      ]
    },
    {
      "cell_type": "markdown",
      "metadata": {
        "id": "4on4vBabZkJP"
      },
      "source": [
        "- 60세 이상 생존비율을 구하시오."
      ]
    },
    {
      "cell_type": "code",
      "metadata": {
        "colab": {
          "base_uri": "https://localhost:8080/"
        },
        "id": "9bqth33IZTV1",
        "outputId": "34e35221-fcb4-4229-e108-feb71775ce68"
      },
      "source": [
        "selder = data[(data['Age']>=60) & (data['Survived']==1)]\n",
        "len(selder)"
      ],
      "execution_count": null,
      "outputs": [
        {
          "output_type": "execute_result",
          "data": {
            "text/plain": [
              "7"
            ]
          },
          "metadata": {},
          "execution_count": 131
        }
      ]
    },
    {
      "cell_type": "code",
      "metadata": {
        "colab": {
          "base_uri": "https://localhost:8080/"
        },
        "id": "r7pJ-4reZUXu",
        "outputId": "b3115142-d291-4174-9fee-9bda84f924e4"
      },
      "source": [
        "elder = data[data['Age']>=60]\n",
        "len(elder)"
      ],
      "execution_count": null,
      "outputs": [
        {
          "output_type": "execute_result",
          "data": {
            "text/plain": [
              "26"
            ]
          },
          "metadata": {},
          "execution_count": 132
        }
      ]
    },
    {
      "cell_type": "code",
      "metadata": {
        "colab": {
          "base_uri": "https://localhost:8080/"
        },
        "id": "U9vzTRRCZVD9",
        "outputId": "7fc0a1e8-ebca-49e4-a8ba-4e7fd18ddf1b"
      },
      "source": [
        "selderrate = len(selder) / len(elder) * 100\n",
        "selderrate"
      ],
      "execution_count": null,
      "outputs": [
        {
          "output_type": "execute_result",
          "data": {
            "text/plain": [
              "26.923076923076923"
            ]
          },
          "metadata": {},
          "execution_count": 133
        }
      ]
    },
    {
      "cell_type": "markdown",
      "metadata": {
        "id": "QPTmcLp-ZoZW"
      },
      "source": [
        "- 18세 미만의 남자 아이 정보와 수를 출력해 보자"
      ]
    },
    {
      "cell_type": "code",
      "metadata": {
        "colab": {
          "base_uri": "https://localhost:8080/"
        },
        "id": "lIpNIQIsZV5d",
        "outputId": "d20c2469-4caf-4cb8-e7d2-35649514975d"
      },
      "source": [
        "boy = data[(data.Age < 18) & (data.Sex == 'male')]\n",
        "len(boy)"
      ],
      "execution_count": null,
      "outputs": [
        {
          "output_type": "execute_result",
          "data": {
            "text/plain": [
              "58"
            ]
          },
          "metadata": {},
          "execution_count": 137
        }
      ]
    },
    {
      "cell_type": "code",
      "metadata": {
        "colab": {
          "base_uri": "https://localhost:8080/"
        },
        "id": "43sQupucZ8Ww",
        "outputId": "d0303b88-d78d-499c-afad-cd16daabd5e6"
      },
      "source": [
        "# 성별에 따른 생존자 수\n",
        "survived = data[data.Survived == 1]['Sex'].value_counts()\n",
        "survived"
      ],
      "execution_count": null,
      "outputs": [
        {
          "output_type": "execute_result",
          "data": {
            "text/plain": [
              "female    233\n",
              "male      109\n",
              "Name: Sex, dtype: int64"
            ]
          },
          "metadata": {},
          "execution_count": 139
        }
      ]
    },
    {
      "cell_type": "code",
      "metadata": {
        "colab": {
          "base_uri": "https://localhost:8080/"
        },
        "id": "SjJzfBQwaCIX",
        "outputId": "b4d0c765-5455-436a-e977-00dca4d36907"
      },
      "source": [
        "# 객실 등급별 생존자 수\n",
        "survivedPclass = data[data.Survived == 1]['Pclass'].value_counts()\n",
        "survivedPclass"
      ],
      "execution_count": null,
      "outputs": [
        {
          "output_type": "execute_result",
          "data": {
            "text/plain": [
              "1    136\n",
              "3    119\n",
              "2     87\n",
              "Name: Pclass, dtype: int64"
            ]
          },
          "metadata": {},
          "execution_count": 140
        }
      ]
    },
    {
      "cell_type": "code",
      "metadata": {
        "colab": {
          "base_uri": "https://localhost:8080/"
        },
        "id": "MkPJN-wXaD39",
        "outputId": "bbf52476-3bf6-48e5-9d5e-8dee943bb9a9"
      },
      "source": [
        "# 항구 별 생존자 수\n",
        "survivedEmbarked = data[data.Survived == 1]['Embarked'].value_counts()\n",
        "survivedEmbarked"
      ],
      "execution_count": null,
      "outputs": [
        {
          "output_type": "execute_result",
          "data": {
            "text/plain": [
              "S    217\n",
              "C     93\n",
              "Q     30\n",
              "Name: Embarked, dtype: int64"
            ]
          },
          "metadata": {},
          "execution_count": 141
        }
      ]
    },
    {
      "cell_type": "code",
      "metadata": {
        "colab": {
          "base_uri": "https://localhost:8080/"
        },
        "id": "OkTyOZiFaFdY",
        "outputId": "e902526b-ce6b-47f9-aa01-93a75ebb7f25"
      },
      "source": [
        "# 항구 별 탑승자 수(생존자 + 사망자 수)\n",
        "embarked = data['Embarked'].value_counts()\n",
        "embarked"
      ],
      "execution_count": null,
      "outputs": [
        {
          "output_type": "execute_result",
          "data": {
            "text/plain": [
              "S    644\n",
              "C    168\n",
              "Q     77\n",
              "Name: Embarked, dtype: int64"
            ]
          },
          "metadata": {},
          "execution_count": 142
        }
      ]
    },
    {
      "cell_type": "markdown",
      "metadata": {
        "id": "E1FDnH1KaJeK"
      },
      "source": [
        "## 그룹화 : groupby()"
      ]
    },
    {
      "cell_type": "code",
      "metadata": {
        "colab": {
          "base_uri": "https://localhost:8080/"
        },
        "id": "W5EABfgBZxCi",
        "outputId": "efa0dd64-a26f-47f3-e8f0-491a1520a2fa"
      },
      "source": [
        "# 객실 등급별 요금 평균\n",
        "print(data['Fare'].groupby(data['Pclass']).mean())"
      ],
      "execution_count": null,
      "outputs": [
        {
          "output_type": "stream",
          "name": "stdout",
          "text": [
            "Pclass\n",
            "1    84.154687\n",
            "2    20.662183\n",
            "3    13.675550\n",
            "Name: Fare, dtype: float64\n"
          ]
        }
      ]
    },
    {
      "cell_type": "code",
      "metadata": {
        "colab": {
          "base_uri": "https://localhost:8080/"
        },
        "id": "v4Dj0MJ2aP3u",
        "outputId": "75ca5142-1e53-4820-d097-0e3335bd80f7"
      },
      "source": [
        "# 성별 나이 평균\n",
        "print(data['Age'].groupby(data['Sex']).mean())"
      ],
      "execution_count": null,
      "outputs": [
        {
          "output_type": "stream",
          "name": "stdout",
          "text": [
            "Sex\n",
            "female    27.915709\n",
            "male      30.726645\n",
            "Name: Age, dtype: float64\n"
          ]
        }
      ]
    },
    {
      "cell_type": "markdown",
      "metadata": {
        "id": "e6WB9nnhaVfV"
      },
      "source": [
        "## 비어있는 값 채우기: fillna()\n",
        "- 데이터 전처리 할때, 제일 처음이 결측치 삭제, 그다음은 이상치 삭제"
      ]
    },
    {
      "cell_type": "code",
      "metadata": {
        "colab": {
          "base_uri": "https://localhost:8080/"
        },
        "id": "O4uXJ6S2aRLB",
        "outputId": "36cddfd0-de12-4c3e-d4c8-f58845a76fe0"
      },
      "source": [
        "data.info()"
      ],
      "execution_count": null,
      "outputs": [
        {
          "output_type": "stream",
          "name": "stdout",
          "text": [
            "<class 'pandas.core.frame.DataFrame'>\n",
            "RangeIndex: 891 entries, 0 to 890\n",
            "Data columns (total 12 columns):\n",
            " #   Column       Non-Null Count  Dtype  \n",
            "---  ------       --------------  -----  \n",
            " 0   PassengerId  891 non-null    int64  \n",
            " 1   Survived     891 non-null    int64  \n",
            " 2   Pclass       891 non-null    int64  \n",
            " 3   Name         891 non-null    object \n",
            " 4   Sex          891 non-null    object \n",
            " 5   Age          714 non-null    float64\n",
            " 6   SibSp        891 non-null    int64  \n",
            " 7   Parch        891 non-null    int64  \n",
            " 8   Ticket       891 non-null    object \n",
            " 9   Fare         891 non-null    float64\n",
            " 10  Cabin        204 non-null    object \n",
            " 11  Embarked     889 non-null    object \n",
            "dtypes: float64(2), int64(5), object(5)\n",
            "memory usage: 83.7+ KB\n"
          ]
        }
      ]
    },
    {
      "cell_type": "code",
      "metadata": {
        "colab": {
          "base_uri": "https://localhost:8080/"
        },
        "id": "XhWvly_Saa68",
        "outputId": "7eeb2271-4110-4a45-8fb5-ee02a2706de5"
      },
      "source": [
        "data['Cabin']"
      ],
      "execution_count": null,
      "outputs": [
        {
          "output_type": "execute_result",
          "data": {
            "text/plain": [
              "0       NaN\n",
              "1       C85\n",
              "2       NaN\n",
              "3      C123\n",
              "4       NaN\n",
              "       ... \n",
              "886     NaN\n",
              "887     B42\n",
              "888     NaN\n",
              "889    C148\n",
              "890     NaN\n",
              "Name: Cabin, Length: 891, dtype: object"
            ]
          },
          "metadata": {},
          "execution_count": 146
        }
      ]
    },
    {
      "cell_type": "code",
      "metadata": {
        "colab": {
          "base_uri": "https://localhost:8080/"
        },
        "id": "zagmYKr-acVu",
        "outputId": "81605cba-86fc-4ddb-9ef6-eb38aa2266d6"
      },
      "source": [
        "data['Cabin'].isnull().sum()"
      ],
      "execution_count": null,
      "outputs": [
        {
          "output_type": "execute_result",
          "data": {
            "text/plain": [
              "687"
            ]
          },
          "metadata": {},
          "execution_count": 147
        }
      ]
    },
    {
      "cell_type": "code",
      "metadata": {
        "colab": {
          "base_uri": "https://localhost:8080/"
        },
        "id": "drCZZKmcaePV",
        "outputId": "ae11015f-e9ca-48db-acef-47c5b3f22b69"
      },
      "source": [
        "data['Age'].isnull().sum()"
      ],
      "execution_count": null,
      "outputs": [
        {
          "output_type": "execute_result",
          "data": {
            "text/plain": [
              "177"
            ]
          },
          "metadata": {},
          "execution_count": 148
        }
      ]
    },
    {
      "cell_type": "code",
      "metadata": {
        "colab": {
          "base_uri": "https://localhost:8080/"
        },
        "id": "HTTvDRTZagdv",
        "outputId": "1b1ce7f8-ee1e-44d8-b7e2-94201d889d8a"
      },
      "source": [
        "data['Embarked'].isnull().sum()"
      ],
      "execution_count": null,
      "outputs": [
        {
          "output_type": "execute_result",
          "data": {
            "text/plain": [
              "2"
            ]
          },
          "metadata": {},
          "execution_count": 149
        }
      ]
    },
    {
      "cell_type": "markdown",
      "metadata": {
        "id": "8tsDp3Onaxb6"
      },
      "source": [
        "### 중간값으로 채우기"
      ]
    },
    {
      "cell_type": "code",
      "metadata": {
        "colab": {
          "base_uri": "https://localhost:8080/"
        },
        "id": "3qn3RDdYahWE",
        "outputId": "6e3af4ef-5395-454d-977e-cafb5c3d88a7"
      },
      "source": [
        "data['Age'].median()"
      ],
      "execution_count": null,
      "outputs": [
        {
          "output_type": "execute_result",
          "data": {
            "text/plain": [
              "28.0"
            ]
          },
          "metadata": {},
          "execution_count": 152
        }
      ]
    },
    {
      "cell_type": "code",
      "metadata": {
        "colab": {
          "base_uri": "https://localhost:8080/"
        },
        "id": "pOTIN65Ea1Z8",
        "outputId": "c43b95ea-3109-4a54-d67a-621e3546d811"
      },
      "source": [
        "data['Age'].mean()"
      ],
      "execution_count": null,
      "outputs": [
        {
          "output_type": "execute_result",
          "data": {
            "text/plain": [
              "29.36158249158249"
            ]
          },
          "metadata": {},
          "execution_count": 153
        }
      ]
    },
    {
      "cell_type": "code",
      "metadata": {
        "id": "axb76xUHa-q6"
      },
      "source": [
        "#inplace=True는 원본까지 바꾼다\n",
        "data['Age'].fillna(data['Age'].median(),inplace=True)"
      ],
      "execution_count": null,
      "outputs": []
    },
    {
      "cell_type": "code",
      "metadata": {
        "colab": {
          "base_uri": "https://localhost:8080/"
        },
        "id": "D-Yy3XQMbAJb",
        "outputId": "9a99f98e-b92b-4878-e0c9-1a2769ed5336"
      },
      "source": [
        "data['Age'].isnull().sum()"
      ],
      "execution_count": null,
      "outputs": [
        {
          "output_type": "execute_result",
          "data": {
            "text/plain": [
              "0"
            ]
          },
          "metadata": {},
          "execution_count": 155
        }
      ]
    },
    {
      "cell_type": "markdown",
      "metadata": {
        "id": "jAJZnP2lbFSE"
      },
      "source": [
        "### 최빈값 채우기\n",
        "- idxmax() : 최대값을 가지는 index label 반환"
      ]
    },
    {
      "cell_type": "code",
      "metadata": {
        "colab": {
          "base_uri": "https://localhost:8080/",
          "height": 35
        },
        "id": "Qq_kdHv6bDN3",
        "outputId": "921f7f48-1cc4-4faa-a998-0b199829d23b"
      },
      "source": [
        "data['Embarked'].value_counts().idxmax()"
      ],
      "execution_count": null,
      "outputs": [
        {
          "output_type": "execute_result",
          "data": {
            "application/vnd.google.colaboratory.intrinsic+json": {
              "type": "string"
            },
            "text/plain": [
              "'S'"
            ]
          },
          "metadata": {},
          "execution_count": 156
        }
      ]
    },
    {
      "cell_type": "code",
      "metadata": {
        "id": "KeLNKlfBbH5F"
      },
      "source": [
        "data['Embarked'].fillna(data['Embarked'].value_counts().idxmax(), inplace=True)"
      ],
      "execution_count": null,
      "outputs": []
    },
    {
      "cell_type": "code",
      "metadata": {
        "colab": {
          "base_uri": "https://localhost:8080/"
        },
        "id": "ajQiabq3bOp5",
        "outputId": "fdcf3245-d44b-48fb-ff73-b7b3ba82fd5e"
      },
      "source": [
        "data.info()"
      ],
      "execution_count": null,
      "outputs": [
        {
          "output_type": "stream",
          "name": "stdout",
          "text": [
            "<class 'pandas.core.frame.DataFrame'>\n",
            "RangeIndex: 891 entries, 0 to 890\n",
            "Data columns (total 12 columns):\n",
            " #   Column       Non-Null Count  Dtype  \n",
            "---  ------       --------------  -----  \n",
            " 0   PassengerId  891 non-null    int64  \n",
            " 1   Survived     891 non-null    int64  \n",
            " 2   Pclass       891 non-null    int64  \n",
            " 3   Name         891 non-null    object \n",
            " 4   Sex          891 non-null    object \n",
            " 5   Age          891 non-null    float64\n",
            " 6   SibSp        891 non-null    int64  \n",
            " 7   Parch        891 non-null    int64  \n",
            " 8   Ticket       891 non-null    object \n",
            " 9   Fare         891 non-null    float64\n",
            " 10  Cabin        204 non-null    object \n",
            " 11  Embarked     891 non-null    object \n",
            "dtypes: float64(2), int64(5), object(5)\n",
            "memory usage: 83.7+ KB\n"
          ]
        }
      ]
    },
    {
      "cell_type": "markdown",
      "metadata": {
        "id": "C7HiYYtGbRl5"
      },
      "source": [
        "### column 삭제\n",
        "- dropna() : 결측값 삭제\n",
        "- axis = 0 결측값이 있는 행 전체 삭제\n",
        "- axis = 1 결측값이 있는 열 전체 삭제"
      ]
    },
    {
      "cell_type": "code",
      "metadata": {
        "id": "FvTHDCy5bP8t"
      },
      "source": [
        "data.dropna(axis=1, inplace=True)"
      ],
      "execution_count": null,
      "outputs": []
    },
    {
      "cell_type": "code",
      "metadata": {
        "colab": {
          "base_uri": "https://localhost:8080/"
        },
        "id": "XC5A2TZ4bZ3E",
        "outputId": "c77e65e4-d2aa-4793-a6ea-a9de86b16a42"
      },
      "source": [
        "data.info()"
      ],
      "execution_count": null,
      "outputs": [
        {
          "output_type": "stream",
          "name": "stdout",
          "text": [
            "<class 'pandas.core.frame.DataFrame'>\n",
            "RangeIndex: 891 entries, 0 to 890\n",
            "Data columns (total 11 columns):\n",
            " #   Column       Non-Null Count  Dtype  \n",
            "---  ------       --------------  -----  \n",
            " 0   PassengerId  891 non-null    int64  \n",
            " 1   Survived     891 non-null    int64  \n",
            " 2   Pclass       891 non-null    int64  \n",
            " 3   Name         891 non-null    object \n",
            " 4   Sex          891 non-null    object \n",
            " 5   Age          891 non-null    float64\n",
            " 6   SibSp        891 non-null    int64  \n",
            " 7   Parch        891 non-null    int64  \n",
            " 8   Ticket       891 non-null    object \n",
            " 9   Fare         891 non-null    float64\n",
            " 10  Embarked     891 non-null    object \n",
            "dtypes: float64(2), int64(5), object(4)\n",
            "memory usage: 76.7+ KB\n"
          ]
        }
      ]
    },
    {
      "cell_type": "markdown",
      "metadata": {
        "id": "z9-8QO97bjci"
      },
      "source": [
        "## 시각화"
      ]
    },
    {
      "cell_type": "code",
      "metadata": {
        "colab": {
          "base_uri": "https://localhost:8080/"
        },
        "id": "MUgjOlqibbAJ",
        "outputId": "c4a8f780-75c3-4aed-b753-2849d333d3ab"
      },
      "source": [
        "# plot 내장 함수로 차트 생성 (kind='line|bar|bath|hist|pie|scatter')\n",
        "survived = data[data.Survived == 1]['Sex'].value_counts()\n",
        "print(survived)"
      ],
      "execution_count": null,
      "outputs": [
        {
          "output_type": "stream",
          "name": "stdout",
          "text": [
            "female    233\n",
            "male      109\n",
            "Name: Sex, dtype: int64\n"
          ]
        }
      ]
    },
    {
      "cell_type": "code",
      "metadata": {
        "colab": {
          "base_uri": "https://localhost:8080/",
          "height": 307
        },
        "id": "3cEyPjlUbmRo",
        "outputId": "ffac0340-2066-45e8-879c-d464650fba05"
      },
      "source": [
        "survived.plot(kind='bar')"
      ],
      "execution_count": null,
      "outputs": [
        {
          "output_type": "execute_result",
          "data": {
            "text/plain": [
              "<matplotlib.axes._subplots.AxesSubplot at 0x7f9b888f35d0>"
            ]
          },
          "metadata": {},
          "execution_count": 162
        },
        {
          "output_type": "display_data",
          "data": {
            "image/png": "[encoded data removed]",
            "text/plain": [
              "<Figure size 432x288 with 1 Axes>"
            ]
          },
          "metadata": {
            "needs_background": "light"
          }
        }
      ]
    },
    {
      "cell_type": "code",
      "metadata": {
        "colab": {
          "base_uri": "https://localhost:8080/",
          "height": 265
        },
        "id": "4U52U49-bnia",
        "outputId": "48f0d02d-4249-4e9a-ac3c-50454bb37443"
      },
      "source": [
        "survived = data[data['Survived']==1]['Pclass'].value_counts()\n",
        "survived.plot(kind='pie')"
      ],
      "execution_count": null,
      "outputs": [
        {
          "output_type": "execute_result",
          "data": {
            "text/plain": [
              "<matplotlib.axes._subplots.AxesSubplot at 0x7f9b8889e290>"
            ]
          },
          "metadata": {},
          "execution_count": 163
        },
        {
          "output_type": "display_data",
          "data": {
            "image/png": "[encoded data removed]",
            "text/plain": [
              "<Figure size 432x288 with 1 Axes>"
            ]
          },
          "metadata": {}
        }
      ]
    },
    {
      "cell_type": "code",
      "metadata": {
        "colab": {
          "base_uri": "https://localhost:8080/"
        },
        "id": "ZYU2wLb0bopy",
        "outputId": "d70ba7af-0ed7-4ccf-ea16-5b6580d8d42b"
      },
      "source": [
        "grouped = data['Fare'].groupby(data['Pclass']).mean()\n",
        "grouped"
      ],
      "execution_count": null,
      "outputs": [
        {
          "output_type": "execute_result",
          "data": {
            "text/plain": [
              "Pclass\n",
              "1    84.154687\n",
              "2    20.662183\n",
              "3    13.675550\n",
              "Name: Fare, dtype: float64"
            ]
          },
          "metadata": {},
          "execution_count": 164
        }
      ]
    },
    {
      "cell_type": "code",
      "metadata": {
        "colab": {
          "base_uri": "https://localhost:8080/",
          "height": 296
        },
        "id": "cTEOyeM9bqJP",
        "outputId": "7f3fbc3c-cdd7-45b4-deac-27b19df9bd44"
      },
      "source": [
        "grouped.plot(kind='line')"
      ],
      "execution_count": null,
      "outputs": [
        {
          "output_type": "execute_result",
          "data": {
            "text/plain": [
              "<matplotlib.axes._subplots.AxesSubplot at 0x7f9b88897e90>"
            ]
          },
          "metadata": {},
          "execution_count": 165
        },
        {
          "output_type": "display_data",
          "data": {
            "image/png": "[encoded data removed]",
            "text/plain": [
              "<Figure size 432x288 with 1 Axes>"
            ]
          },
          "metadata": {
            "needs_background": "light"
          }
        }
      ]
    },
    {
      "cell_type": "markdown",
      "metadata": {
        "id": "Nc-WIZoDb0Jq"
      },
      "source": [
        "# 실습(used_car.csv)\n",
        "- 데이터 상위 5개 행 출력\n",
        "- 데이터 정보 출력\n",
        "- 연식별 판매 차량 대수를 테이블과 바 그래프로 출력(연식 기준 오름차순)\n",
        "- 연식별 판매 가격 평균을 테이블과 라인 그래프로 출력(연식 기준 오름차순)\n",
        "- 전체 판매 차량의 수동/자동 비율을 파이 차트로 출력"
      ]
    },
    {
      "cell_type": "code",
      "metadata": {
        "colab": {
          "base_uri": "https://localhost:8080/",
          "height": 408
        },
        "id": "FxkOdseCbrde",
        "outputId": "3bf9c3b6-2e48-466b-90ae-f8785b534a38"
      },
      "source": [
        "import pandas as pd\n",
        "car = pd.read_csv('used_car.csv')\n",
        "car.head(5)"
      ],
      "execution_count": null,
      "outputs": [
        {
          "output_type": "execute_result",
          "data": {
            "text/html": [
              "<div>\n",
              "<style scoped>\n",
              "    .dataframe tbody tr th:only-of-type {\n",
              "        vertical-align: middle;\n",
              "    }\n",
              "\n",
              "    .dataframe tbody tr th {\n",
              "        vertical-align: top;\n",
              "    }\n",
              "\n",
              "    .dataframe thead th {\n",
              "        text-align: right;\n",
              "    }\n",
              "</style>\n",
              "<table border=\"1\" class=\"dataframe\">\n",
              "  <thead>\n",
              "    <tr style=\"text-align: right;\">\n",
              "      <th></th>\n",
              "      <th>Unnamed: 0</th>\n",
              "      <th>Name</th>\n",
              "      <th>Location</th>\n",
              "      <th>Year</th>\n",
              "      <th>Kilometers_Driven</th>\n",
              "      <th>Fuel_Type</th>\n",
              "      <th>Transmission</th>\n",
              "      <th>Owner_Type</th>\n",
              "      <th>Mileage</th>\n",
              "      <th>Engine</th>\n",
              "      <th>Power</th>\n",
              "      <th>Seats</th>\n",
              "      <th>New_Price</th>\n",
              "      <th>Price</th>\n",
              "    </tr>\n",
              "  </thead>\n",
              "  <tbody>\n",
              "    <tr>\n",
              "      <th>0</th>\n",
              "      <td>0</td>\n",
              "      <td>Maruti Wagon R LXI CNG</td>\n",
              "      <td>Mumbai</td>\n",
              "      <td>2010</td>\n",
              "      <td>72000</td>\n",
              "      <td>CNG</td>\n",
              "      <td>Manual</td>\n",
              "      <td>First</td>\n",
              "      <td>26.6 km/kg</td>\n",
              "      <td>998 CC</td>\n",
              "      <td>58.16 bhp</td>\n",
              "      <td>5.0</td>\n",
              "      <td>NaN</td>\n",
              "      <td>1.75</td>\n",
              "    </tr>\n",
              "    <tr>\n",
              "      <th>1</th>\n",
              "      <td>1</td>\n",
              "      <td>Hyundai Creta 1.6 CRDi SX Option</td>\n",
              "      <td>Pune</td>\n",
              "      <td>2015</td>\n",
              "      <td>41000</td>\n",
              "      <td>Diesel</td>\n",
              "      <td>Manual</td>\n",
              "      <td>First</td>\n",
              "      <td>19.67 kmpl</td>\n",
              "      <td>1582 CC</td>\n",
              "      <td>126.2 bhp</td>\n",
              "      <td>5.0</td>\n",
              "      <td>NaN</td>\n",
              "      <td>12.50</td>\n",
              "    </tr>\n",
              "    <tr>\n",
              "      <th>2</th>\n",
              "      <td>2</td>\n",
              "      <td>Honda Jazz V</td>\n",
              "      <td>Chennai</td>\n",
              "      <td>2011</td>\n",
              "      <td>46000</td>\n",
              "      <td>Petrol</td>\n",
              "      <td>Manual</td>\n",
              "      <td>First</td>\n",
              "      <td>18.2 kmpl</td>\n",
              "      <td>1199 CC</td>\n",
              "      <td>88.7 bhp</td>\n",
              "      <td>5.0</td>\n",
              "      <td>8.61 Lakh</td>\n",
              "      <td>4.50</td>\n",
              "    </tr>\n",
              "    <tr>\n",
              "      <th>3</th>\n",
              "      <td>3</td>\n",
              "      <td>Maruti Ertiga VDI</td>\n",
              "      <td>Chennai</td>\n",
              "      <td>2012</td>\n",
              "      <td>87000</td>\n",
              "      <td>Diesel</td>\n",
              "      <td>Manual</td>\n",
              "      <td>First</td>\n",
              "      <td>20.77 kmpl</td>\n",
              "      <td>1248 CC</td>\n",
              "      <td>88.76 bhp</td>\n",
              "      <td>7.0</td>\n",
              "      <td>NaN</td>\n",
              "      <td>6.00</td>\n",
              "    </tr>\n",
              "    <tr>\n",
              "      <th>4</th>\n",
              "      <td>4</td>\n",
              "      <td>Audi A4 New 2.0 TDI Multitronic</td>\n",
              "      <td>Coimbatore</td>\n",
              "      <td>2013</td>\n",
              "      <td>40670</td>\n",
              "      <td>Diesel</td>\n",
              "      <td>Automatic</td>\n",
              "      <td>Second</td>\n",
              "      <td>15.2 kmpl</td>\n",
              "      <td>1968 CC</td>\n",
              "      <td>140.8 bhp</td>\n",
              "      <td>5.0</td>\n",
              "      <td>NaN</td>\n",
              "      <td>17.74</td>\n",
              "    </tr>\n",
              "  </tbody>\n",
              "</table>\n",
              "</div>"
            ],
            "text/plain": [
              "   Unnamed: 0                              Name  ...  New_Price  Price\n",
              "0           0            Maruti Wagon R LXI CNG  ...        NaN   1.75\n",
              "1           1  Hyundai Creta 1.6 CRDi SX Option  ...        NaN  12.50\n",
              "2           2                      Honda Jazz V  ...  8.61 Lakh   4.50\n",
              "3           3                 Maruti Ertiga VDI  ...        NaN   6.00\n",
              "4           4   Audi A4 New 2.0 TDI Multitronic  ...        NaN  17.74\n",
              "\n",
              "[5 rows x 14 columns]"
            ]
          },
          "metadata": {},
          "execution_count": 2
        }
      ]
    },
    {
      "cell_type": "code",
      "metadata": {
        "colab": {
          "base_uri": "https://localhost:8080/"
        },
        "id": "_QRXzX8E2Vfq",
        "outputId": "82c88834-e180-46e6-d32e-3a8848f0ae96"
      },
      "source": [
        "car.info()"
      ],
      "execution_count": null,
      "outputs": [
        {
          "output_type": "stream",
          "name": "stdout",
          "text": [
            "<class 'pandas.core.frame.DataFrame'>\n",
            "RangeIndex: 6019 entries, 0 to 6018\n",
            "Data columns (total 14 columns):\n",
            " #   Column             Non-Null Count  Dtype  \n",
            "---  ------             --------------  -----  \n",
            " 0   Unnamed: 0         6019 non-null   int64  \n",
            " 1   Name               6019 non-null   object \n",
            " 2   Location           6019 non-null   object \n",
            " 3   Year               6019 non-null   int64  \n",
            " 4   Kilometers_Driven  6019 non-null   int64  \n",
            " 5   Fuel_Type          6019 non-null   object \n",
            " 6   Transmission       6019 non-null   object \n",
            " 7   Owner_Type         6019 non-null   object \n",
            " 8   Mileage            6017 non-null   object \n",
            " 9   Engine             5983 non-null   object \n",
            " 10  Power              5983 non-null   object \n",
            " 11  Seats              5977 non-null   float64\n",
            " 12  New_Price          824 non-null    object \n",
            " 13  Price              6019 non-null   float64\n",
            "dtypes: float64(2), int64(3), object(9)\n",
            "memory usage: 658.5+ KB\n"
          ]
        }
      ]
    },
    {
      "cell_type": "code",
      "metadata": {
        "colab": {
          "base_uri": "https://localhost:8080/"
        },
        "id": "2oXvmRqb2a_-",
        "outputId": "70e1c585-58e4-4dd1-ea0c-1c6b9ee59da2"
      },
      "source": [
        "car['Year'].value_counts().sort_index()"
      ],
      "execution_count": null,
      "outputs": [
        {
          "output_type": "execute_result",
          "data": {
            "text/plain": [
              "1998      4\n",
              "1999      2\n",
              "2000      4\n",
              "2001      8\n",
              "2002     15\n",
              "2003     17\n",
              "2004     31\n",
              "2005     57\n",
              "2006     78\n",
              "2007    125\n",
              "2008    174\n",
              "2009    198\n",
              "2010    342\n",
              "2011    466\n",
              "2012    580\n",
              "2013    649\n",
              "2014    797\n",
              "2015    744\n",
              "2016    741\n",
              "2017    587\n",
              "2018    298\n",
              "2019    102\n",
              "Name: Year, dtype: int64"
            ]
          },
          "metadata": {},
          "execution_count": 4
        }
      ]
    },
    {
      "cell_type": "code",
      "metadata": {
        "colab": {
          "base_uri": "https://localhost:8080/",
          "height": 298
        },
        "id": "ZhUhh1Ez2cv2",
        "outputId": "c2d01518-4646-4b02-f423-baa0427e958e"
      },
      "source": [
        "yearcar = car['Year'].value_counts().sort_index()\n",
        "yearcar.plot(kind='bar')"
      ],
      "execution_count": null,
      "outputs": [
        {
          "output_type": "execute_result",
          "data": {
            "text/plain": [
              "<matplotlib.axes._subplots.AxesSubplot at 0x7efe432ec2d0>"
            ]
          },
          "metadata": {},
          "execution_count": 5
        },
        {
          "output_type": "display_data",
          "data": {
            "image/png": "[encoded data removed]",
            "text/plain": [
              "<Figure size 432x288 with 1 Axes>"
            ]
          },
          "metadata": {
            "needs_background": "light"
          }
        }
      ]
    },
    {
      "cell_type": "code",
      "metadata": {
        "colab": {
          "base_uri": "https://localhost:8080/"
        },
        "id": "0de-cl7-2d_D",
        "outputId": "f64898c5-6ca0-49fd-a8cc-1480e52a9394"
      },
      "source": [
        "car['Price'].groupby(car['Year']).mean().sort_index()"
      ],
      "execution_count": null,
      "outputs": [
        {
          "output_type": "execute_result",
          "data": {
            "text/plain": [
              "Year\n",
              "1998     1.432500\n",
              "1999     0.835000\n",
              "2000     1.175000\n",
              "2001     1.543750\n",
              "2002     1.294000\n",
              "2003     2.440000\n",
              "2004     1.941290\n",
              "2005     2.026842\n",
              "2006     3.355897\n",
              "2007     3.204000\n",
              "2008     3.917759\n",
              "2009     5.177727\n",
              "2010     5.515497\n",
              "2011     6.831931\n",
              "2012     7.324724\n",
              "2013     8.699353\n",
              "2014     9.639360\n",
              "2015    11.215538\n",
              "2016    11.719096\n",
              "2017    13.764940\n",
              "2018    15.726141\n",
              "2019    19.464118\n",
              "Name: Price, dtype: float64"
            ]
          },
          "metadata": {},
          "execution_count": 6
        }
      ]
    },
    {
      "cell_type": "code",
      "metadata": {
        "colab": {
          "base_uri": "https://localhost:8080/",
          "height": 296
        },
        "id": "kuIyeIxd2fXE",
        "outputId": "7f29aa0c-785d-4006-9c51-c86404f237cd"
      },
      "source": [
        "yearprice = car['Price'].groupby(car['Year']).mean().sort_index()\n",
        "yearprice.plot(kind='line')"
      ],
      "execution_count": null,
      "outputs": [
        {
          "output_type": "execute_result",
          "data": {
            "text/plain": [
              "<matplotlib.axes._subplots.AxesSubplot at 0x7efe431c05d0>"
            ]
          },
          "metadata": {},
          "execution_count": 7
        },
        {
          "output_type": "display_data",
          "data": {
            "image/png": "[encoded data removed]",
            "text/plain": [
              "<Figure size 432x288 with 1 Axes>"
            ]
          },
          "metadata": {
            "needs_background": "light"
          }
        }
      ]
    },
    {
      "cell_type": "code",
      "metadata": {
        "colab": {
          "base_uri": "https://localhost:8080/"
        },
        "id": "5X8sLjSZ2g06",
        "outputId": "0ff8fec0-512f-49ba-d7ed-801644b25534"
      },
      "source": [
        "car['Transmission'].value_counts()"
      ],
      "execution_count": null,
      "outputs": [
        {
          "output_type": "execute_result",
          "data": {
            "text/plain": [
              "Manual       4299\n",
              "Automatic    1720\n",
              "Name: Transmission, dtype: int64"
            ]
          },
          "metadata": {},
          "execution_count": 8
        }
      ]
    },
    {
      "cell_type": "code",
      "metadata": {
        "colab": {
          "base_uri": "https://localhost:8080/",
          "height": 265
        },
        "id": "amXuqEjz2iMD",
        "outputId": "a85c52b9-1168-46c9-b41b-47591a532dd9"
      },
      "source": [
        "transcar = car['Transmission'].value_counts()\n",
        "transcar.plot(kind='pie')"
      ],
      "execution_count": null,
      "outputs": [
        {
          "output_type": "execute_result",
          "data": {
            "text/plain": [
              "<matplotlib.axes._subplots.AxesSubplot at 0x7efe42ca46d0>"
            ]
          },
          "metadata": {},
          "execution_count": 9
        },
        {
          "output_type": "display_data",
          "data": {
            "image/png": "[encoded data removed]",
            "text/plain": [
              "<Figure size 432x288 with 1 Axes>"
            ]
          },
          "metadata": {}
        }
      ]
    },
    {
      "cell_type": "code",
      "metadata": {
        "colab": {
          "base_uri": "https://localhost:8080/",
          "height": 265
        },
        "id": "IYwRdngi2jEq",
        "outputId": "d9fd5f15-43a8-47b8-9db7-46c16f5295dc"
      },
      "source": [
        "transcar = car['Transmission'].value_counts()\n",
        "transcar.plot(kind='pie', autopct='%.1f%%')"
      ],
      "execution_count": null,
      "outputs": [
        {
          "output_type": "execute_result",
          "data": {
            "text/plain": [
              "<matplotlib.axes._subplots.AxesSubplot at 0x7efe42230750>"
            ]
          },
          "metadata": {},
          "execution_count": 10
        },
        {
          "output_type": "display_data",
          "data": {
            "image/png": "[encoded data removed]",
            "text/plain": [
              "<Figure size 432x288 with 1 Axes>"
            ]
          },
          "metadata": {}
        }
      ]
    },
    {
      "cell_type": "markdown",
      "metadata": {
        "id": "0IIkAxEu2vBV"
      },
      "source": [
        "# 졸음운전 데이터 분석\n",
        "- 3개의 데이터를 병합한다.(concat())\n",
        "- 년도, 월별로 인덱스를 설정하고 데이터를 출력한다.\n",
        "- 년도 및 월별 평균 사망자를 출력한다.\n",
        "- 2016년 사고대비 사망율을 구한다.\n",
        "- 2014년도 월별 사망, 부상 데이터를 바차트로 보여 준다.\n",
        "- 2015년 대비 사망이 가장 많이 증가한 2016년도 월을 구한다."
      ]
    },
    {
      "cell_type": "code",
      "metadata": {
        "id": "HkURC6X82kef"
      },
      "source": [
        ""
      ],
      "execution_count": null,
      "outputs": []
    },
    {
      "cell_type": "markdown",
      "metadata": {
        "id": "4jWKgRFX3CFv"
      },
      "source": [
        "## 라이브러리 import 및 파일 불러오기"
      ]
    },
    {
      "cell_type": "markdown",
      "metadata": {
        "id": "LkYGLyTW3FS-"
      },
      "source": [
        "### 필요한 라이브러리 import"
      ]
    },
    {
      "cell_type": "code",
      "metadata": {
        "id": "LwjQSZHY3BSU"
      },
      "source": [
        ""
      ],
      "execution_count": null,
      "outputs": []
    },
    {
      "cell_type": "markdown",
      "metadata": {
        "id": "Y4V6G23K3HVq"
      },
      "source": [
        "### 파일 불러오기"
      ]
    },
    {
      "cell_type": "code",
      "metadata": {
        "id": "b-rCH7eo3Ijl"
      },
      "source": [
        ""
      ],
      "execution_count": null,
      "outputs": []
    },
    {
      "cell_type": "markdown",
      "metadata": {
        "id": "J_54gdjx3Jj1"
      },
      "source": [
        "## 3개의 데이터 병합"
      ]
    },
    {
      "cell_type": "code",
      "metadata": {
        "id": "SAl0_LiQ3LAS"
      },
      "source": [
        ""
      ],
      "execution_count": null,
      "outputs": []
    },
    {
      "cell_type": "markdown",
      "metadata": {
        "id": "JnSrZdBT3Led"
      },
      "source": [
        "## 년도, 월별로 인덱스 설정"
      ]
    },
    {
      "cell_type": "code",
      "metadata": {
        "id": "rJ28Ef2G3NJb"
      },
      "source": [
        ""
      ],
      "execution_count": null,
      "outputs": []
    },
    {
      "cell_type": "markdown",
      "metadata": {
        "id": "gMNRCfl33N3k"
      },
      "source": [
        "## 년도 및 월별 평균 사망자"
      ]
    },
    {
      "cell_type": "code",
      "metadata": {
        "id": "6dgD8KLB3Pcc"
      },
      "source": [
        ""
      ],
      "execution_count": null,
      "outputs": []
    },
    {
      "cell_type": "markdown",
      "metadata": {
        "id": "M4_91Gps3P8s"
      },
      "source": [
        "## 2016년 사고 대비 사망율"
      ]
    },
    {
      "cell_type": "code",
      "metadata": {
        "id": "xT7V2tgT3Rq6"
      },
      "source": [
        ""
      ],
      "execution_count": null,
      "outputs": []
    },
    {
      "cell_type": "markdown",
      "metadata": {
        "id": "LgBvmgpT3SJ9"
      },
      "source": [
        "## 2014년도 월별 사망, 부상 데이터 시각화\n",
        "- 구글 코랩 한글 시각화"
      ]
    },
    {
      "cell_type": "code",
      "metadata": {
        "id": "XdSVP8E53UYL"
      },
      "source": [
        ""
      ],
      "execution_count": null,
      "outputs": []
    },
    {
      "cell_type": "markdown",
      "metadata": {
        "id": "n0KeIE7m3XsC"
      },
      "source": [
        "## 2015년 대비 사망이 가장 많이 증가한 2016년도의 월은?\n",
        "- 값이 높은 n번째 까지 출력 : nlargest\n",
        "\n",
        "      Series.nlargest(n, keep='first')\n",
        "\n",
        "     - n : 상의 몇 개까지 나타낼 것인가\n",
        "\n",
        "     - keep = 'first' : 동등한 값이 있다면 제일 먼저 나온 값을 보여 준다.\n",
        "\n",
        "     - keep = 'all' : 동등한 값을 모두 표시한다."
      ]
    },
    {
      "cell_type": "code",
      "metadata": {
        "id": "qRxHRHwk3cou"
      },
      "source": [
        ""
      ],
      "execution_count": null,
      "outputs": []
    }
  ]
}