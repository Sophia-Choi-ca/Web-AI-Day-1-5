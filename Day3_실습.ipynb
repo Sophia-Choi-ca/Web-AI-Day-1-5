{
  "nbformat": 4,
  "nbformat_minor": 0,
  "metadata": {
    "colab": {
      "name": "Day3 실습.ipynb",
      "provenance": [],
      "collapsed_sections": [],
      "toc_visible": true,
      "include_colab_link": true
    },
    "kernelspec": {
      "name": "python3",
      "display_name": "Python 3"
    },
    "language_info": {
      "name": "python"
    }
  },
  "cells": [
    {
      "cell_type": "markdown",
      "metadata": {
        "id": "view-in-github",
        "colab_type": "text"
      },
      "source": [
        "<a href=\"https://colab.research.google.com/github/futurebly/Web-AI/blob/main/Day3_%EC%8B%A4%EC%8A%B5.ipynb\" target=\"_parent\"><img src=\"https://colab.research.google.com/assets/colab-badge.svg\" alt=\"Open In Colab\"/></a>"
      ]
    },
    {
      "cell_type": "markdown",
      "metadata": {
        "id": "elwc0UDbYlHI"
      },
      "source": [
        "# 1.데이터와 변수"
      ]
    },
    {
      "cell_type": "markdown",
      "metadata": {
        "id": "CPMPBLgfggqk"
      },
      "source": [
        "## 비밀번호 발송 메일 프로그램\n",
        "- 다음은 비밀번호를 잊은 고객에게 비밀번호를 알려주는 메일 본문이다. 아래 포멧에 따라 비밀번호를 비롯한 개인 정보를 발송하는 메일 프로그램을 만들어 보자."
      ]
    },
    {
      "cell_type": "code",
      "metadata": {
        "colab": {
          "base_uri": "https://localhost:8080/"
        },
        "id": "pp1QYSlmY6ge",
        "outputId": "c9303fb7-e160-4b36-9f49-b2f6af2e7025"
      },
      "source": [
        "print('회원 정보를 입력하세요.')\n",
        "username = input('이름 : ')\n",
        "usermail = input('메일 : ')\n",
        "userID = input('아이디 : ')\n",
        "userPW = input('비밀번호 : ')\n"
      ],
      "execution_count": null,
      "outputs": [
        {
          "name": "stdout",
          "output_type": "stream",
          "text": [
            "회원 정보를 입력하세요.\n",
            "이름 : 홍길동\n",
            "메일 : gildong@abc.com\n",
            "아이디 : gildong\n",
            "비밀번호 : 1234\n"
          ]
        }
      ]
    },
    {
      "cell_type": "code",
      "metadata": {
        "colab": {
          "base_uri": "https://localhost:8080/"
        },
        "id": "yWUdbpWKZwuH",
        "outputId": "3b29855d-4530-4940-937a-59a9892bbbe5"
      },
      "source": [
        "print(username)"
      ],
      "execution_count": null,
      "outputs": [
        {
          "output_type": "stream",
          "name": "stdout",
          "text": [
            "홍길동\n"
          ]
        }
      ]
    },
    {
      "cell_type": "code",
      "metadata": {
        "colab": {
          "base_uri": "https://localhost:8080/"
        },
        "id": "ELlUy5y2aLox",
        "outputId": "dfc106c2-e2ea-42ca-bea7-21d08f08f829"
      },
      "source": [
        "print('To. '+ usermail)\n",
        "print('- 아이디 및 비밀번호 확인')\n",
        "print(username, '고객님 안녕하세요.')\n",
        "print('고객님의 아이디와 비밀번호는 아래와 같습니다.')\n",
        "print('아이디 : '+userID)\n",
        "print('비밀번호 : '+userPW)"
      ],
      "execution_count": null,
      "outputs": [
        {
          "output_type": "stream",
          "name": "stdout",
          "text": [
            "To. gildong@abc.com\n",
            "- 아이디 및 비밀번호 확인\n",
            "홍길동 고객님 안녕하세요.\n",
            "고객님의 아이디와 비밀번호는 아래와 같습니다.\n",
            "아이디 : gildong\n",
            "비밀번호 : 1234\n"
          ]
        }
      ]
    },
    {
      "cell_type": "code",
      "metadata": {
        "id": "85TsW9umiDWp"
      },
      "source": [
        "print('회원 정보를 입력하세요.')\n",
        "userName = input('이름 : ')\n",
        "userMail = input('메일 : ')\n",
        "userId = input('아이디 : ')\n",
        "userPw = input('비밀번호 : ')\n",
        "\n",
        "print('To. ' + userMail)\n",
        "print('- 아이디 및 비밀번호 확인')\n",
        "print(userName + ' 고객님 안녕하세요.')\n",
        "print('고객님의 아이디와 비밀번호는 아래과 같습니다.')\n",
        "print('아이디 : ' + userId)\n",
        "print('비밀번호 : ' + userPw)\n",
        "\n",
        "\n",
        "# print('회원 정보를 입력하세요.')\n",
        "# name = input('이름 : ')\n",
        "# mail = input('메일 : ')\n",
        "# id = input('아이디 : ')\n",
        "# pw = input('비밀번호 : ')\n",
        "# print('----------------')\n",
        "# print('To.', mail)\n",
        "# print('*아이디 및 비밀번호 확인')\n",
        "# print(name,'고객님, 안녕하세요. \\n고객님의 아이디와 비밀번호는 아래와 같습니다.')\n",
        "# print('아이디 : ',id)\n",
        "# print('비밀번호 : ',pw)"
      ],
      "execution_count": null,
      "outputs": []
    },
    {
      "cell_type": "markdown",
      "metadata": {
        "id": "Dr0pQ2LrcTMG"
      },
      "source": [
        "# 2.연산자"
      ]
    },
    {
      "cell_type": "markdown",
      "metadata": {
        "id": "VtiF9ak7gm4G"
      },
      "source": [
        "## 원의 면적과 둘레 구하기\n",
        "- 원의 반지름을 입력 받아 면적과 둘레를 구하는 코드를 작성하여 보자. (radius)\n",
        "- 원의 면적 = 3.14 * 반지름 * 반지름 (area)\n",
        "- 원의 둘레 = 3.14 * 반지름 *2 (circum)"
      ]
    },
    {
      "cell_type": "code",
      "metadata": {
        "colab": {
          "base_uri": "https://localhost:8080/"
        },
        "id": "xo-lWT_McYIG",
        "outputId": "1bdd9d2b-b5d8-4f30-bdc5-c4d2c9c9db75"
      },
      "source": [
        "radius = int(input('원의 반지름을 입력하시오 : '))\n",
        "\n",
        "area = 3.14*radius*radius\n",
        "circum = 3.14*radius*2\n",
        "\n",
        "print('반지름 %.2f의 면적은 = %.2f' %(radius,area))\n",
        "print('반지름 %.2f의 둘레는 = %.2f' %(radius,circum))"
      ],
      "execution_count": null,
      "outputs": [
        {
          "output_type": "stream",
          "name": "stdout",
          "text": [
            "원의 반지름을 입력하시오 : 5\n",
            "반지름 5.00의 면적은 = 78.50\n",
            "반지름 5.00의 둘레는 = 31.40\n"
          ]
        }
      ]
    },
    {
      "cell_type": "code",
      "metadata": {
        "colab": {
          "base_uri": "https://localhost:8080/"
        },
        "id": "vyXp6h5ddGcS",
        "outputId": "16829eb2-67d8-41dc-b653-85a342f02e70"
      },
      "source": [
        "radius = int(input('원의 반지름을 입력하시오 : '))\n",
        "\n",
        "area = 3.14*radius*radius\n",
        "circum = 3.14*radius*2\n",
        "\n",
        "print('반지름 %d의 면적은 = %.2f' %(radius,area))\n",
        "print('반지름 %d의 둘레는 = %.2f' %(radius,circum))"
      ],
      "execution_count": null,
      "outputs": [
        {
          "output_type": "stream",
          "name": "stdout",
          "text": [
            "원의 반지름을 입력하시오 : 5\n",
            "반지름 5의 면적은 = 78.50\n",
            "반지름 5의 둘레는 = 31.40\n"
          ]
        }
      ]
    },
    {
      "cell_type": "code",
      "metadata": {
        "id": "T4B8XvYLiG7J"
      },
      "source": [
        "radius = int(input('원의 반지름을 입력하시오 : '))\n",
        "area = 3.14 * radius**2\n",
        "circum = 3.14 * 2 * radius\n",
        "\n",
        "print('반지름 %.2f의 면적은 = %.2f' %(radius, area))\n",
        "print('반지름 %.2f의 둘레는 = %.2f' %(radius, circum))\n",
        "\n",
        "\n",
        "# radius = int(input('원의 반지름을 입력하시오. : '))\n",
        "# area = 3.14 * radius * radius\n",
        "# circum = 3.14*radius*2\n",
        "\n",
        "# print('반지름', round(radius, 2),'의 면적은 = ', round(area, 2))\n",
        "# print('반지름', round(radius, 2),'의 면적은 = ', round(circum, 2))\n",
        "\n",
        "\n",
        "# radius = int(input('원의 반지름을 입력하시오. : '))\n",
        "# area = 3.14 * radius * radius\n",
        "# circum = 3.14*radius*2\n",
        "\n",
        "# a = '반지름 : {:.2f} 의 면적은 = {:.2f}'.format(radius,area)\n",
        "# b = '반지름 : {:.2f} 의 면적은 = {:.2f}'.format(radius,circum)\n",
        "# print(a)\n",
        "# print(b)"
      ],
      "execution_count": null,
      "outputs": []
    },
    {
      "cell_type": "markdown",
      "metadata": {
        "id": "F8srAhOJhyL-"
      },
      "source": [
        "# 3.조건문"
      ]
    },
    {
      "cell_type": "markdown",
      "metadata": {
        "id": "aID6VzgOgq7c"
      },
      "source": [
        "## 차량 2부제 프로그램\n",
        "- 다음은 고농도 미세먼지 비상저감조치를 위한 차량 2부제 프로그램이다. 다음 요구 사항과 같은 결과 화면을 참고하여 프로그램을 만들어 보자.\n",
        "- datatime() 모듈 사용, 오늘날짜 : datetime.today().day"
      ]
    },
    {
      "cell_type": "code",
      "metadata": {
        "colab": {
          "base_uri": "https://localhost:8080/"
        },
        "id": "27ixhKcjhzuW",
        "outputId": "2f00f59d-700b-41ae-c9a0-7db326bd3190"
      },
      "source": [
        "carNum = int(input('차량번호 : '))\n",
        "if carNum % 2 == 0 :\n",
        "  print('짝수일에 입차 가능합니다.')\n",
        "else:\n",
        "  print('홀수일에 입차 가능합니다.')"
      ],
      "execution_count": null,
      "outputs": [
        {
          "output_type": "stream",
          "name": "stdout",
          "text": [
            "차량번호 : 8462\n",
            "짝수일에 입차 가능합니다.\n"
          ]
        }
      ]
    },
    {
      "cell_type": "code",
      "metadata": {
        "colab": {
          "base_uri": "https://localhost:8080/"
        },
        "id": "sLrEcAA3jH4q",
        "outputId": "45d7479e-69f0-490d-b8dc-c0a06e369af7"
      },
      "source": [
        "from datetime import datetime\n",
        "dayNum = datetime.today().day\n",
        "carNum = int(input('차량번호 : '))\n",
        "print('오늘 날짜 : %d일' %dayNum)\n",
        "if dayNum % 2 == 0 :\n",
        "  print('오늘 입차 : 번호가 짝수인 차량')\n",
        "else:\n",
        "  print('오늘 입차 : 번호가 홀수인 차량')\n",
        "\n",
        "if dayNum % 2 == carNum % 2 :\n",
        "  print('귀하의 차량은 입차 가능합니다.')\n",
        "else:\n",
        "  print('귀하의 차량은 입차 불가합니다.')"
      ],
      "execution_count": null,
      "outputs": [
        {
          "output_type": "stream",
          "name": "stdout",
          "text": [
            "차량번호 : 9967\n",
            "오늘 날짜 : 3일\n",
            "오늘 입차 : 번호가 홀수인 차량\n",
            "귀하의 차량은 입차 가능합니다.\n"
          ]
        }
      ]
    },
    {
      "cell_type": "code",
      "metadata": {
        "id": "z0x52p47iKsV"
      },
      "source": [
        "from datetime import datetime\n",
        "dayNum = datetime.today().day\n",
        "carNum = int(input('차량번호 : '))\n",
        "print('오늘 날짜 : %d일' %dayNum)\n",
        "if dayNum % 2 ==0:\n",
        "    print('오늘입차 : 번호가 짝수인 차량')\n",
        "else:\n",
        "    print('오늘입차 : 번호가 홀수인 차량')\n",
        "\n",
        "if dayNum % 2 == carNum % 2:\n",
        "    print('귀하의 차량은 입차 가능합니다.')\n",
        "else:\n",
        "    print('귀하의 차량은 입차 불가능합니다.')\n",
        "\n",
        "\n",
        "# from datetime import datetime\n",
        "# num = int(input('차량 번호 4자리를 입력하세요.'))\n",
        "# today = int(datetime.today().day)\n",
        "# print('오늘 날짜 :', today,'일')\n",
        "# if num % 2 == 0:\n",
        "#     print('오늘 입차 : 번호가 짝수인 차량')\n",
        "# else:\n",
        "#     print('오늘 입차 : 번호가 홀수인 차량')\n",
        "# if today % 2 == num % 2:\n",
        "#     print('\"귀하의 차량은 입차 가능합니다.\"')\n",
        "# else:\n",
        "#     print('\"귀하의 차량은 입차 불가합니다.\"')"
      ],
      "execution_count": null,
      "outputs": []
    },
    {
      "cell_type": "markdown",
      "metadata": {
        "id": "RXeGjgRdouS8"
      },
      "source": [
        "## 전기 요금 계산기\n",
        "- 전기를 많이 사용하면 누진세가 붙어 단가와 기본 요금이 올라간다. 다음 누진세가 적용된 단가표를 참고하여 전기 사용량을 입력하면 전기료가 출력되는 프로그램을 만들어 보자."
      ]
    },
    {
      "cell_type": "code",
      "metadata": {
        "colab": {
          "base_uri": "https://localhost:8080/"
        },
        "id": "V1FYnJpIowG4",
        "outputId": "c240de09-9735-4596-b4fb-8902c62c4279"
      },
      "source": [
        "amount = float(input('전기 사용량을 입력하세요. :'))\n",
        "\n",
        "if amount > 400:\n",
        "  unitPrice = 280.6\n",
        "  basicPrice = 7300\n",
        "elif amount > 200:\n",
        "  unitPrice = 187.9\n",
        "  basicPrice = 1600\n",
        "else:\n",
        "  unitPrice = 99.3\n",
        "  basicPrice = 910\n",
        "\n",
        "totalPrice = amount*unitPrice + basicPrice\n",
        "print('사용량 : ', amount, 'kwh')\n",
        "print('기본 요금 :', basicPrice, '원')\n",
        "print('단가 :', unitPrice, '원')\n",
        "print('전기 요금 : %.1f 원' %totalPrice) #print('전기 요금 :', totalPrice, '원')"
      ],
      "execution_count": null,
      "outputs": [
        {
          "output_type": "stream",
          "name": "stdout",
          "text": [
            "전기 사용량을 입력하세요. :550\n",
            "사용량 :  550.0 kwh\n",
            "기본 요금 : 7300 원\n",
            "단가 : 280.6 원\n",
            "전기 요금 : 161630.0 원\n"
          ]
        }
      ]
    },
    {
      "cell_type": "code",
      "metadata": {
        "id": "YaUtWTo_iNuh"
      },
      "source": [
        "사용량 = float(input('전기 사용량 : '))\n",
        "\n",
        "if 사용량 > 400:\n",
        "    unitPrice = 280.6\n",
        "    basicPrice=7300\n",
        "elif 사용량 > 200:\n",
        "    unitPrice = 187.9\n",
        "    basicPrice= 1600\n",
        "else:\n",
        "    unitPrice = 99.3\n",
        "    basicPrice= 910\n",
        "\n",
        "totalPrice = 사용량*unitPrice + basicPrice\n",
        "print('사용량 : %.1f kwh' %사용량)\n",
        "print('기본요금 : %.1f 원' %basicPrice)\n",
        "print('단가 : %.2f 원' %unitPrice)\n",
        "print('전기요금 : %.1f 원' %totalPrice)\n",
        "\n",
        "# usage = int(input('전기 사용량을 입력하세요. : '))\n",
        "# if usage > 400 :\n",
        "#     unitprice = 280.6\n",
        "#     baseprice = 7300\n",
        "# elif usage > 200 :\n",
        "#     unitprice = 187.9\n",
        "#     baseprice = 1600\n",
        "# else :\n",
        "#     unitprice = 99.3\n",
        "#     baseprice = 910\n",
        "# elec = usage * unitprice + baseprice\n",
        "\n",
        "# print('사용량 : %.1f kwh' %(usage))\n",
        "# print('기본요금 : ', baseprice, '원')\n",
        "# print('단가 : ', unitprice, '원')\n",
        "# print('전기요금 : ', elec, '원')"
      ],
      "execution_count": null,
      "outputs": []
    },
    {
      "cell_type": "markdown",
      "metadata": {
        "id": "xbqg0NyDtMYZ"
      },
      "source": [
        "# 4.반복문"
      ]
    },
    {
      "cell_type": "markdown",
      "metadata": {
        "id": "qYCkjDdygxsw"
      },
      "source": [
        "## 로또 번호 만들기\n",
        "- 1부터 45까지 숫자 중 6개를 임의로 선택하여 로또 번호를 만들어 보자.\n",
        "- random  모듈 사용"
      ]
    },
    {
      "cell_type": "code",
      "metadata": {
        "colab": {
          "base_uri": "https://localhost:8080/"
        },
        "id": "E1y4yoMBtN-h",
        "outputId": "85bf4423-59ed-4ec2-ef59-841adf4ea73a"
      },
      "source": [
        "import random\n",
        "lotto = []\n",
        "while len(lotto) < 6:\n",
        "  num = random.randint(1,45)\n",
        "  if num not in lotto:\n",
        "    lotto.append(num)\n",
        "print(lotto)"
      ],
      "execution_count": null,
      "outputs": [
        {
          "output_type": "stream",
          "name": "stdout",
          "text": [
            "[40, 22, 42, 25, 5, 13]\n"
          ]
        }
      ]
    },
    {
      "cell_type": "code",
      "metadata": {
        "id": "NTof5UPMiQ2x"
      },
      "source": [
        "import random\n",
        "lotto = []\n",
        "while len(lotto) < 6:\n",
        "    num = random.randint(1, 45)\n",
        "    if num not in lotto:\n",
        "        lotto.append(num)\n",
        "print(lotto)\n",
        "\n",
        "\n",
        "# import random\n",
        "# lotto = random.sample(range(1, 46), 6)\n",
        "# lotto.sort()\n",
        "# print(lotto)"
      ],
      "execution_count": null,
      "outputs": []
    },
    {
      "cell_type": "markdown",
      "metadata": {
        "id": "Qa606I_gx0fn"
      },
      "source": [
        "## 로그인 기능 만들기\n",
        "- 시스템 관리자 로그인 기능을 만들어 보자.\n",
        "    - 관리자 암호를 입력하고 로그인을 시도할 때 암호가 틀렸다면 '암호를 다시 확인하세요!'를 출력하고 다시 암호를 물어본다. 5회 이상 로그인에 실패하면 '로그인 실패!! 횟수 초과!!' 메시지를 출력하고 종료한다.\n",
        "    - 암호가 올바르다면 '로그인 됐습니다.'를 출력하고 종료한다. 올바른 암호는 'aihub1234'이다."
      ]
    },
    {
      "cell_type": "code",
      "metadata": {
        "id": "W2yZsLDO1PmA",
        "outputId": "0c007f02-3adc-4326-83f3-0530acfc68ef",
        "colab": {
          "base_uri": "https://localhost:8080/"
        }
      },
      "source": [
        "adminPw = 'aihub1234'\n",
        "count = 1\n",
        "\n",
        "while True:\n",
        "    if count > 5:\n",
        "        print('로그인 실패!! 횟수 초과!!!')\n",
        "        break\n",
        "\n",
        "    inputPw = input('관리자 암호를 입력하세요. ')\n",
        "    \n",
        "    if inputPw != adminPw:\n",
        "        print('암호를 다시 확인하세요!')\n",
        "        count += 1\n",
        "    elif inputPw == adminPw:\n",
        "        print('로그인 됐습니다.')\n",
        "        break\n",
        "\n",
        "\n",
        "# cnt = 0\n",
        "\n",
        "# while True:\n",
        "#     pw = input('관리자 암호를 입력하세요. : ')\n",
        "#     adminpw = 'aihub1234'\n",
        "   \n",
        "#     if pw == adminpw:\n",
        "#         print('로그인이 됐습니다.')\n",
        "#         break\n",
        "#     else:\n",
        "#         cnt = cnt + 1\n",
        "#         print('암호를 다시 확인하세요!')\n",
        "\n",
        "#     if cnt >= 5:\n",
        "#         print('로그인 실패! 횟수 초과!')\n",
        "#         break"
      ],
      "execution_count": 1,
      "outputs": [
        {
          "output_type": "stream",
          "name": "stdout",
          "text": [
            "관리자 암호를 입력하세요. ㅁ으\n",
            "암호를 다시 확인하세요!\n",
            "관리자 암호를 입력하세요. adji\n",
            "암호를 다시 확인하세요!\n",
            "관리자 암호를 입력하세요. admin\n",
            "암호를 다시 확인하세요!\n",
            "관리자 암호를 입력하세요. adminPw\n",
            "암호를 다시 확인하세요!\n",
            "관리자 암호를 입력하세요. aihub1234\n",
            "로그인 됐습니다.\n"
          ]
        }
      ]
    },
    {
      "cell_type": "markdown",
      "metadata": {
        "id": "ijNgfhLthbus"
      },
      "source": [
        "# 5.리스트"
      ]
    },
    {
      "cell_type": "markdown",
      "metadata": {
        "id": "9FVGFXhq1ObD"
      },
      "source": [
        "### 출석부 관리 시스템\n",
        "- 이번에 만들 출석부 관리 시스템은 리스트를 이용해서 학급의 학생 명단을 관리하는 프로그램이다. 다음 7개의 시나리오에 따라 프로그래밍을 전개한다.\n",
        "\n",
        "시나리오\n",
        "- 1 : 학습 학생수가 10명(정우람, 박으뜸, 배힘찬, 천영웅, 신석기, 배민규, 전민수, 박건우, 박찬호, 이승엽)인 리스트를 만든다.\n",
        "- 2 : '가나다' 순으로 정렬한다.\n",
        "- 3 : '박찬호' 학생이 전학을 가게 되었다. 출석부에서 삭제한 전체 학생과 학생 수를 출력한다.\n",
        "- 4 : 선생님을 돕기 위한 학생으로 앞에서 3명을 뽑는다.\n",
        "- 5 : 새로운 친구가 전학왔다. 이름은 '이병규' 이다.\n",
        "- 6 : 자리를 바꾸기 위해서 학생 순서를 역순으로 뒤집는다.\n",
        "- 7 : '정우람' 학생이 이름을 '정잘남'으로 개명했다."
      ]
    },
    {
      "cell_type": "code",
      "metadata": {
        "colab": {
          "base_uri": "https://localhost:8080/"
        },
        "id": "QmmelKMk1SsT",
        "outputId": "c5af5694-655c-48c7-f6be-34063904b845"
      },
      "source": [
        "students = [\"정우람\", \"박으뜸\", \"배힘찬\", \"천영웅\", \"신석기\", \"배민규\", \"전민수\", \"박건우\", \"박찬호\", \"이승엽\"]\n",
        "print(students)\n"
      ],
      "execution_count": null,
      "outputs": [
        {
          "output_type": "stream",
          "name": "stdout",
          "text": [
            "['정우람', '박으뜸', '배힘찬', '천영웅', '신석기', '배민규', '전민수', '박건우', '박찬호', '이승엽']\n"
          ]
        }
      ]
    },
    {
      "cell_type": "code",
      "metadata": {
        "colab": {
          "base_uri": "https://localhost:8080/"
        },
        "id": "Zjhtpbj12MWy",
        "outputId": "2e950315-3019-4eae-9c2b-62d252791d26"
      },
      "source": [
        "students.sort()\n",
        "print(students)"
      ],
      "execution_count": null,
      "outputs": [
        {
          "output_type": "stream",
          "name": "stdout",
          "text": [
            "['박건우', '박으뜸', '박찬호', '배민규', '배힘찬', '신석기', '이승엽', '전민수', '정우람', '천영웅']\n"
          ]
        }
      ]
    },
    {
      "cell_type": "code",
      "metadata": {
        "colab": {
          "base_uri": "https://localhost:8080/"
        },
        "id": "AX5cqHLC2nEp",
        "outputId": "f36ef555-7de8-49b5-fb5b-ef9d9a3b12b1"
      },
      "source": [
        "students.remove('박찬호')\n",
        "print(students)"
      ],
      "execution_count": null,
      "outputs": [
        {
          "output_type": "stream",
          "name": "stdout",
          "text": [
            "['박건우', '박으뜸', '배민규', '배힘찬', '신석기', '이승엽', '전민수', '정우람', '천영웅']\n"
          ]
        }
      ]
    },
    {
      "cell_type": "code",
      "metadata": {
        "colab": {
          "base_uri": "https://localhost:8080/"
        },
        "id": "KRwbWfhX3AG6",
        "outputId": "b4aba74d-bd8e-40e0-e5a6-2967659cb994"
      },
      "source": [
        "students[0:3]"
      ],
      "execution_count": null,
      "outputs": [
        {
          "output_type": "execute_result",
          "data": {
            "text/plain": [
              "['박건우', '박으뜸', '배민규']"
            ]
          },
          "metadata": {},
          "execution_count": 69
        }
      ]
    },
    {
      "cell_type": "code",
      "metadata": {
        "colab": {
          "base_uri": "https://localhost:8080/"
        },
        "id": "aFDpSb-y3JkC",
        "outputId": "addea962-c3a1-4f19-ef33-64b4eb1b79a4"
      },
      "source": [
        "students.append('이병규')\n",
        "print(students)"
      ],
      "execution_count": null,
      "outputs": [
        {
          "output_type": "stream",
          "name": "stdout",
          "text": [
            "['정우람', '박으뜸', '배힘찬', '천영웅', '신석기', '배민규', '전민수', '박건우', '박찬호', '이승엽', '이병규']\n"
          ]
        }
      ]
    },
    {
      "cell_type": "code",
      "metadata": {
        "colab": {
          "base_uri": "https://localhost:8080/"
        },
        "id": "E7rto3HW3Xyh",
        "outputId": "dd401748-d0a5-43d7-e28f-bb70d5488d3a"
      },
      "source": [
        "students.sort()\n",
        "students.reverse()\n",
        "print(students)"
      ],
      "execution_count": null,
      "outputs": [
        {
          "output_type": "stream",
          "name": "stdout",
          "text": [
            "['천영웅', '정우람', '전민수', '이승엽', '이병규', '신석기', '배힘찬', '배민규', '박찬호', '박으뜸', '박건우']\n"
          ]
        }
      ]
    },
    {
      "cell_type": "code",
      "metadata": {
        "colab": {
          "base_uri": "https://localhost:8080/"
        },
        "id": "SYNuRVjH3pxU",
        "outputId": "53ae45d8-5aaa-440e-a97f-37084e9034e3"
      },
      "source": [
        "str = 'Hello'\n",
        "lst = list(str)\n",
        "lst"
      ],
      "execution_count": null,
      "outputs": [
        {
          "output_type": "execute_result",
          "data": {
            "text/plain": [
              "['H', 'e', 'l', 'l', 'o']"
            ]
          },
          "metadata": {},
          "execution_count": 85
        }
      ]
    },
    {
      "cell_type": "code",
      "metadata": {
        "colab": {
          "base_uri": "https://localhost:8080/"
        },
        "id": "Y-JqtorQ4HNt",
        "outputId": "1eccb9c5-4604-4fd3-db60-39996d2df7fd"
      },
      "source": [
        "lst[0]='G'\n",
        "lst"
      ],
      "execution_count": null,
      "outputs": [
        {
          "output_type": "execute_result",
          "data": {
            "text/plain": [
              "['G', 'e', 'l', 'l', 'o']"
            ]
          },
          "metadata": {},
          "execution_count": 86
        }
      ]
    },
    {
      "cell_type": "code",
      "metadata": {
        "id": "bT9J4YnI4_DO"
      },
      "source": [
        "ind=students.index('정우람')"
      ],
      "execution_count": null,
      "outputs": []
    },
    {
      "cell_type": "code",
      "metadata": {
        "colab": {
          "base_uri": "https://localhost:8080/"
        },
        "id": "O-I4J6p-5Ch-",
        "outputId": "167c8c3a-f5e1-4132-b96d-f10f60c55adf"
      },
      "source": [
        "students[ind]='정잘남'\n",
        "print(students)"
      ],
      "execution_count": null,
      "outputs": [
        {
          "output_type": "stream",
          "name": "stdout",
          "text": [
            "['천영웅', '정잘남', '전민수', '이승엽', '이병규', '신석기', '배힘찬', '배민규', '박찬호', '박으뜸', '박건우']\n"
          ]
        }
      ]
    },
    {
      "cell_type": "code",
      "metadata": {
        "id": "2GGMKcX2iZDI"
      },
      "source": [
        "students = [\"정우람\", \"박으뜸\", \"배힘찬\", \"천영웅\", \"신석기\", \"배민규\", \"전민수\", \"박건우\", \"박찬호\", \"이승엽\"]\n",
        "print('시나리오 #1', students)\n",
        "print('')\n",
        "\n",
        "students.sort()\n",
        "print('시나리오 #2', students)\n",
        "print('')\n",
        "\n",
        "students.remove(\"박찬호\")\n",
        "print('시나리오 #3', students)\n",
        "print(len(students))\n",
        "print('')\n",
        "\n",
        "print('시나리오 #4', students[:3])\n",
        "print('')\n",
        "\n",
        "students.append(\"이병규\")\n",
        "students.sort()\n",
        "print('시나리오 #5', students)\n",
        "print('')\n",
        "\n",
        "students.reverse()\n",
        "print('시나리오 #6', students)\n",
        "print('')\n",
        "\n",
        "ind = students.index(\"정우람\")\n",
        "students[ind] = \"정잘남\"\n",
        "print('시나리오 #7', students)\n",
        "\n",
        "\n",
        "# #시나리오 1 학생 10명 리스트 만들기\n",
        "# students = ['정우람', '박으뜸', '배힘찬', '천영웅', '신석기', '배민규', '전민수', '박건우', '박찬호', '이승엽']\n",
        "# print(students)\n",
        "# #시나리오 2 가나다순 정렬\n",
        "# students.sort()\n",
        "# print(students)\n",
        "# #시나리오 3 박찬호 제거\n",
        "# students.remove('박찬호')\n",
        "# print(students)\n",
        "# print(len(students))\n",
        "# #시나리오 4 앞에서 셋 출력\n",
        "# print(students[:3])\n",
        "# #시나리오 5 이병규 추가\n",
        "# students.append('이병규')\n",
        "# students.sort()\n",
        "# print(students)\n",
        "# #시나리오 6 역순 정렬\n",
        "# students.reverse()\n",
        "# print(students)\n",
        "# #시나리오 7 정우람을 정잘남으로 교체\n",
        "# result = []\n",
        "# for i in students:\n",
        "#     new = i.replace('정우람', '정잘남')\n",
        "#     result.append(new)\n",
        "# print(result)"
      ],
      "execution_count": null,
      "outputs": []
    },
    {
      "cell_type": "markdown",
      "metadata": {
        "id": "8vwD65Soc3F4"
      },
      "source": [
        "## 혈액 보관 시스템\n",
        "- 헌혈 프로그램을 통해서 10명의 기부자에게 혈액을 받아 리스트에 보관하고, 보관하고 있는 혈액형을 종류별로 몇 팩씩 보유하고 있는지 한눈에 보여주는 프로그램을 만들어 보자."
      ]
    },
    {
      "cell_type": "code",
      "metadata": {
        "colab": {
          "base_uri": "https://localhost:8080/"
        },
        "id": "A1_-0qp4c7F_",
        "outputId": "89b57051-978b-4b44-c422-4e1ad3fb02dd"
      },
      "source": [
        "boolds = []\n",
        "\n",
        "for i in range(10):\n",
        "    print('\\n헌혈해 주셔서 감사합니다. 헌혈하신 혈액형을 선택하세요')\n",
        "    boolds.append(input('A, B, AB, O : '))\n",
        "\n",
        "print('-' * 30)\n",
        "print('혈액형 :', '개수')\n",
        "print('-' * 30)\n",
        "print('A형 :', boolds.count('A'))\n",
        "print('B형 :', boolds.count('B'))\n",
        "print('AB형 :', boolds.count('AB'))\n",
        "print('O형 :', boolds.count('O'))\n",
        "print('-' * 30)\n",
        "\n",
        "\n",
        "# blood = []\n",
        "# for i in range(10):\n",
        "#     print('헌혈해 주셔서 감사합니다. 헌혈하신 혈액형을 선택하세요.')\n",
        "#     blood.append(input('A, B, AB, O : '))\n",
        "\n",
        "# print('총 혈액형과 개수')\n",
        "# print('A : ', blood.count('A'))\n",
        "# print('B : ', blood.count('B'))\n",
        "# print('AB : ', blood.count('AB'))\n",
        "# print('O : ', blood.count('O'))"
      ],
      "execution_count": null,
      "outputs": [
        {
          "output_type": "stream",
          "name": "stdout",
          "text": [
            "\n",
            "헌혈해 주셔서 감사합니다. 헌혈하신 혈액형을 선택하세요\n",
            "A, B, AB, O : A\n",
            "\n",
            "헌혈해 주셔서 감사합니다. 헌혈하신 혈액형을 선택하세요\n",
            "A, B, AB, O : A\n",
            "\n",
            "헌혈해 주셔서 감사합니다. 헌혈하신 혈액형을 선택하세요\n",
            "A, B, AB, O : B\n",
            "\n",
            "헌혈해 주셔서 감사합니다. 헌혈하신 혈액형을 선택하세요\n",
            "A, B, AB, O : B\n",
            "\n",
            "헌혈해 주셔서 감사합니다. 헌혈하신 혈액형을 선택하세요\n",
            "A, B, AB, O : O\n",
            "\n",
            "헌혈해 주셔서 감사합니다. 헌혈하신 혈액형을 선택하세요\n",
            "A, B, AB, O : O\n",
            "\n",
            "헌혈해 주셔서 감사합니다. 헌혈하신 혈액형을 선택하세요\n",
            "A, B, AB, O : AB\n",
            "\n",
            "헌혈해 주셔서 감사합니다. 헌혈하신 혈액형을 선택하세요\n",
            "A, B, AB, O : AB\n",
            "\n",
            "헌혈해 주셔서 감사합니다. 헌혈하신 혈액형을 선택하세요\n",
            "A, B, AB, O : O\n",
            "\n",
            "헌혈해 주셔서 감사합니다. 헌혈하신 혈액형을 선택하세요\n",
            "A, B, AB, O : A\n",
            "------------------------------\n",
            "혈액형 : 개수\n",
            "------------------------------\n",
            "A형 : 3\n",
            "B형 : 2\n",
            "AB형 : 2\n",
            "O형 : 3\n",
            "------------------------------\n"
          ]
        }
      ]
    },
    {
      "cell_type": "markdown",
      "metadata": {
        "id": "vZQPuy03hxgl"
      },
      "source": [
        "# 6.딕셔너리"
      ]
    },
    {
      "cell_type": "markdown",
      "metadata": {
        "id": "cA_oNxaXhvD0"
      },
      "source": [
        "## 회원 가입 프로그램\n",
        "- 다음 4단계에 따라 회원 가입 프로그램을 만들어 보자.\n",
        "1. 프로그램을 실행하면 '1. 회원가입', '2. 프로그램 종료'를 출력하고, 사용자에게 선택을 유도한다.\n",
        "2. 사용자가 '1'을 입력하면 '회원가입'을 진행하고, '2'를 입력하면 프롤그램을 종료한다. 프로그램이 종료되면 전체 회원의 아이디와 비밀번호를 출력한다.\n",
        "3. '회원가입'은 아이디와 비밀번호를 입력받아 딕셔너리에 저장한다. 이 때 아이디는 키(key), 비밀번호는 값(values)으로 한다.\n",
        "4. 회원가입이 끝나면 다시 1단계로 돌아가 '1.회원가입','2.프로그램 종료'를 출력하고, 사용자에게 선택을 유도한다."
      ]
    },
    {
      "cell_type": "code",
      "metadata": {
        "id": "zAGMlfs8hvsB",
        "outputId": "267e8b3b-81c7-4ef8-b04f-3a5d8ae2f9d2",
        "colab": {
          "base_uri": "https://localhost:8080/"
        }
      },
      "source": [
        "members = {}\n",
        "flag = True\n",
        "\n",
        "while flag:\n",
        "    selectNum = int(input('\\n1. 회원가입, 2. 프로그램 종료\\t'))\n",
        "    \n",
        "    if selectNum == 1:\n",
        "        id = input('아이디를 입력하세요.\\t')\n",
        "        pw = input('비밀번호를 입력하세요.\\t')\n",
        "        members[id] = pw\n",
        "        \n",
        "    elif selectNum == 2:\n",
        "        print('-' * 30)\n",
        "        print('아이디  : 비밀번호')\n",
        "        print('-' * 30)\n",
        "        \n",
        "        for key in members.keys():\n",
        "            print(key, '\\t:\\t', members[key])\n",
        "        print('-' * 30)\n",
        "        \n",
        "        flag = False\n",
        "\n",
        "\n",
        "\n",
        "# members = {}\n",
        "# while True :\n",
        "#     choice = int(input('1.회원가입 or 2. 프로그램 종료'))\n",
        "#     if choice == 1:\n",
        "#         id = input('아이디를 입력하세요. : ')\n",
        "#         pw = input('비밀번호를 입력하세요. : ')\n",
        "#         members[id] = pw\n",
        "#     elif choice == 2:\n",
        "#         print('ID PW')\n",
        "\n",
        "#         for key in members.keys():\n",
        "#             print(key, members[key])\n",
        "#         print('프로그램을 종료합니다.')\n",
        "#         break"
      ],
      "execution_count": 2,
      "outputs": [
        {
          "output_type": "stream",
          "name": "stdout",
          "text": [
            "\n",
            "1. 회원가입, 2. 프로그램 종료\t1\n",
            "아이디를 입력하세요.\tㅇㄹ\n",
            "비밀번호를 입력하세요.\tㅎㄷ\n",
            "\n",
            "1. 회원가입, 2. 프로그램 종료\t2\n",
            "------------------------------\n",
            "아이디  : 비밀번호\n",
            "------------------------------\n",
            "ㅇㄹ \t:\t ㅎㄷ\n",
            "------------------------------\n"
          ]
        }
      ]
    },
    {
      "cell_type": "markdown",
      "metadata": {
        "id": "XxdDFCWZ71A0"
      },
      "source": [
        "# 7.함수"
      ]
    },
    {
      "cell_type": "markdown",
      "metadata": {
        "id": "0IroskJrigrd"
      },
      "source": [
        "## 계산기 프로그램\n",
        "- 사용자가 숫자 2개를 입력하고 연산자를 선택하면 연산결과가 출력되는 프로그램을 함수를 이용하여 만들어 보자."
      ]
    },
    {
      "cell_type": "code",
      "metadata": {
        "colab": {
          "base_uri": "https://localhost:8080/"
        },
        "id": "pnczzdRP8F44",
        "outputId": "a36de888-a319-4813-84f2-df2928fccbc6"
      },
      "source": [
        "def add():  # 덧셈\n",
        "    print('덧셈 결과 : ', inputNumber1 + inputNumber2)\n",
        "\n",
        "def sub():  # 뺄셈\n",
        "    print('뺄셈 결과 : ', inputNumber1 - inputNumber2)\n",
        "\n",
        "def mul():  # 곱셈\n",
        "    print('곱셈 결과 : ', inputNumber1 * inputNumber2)\n",
        "\n",
        "def div():  # 나눗셈\n",
        "    print('나눗셈 결과 : ', inputNumber1 / inputNumber2)\n",
        "\n",
        "def calculator(): # 계산기\n",
        "    if(selectOperator == 1):\n",
        "        add()\n",
        "    elif(selectOperator == 2):\n",
        "        sub()\n",
        "    elif(selectOperator == 3):\n",
        "        mul()\n",
        "    elif(selectOperator == 4):\n",
        "        div()\n",
        "\n",
        "inputNumber1 = float(input('숫자를 입력하세요. '))\n",
        "selectOperator = int(input('연산자를 선택하세요. 1.덧셈, 2.뺄셈, 3.곱셈, 4.나눗셈 '))\n",
        "inputNumber2 = float(input('숫자를 입력하세요. '))\n",
        "\n",
        "calculator()"
      ],
      "execution_count": null,
      "outputs": [
        {
          "output_type": "stream",
          "name": "stdout",
          "text": [
            "숫자를 입력하세요. 5\n",
            "연산자를 선택하세요. 1.덧셈, 2.뺄셈, 3.곱셈, 4.나눗셈 2\n",
            "숫자를 입력하세요. 6\n",
            "뺄셈 결과 :  -1.0\n"
          ]
        }
      ]
    },
    {
      "cell_type": "code",
      "metadata": {
        "id": "OqHv9QRM8vhk"
      },
      "source": [
        "def add():  # 덧셈\n",
        "    print('덧셈 결과 : ', inputNumber1 + inputNumber2)\n",
        "\n",
        "def sub():  # 뺄셈\n",
        "    print('뺄셈 결과 : ', inputNumber1 - inputNumber2)\n",
        "\n",
        "def mul():  # 곱셈\n",
        "    print('곱셈 결과 : ', inputNumber1 * inputNumber2)\n",
        "\n",
        "def div():  # 나눗셈\n",
        "    print('나눗셈 결과 : ', inputNumber1 / inputNumber2)\n",
        "\n",
        "def calculator(): # 계산기\n",
        "    if(selectOperator == 1):\n",
        "        add()\n",
        "    elif(selectOperator == 2):\n",
        "        sub()\n",
        "    elif(selectOperator == 3):\n",
        "        mul()\n",
        "    elif(selectOperator == 4):\n",
        "        div()\n",
        "\n",
        "inputNumber1 = float(input('숫자를 입력하세요. '))\n",
        "selectOperator = int(input('연산자를 선택하세요. 1.덧셈, 2.뺄셈, 3.곱셈, 4.나눗셈 '))\n",
        "inputNumber2 = float(input('숫자를 입력하세요. '))\n",
        "\n",
        "calculator()\n",
        "\n",
        "\n",
        "\n",
        "# n1 = float(input('숫자를 입력하세요.'))\n",
        "# select = int(input('연산자를 선택하세요. 1.덧셈 2.뺄셈 3.곱셈 4.나눗셈'))\n",
        "# n2 = float(input('숫자를 입력하세요.'))\n",
        "\n",
        "# def get_result(n1, n2):\n",
        "#     if select == 1:\n",
        "#         return n1 + n2\n",
        "#     elif select == 2:\n",
        "#         return n1 - n2\n",
        "#     elif select == 3:\n",
        "#         return n1 * n2\n",
        "#     else:\n",
        "#         return n1 / n2\n",
        "# print(int(get_result(n1,n2)))\n",
        "\n",
        "\n",
        "\n",
        "# def plus():\n",
        "#     result = n1 + n2\n",
        "#     print(int(result))\n",
        "# def minus():\n",
        "#     result = n1 - n2\n",
        "#     print(int(result))\n",
        "# def mul():\n",
        "#     result = n1 * n2\n",
        "#     print(int(result))\n",
        "# def div():\n",
        "#     result = n1 / n2\n",
        "#     print(int(result))\n",
        "# def cal():\n",
        "#     if (select == 1):\n",
        "#         plus()\n",
        "#     elif (select == 2):\n",
        "#         minus()\n",
        "#     elif (select == 3):\n",
        "#         mul()\n",
        "#     else:\n",
        "#         div()\n",
        "# n1 = float(input('숫자를 입력하세요.'))\n",
        "# select = int(input('연산자를 선택하세요. 1.덧셈 2.뺄셈 3.곱셈 4.나눗셈'))\n",
        "# n2 = float(input('숫자를 입력하세요.'))\n",
        "# cal()"
      ],
      "execution_count": null,
      "outputs": []
    },
    {
      "cell_type": "markdown",
      "metadata": {
        "id": "-3ddSrOV9FbC"
      },
      "source": [
        "## 할인된 상품 가격표 출력 프로그램\n",
        "- 할인 마트는 고객 감사의 일환으로 '오늘의 할인' 이벤트를 진행할 계획이다. 아래의 상품 가격표를 참고해서 '오늘의 할인'을 입력하면 할인된 가격이 출력되는 프로그램을 만들어 보자."
      ]
    },
    {
      "cell_type": "code",
      "metadata": {
        "colab": {
          "base_uri": "https://localhost:8080/"
        },
        "id": "6jm6GBaG9L3Z",
        "outputId": "1af4b754-f54e-4c01-ea6e-e64106470399"
      },
      "source": [
        "standardPrice = {'쌀':9900, '상추':1900,'고추':2900,'마늘':8900,'통닭':5600,'햄':6900, '치즈':3900}\n",
        "\n",
        "def getDiscountPrice(rate):\n",
        "    dcPrice = {}\n",
        "    for goods in standardPrice.keys():\n",
        "        disPri = int(standardPrice[goods] * (1 - (rate / 100)))\n",
        "        dcPrice[goods] = disPri\n",
        "    return dcPrice\n",
        "\n",
        "def printPrice(priceList):\n",
        "    for goods in priceList.keys():\n",
        "        print(goods, '\\t:', standardPrice[goods], '원\\t', inputData, '%DC ->', priceList[goods], '원')\n",
        "\n",
        "print('---------------------------------------------')\n",
        "print('-- 할인마트 오늘의 할인 가격표 출력 시스템 --')\n",
        "print('---------------------------------------------')\n",
        "\n",
        "inputData = int(input('오늘의 할인율을 입력하세요. '))\n",
        "discountPrice = getDiscountPrice(inputData)\n",
        "\n",
        "printPrice(discountPrice)\n",
        "print('---------------------------------------------')"
      ],
      "execution_count": null,
      "outputs": [
        {
          "output_type": "stream",
          "name": "stdout",
          "text": [
            "---------------------------------------------\n",
            "-- 할인마트 오늘의 할인 가격표 출력 시스템 --\n",
            "---------------------------------------------\n",
            "오늘의 할인율을 입력하세요. 15\n",
            "쌀 \t: 9900 원\t 15 %DC -> 8415 원\n",
            "상추 \t: 1900 원\t 15 %DC -> 1615 원\n",
            "고추 \t: 2900 원\t 15 %DC -> 2465 원\n",
            "마늘 \t: 8900 원\t 15 %DC -> 7565 원\n",
            "통닭 \t: 5600 원\t 15 %DC -> 4760 원\n",
            "햄 \t: 6900 원\t 15 %DC -> 5865 원\n",
            "치즈 \t: 3900 원\t 15 %DC -> 3315 원\n",
            "---------------------------------------------\n"
          ]
        }
      ]
    },
    {
      "cell_type": "code",
      "metadata": {
        "id": "YzWOZ4vPitsm"
      },
      "source": [
        "standardPrice = {'쌀':9900, '상추':1900,'고추':2900,'마늘':8900,'통닭':5600,'햄':6900, '치즈':3900}\n",
        "\n",
        "def getDiscountPrice(rate):\n",
        "    dcPrice = {}\n",
        "    for goods in standardPrice.keys():\n",
        "        disPri = int(standardPrice[goods] * (1 - (rate / 100)))\n",
        "        dcPrice[goods] = disPri\n",
        "    return dcPrice\n",
        "\n",
        "def printPrice(priceList):\n",
        "    for goods in priceList.keys():\n",
        "        print(goods, '\\t:', standardPrice[goods], '원\\t', inputData, '%DC ->', priceList[goods], '원')\n",
        "\n",
        "print('---------------------------------------------')\n",
        "print('-- 할인마트 오늘의 할인 가격표 출력 시스템 --')\n",
        "print('---------------------------------------------')\n",
        "\n",
        "inputData = int(input('오늘의 할인율을 입력하세요. '))\n",
        "discountPrice = getDiscountPrice(inputData)\n",
        "\n",
        "printPrice(discountPrice)\n",
        "print('---------------------------------------------')\n",
        "\n",
        "\n",
        "# original = {'쌀':9900, '상추':1900, '고추':2900, '마늘':8900, '통닭':5600, '햄':6900, '치즈':3900}\n",
        "# dcrate = float(input('오늘의 할인율은? '))\n",
        "# def dcprice(rate):\n",
        "#     todayprice = {}\n",
        "#     for i in original.keys():\n",
        "#         dcprice = int(original[i] * (1 - (rate / 100)))\n",
        "#         todayprice[i] = dcprice\n",
        "#     return todayprice\n",
        "\n",
        "# def tableprice(pricelist):\n",
        "#     for i in pricelist.keys():\n",
        "#         print(i, '\\t:', original[i], '원', '->', pricelist[i], '원', '(',dcrate, '% 할인 )')\n",
        "\n",
        "# print('---------------------------------------------')\n",
        "# print('-- 할인마트 오늘의 할인 가격표 출력 시스템 --')\n",
        "# print('---------------------------------------------')\n",
        "\n",
        "# discountprice = dcprice(dcrate)\n",
        "# tableprice(discountprice)\n",
        "# print('---------------------------------------------')"
      ],
      "execution_count": null,
      "outputs": []
    },
    {
      "cell_type": "markdown",
      "metadata": {
        "id": "jpGMurkO9Kuc"
      },
      "source": [
        "## 문자 메시지 요금 청구 프로그램\n",
        "- 이동 통신사에서 다음 요금표에 따라 문자 메시지 요금을 계산함\n",
        "- 알고리즘\n",
        "    - 이용자의 회원 등급을 입력한다.\n",
        "    - SMS 발송 건수를 입력한다.\n",
        "    - MMS 발송 건수를 입력한다.\n",
        "    - 회원 등급에 따라 요금표를 기준으로 요금을 계산한다.\n",
        "    - 청구 요금을 출력한다."
      ]
    },
    {
      "cell_type": "code",
      "metadata": {
        "id": "HKs034S99O5n",
        "colab": {
          "base_uri": "https://localhost:8080/"
        },
        "outputId": "b67b58b8-2fdf-4232-ae52-51e821211c8b"
      },
      "source": [
        "# level = int(input('회원 등급을 선택하세요. \\n 1.VVIP 2. VIP 3. GOLD '))\n",
        "# sms = int(input('SMS 발송 건수를 입력하세요.'))\n",
        "# mms = int(input('MMS 발송 건수를 입력하세요.'))\n",
        "# if level == 1:\n",
        "#     smsprice = 0\n",
        "#     if mms > 50:\n",
        "#         mmsprice = (mms - 50) * 20\n",
        "#     else:\n",
        "#         mmsprice = 0\n",
        "# elif level == 2:\n",
        "#     if sms > 100:\n",
        "#         smsprice = (sms - 100) * 10\n",
        "#     else:\n",
        "#         smsprice = 0\n",
        "#     if mms > 10:\n",
        "#         mmsprice = (mms - 10) * 20\n",
        "#     else:\n",
        "#         mmsprice = 0\n",
        "# else:\n",
        "#     if sms > 10:\n",
        "#         smsprice = (sms - 10) * 10\n",
        "#     else:\n",
        "#         smsprice = 0\n",
        "#     if mms > 5:\n",
        "#         mmsprice = (mms - 5) * 20\n",
        "#     else:\n",
        "#         mmsprice = 0\n",
        "# totalprice = smsprice + mmsprice\n",
        "# print('smsprice : ', smsprice, '원')\n",
        "# print('mmsprice : ', mmsprice, '원')\n",
        "# print('totalprice : ', totalprice, '원')\n",
        "\n",
        "\n",
        "level = int(input('회원 등급을 선택하세요. \\n 1.VVIP 2. VIP 3. GOLD '))\n",
        "sms = int(input('SMS 발송 건수를 입력하세요.'))\n",
        "mms = int(input('MMS 발송 건수를 입력하세요.'))\n",
        "def smsprice(level, sms):\n",
        "    if level == 2 and sms > 100:\n",
        "        return (sms - 100) * 10\n",
        "    elif level == 3 and sms > 10:\n",
        "        return (sms - 10) * 10\n",
        "    else:\n",
        "        return 0\n",
        "print('smsprice \\t: ', int(smsprice(level, sms)), '원')\n",
        "def mmsprice(level, mms):\n",
        "    if level == 1 and mms > 50:\n",
        "        return (mms - 50) * 20\n",
        "    elif level == 2 and mms > 10:\n",
        "        return (mms - 10) * 20\n",
        "    elif level == 3 and mms > 5:\n",
        "        return (mms - 5) * 20\n",
        "    else:\n",
        "        return 0\n",
        "print('mmsprice \\t: ', int(mmsprice(level, mms)), '원')\n",
        "totalprice = int(smsprice(level, sms)) + int(mmsprice(level, mms))\n",
        "print('totalprice \\t: ', totalprice, '원')"
      ],
      "execution_count": null,
      "outputs": [
        {
          "output_type": "stream",
          "name": "stdout",
          "text": [
            "회원 등급을 선택하세요. \n",
            " 1.VVIP 2. VIP 3. GOLD 1\n",
            "SMS 발송 건수를 입력하세요.36\n",
            "MMS 발송 건수를 입력하세요.89\n",
            "smsprice \t:  0 원\n",
            "mmsprice \t:  780 원\n",
            "totalprice \t:  780 원\n"
          ]
        }
      ]
    }
  ]
}