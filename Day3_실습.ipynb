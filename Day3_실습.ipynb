{
  "nbformat": 4,
  "nbformat_minor": 0,
  "metadata": {
    "colab": {
      "name": "Day3 실습.ipynb",
      "provenance": [],
      "collapsed_sections": [],
      "toc_visible": true,
      "include_colab_link": true
    },
    "kernelspec": {
      "name": "python3",
      "display_name": "Python 3"
    },
    "language_info": {
      "name": "python"
    }
  },
  "cells": [
    {
      "cell_type": "markdown",
      "metadata": {
        "id": "view-in-github",
        "colab_type": "text"
      },
      "source": [
        "<a href=\"https://colab.research.google.com/github/futurebly/Web-AI/blob/main/Day3_%EC%8B%A4%EC%8A%B5.ipynb\" target=\"_parent\"><img src=\"https://colab.research.google.com/assets/colab-badge.svg\" alt=\"Open In Colab\"/></a>"
      ]
    },
    {
      "cell_type": "markdown",
      "metadata": {
        "id": "elwc0UDbYlHI"
      },
      "source": [
        "# 1.비밀번호 발송 메일 프로그램"
      ]
    },
    {
      "cell_type": "code",
      "metadata": {
        "colab": {
          "base_uri": "https://localhost:8080/"
        },
        "id": "pp1QYSlmY6ge",
        "outputId": "c9303fb7-e160-4b36-9f49-b2f6af2e7025"
      },
      "source": [
        "print('회원 정보를 입력하세요.')\n",
        "username = input('이름 : ')\n",
        "usermail = input('메일 : ')\n",
        "userID = input('아이디 : ')\n",
        "userPW = input('비밀번호 : ')\n"
      ],
      "execution_count": null,
      "outputs": [
        {
          "name": "stdout",
          "output_type": "stream",
          "text": [
            "회원 정보를 입력하세요.\n",
            "이름 : 홍길동\n",
            "메일 : gildong@abc.com\n",
            "아이디 : gildong\n",
            "비밀번호 : 1234\n"
          ]
        }
      ]
    },
    {
      "cell_type": "code",
      "metadata": {
        "colab": {
          "base_uri": "https://localhost:8080/"
        },
        "id": "yWUdbpWKZwuH",
        "outputId": "3b29855d-4530-4940-937a-59a9892bbbe5"
      },
      "source": [
        "print(username)"
      ],
      "execution_count": null,
      "outputs": [
        {
          "output_type": "stream",
          "name": "stdout",
          "text": [
            "홍길동\n"
          ]
        }
      ]
    },
    {
      "cell_type": "code",
      "metadata": {
        "colab": {
          "base_uri": "https://localhost:8080/"
        },
        "id": "ELlUy5y2aLox",
        "outputId": "dfc106c2-e2ea-42ca-bea7-21d08f08f829"
      },
      "source": [
        "print('To. '+ usermail)\n",
        "print('- 아이디 및 비밀번호 확인')\n",
        "print(username, '고객님 안녕하세요.')\n",
        "print('고객님의 아이디와 비밀번호는 아래와 같습니다.')\n",
        "print('아이디 : '+userID)\n",
        "print('비밀번호 : '+userPW)"
      ],
      "execution_count": null,
      "outputs": [
        {
          "output_type": "stream",
          "name": "stdout",
          "text": [
            "To. gildong@abc.com\n",
            "- 아이디 및 비밀번호 확인\n",
            "홍길동 고객님 안녕하세요.\n",
            "고객님의 아이디와 비밀번호는 아래와 같습니다.\n",
            "아이디 : gildong\n",
            "비밀번호 : 1234\n"
          ]
        }
      ]
    },
    {
      "cell_type": "markdown",
      "metadata": {
        "id": "Dr0pQ2LrcTMG"
      },
      "source": [
        "# 2.연산자_원의 면적과 둘레 구하기"
      ]
    },
    {
      "cell_type": "code",
      "metadata": {
        "colab": {
          "base_uri": "https://localhost:8080/"
        },
        "id": "xo-lWT_McYIG",
        "outputId": "1bdd9d2b-b5d8-4f30-bdc5-c4d2c9c9db75"
      },
      "source": [
        "radius = int(input('원의 반지름을 입력하시오 : '))\n",
        "\n",
        "area = 3.14*radius*radius\n",
        "circum = 3.14*radius*2\n",
        "\n",
        "print('반지름 %.2f의 면적은 = %.2f' %(radius,area))\n",
        "print('반지름 %.2f의 둘레는 = %.2f' %(radius,circum))"
      ],
      "execution_count": null,
      "outputs": [
        {
          "output_type": "stream",
          "name": "stdout",
          "text": [
            "원의 반지름을 입력하시오 : 5\n",
            "반지름 5.00의 면적은 = 78.50\n",
            "반지름 5.00의 둘레는 = 31.40\n"
          ]
        }
      ]
    },
    {
      "cell_type": "code",
      "metadata": {
        "colab": {
          "base_uri": "https://localhost:8080/"
        },
        "id": "vyXp6h5ddGcS",
        "outputId": "16829eb2-67d8-41dc-b653-85a342f02e70"
      },
      "source": [
        "radius = int(input('원의 반지름을 입력하시오 : '))\n",
        "\n",
        "area = 3.14*radius*radius\n",
        "circum = 3.14*radius*2\n",
        "\n",
        "print('반지름 %d의 면적은 = %.2f' %(radius,area))\n",
        "print('반지름 %d의 둘레는 = %.2f' %(radius,circum))"
      ],
      "execution_count": null,
      "outputs": [
        {
          "output_type": "stream",
          "name": "stdout",
          "text": [
            "원의 반지름을 입력하시오 : 5\n",
            "반지름 5의 면적은 = 78.50\n",
            "반지름 5의 둘레는 = 31.40\n"
          ]
        }
      ]
    },
    {
      "cell_type": "markdown",
      "metadata": {
        "id": "F8srAhOJhyL-"
      },
      "source": [
        "# 3.조건문_차량 2부제 프로그램"
      ]
    },
    {
      "cell_type": "code",
      "metadata": {
        "colab": {
          "base_uri": "https://localhost:8080/"
        },
        "id": "27ixhKcjhzuW",
        "outputId": "2f00f59d-700b-41ae-c9a0-7db326bd3190"
      },
      "source": [
        "carNum = int(input('차량번호 : '))\n",
        "if carNum % 2 == 0 :\n",
        "  print('짝수일에 입차 가능합니다.')\n",
        "else:\n",
        "  print('홀수일에 입차 가능합니다.')"
      ],
      "execution_count": null,
      "outputs": [
        {
          "output_type": "stream",
          "name": "stdout",
          "text": [
            "차량번호 : 8462\n",
            "짝수일에 입차 가능합니다.\n"
          ]
        }
      ]
    },
    {
      "cell_type": "code",
      "metadata": {
        "colab": {
          "base_uri": "https://localhost:8080/"
        },
        "id": "sLrEcAA3jH4q",
        "outputId": "45d7479e-69f0-490d-b8dc-c0a06e369af7"
      },
      "source": [
        "from datetime import datetime\n",
        "dayNum = datetime.today().day\n",
        "carNum = int(input('차량번호 : '))\n",
        "print('오늘 날짜 : %d일' %dayNum)\n",
        "if dayNum % 2 == 0 :\n",
        "  print('오늘 입차 : 번호가 짝수인 차량')\n",
        "else:\n",
        "  print('오늘 입차 : 번호가 홀수인 차량')\n",
        "\n",
        "if dayNum % 2 == carNum % 2 :\n",
        "  print('귀하의 차량은 입차 가능합니다.')\n",
        "else:\n",
        "  print('귀하의 차량은 입차 불가합니다.')"
      ],
      "execution_count": null,
      "outputs": [
        {
          "output_type": "stream",
          "name": "stdout",
          "text": [
            "차량번호 : 9967\n",
            "오늘 날짜 : 3일\n",
            "오늘 입차 : 번호가 홀수인 차량\n",
            "귀하의 차량은 입차 가능합니다.\n"
          ]
        }
      ]
    },
    {
      "cell_type": "markdown",
      "metadata": {
        "id": "RXeGjgRdouS8"
      },
      "source": [
        "# 4.조건문_전기 요금 계산기"
      ]
    },
    {
      "cell_type": "code",
      "metadata": {
        "colab": {
          "base_uri": "https://localhost:8080/"
        },
        "id": "V1FYnJpIowG4",
        "outputId": "c240de09-9735-4596-b4fb-8902c62c4279"
      },
      "source": [
        "amount = float(input('전기 사용량을 입력하세요. :'))\n",
        "\n",
        "if amount > 400:\n",
        "  unitPrice = 280.6\n",
        "  basicPrice = 7300\n",
        "elif amount > 200:\n",
        "  unitPrice = 187.9\n",
        "  basicPrice = 1600\n",
        "else:\n",
        "  unitPrice = 99.3\n",
        "  basicPrice = 910\n",
        "\n",
        "totalPrice = amount*unitPrice + basicPrice\n",
        "print('사용량 : ', amount, 'kwh')\n",
        "print('기본 요금 :', basicPrice, '원')\n",
        "print('단가 :', unitPrice, '원')\n",
        "print('전기 요금 : %.1f 원' %totalPrice) #print('전기 요금 :', totalPrice, '원')"
      ],
      "execution_count": null,
      "outputs": [
        {
          "output_type": "stream",
          "name": "stdout",
          "text": [
            "전기 사용량을 입력하세요. :550\n",
            "사용량 :  550.0 kwh\n",
            "기본 요금 : 7300 원\n",
            "단가 : 280.6 원\n",
            "전기 요금 : 161630.0 원\n"
          ]
        }
      ]
    },
    {
      "cell_type": "markdown",
      "metadata": {
        "id": "xbqg0NyDtMYZ"
      },
      "source": [
        "# 5.반복문_로또 번호 만들기"
      ]
    },
    {
      "cell_type": "code",
      "metadata": {
        "colab": {
          "base_uri": "https://localhost:8080/"
        },
        "id": "E1y4yoMBtN-h",
        "outputId": "85bf4423-59ed-4ec2-ef59-841adf4ea73a"
      },
      "source": [
        "import random\n",
        "lotto = []\n",
        "while len(lotto) < 6:\n",
        "  num = random.randint(1,45)\n",
        "  if num not in lotto:\n",
        "    lotto.append(num)\n",
        "print(lotto)"
      ],
      "execution_count": null,
      "outputs": [
        {
          "output_type": "stream",
          "name": "stdout",
          "text": [
            "[40, 22, 42, 25, 5, 13]\n"
          ]
        }
      ]
    },
    {
      "cell_type": "markdown",
      "metadata": {
        "id": "Qa606I_gx0fn"
      },
      "source": [
        "# 6.반복문_로그인 기능 만들기"
      ]
    },
    {
      "cell_type": "code",
      "metadata": {
        "id": "W2yZsLDO1PmA"
      },
      "source": [
        ""
      ],
      "execution_count": null,
      "outputs": []
    },
    {
      "cell_type": "markdown",
      "metadata": {
        "id": "9FVGFXhq1ObD"
      },
      "source": [
        "# 7.출석부 관리 시스템"
      ]
    },
    {
      "cell_type": "code",
      "metadata": {
        "colab": {
          "base_uri": "https://localhost:8080/"
        },
        "id": "QmmelKMk1SsT",
        "outputId": "c5af5694-655c-48c7-f6be-34063904b845"
      },
      "source": [
        "students = [\"정우람\", \"박으뜸\", \"배힘찬\", \"천영웅\", \"신석기\", \"배민규\", \"전민수\", \"박건우\", \"박찬호\", \"이승엽\"]\n",
        "print(students)\n"
      ],
      "execution_count": null,
      "outputs": [
        {
          "output_type": "stream",
          "name": "stdout",
          "text": [
            "['정우람', '박으뜸', '배힘찬', '천영웅', '신석기', '배민규', '전민수', '박건우', '박찬호', '이승엽']\n"
          ]
        }
      ]
    },
    {
      "cell_type": "code",
      "metadata": {
        "colab": {
          "base_uri": "https://localhost:8080/"
        },
        "id": "Zjhtpbj12MWy",
        "outputId": "2e950315-3019-4eae-9c2b-62d252791d26"
      },
      "source": [
        "students.sort()\n",
        "print(students)"
      ],
      "execution_count": null,
      "outputs": [
        {
          "output_type": "stream",
          "name": "stdout",
          "text": [
            "['박건우', '박으뜸', '박찬호', '배민규', '배힘찬', '신석기', '이승엽', '전민수', '정우람', '천영웅']\n"
          ]
        }
      ]
    },
    {
      "cell_type": "code",
      "metadata": {
        "colab": {
          "base_uri": "https://localhost:8080/"
        },
        "id": "AX5cqHLC2nEp",
        "outputId": "f36ef555-7de8-49b5-fb5b-ef9d9a3b12b1"
      },
      "source": [
        "students.remove('박찬호')\n",
        "print(students)"
      ],
      "execution_count": null,
      "outputs": [
        {
          "output_type": "stream",
          "name": "stdout",
          "text": [
            "['박건우', '박으뜸', '배민규', '배힘찬', '신석기', '이승엽', '전민수', '정우람', '천영웅']\n"
          ]
        }
      ]
    },
    {
      "cell_type": "code",
      "metadata": {
        "colab": {
          "base_uri": "https://localhost:8080/"
        },
        "id": "KRwbWfhX3AG6",
        "outputId": "b4aba74d-bd8e-40e0-e5a6-2967659cb994"
      },
      "source": [
        "students[0:3]"
      ],
      "execution_count": null,
      "outputs": [
        {
          "output_type": "execute_result",
          "data": {
            "text/plain": [
              "['박건우', '박으뜸', '배민규']"
            ]
          },
          "metadata": {},
          "execution_count": 69
        }
      ]
    },
    {
      "cell_type": "code",
      "metadata": {
        "colab": {
          "base_uri": "https://localhost:8080/"
        },
        "id": "aFDpSb-y3JkC",
        "outputId": "addea962-c3a1-4f19-ef33-64b4eb1b79a4"
      },
      "source": [
        "students.append('이병규')\n",
        "print(students)"
      ],
      "execution_count": null,
      "outputs": [
        {
          "output_type": "stream",
          "name": "stdout",
          "text": [
            "['정우람', '박으뜸', '배힘찬', '천영웅', '신석기', '배민규', '전민수', '박건우', '박찬호', '이승엽', '이병규']\n"
          ]
        }
      ]
    },
    {
      "cell_type": "code",
      "metadata": {
        "colab": {
          "base_uri": "https://localhost:8080/"
        },
        "id": "E7rto3HW3Xyh",
        "outputId": "dd401748-d0a5-43d7-e28f-bb70d5488d3a"
      },
      "source": [
        "students.sort()\n",
        "students.reverse()\n",
        "print(students)"
      ],
      "execution_count": null,
      "outputs": [
        {
          "output_type": "stream",
          "name": "stdout",
          "text": [
            "['천영웅', '정우람', '전민수', '이승엽', '이병규', '신석기', '배힘찬', '배민규', '박찬호', '박으뜸', '박건우']\n"
          ]
        }
      ]
    },
    {
      "cell_type": "code",
      "metadata": {
        "colab": {
          "base_uri": "https://localhost:8080/"
        },
        "id": "SYNuRVjH3pxU",
        "outputId": "53ae45d8-5aaa-440e-a97f-37084e9034e3"
      },
      "source": [
        "str = 'Hello'\n",
        "lst = list(str)\n",
        "lst"
      ],
      "execution_count": null,
      "outputs": [
        {
          "output_type": "execute_result",
          "data": {
            "text/plain": [
              "['H', 'e', 'l', 'l', 'o']"
            ]
          },
          "metadata": {},
          "execution_count": 85
        }
      ]
    },
    {
      "cell_type": "code",
      "metadata": {
        "colab": {
          "base_uri": "https://localhost:8080/"
        },
        "id": "Y-JqtorQ4HNt",
        "outputId": "1eccb9c5-4604-4fd3-db60-39996d2df7fd"
      },
      "source": [
        "lst[0]='G'\n",
        "lst"
      ],
      "execution_count": null,
      "outputs": [
        {
          "output_type": "execute_result",
          "data": {
            "text/plain": [
              "['G', 'e', 'l', 'l', 'o']"
            ]
          },
          "metadata": {},
          "execution_count": 86
        }
      ]
    },
    {
      "cell_type": "code",
      "metadata": {
        "id": "bT9J4YnI4_DO"
      },
      "source": [
        "ind=students.index('정우람')"
      ],
      "execution_count": null,
      "outputs": []
    },
    {
      "cell_type": "code",
      "metadata": {
        "colab": {
          "base_uri": "https://localhost:8080/"
        },
        "id": "O-I4J6p-5Ch-",
        "outputId": "167c8c3a-f5e1-4132-b96d-f10f60c55adf"
      },
      "source": [
        "students[ind]='정잘남'\n",
        "print(students)"
      ],
      "execution_count": null,
      "outputs": [
        {
          "output_type": "stream",
          "name": "stdout",
          "text": [
            "['천영웅', '정잘남', '전민수', '이승엽', '이병규', '신석기', '배힘찬', '배민규', '박찬호', '박으뜸', '박건우']\n"
          ]
        }
      ]
    },
    {
      "cell_type": "markdown",
      "metadata": {
        "id": "ndjceM1L6LwL"
      },
      "source": [
        "# 8.딕셔너리_회원 가입 프로그램"
      ]
    },
    {
      "cell_type": "code",
      "metadata": {
        "colab": {
          "base_uri": "https://localhost:8080/"
        },
        "id": "VZAA2Hmx6OXx",
        "outputId": "8f253a22-3283-4e9a-9f33-9e9230d6c625"
      },
      "source": [
        "members = {}\n",
        "\n",
        "for i in range(2):\n",
        "  id = input('아이디 입력하세요. : ')\n",
        "  pw = input('비밀번호 입력하세요. : ')\n",
        "  members[id] = pw\n",
        "\n",
        "for key in members:\n",
        "  print(key)\n",
        "  print(members[key])"
      ],
      "execution_count": null,
      "outputs": [
        {
          "output_type": "stream",
          "name": "stdout",
          "text": [
            "아이디 입력하세요. : abcd\n",
            "비밀번호 입력하세요. : 1234\n",
            "아이디 입력하세요. : fds\n",
            "비밀번호 입력하세요. : 56\n",
            "abcd\n",
            "1234\n",
            "fds\n",
            "56\n"
          ]
        }
      ]
    },
    {
      "cell_type": "code",
      "metadata": {
        "colab": {
          "base_uri": "https://localhost:8080/",
          "height": 35
        },
        "id": "fPfT8c0t63U_",
        "outputId": "f713b252-3cc5-4e07-a469-6a2bb80e7545"
      },
      "source": [
        "members['abcd']"
      ],
      "execution_count": null,
      "outputs": [
        {
          "output_type": "execute_result",
          "data": {
            "application/vnd.google.colaboratory.intrinsic+json": {
              "type": "string"
            },
            "text/plain": [
              "'1234'"
            ]
          },
          "metadata": {},
          "execution_count": 100
        }
      ]
    },
    {
      "cell_type": "markdown",
      "metadata": {
        "id": "8vwD65Soc3F4"
      },
      "source": [
        "# 9.혈액 보관 시스템"
      ]
    },
    {
      "cell_type": "code",
      "metadata": {
        "colab": {
          "base_uri": "https://localhost:8080/"
        },
        "id": "A1_-0qp4c7F_",
        "outputId": "89b57051-978b-4b44-c422-4e1ad3fb02dd"
      },
      "source": [
        "boolds = []\n",
        "\n",
        "for i in range(10):\n",
        "    print('\\n헌혈해 주셔서 감사합니다. 헌혈하신 혈액형을 선택하세요')\n",
        "    boolds.append(input('A, B, AB, O : '))\n",
        "\n",
        "print('-' * 30)\n",
        "print('혈액형 :', '개수')\n",
        "print('-' * 30)\n",
        "print('A형 :', boolds.count('A'))\n",
        "print('B형 :', boolds.count('B'))\n",
        "print('AB형 :', boolds.count('AB'))\n",
        "print('O형 :', boolds.count('O'))\n",
        "print('-' * 30)\n",
        "\n",
        "\n",
        "# blood = []\n",
        "# for i in range(10):\n",
        "#     print('헌혈해 주셔서 감사합니다. 헌혈하신 혈액형을 선택하세요.')\n",
        "#     blood.append(input('A, B, AB, O : '))\n",
        "\n",
        "# print('총 혈액형과 개수')\n",
        "# print('A : ', blood.count('A'))\n",
        "# print('B : ', blood.count('B'))\n",
        "# print('AB : ', blood.count('AB'))\n",
        "# print('O : ', blood.count('O'))"
      ],
      "execution_count": 2,
      "outputs": [
        {
          "output_type": "stream",
          "name": "stdout",
          "text": [
            "\n",
            "헌혈해 주셔서 감사합니다. 헌혈하신 혈액형을 선택하세요\n",
            "A, B, AB, O : A\n",
            "\n",
            "헌혈해 주셔서 감사합니다. 헌혈하신 혈액형을 선택하세요\n",
            "A, B, AB, O : A\n",
            "\n",
            "헌혈해 주셔서 감사합니다. 헌혈하신 혈액형을 선택하세요\n",
            "A, B, AB, O : B\n",
            "\n",
            "헌혈해 주셔서 감사합니다. 헌혈하신 혈액형을 선택하세요\n",
            "A, B, AB, O : B\n",
            "\n",
            "헌혈해 주셔서 감사합니다. 헌혈하신 혈액형을 선택하세요\n",
            "A, B, AB, O : O\n",
            "\n",
            "헌혈해 주셔서 감사합니다. 헌혈하신 혈액형을 선택하세요\n",
            "A, B, AB, O : O\n",
            "\n",
            "헌혈해 주셔서 감사합니다. 헌혈하신 혈액형을 선택하세요\n",
            "A, B, AB, O : AB\n",
            "\n",
            "헌혈해 주셔서 감사합니다. 헌혈하신 혈액형을 선택하세요\n",
            "A, B, AB, O : AB\n",
            "\n",
            "헌혈해 주셔서 감사합니다. 헌혈하신 혈액형을 선택하세요\n",
            "A, B, AB, O : O\n",
            "\n",
            "헌혈해 주셔서 감사합니다. 헌혈하신 혈액형을 선택하세요\n",
            "A, B, AB, O : A\n",
            "------------------------------\n",
            "혈액형 : 개수\n",
            "------------------------------\n",
            "A형 : 3\n",
            "B형 : 2\n",
            "AB형 : 2\n",
            "O형 : 3\n",
            "------------------------------\n"
          ]
        }
      ]
    },
    {
      "cell_type": "markdown",
      "metadata": {
        "id": "XxdDFCWZ71A0"
      },
      "source": [
        "# 10.함수_계산기 프로그램"
      ]
    },
    {
      "cell_type": "code",
      "metadata": {
        "colab": {
          "base_uri": "https://localhost:8080/"
        },
        "id": "pnczzdRP8F44",
        "outputId": "a36de888-a319-4813-84f2-df2928fccbc6"
      },
      "source": [
        "def add():  # 덧셈\n",
        "    print('덧셈 결과 : ', inputNumber1 + inputNumber2)\n",
        "\n",
        "def sub():  # 뺄셈\n",
        "    print('뺄셈 결과 : ', inputNumber1 - inputNumber2)\n",
        "\n",
        "def mul():  # 곱셈\n",
        "    print('곱셈 결과 : ', inputNumber1 * inputNumber2)\n",
        "\n",
        "def div():  # 나눗셈\n",
        "    print('나눗셈 결과 : ', inputNumber1 / inputNumber2)\n",
        "\n",
        "def calculator(): # 계산기\n",
        "    if(selectOperator == 1):\n",
        "        add()\n",
        "    elif(selectOperator == 2):\n",
        "        sub()\n",
        "    elif(selectOperator == 3):\n",
        "        mul()\n",
        "    elif(selectOperator == 4):\n",
        "        div()\n",
        "\n",
        "inputNumber1 = float(input('숫자를 입력하세요. '))\n",
        "selectOperator = int(input('연산자를 선택하세요. 1.덧셈, 2.뺄셈, 3.곱셈, 4.나눗셈 '))\n",
        "inputNumber2 = float(input('숫자를 입력하세요. '))\n",
        "\n",
        "calculator()"
      ],
      "execution_count": null,
      "outputs": [
        {
          "output_type": "stream",
          "name": "stdout",
          "text": [
            "숫자를 입력하세요. 5\n",
            "연산자를 선택하세요. 1.덧셈, 2.뺄셈, 3.곱셈, 4.나눗셈 2\n",
            "숫자를 입력하세요. 6\n",
            "뺄셈 결과 :  -1.0\n"
          ]
        }
      ]
    },
    {
      "cell_type": "code",
      "metadata": {
        "id": "OqHv9QRM8vhk"
      },
      "source": [
        ""
      ],
      "execution_count": null,
      "outputs": []
    },
    {
      "cell_type": "markdown",
      "metadata": {
        "id": "-3ddSrOV9FbC"
      },
      "source": [
        "# 11.함수_할인된 상품 가격표 출력 프로그램"
      ]
    },
    {
      "cell_type": "code",
      "metadata": {
        "colab": {
          "base_uri": "https://localhost:8080/"
        },
        "id": "6jm6GBaG9L3Z",
        "outputId": "1af4b754-f54e-4c01-ea6e-e64106470399"
      },
      "source": [
        "standardPrice = {'쌀':9900, '상추':1900,'고추':2900,'마늘':8900,'통닭':5600,'햄':6900, '치즈':3900}\n",
        "\n",
        "def getDiscountPrice(rate):\n",
        "    dcPrice = {}\n",
        "    for goods in standardPrice.keys():\n",
        "        disPri = int(standardPrice[goods] * (1 - (rate / 100)))\n",
        "        dcPrice[goods] = disPri\n",
        "    return dcPrice\n",
        "\n",
        "def printPrice(priceList):\n",
        "    for goods in priceList.keys():\n",
        "        print(goods, '\\t:', standardPrice[goods], '원\\t', inputData, '%DC ->', priceList[goods], '원')\n",
        "\n",
        "print('---------------------------------------------')\n",
        "print('-- 할인마트 오늘의 할인 가격표 출력 시스템 --')\n",
        "print('---------------------------------------------')\n",
        "\n",
        "inputData = int(input('오늘의 할인율을 입력하세요. '))\n",
        "discountPrice = getDiscountPrice(inputData)\n",
        "\n",
        "printPrice(discountPrice)\n",
        "print('---------------------------------------------')"
      ],
      "execution_count": null,
      "outputs": [
        {
          "output_type": "stream",
          "name": "stdout",
          "text": [
            "---------------------------------------------\n",
            "-- 할인마트 오늘의 할인 가격표 출력 시스템 --\n",
            "---------------------------------------------\n",
            "오늘의 할인율을 입력하세요. 15\n",
            "쌀 \t: 9900 원\t 15 %DC -> 8415 원\n",
            "상추 \t: 1900 원\t 15 %DC -> 1615 원\n",
            "고추 \t: 2900 원\t 15 %DC -> 2465 원\n",
            "마늘 \t: 8900 원\t 15 %DC -> 7565 원\n",
            "통닭 \t: 5600 원\t 15 %DC -> 4760 원\n",
            "햄 \t: 6900 원\t 15 %DC -> 5865 원\n",
            "치즈 \t: 3900 원\t 15 %DC -> 3315 원\n",
            "---------------------------------------------\n"
          ]
        }
      ]
    },
    {
      "cell_type": "markdown",
      "metadata": {
        "id": "jpGMurkO9Kuc"
      },
      "source": [
        "# 12.문자 메시지 요금 청구 프로그램"
      ]
    },
    {
      "cell_type": "code",
      "metadata": {
        "id": "HKs034S99O5n",
        "colab": {
          "base_uri": "https://localhost:8080/"
        },
        "outputId": "b67b58b8-2fdf-4232-ae52-51e821211c8b"
      },
      "source": [
        "# level = int(input('회원 등급을 선택하세요. \\n 1.VVIP 2. VIP 3. GOLD '))\n",
        "# sms = int(input('SMS 발송 건수를 입력하세요.'))\n",
        "# mms = int(input('MMS 발송 건수를 입력하세요.'))\n",
        "# if level == 1:\n",
        "#     smsprice = 0\n",
        "#     if mms > 50:\n",
        "#         mmsprice = (mms - 50) * 20\n",
        "#     else:\n",
        "#         mmsprice = 0\n",
        "# elif level == 2:\n",
        "#     if sms > 100:\n",
        "#         smsprice = (sms - 100) * 10\n",
        "#     else:\n",
        "#         smsprice = 0\n",
        "#     if mms > 10:\n",
        "#         mmsprice = (mms - 10) * 20\n",
        "#     else:\n",
        "#         mmsprice = 0\n",
        "# else:\n",
        "#     if sms > 10:\n",
        "#         smsprice = (sms - 10) * 10\n",
        "#     else:\n",
        "#         smsprice = 0\n",
        "#     if mms > 5:\n",
        "#         mmsprice = (mms - 5) * 20\n",
        "#     else:\n",
        "#         mmsprice = 0\n",
        "# totalprice = smsprice + mmsprice\n",
        "# print('smsprice : ', smsprice, '원')\n",
        "# print('mmsprice : ', mmsprice, '원')\n",
        "# print('totalprice : ', totalprice, '원')\n",
        "\n",
        "\n",
        "level = int(input('회원 등급을 선택하세요. \\n 1.VVIP 2. VIP 3. GOLD '))\n",
        "sms = int(input('SMS 발송 건수를 입력하세요.'))\n",
        "mms = int(input('MMS 발송 건수를 입력하세요.'))\n",
        "def smsprice(level, sms):\n",
        "    if level == 2 and sms > 100:\n",
        "        return (sms - 100) * 10\n",
        "    elif level == 3 and sms > 10:\n",
        "        return (sms - 10) * 10\n",
        "    else:\n",
        "        return 0\n",
        "print('smsprice \\t: ', int(smsprice(level, sms)), '원')\n",
        "def mmsprice(level, mms):\n",
        "    if level == 1 and mms > 50:\n",
        "        return (mms - 50) * 20\n",
        "    elif level == 2 and mms > 10:\n",
        "        return (mms - 10) * 20\n",
        "    elif level == 3 and mms > 5:\n",
        "        return (mms - 5) * 20\n",
        "    else:\n",
        "        return 0\n",
        "print('mmsprice \\t: ', int(mmsprice(level, mms)), '원')\n",
        "totalprice = int(smsprice(level, sms)) + int(mmsprice(level, mms))\n",
        "print('totalprice \\t: ', totalprice, '원')"
      ],
      "execution_count": 1,
      "outputs": [
        {
          "output_type": "stream",
          "name": "stdout",
          "text": [
            "회원 등급을 선택하세요. \n",
            " 1.VVIP 2. VIP 3. GOLD 1\n",
            "SMS 발송 건수를 입력하세요.36\n",
            "MMS 발송 건수를 입력하세요.89\n",
            "smsprice \t:  0 원\n",
            "mmsprice \t:  780 원\n",
            "totalprice \t:  780 원\n"
          ]
        }
      ]
    },
    {
      "cell_type": "code",
      "metadata": {
        "id": "_Y9hoEnbcnm2"
      },
      "source": [
        ""
      ],
      "execution_count": null,
      "outputs": []
    }
  ]
}