{
  "nbformat": 4,
  "nbformat_minor": 0,
  "metadata": {
    "colab": {
      "name": "Day1~2_Python.ipynb",
      "provenance": [],
      "collapsed_sections": [],
      "authorship_tag": "ABX9TyMthGrk7Ytam8DtkxYIlMJT",
      "include_colab_link": true
    },
    "kernelspec": {
      "name": "python3",
      "display_name": "Python 3"
    },
    "language_info": {
      "name": "python"
    }
  },
  "cells": [
    {
      "cell_type": "markdown",
      "metadata": {
        "id": "view-in-github",
        "colab_type": "text"
      },
      "source": [
        "<a href=\"https://colab.research.google.com/github/futurebly/Web-AI/blob/main/Day1~2_Python.ipynb\" target=\"_parent\"><img src=\"https://colab.research.google.com/assets/colab-badge.svg\" alt=\"Open In Colab\"/></a>"
      ]
    },
    {
      "cell_type": "markdown",
      "metadata": {
        "id": "vhdUD2yx4xzo"
      },
      "source": [
        "# Day 1"
      ]
    },
    {
      "cell_type": "markdown",
      "metadata": {
        "id": "5U_k-Skp5HIA"
      },
      "source": [
        "## print()"
      ]
    },
    {
      "cell_type": "code",
      "metadata": {
        "colab": {
          "base_uri": "https://localhost:8080/"
        },
        "id": "jlDsc3SO2DNz",
        "outputId": "fc150450-1397-4ab1-9d21-ca7ae3da9bc9"
      },
      "source": [
        "print(1+1)\n",
        "print(len('Hello World'))"
      ],
      "execution_count": null,
      "outputs": [
        {
          "output_type": "stream",
          "name": "stdout",
          "text": [
            "2\n",
            "11\n"
          ]
        }
      ]
    },
    {
      "cell_type": "markdown",
      "metadata": {
        "id": "l5m7Jjl84w8u"
      },
      "source": [
        "## datatype/print()"
      ]
    },
    {
      "cell_type": "code",
      "metadata": {
        "colab": {
          "base_uri": "https://localhost:8080/"
        },
        "id": "e8ARfxsj4t6N",
        "outputId": "7abfec90-4ead-47bc-e4e9-fdfcff0d0f32"
      },
      "source": [
        "print(1+1)\n",
        "print('Hello '+'World')\n",
        "print(10*10)\n",
        "print('Hello '*10)\n",
        "# print('Hello'-'World')"
      ],
      "execution_count": null,
      "outputs": [
        {
          "output_type": "stream",
          "name": "stdout",
          "text": [
            "2\n",
            "Hello World\n",
            "100\n",
            "Hello Hello Hello Hello Hello Hello Hello Hello Hello Hello \n"
          ]
        }
      ]
    },
    {
      "cell_type": "markdown",
      "metadata": {
        "id": "aZ_2pd2g4_Lh"
      },
      "source": [
        "## import math, random"
      ]
    },
    {
      "cell_type": "code",
      "metadata": {
        "colab": {
          "base_uri": "https://localhost:8080/"
        },
        "id": "xFkAn3Yd4wg6",
        "outputId": "0d7b6b25-1091-4247-bd28-b1e737451256"
      },
      "source": [
        "print(1+1) #2\n",
        "print(4-2) #2\n",
        "print(4*4) #16\n",
        "print(4/2) #2\n",
        "print(pow(3,2))\n",
        "import math\n",
        "print(math.sqrt(16))\n",
        "import random\n",
        "print(math.ceil(random.random()*100))\n",
        "print(random.randrange(100,200))\n",
        "print(math.sqrt(25))"
      ],
      "execution_count": null,
      "outputs": [
        {
          "output_type": "stream",
          "name": "stdout",
          "text": [
            "2\n",
            "2\n",
            "16\n",
            "2.0\n",
            "9\n",
            "4.0\n",
            "16\n",
            "171\n",
            "5.0\n"
          ]
        }
      ]
    },
    {
      "cell_type": "markdown",
      "metadata": {
        "id": "2fEEIGAl5VBs"
      },
      "source": [
        "## string 문자열"
      ]
    },
    {
      "cell_type": "code",
      "metadata": {
        "colab": {
          "base_uri": "https://localhost:8080/"
        },
        "id": "idQBsllG49WK",
        "outputId": "8cd9261f-119c-4591-c70b-fac3f403889d"
      },
      "source": [
        "# 문자열 STRING\n",
        "print('HELLO WORLD')\n",
        "print(\"Hello \\nworld\")\n",
        "print(\"Hello \\\"W\\\"orld\")\n",
        "print(\"\"\"\n",
        "H\n",
        "E\n",
        "L\n",
        "L\n",
        "O\n",
        "\"\"\")\n",
        "print('Hi, Hell World'.replace('Hell', 'Hello'))"
      ],
      "execution_count": null,
      "outputs": [
        {
          "output_type": "stream",
          "name": "stdout",
          "text": [
            "HELLO WORLD\n",
            "Hello \n",
            "world\n",
            "Hello \"W\"orld\n",
            "\n",
            "H\n",
            "E\n",
            "L\n",
            "L\n",
            "O\n",
            "\n",
            "Hi, Hello World\n"
          ]
        }
      ]
    },
    {
      "cell_type": "markdown",
      "metadata": {
        "id": "dCX8Ydwk5aRU"
      },
      "source": [
        "## list [' ', ' ', ' ']"
      ]
    },
    {
      "cell_type": "code",
      "metadata": {
        "colab": {
          "base_uri": "https://localhost:8080/"
        },
        "id": "xWja4CnE5cGO",
        "outputId": "f79b181a-743b-4680-bea7-e1da2a2e5165"
      },
      "source": [
        "# 값을 원소(element), 색인(index)\n",
        "members = ['sophia','austin','kim']\n",
        "print(members[0])\n",
        "print(members[2])\n",
        "print(len(members))\n",
        "\n",
        "import random\n",
        "print(random.choice(members))\n",
        "\n",
        "score = [100, 80, 10]\n",
        "print(min(score))\n",
        "print(max(score))\n",
        "print(sum(score))"
      ],
      "execution_count": null,
      "outputs": [
        {
          "output_type": "stream",
          "name": "stdout",
          "text": [
            "sophia\n",
            "kim\n",
            "3\n",
            "austin\n",
            "10\n",
            "100\n",
            "190\n"
          ]
        }
      ]
    },
    {
      "cell_type": "markdown",
      "metadata": {
        "id": "ex26oGT-5d34"
      },
      "source": [
        "# Day 2"
      ]
    },
    {
      "cell_type": "markdown",
      "metadata": {
        "id": "cQoHMvFG5fI0"
      },
      "source": [
        "## variable (숫자)"
      ]
    },
    {
      "cell_type": "code",
      "metadata": {
        "colab": {
          "base_uri": "https://localhost:8080/"
        },
        "id": "Y_HSrWHa5cvN",
        "outputId": "41d95bc5-cd08-4054-b465-75ba3fc27465"
      },
      "source": [
        "가격 = 1000\n",
        "부가가치세율 = 0.1\n",
        "print(가격*부가가치세율)"
      ],
      "execution_count": null,
      "outputs": [
        {
          "output_type": "stream",
          "name": "stdout",
          "text": [
            "100.0\n"
          ]
        }
      ]
    },
    {
      "cell_type": "markdown",
      "metadata": {
        "id": "xigefApJ5prz"
      },
      "source": [
        "## variable2 (문자)"
      ]
    },
    {
      "cell_type": "code",
      "metadata": {
        "colab": {
          "base_uri": "https://localhost:8080/"
        },
        "id": "BBbF6Xz95kVc",
        "outputId": "0acae5df-0ccf-4fa8-b2fa-26d267d4aedf"
      },
      "source": [
        "이름 = '이고잉님'\n",
        "print('안녕하세요, '+이름+'....'+이름+'.... 안녕히 계세요, '+이름)"
      ],
      "execution_count": null,
      "outputs": [
        {
          "output_type": "stream",
          "name": "stdout",
          "text": [
            "안녕하세요, 이고잉님....이고잉님.... 안녕히 계세요, 이고잉님\n"
          ]
        }
      ]
    },
    {
      "cell_type": "markdown",
      "metadata": {
        "id": "raXkA6955tuT"
      },
      "source": [
        "## debugging"
      ]
    },
    {
      "cell_type": "code",
      "metadata": {
        "colab": {
          "base_uri": "https://localhost:8080/"
        },
        "id": "KtkOZMx05ogj",
        "outputId": "0b54bab4-71bc-4901-92d0-4bd99309086f"
      },
      "source": [
        "a = 1\n",
        "b = 2\n",
        "c = 3\n",
        "d = 4\n",
        "e = 5\n",
        "f = 6\n",
        "g = 7\n",
        "a = 2\n",
        "h = 9\n",
        "i = 8\n",
        "j = 7\n",
        "k = 6\n",
        "l = 5\n",
        "m = 4\n",
        "n = 3\n",
        "o = 2\n",
        "p = 1\n",
        "print(a)\n"
      ],
      "execution_count": null,
      "outputs": [
        {
          "output_type": "stream",
          "name": "stdout",
          "text": [
            "2\n"
          ]
        }
      ]
    },
    {
      "cell_type": "markdown",
      "metadata": {
        "id": "il4ccKrN5zII"
      },
      "source": [
        "## input()"
      ]
    },
    {
      "cell_type": "code",
      "metadata": {
        "colab": {
          "base_uri": "https://localhost:8080/"
        },
        "id": "eCcqkRZS5wJN",
        "outputId": "5d919b12-6ec5-4705-bdc1-b904cfd78432"
      },
      "source": [
        "가격 = float(input('가격?'))\n",
        "부가가치세율 = 0.1\n",
        "부가가치세 = 가격*부가가치세율\n",
        "print(부가가치세)\n",
        "# 열린파일 = open(\"result.txt\", 'a')\n",
        "# 열린파일.write(str(부가가치세)+'\\n')\n",
        "# 열린파일.close()"
      ],
      "execution_count": null,
      "outputs": [
        {
          "output_type": "stream",
          "name": "stdout",
          "text": [
            "가격?150\n",
            "15.0\n"
          ]
        }
      ]
    },
    {
      "cell_type": "markdown",
      "metadata": {
        "id": "2zpSuef754E7"
      },
      "source": [
        "## import pandas/pandas.read_csv('')"
      ]
    },
    {
      "cell_type": "code",
      "metadata": {
        "colab": {
          "base_uri": "https://localhost:8080/"
        },
        "id": "QnzosxJD50Nb",
        "outputId": "1e56c40a-e748-4082-d71c-c1ab997137ee"
      },
      "source": [
        "import pandas\n",
        "house = pandas.read_csv('https://gist.githubusercontent.com/egoing/65a3ab6f5decef22d3ef49dcdcc9b33e/raw/eca4ed834144351aa238f00efc07a50e69171d93/boston_house_prices_dataset.csv')\n",
        "print(house)\n",
        "print(house.head(2))\n",
        "print(house.describe())"
      ],
      "execution_count": null,
      "outputs": [
        {
          "output_type": "stream",
          "name": "stdout",
          "text": [
            "        crim    zn  indus  chas    nox  ...  tax  ptratio       b  lstat  medv\n",
            "0    0.00632  18.0   2.31     0  0.538  ...  296     15.3  396.90   4.98  24.0\n",
            "1    0.02731   0.0   7.07     0  0.469  ...  242     17.8  396.90   9.14  21.6\n",
            "2    0.02729   0.0   7.07     0  0.469  ...  242     17.8  392.83   4.03  34.7\n",
            "3    0.03237   0.0   2.18     0  0.458  ...  222     18.7  394.63   2.94  33.4\n",
            "4    0.06905   0.0   2.18     0  0.458  ...  222     18.7  396.90   5.33  36.2\n",
            "..       ...   ...    ...   ...    ...  ...  ...      ...     ...    ...   ...\n",
            "501  0.06263   0.0  11.93     0  0.573  ...  273     21.0  391.99   9.67  22.4\n",
            "502  0.04527   0.0  11.93     0  0.573  ...  273     21.0  396.90   9.08  20.6\n",
            "503  0.06076   0.0  11.93     0  0.573  ...  273     21.0  396.90   5.64  23.9\n",
            "504  0.10959   0.0  11.93     0  0.573  ...  273     21.0  393.45   6.48  22.0\n",
            "505  0.04741   0.0  11.93     0  0.573  ...  273     21.0  396.90   7.88  11.9\n",
            "\n",
            "[506 rows x 14 columns]\n",
            "      crim    zn  indus  chas    nox  ...  tax  ptratio      b  lstat  medv\n",
            "0  0.00632  18.0   2.31     0  0.538  ...  296     15.3  396.9   4.98  24.0\n",
            "1  0.02731   0.0   7.07     0  0.469  ...  242     17.8  396.9   9.14  21.6\n",
            "\n",
            "[2 rows x 14 columns]\n",
            "             crim          zn       indus  ...           b       lstat        medv\n",
            "count  506.000000  506.000000  506.000000  ...  506.000000  506.000000  506.000000\n",
            "mean     3.613524   11.363636   11.136779  ...  356.674032   12.653063   22.532806\n",
            "std      8.601545   23.322453    6.860353  ...   91.294864    7.141062    9.197104\n",
            "min      0.006320    0.000000    0.460000  ...    0.320000    1.730000    5.000000\n",
            "25%      0.082045    0.000000    5.190000  ...  375.377500    6.950000   17.025000\n",
            "50%      0.256510    0.000000    9.690000  ...  391.440000   11.360000   21.200000\n",
            "75%      3.677082   12.500000   18.100000  ...  396.225000   16.955000   25.000000\n",
            "max     88.976200  100.000000   27.740000  ...  396.900000   37.970000   50.000000\n",
            "\n",
            "[8 rows x 14 columns]\n"
          ]
        }
      ]
    },
    {
      "cell_type": "markdown",
      "metadata": {
        "id": "N_EsyT4H59-i"
      },
      "source": [
        "## boolean"
      ]
    },
    {
      "cell_type": "code",
      "metadata": {
        "colab": {
          "base_uri": "https://localhost:8080/"
        },
        "id": "CuFtkAye5_zU",
        "outputId": "c87b9ad7-1578-4f32-fad1-ba52da808e31"
      },
      "source": [
        "print(True)\n",
        "print(False)\n",
        "\n",
        "print(2>1)\n",
        "print(2<1)\n",
        "print(2==2)\n",
        "print(1==2)"
      ],
      "execution_count": null,
      "outputs": [
        {
          "output_type": "stream",
          "name": "stdout",
          "text": [
            "True\n",
            "False\n",
            "True\n",
            "False\n",
            "True\n",
            "False\n"
          ]
        }
      ]
    },
    {
      "cell_type": "markdown",
      "metadata": {
        "id": "zEB4e8CK6CoY"
      },
      "source": [
        "## conditional"
      ]
    },
    {
      "cell_type": "code",
      "metadata": {
        "colab": {
          "base_uri": "https://localhost:8080/"
        },
        "id": "V2s17Htl6BdL",
        "outputId": "efe96601-3655-4a8b-d0e8-c9a8c7185f86"
      },
      "source": [
        "print(1)\n",
        "if True:\n",
        "    print(2)\n",
        "print(3)\n",
        "print('------')\n",
        "print(1)\n",
        "if False:\n",
        "    print(2)\n",
        "print(3)"
      ],
      "execution_count": null,
      "outputs": [
        {
          "output_type": "stream",
          "name": "stdout",
          "text": [
            "1\n",
            "2\n",
            "3\n",
            "------\n",
            "1\n",
            "3\n"
          ]
        }
      ]
    },
    {
      "cell_type": "markdown",
      "metadata": {
        "id": "CSTyTasS6I9M"
      },
      "source": [
        "## login/input(), if:"
      ]
    },
    {
      "cell_type": "code",
      "metadata": {
        "colab": {
          "base_uri": "https://localhost:8080/"
        },
        "id": "LztPLlHJ6G0A",
        "outputId": "9b5f4a87-1116-43e1-8013-afb300bc9290"
      },
      "source": [
        "id = input('id ? ')\n",
        "# if id == 'egoing':\n",
        "#     print('Welcome')\n",
        "# if id != 'egoing':\n",
        "#     print('WHO ARE YOU!!!???')\n",
        "\n",
        "if id == 'egoing' or id == 'leezche':\n",
        "    print('Welcome')\n",
        "\n",
        "else:\n",
        "    print('WHO ARE YOU!!!????')"
      ],
      "execution_count": null,
      "outputs": [
        {
          "output_type": "stream",
          "name": "stdout",
          "text": [
            "id ? df\n",
            "WHO ARE YOU!!!????\n"
          ]
        }
      ]
    },
    {
      "cell_type": "markdown",
      "metadata": {
        "id": "wb7QHWRT6MhG"
      },
      "source": [
        "## loop/for in:"
      ]
    },
    {
      "cell_type": "code",
      "metadata": {
        "colab": {
          "base_uri": "https://localhost:8080/"
        },
        "id": "tdQZaZKQ6Iil",
        "outputId": "abd5af18-3617-4ac3-d139-7cab3ff7fc4e"
      },
      "source": [
        "names = ['egoing', 'leezche', 'graphittie']\n",
        "for name in names: \n",
        "    print('안녕하세요'+name+'님. 안녕히가세요.'+name+'님')"
      ],
      "execution_count": null,
      "outputs": [
        {
          "output_type": "stream",
          "name": "stdout",
          "text": [
            "안녕하세요egoing님. 안녕히가세요.egoing님\n",
            "안녕하세요leezche님. 안녕히가세요.leezche님\n",
            "안녕하세요graphittie님. 안녕히가세요.graphittie님\n"
          ]
        }
      ]
    },
    {
      "cell_type": "markdown",
      "metadata": {
        "id": "0Jghh9-46QKU"
      },
      "source": [
        "## loop_2D/[[ ]]"
      ]
    },
    {
      "cell_type": "code",
      "metadata": {
        "colab": {
          "base_uri": "https://localhost:8080/"
        },
        "id": "j_rqmQTu6MLL",
        "outputId": "459e5a5e-d7d9-48fa-bcf0-29677929cf77"
      },
      "source": [
        "members = [\n",
        "    ['egoing', 'Seoul', 'Web'],\n",
        "    ['leezhe', 'Jeju', 'Design']\n",
        "]\n",
        "\n",
        "print(members[0][1])\n",
        "for member in members:\n",
        "    print(member[0], member[1], member[2])"
      ],
      "execution_count": null,
      "outputs": [
        {
          "output_type": "stream",
          "name": "stdout",
          "text": [
            "Seoul\n",
            "egoing Seoul Web\n",
            "leezhe Jeju Design\n"
          ]
        }
      ]
    },
    {
      "cell_type": "markdown",
      "metadata": {
        "id": "OjVlJgYI6Uo9"
      },
      "source": [
        "## loop_dict/[{},{}]"
      ]
    },
    {
      "cell_type": "code",
      "metadata": {
        "colab": {
          "base_uri": "https://localhost:8080/"
        },
        "id": "GFqsZc5Y6Toc",
        "outputId": "87a92306-36d9-474a-afd6-c6763d504b68"
      },
      "source": [
        "# members = [\n",
        "#     ['egoing', 'Seoul', 'Web'],\n",
        "#     ['leezhe', 'Jeju', 'Design']\n",
        "# ]\n",
        "\n",
        "# print(members[0][1])\n",
        "# for member in members:\n",
        "#     print(member[0], member[1], member[2])\n",
        "\n",
        "# member = {'name':'egoing', 'city':'seoul', 'job':'web'}\n",
        "# print(member['name'])\n",
        "# print(member['city'])\n",
        "\n",
        "members = [\n",
        "    {'name':'egoing', 'city':'seoul', 'job':'web'},\n",
        "    {'name':'leezche', 'city':'jeju', 'job':'design'}\n",
        "]\n",
        "# print(members[0]['city'])\n",
        "for member in members:\n",
        "    print(member['name'], member['city'], member['job'])"
      ],
      "execution_count": null,
      "outputs": [
        {
          "output_type": "stream",
          "name": "stdout",
          "text": [
            "egoing seoul web\n",
            "leezche jeju design\n"
          ]
        }
      ]
    },
    {
      "cell_type": "markdown",
      "metadata": {
        "id": "mStVNIxa6Wz-"
      },
      "source": [
        "## function"
      ]
    },
    {
      "cell_type": "code",
      "metadata": {
        "colab": {
          "base_uri": "https://localhost:8080/"
        },
        "id": "Q2V6D13U6YA0",
        "outputId": "115d3167-fa69-45e6-b07d-421af423ecfe"
      },
      "source": [
        "def abc():\n",
        "    print('a')\n",
        "    print('b')\n",
        "    print('c')\n",
        "\n",
        "abc()\n",
        "print(1)\n",
        "abc()\n",
        "print(2)\n",
        "abc()\n",
        "print(3)"
      ],
      "execution_count": null,
      "outputs": [
        {
          "output_type": "stream",
          "name": "stdout",
          "text": [
            "a\n",
            "b\n",
            "c\n",
            "1\n",
            "a\n",
            "b\n",
            "c\n",
            "2\n",
            "a\n",
            "b\n",
            "c\n",
            "3\n"
          ]
        }
      ]
    },
    {
      "cell_type": "markdown",
      "metadata": {
        "id": "ucA3sTED6bpq"
      },
      "source": [
        "## function_vat"
      ]
    },
    {
      "cell_type": "code",
      "metadata": {
        "colab": {
          "base_uri": "https://localhost:8080/"
        },
        "id": "e8r4NWdM6Z02",
        "outputId": "7bd498a9-9e63-4bb5-fc98-987b2d422d0e"
      },
      "source": [
        "# def get_vat(가격):\n",
        "#     부가가치세율 = 0.1\n",
        "#     return 가격*부가가치세율\n",
        "\n",
        "# print(str(get_vat(10000))+'입니다.')\n",
        "\n",
        "# 가격 = 1000\n",
        "# 부가가치세율 = 0.1\n",
        "# print(가격*부가가치세율)\n",
        "\n",
        "# def get_vat(가격):\n",
        "#     가격 = float(input(\"가격은?\"))\n",
        "#     부가가치세율 = 0.1\n",
        "#     return 가격*부가가치세율\n",
        "\n",
        "# print(str(get_vat(10000))+'입니다.')\n",
        "\n",
        "가격 = int(input('가격을 입력하세요.'))\n",
        "부가가치세율 = float(input('부가가치세율은?'))\n",
        "def get_vat(가격, 부가가치세율):\n",
        "    return 가격*부가가치세율\n",
        "    \n",
        "print(int(get_vat(가격, 부가가치세율)))"
      ],
      "execution_count": null,
      "outputs": [
        {
          "output_type": "stream",
          "name": "stdout",
          "text": [
            "가격을 입력하세요.450\n",
            "부가가치세율은?15\n",
            "6750\n"
          ]
        }
      ]
    },
    {
      "cell_type": "markdown",
      "metadata": {
        "id": "JkDHHIQe6lTd"
      },
      "source": [
        "## .split()"
      ]
    },
    {
      "cell_type": "code",
      "metadata": {
        "colab": {
          "base_uri": "https://localhost:8080/"
        },
        "id": "8Kxj5bpdjWnF",
        "outputId": "a65db480-2f65-43bb-b2d8-06ed269c419c"
      },
      "source": [
        "msg = 'kor eng math art'\n",
        "splitMsg = msg.split()\n",
        "print(splitMsg)"
      ],
      "execution_count": 1,
      "outputs": [
        {
          "output_type": "stream",
          "name": "stdout",
          "text": [
            "['kor', 'eng', 'math', 'art']\n"
          ]
        }
      ]
    }
  ]
}