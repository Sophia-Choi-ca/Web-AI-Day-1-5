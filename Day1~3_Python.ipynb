{
  "nbformat": 4,
  "nbformat_minor": 0,
  "metadata": {
    "colab": {
      "name": "Day1~3_Python.ipynb",
      "provenance": [],
      "collapsed_sections": [],
      "authorship_tag": "ABX9TyPLiCVimzf56EL6+vzQs38g",
      "include_colab_link": true
    },
    "kernelspec": {
      "name": "python3",
      "display_name": "Python 3"
    },
    "language_info": {
      "name": "python"
    }
  },
  "cells": [
    {
      "cell_type": "markdown",
      "metadata": {
        "id": "view-in-github",
        "colab_type": "text"
      },
      "source": [
        "<a href=\"https://colab.research.google.com/github/futurebly/Web-AI/blob/main/Day1~3_Python.ipynb\" target=\"_parent\"><img src=\"https://colab.research.google.com/assets/colab-badge.svg\" alt=\"Open In Colab\"/></a>"
      ]
    },
    {
      "cell_type": "markdown",
      "metadata": {
        "id": "vhdUD2yx4xzo"
      },
      "source": [
        "# Day 1"
      ]
    },
    {
      "cell_type": "markdown",
      "metadata": {
        "id": "5U_k-Skp5HIA"
      },
      "source": [
        "## print()"
      ]
    },
    {
      "cell_type": "code",
      "metadata": {
        "colab": {
          "base_uri": "https://localhost:8080/"
        },
        "id": "jlDsc3SO2DNz",
        "outputId": "fc150450-1397-4ab1-9d21-ca7ae3da9bc9"
      },
      "source": [
        "print(1+1)\n",
        "print(len('Hello World'))"
      ],
      "execution_count": null,
      "outputs": [
        {
          "output_type": "stream",
          "name": "stdout",
          "text": [
            "2\n",
            "11\n"
          ]
        }
      ]
    },
    {
      "cell_type": "markdown",
      "metadata": {
        "id": "l5m7Jjl84w8u"
      },
      "source": [
        "## datatype/print()"
      ]
    },
    {
      "cell_type": "code",
      "metadata": {
        "colab": {
          "base_uri": "https://localhost:8080/"
        },
        "id": "e8ARfxsj4t6N",
        "outputId": "7abfec90-4ead-47bc-e4e9-fdfcff0d0f32"
      },
      "source": [
        "print(1+1)\n",
        "print('Hello '+'World')\n",
        "print(10*10)\n",
        "print('Hello '*10)\n",
        "# print('Hello'-'World')"
      ],
      "execution_count": null,
      "outputs": [
        {
          "output_type": "stream",
          "name": "stdout",
          "text": [
            "2\n",
            "Hello World\n",
            "100\n",
            "Hello Hello Hello Hello Hello Hello Hello Hello Hello Hello \n"
          ]
        }
      ]
    },
    {
      "cell_type": "markdown",
      "metadata": {
        "id": "aZ_2pd2g4_Lh"
      },
      "source": [
        "## import math, random"
      ]
    },
    {
      "cell_type": "code",
      "metadata": {
        "colab": {
          "base_uri": "https://localhost:8080/"
        },
        "id": "xFkAn3Yd4wg6",
        "outputId": "0d7b6b25-1091-4247-bd28-b1e737451256"
      },
      "source": [
        "print(1+1) #2\n",
        "print(4-2) #2\n",
        "print(4*4) #16\n",
        "print(4/2) #2\n",
        "print(pow(3,2))\n",
        "import math\n",
        "print(math.sqrt(16))\n",
        "import random\n",
        "print(math.ceil(random.random()*100))\n",
        "print(random.randrange(100,200))\n",
        "print(math.sqrt(25))"
      ],
      "execution_count": null,
      "outputs": [
        {
          "output_type": "stream",
          "name": "stdout",
          "text": [
            "2\n",
            "2\n",
            "16\n",
            "2.0\n",
            "9\n",
            "4.0\n",
            "16\n",
            "171\n",
            "5.0\n"
          ]
        }
      ]
    },
    {
      "cell_type": "markdown",
      "metadata": {
        "id": "2fEEIGAl5VBs"
      },
      "source": [
        "## string 문자열"
      ]
    },
    {
      "cell_type": "code",
      "metadata": {
        "colab": {
          "base_uri": "https://localhost:8080/"
        },
        "id": "idQBsllG49WK",
        "outputId": "8cd9261f-119c-4591-c70b-fac3f403889d"
      },
      "source": [
        "# 문자열 STRING\n",
        "print('HELLO WORLD')\n",
        "print(\"Hello \\nworld\")\n",
        "print(\"Hello \\\"W\\\"orld\")\n",
        "print(\"\"\"\n",
        "H\n",
        "E\n",
        "L\n",
        "L\n",
        "O\n",
        "\"\"\")\n",
        "print('Hi, Hell World'.replace('Hell', 'Hello'))"
      ],
      "execution_count": null,
      "outputs": [
        {
          "output_type": "stream",
          "name": "stdout",
          "text": [
            "HELLO WORLD\n",
            "Hello \n",
            "world\n",
            "Hello \"W\"orld\n",
            "\n",
            "H\n",
            "E\n",
            "L\n",
            "L\n",
            "O\n",
            "\n",
            "Hi, Hello World\n"
          ]
        }
      ]
    },
    {
      "cell_type": "markdown",
      "metadata": {
        "id": "dCX8Ydwk5aRU"
      },
      "source": [
        "## list [' ', ' ', ' ']"
      ]
    },
    {
      "cell_type": "code",
      "metadata": {
        "colab": {
          "base_uri": "https://localhost:8080/"
        },
        "id": "xWja4CnE5cGO",
        "outputId": "f79b181a-743b-4680-bea7-e1da2a2e5165"
      },
      "source": [
        "# 값을 원소(element), 색인(index)\n",
        "members = ['sophia','austin','kim']\n",
        "print(members[0])\n",
        "print(members[2])\n",
        "print(len(members))\n",
        "\n",
        "import random\n",
        "print(random.choice(members))\n",
        "\n",
        "score = [100, 80, 10]\n",
        "print(min(score))\n",
        "print(max(score))\n",
        "print(sum(score))"
      ],
      "execution_count": null,
      "outputs": [
        {
          "output_type": "stream",
          "name": "stdout",
          "text": [
            "sophia\n",
            "kim\n",
            "3\n",
            "austin\n",
            "10\n",
            "100\n",
            "190\n"
          ]
        }
      ]
    },
    {
      "cell_type": "markdown",
      "metadata": {
        "id": "ex26oGT-5d34"
      },
      "source": [
        "# Day 2"
      ]
    },
    {
      "cell_type": "markdown",
      "metadata": {
        "id": "cQoHMvFG5fI0"
      },
      "source": [
        "## variable (숫자)"
      ]
    },
    {
      "cell_type": "code",
      "metadata": {
        "colab": {
          "base_uri": "https://localhost:8080/"
        },
        "id": "Y_HSrWHa5cvN",
        "outputId": "41d95bc5-cd08-4054-b465-75ba3fc27465"
      },
      "source": [
        "가격 = 1000\n",
        "부가가치세율 = 0.1\n",
        "print(가격*부가가치세율)"
      ],
      "execution_count": null,
      "outputs": [
        {
          "output_type": "stream",
          "name": "stdout",
          "text": [
            "100.0\n"
          ]
        }
      ]
    },
    {
      "cell_type": "markdown",
      "metadata": {
        "id": "xigefApJ5prz"
      },
      "source": [
        "## variable2 (문자)"
      ]
    },
    {
      "cell_type": "code",
      "metadata": {
        "colab": {
          "base_uri": "https://localhost:8080/"
        },
        "id": "BBbF6Xz95kVc",
        "outputId": "0acae5df-0ccf-4fa8-b2fa-26d267d4aedf"
      },
      "source": [
        "이름 = '이고잉님'\n",
        "print('안녕하세요, '+이름+'....'+이름+'.... 안녕히 계세요, '+이름)"
      ],
      "execution_count": null,
      "outputs": [
        {
          "output_type": "stream",
          "name": "stdout",
          "text": [
            "안녕하세요, 이고잉님....이고잉님.... 안녕히 계세요, 이고잉님\n"
          ]
        }
      ]
    },
    {
      "cell_type": "markdown",
      "metadata": {
        "id": "raXkA6955tuT"
      },
      "source": [
        "## debugging"
      ]
    },
    {
      "cell_type": "code",
      "metadata": {
        "colab": {
          "base_uri": "https://localhost:8080/"
        },
        "id": "KtkOZMx05ogj",
        "outputId": "0b54bab4-71bc-4901-92d0-4bd99309086f"
      },
      "source": [
        "a = 1\n",
        "b = 2\n",
        "c = 3\n",
        "d = 4\n",
        "e = 5\n",
        "f = 6\n",
        "g = 7\n",
        "a = 2\n",
        "h = 9\n",
        "i = 8\n",
        "j = 7\n",
        "k = 6\n",
        "l = 5\n",
        "m = 4\n",
        "n = 3\n",
        "o = 2\n",
        "p = 1\n",
        "print(a)\n"
      ],
      "execution_count": null,
      "outputs": [
        {
          "output_type": "stream",
          "name": "stdout",
          "text": [
            "2\n"
          ]
        }
      ]
    },
    {
      "cell_type": "markdown",
      "metadata": {
        "id": "il4ccKrN5zII"
      },
      "source": [
        "## input()"
      ]
    },
    {
      "cell_type": "code",
      "metadata": {
        "colab": {
          "base_uri": "https://localhost:8080/"
        },
        "id": "eCcqkRZS5wJN",
        "outputId": "5d919b12-6ec5-4705-bdc1-b904cfd78432"
      },
      "source": [
        "가격 = float(input('가격?'))\n",
        "부가가치세율 = 0.1\n",
        "부가가치세 = 가격*부가가치세율\n",
        "print(부가가치세)\n",
        "# 열린파일 = open(\"result.txt\", 'a')\n",
        "# 열린파일.write(str(부가가치세)+'\\n')\n",
        "# 열린파일.close()"
      ],
      "execution_count": null,
      "outputs": [
        {
          "output_type": "stream",
          "name": "stdout",
          "text": [
            "가격?150\n",
            "15.0\n"
          ]
        }
      ]
    },
    {
      "cell_type": "markdown",
      "metadata": {
        "id": "2zpSuef754E7"
      },
      "source": [
        "## import pandas/pandas.read_csv('')"
      ]
    },
    {
      "cell_type": "code",
      "metadata": {
        "colab": {
          "base_uri": "https://localhost:8080/"
        },
        "id": "QnzosxJD50Nb",
        "outputId": "1e56c40a-e748-4082-d71c-c1ab997137ee"
      },
      "source": [
        "import pandas\n",
        "house = pandas.read_csv('https://gist.githubusercontent.com/egoing/65a3ab6f5decef22d3ef49dcdcc9b33e/raw/eca4ed834144351aa238f00efc07a50e69171d93/boston_house_prices_dataset.csv')\n",
        "print(house)\n",
        "print(house.head(2))\n",
        "print(house.describe())"
      ],
      "execution_count": null,
      "outputs": [
        {
          "output_type": "stream",
          "name": "stdout",
          "text": [
            "        crim    zn  indus  chas    nox  ...  tax  ptratio       b  lstat  medv\n",
            "0    0.00632  18.0   2.31     0  0.538  ...  296     15.3  396.90   4.98  24.0\n",
            "1    0.02731   0.0   7.07     0  0.469  ...  242     17.8  396.90   9.14  21.6\n",
            "2    0.02729   0.0   7.07     0  0.469  ...  242     17.8  392.83   4.03  34.7\n",
            "3    0.03237   0.0   2.18     0  0.458  ...  222     18.7  394.63   2.94  33.4\n",
            "4    0.06905   0.0   2.18     0  0.458  ...  222     18.7  396.90   5.33  36.2\n",
            "..       ...   ...    ...   ...    ...  ...  ...      ...     ...    ...   ...\n",
            "501  0.06263   0.0  11.93     0  0.573  ...  273     21.0  391.99   9.67  22.4\n",
            "502  0.04527   0.0  11.93     0  0.573  ...  273     21.0  396.90   9.08  20.6\n",
            "503  0.06076   0.0  11.93     0  0.573  ...  273     21.0  396.90   5.64  23.9\n",
            "504  0.10959   0.0  11.93     0  0.573  ...  273     21.0  393.45   6.48  22.0\n",
            "505  0.04741   0.0  11.93     0  0.573  ...  273     21.0  396.90   7.88  11.9\n",
            "\n",
            "[506 rows x 14 columns]\n",
            "      crim    zn  indus  chas    nox  ...  tax  ptratio      b  lstat  medv\n",
            "0  0.00632  18.0   2.31     0  0.538  ...  296     15.3  396.9   4.98  24.0\n",
            "1  0.02731   0.0   7.07     0  0.469  ...  242     17.8  396.9   9.14  21.6\n",
            "\n",
            "[2 rows x 14 columns]\n",
            "             crim          zn       indus  ...           b       lstat        medv\n",
            "count  506.000000  506.000000  506.000000  ...  506.000000  506.000000  506.000000\n",
            "mean     3.613524   11.363636   11.136779  ...  356.674032   12.653063   22.532806\n",
            "std      8.601545   23.322453    6.860353  ...   91.294864    7.141062    9.197104\n",
            "min      0.006320    0.000000    0.460000  ...    0.320000    1.730000    5.000000\n",
            "25%      0.082045    0.000000    5.190000  ...  375.377500    6.950000   17.025000\n",
            "50%      0.256510    0.000000    9.690000  ...  391.440000   11.360000   21.200000\n",
            "75%      3.677082   12.500000   18.100000  ...  396.225000   16.955000   25.000000\n",
            "max     88.976200  100.000000   27.740000  ...  396.900000   37.970000   50.000000\n",
            "\n",
            "[8 rows x 14 columns]\n"
          ]
        }
      ]
    },
    {
      "cell_type": "markdown",
      "metadata": {
        "id": "N_EsyT4H59-i"
      },
      "source": [
        "## boolean"
      ]
    },
    {
      "cell_type": "code",
      "metadata": {
        "colab": {
          "base_uri": "https://localhost:8080/"
        },
        "id": "CuFtkAye5_zU",
        "outputId": "c87b9ad7-1578-4f32-fad1-ba52da808e31"
      },
      "source": [
        "print(True)\n",
        "print(False)\n",
        "\n",
        "print(2>1)\n",
        "print(2<1)\n",
        "print(2==2)\n",
        "print(1==2)"
      ],
      "execution_count": null,
      "outputs": [
        {
          "output_type": "stream",
          "name": "stdout",
          "text": [
            "True\n",
            "False\n",
            "True\n",
            "False\n",
            "True\n",
            "False\n"
          ]
        }
      ]
    },
    {
      "cell_type": "markdown",
      "metadata": {
        "id": "zEB4e8CK6CoY"
      },
      "source": [
        "## conditional"
      ]
    },
    {
      "cell_type": "code",
      "metadata": {
        "colab": {
          "base_uri": "https://localhost:8080/"
        },
        "id": "V2s17Htl6BdL",
        "outputId": "efe96601-3655-4a8b-d0e8-c9a8c7185f86"
      },
      "source": [
        "print(1)\n",
        "if True:\n",
        "    print(2)\n",
        "print(3)\n",
        "print('------')\n",
        "print(1)\n",
        "if False:\n",
        "    print(2)\n",
        "print(3)"
      ],
      "execution_count": null,
      "outputs": [
        {
          "output_type": "stream",
          "name": "stdout",
          "text": [
            "1\n",
            "2\n",
            "3\n",
            "------\n",
            "1\n",
            "3\n"
          ]
        }
      ]
    },
    {
      "cell_type": "markdown",
      "metadata": {
        "id": "CSTyTasS6I9M"
      },
      "source": [
        "## login/input(), if:"
      ]
    },
    {
      "cell_type": "code",
      "metadata": {
        "colab": {
          "base_uri": "https://localhost:8080/"
        },
        "id": "LztPLlHJ6G0A",
        "outputId": "9b5f4a87-1116-43e1-8013-afb300bc9290"
      },
      "source": [
        "id = input('id ? ')\n",
        "# if id == 'egoing':\n",
        "#     print('Welcome')\n",
        "# if id != 'egoing':\n",
        "#     print('WHO ARE YOU!!!???')\n",
        "\n",
        "if id == 'egoing' or id == 'leezche':\n",
        "    print('Welcome')\n",
        "\n",
        "else:\n",
        "    print('WHO ARE YOU!!!????')"
      ],
      "execution_count": null,
      "outputs": [
        {
          "output_type": "stream",
          "name": "stdout",
          "text": [
            "id ? df\n",
            "WHO ARE YOU!!!????\n"
          ]
        }
      ]
    },
    {
      "cell_type": "markdown",
      "metadata": {
        "id": "wb7QHWRT6MhG"
      },
      "source": [
        "## loop/for in:"
      ]
    },
    {
      "cell_type": "code",
      "metadata": {
        "colab": {
          "base_uri": "https://localhost:8080/"
        },
        "id": "tdQZaZKQ6Iil",
        "outputId": "abd5af18-3617-4ac3-d139-7cab3ff7fc4e"
      },
      "source": [
        "names = ['egoing', 'leezche', 'graphittie']\n",
        "for name in names: \n",
        "    print('안녕하세요'+name+'님. 안녕히가세요.'+name+'님')"
      ],
      "execution_count": null,
      "outputs": [
        {
          "output_type": "stream",
          "name": "stdout",
          "text": [
            "안녕하세요egoing님. 안녕히가세요.egoing님\n",
            "안녕하세요leezche님. 안녕히가세요.leezche님\n",
            "안녕하세요graphittie님. 안녕히가세요.graphittie님\n"
          ]
        }
      ]
    },
    {
      "cell_type": "markdown",
      "metadata": {
        "id": "0Jghh9-46QKU"
      },
      "source": [
        "## loop_2D/[[ ]]"
      ]
    },
    {
      "cell_type": "code",
      "metadata": {
        "colab": {
          "base_uri": "https://localhost:8080/"
        },
        "id": "j_rqmQTu6MLL",
        "outputId": "459e5a5e-d7d9-48fa-bcf0-29677929cf77"
      },
      "source": [
        "members = [\n",
        "    ['egoing', 'Seoul', 'Web'],\n",
        "    ['leezhe', 'Jeju', 'Design']\n",
        "]\n",
        "\n",
        "print(members[0][1])\n",
        "for member in members:\n",
        "    print(member[0], member[1], member[2])"
      ],
      "execution_count": null,
      "outputs": [
        {
          "output_type": "stream",
          "name": "stdout",
          "text": [
            "Seoul\n",
            "egoing Seoul Web\n",
            "leezhe Jeju Design\n"
          ]
        }
      ]
    },
    {
      "cell_type": "markdown",
      "metadata": {
        "id": "OjVlJgYI6Uo9"
      },
      "source": [
        "## loop_dict/[{},{}]"
      ]
    },
    {
      "cell_type": "code",
      "metadata": {
        "colab": {
          "base_uri": "https://localhost:8080/"
        },
        "id": "GFqsZc5Y6Toc",
        "outputId": "87a92306-36d9-474a-afd6-c6763d504b68"
      },
      "source": [
        "# members = [\n",
        "#     ['egoing', 'Seoul', 'Web'],\n",
        "#     ['leezhe', 'Jeju', 'Design']\n",
        "# ]\n",
        "\n",
        "# print(members[0][1])\n",
        "# for member in members:\n",
        "#     print(member[0], member[1], member[2])\n",
        "\n",
        "# member = {'name':'egoing', 'city':'seoul', 'job':'web'}\n",
        "# print(member['name'])\n",
        "# print(member['city'])\n",
        "\n",
        "members = [\n",
        "    {'name':'egoing', 'city':'seoul', 'job':'web'},\n",
        "    {'name':'leezche', 'city':'jeju', 'job':'design'}\n",
        "]\n",
        "# print(members[0]['city'])\n",
        "for member in members:\n",
        "    print(member['name'], member['city'], member['job'])"
      ],
      "execution_count": null,
      "outputs": [
        {
          "output_type": "stream",
          "name": "stdout",
          "text": [
            "egoing seoul web\n",
            "leezche jeju design\n"
          ]
        }
      ]
    },
    {
      "cell_type": "markdown",
      "metadata": {
        "id": "mStVNIxa6Wz-"
      },
      "source": [
        "## function"
      ]
    },
    {
      "cell_type": "code",
      "metadata": {
        "colab": {
          "base_uri": "https://localhost:8080/"
        },
        "id": "Q2V6D13U6YA0",
        "outputId": "115d3167-fa69-45e6-b07d-421af423ecfe"
      },
      "source": [
        "def abc():\n",
        "    print('a')\n",
        "    print('b')\n",
        "    print('c')\n",
        "\n",
        "abc()\n",
        "print(1)\n",
        "abc()\n",
        "print(2)\n",
        "abc()\n",
        "print(3)"
      ],
      "execution_count": null,
      "outputs": [
        {
          "output_type": "stream",
          "name": "stdout",
          "text": [
            "a\n",
            "b\n",
            "c\n",
            "1\n",
            "a\n",
            "b\n",
            "c\n",
            "2\n",
            "a\n",
            "b\n",
            "c\n",
            "3\n"
          ]
        }
      ]
    },
    {
      "cell_type": "markdown",
      "metadata": {
        "id": "ucA3sTED6bpq"
      },
      "source": [
        "## function_vat"
      ]
    },
    {
      "cell_type": "code",
      "metadata": {
        "colab": {
          "base_uri": "https://localhost:8080/"
        },
        "id": "e8r4NWdM6Z02",
        "outputId": "7bd498a9-9e63-4bb5-fc98-987b2d422d0e"
      },
      "source": [
        "# def get_vat(가격):\n",
        "#     부가가치세율 = 0.1\n",
        "#     return 가격*부가가치세율\n",
        "\n",
        "# print(str(get_vat(10000))+'입니다.')\n",
        "\n",
        "# 가격 = 1000\n",
        "# 부가가치세율 = 0.1\n",
        "# print(가격*부가가치세율)\n",
        "\n",
        "# def get_vat(가격):\n",
        "#     가격 = float(input(\"가격은?\"))\n",
        "#     부가가치세율 = 0.1\n",
        "#     return 가격*부가가치세율\n",
        "\n",
        "# print(str(get_vat(10000))+'입니다.')\n",
        "\n",
        "가격 = int(input('가격을 입력하세요.'))\n",
        "부가가치세율 = float(input('부가가치세율은?'))\n",
        "def get_vat(가격, 부가가치세율):\n",
        "    return 가격*부가가치세율\n",
        "    \n",
        "print(int(get_vat(가격, 부가가치세율)))"
      ],
      "execution_count": null,
      "outputs": [
        {
          "output_type": "stream",
          "name": "stdout",
          "text": [
            "가격을 입력하세요.450\n",
            "부가가치세율은?15\n",
            "6750\n"
          ]
        }
      ]
    },
    {
      "cell_type": "markdown",
      "metadata": {
        "id": "JkDHHIQe6lTd"
      },
      "source": [
        "## .split()"
      ]
    },
    {
      "cell_type": "code",
      "metadata": {
        "colab": {
          "base_uri": "https://localhost:8080/"
        },
        "id": "42de9VjN6eCj",
        "outputId": "3135d78c-19f8-4167-8678-1c51ebeffa3d"
      },
      "source": [
        "msg = 'kor eng math art'\n",
        "splitMsg = msg.split()\n",
        "print(splitMsg)"
      ],
      "execution_count": null,
      "outputs": [
        {
          "output_type": "stream",
          "name": "stdout",
          "text": [
            "['kor', 'eng', 'math', 'art']\n"
          ]
        }
      ]
    },
    {
      "cell_type": "markdown",
      "metadata": {
        "id": "OktpxacH8Q3F"
      },
      "source": [
        "# Day 3 실습"
      ]
    },
    {
      "cell_type": "markdown",
      "metadata": {
        "id": "kQb6tFOwBQBC"
      },
      "source": [
        "## 1.데이터와 변수"
      ]
    },
    {
      "cell_type": "markdown",
      "metadata": {
        "id": "F80-5anh8UoM"
      },
      "source": [
        "### 비밀번호 발송 메일 프로그램\n",
        "- 다음은 비밀번호를 잊은 고객에게 비밀번호를 알려주는 메일 본문이다. 아래 포멧에 따라 비밀번호를 비롯한 개인 정보를 발송하는 메일 프로그램을 만들어 보자."
      ]
    },
    {
      "cell_type": "code",
      "metadata": {
        "colab": {
          "base_uri": "https://localhost:8080/"
        },
        "id": "TGcJYylS6kiG",
        "outputId": "7aaa731c-ffd3-4828-fdfd-69dfc046aa47"
      },
      "source": [
        "print('회원 정보를 입력하세요.')\n",
        "userName = input('이름 : ')\n",
        "userMail = input('메일 : ')\n",
        "userId = input('아이디 : ')\n",
        "userPw = input('비밀번호 : ')\n",
        "\n",
        "print('To. ' + userMail)\n",
        "print('- 아이디 및 비밀번호 확인')\n",
        "print(userName + ' 고객님 안녕하세요.')\n",
        "print('고객님의 아이디와 비밀번호는 아래과 같습니다.')\n",
        "print('아이디 : ' + userId)\n",
        "print('비밀번호 : ' + userPw)\n",
        "\n",
        "\n",
        "# print('회원 정보를 입력하세요.')\n",
        "# name = input('이름 : ')\n",
        "# mail = input('메일 : ')\n",
        "# id = input('아이디 : ')\n",
        "# pw = input('비밀번호 : ')\n",
        "# print('----------------')\n",
        "# print('To.', mail)\n",
        "# print('*아이디 및 비밀번호 확인')\n",
        "# print(name,'고객님, 안녕하세요. \\n고객님의 아이디와 비밀번호는 아래와 같습니다.')\n",
        "# print('아이디 : ',id)\n",
        "# print('비밀번호 : ',pw)\n"
      ],
      "execution_count": null,
      "outputs": [
        {
          "output_type": "stream",
          "name": "stdout",
          "text": [
            "회원 정보를 입력하세요.\n",
            "이름 : 최미래\n",
            "메일 : dsdak\n",
            "아이디 : eijf\n",
            "비밀번호 : lal\n",
            "To. dsdak\n",
            "- 아이디 및 비밀번호 확인\n",
            "최미래 고객님 안녕하세요.\n",
            "고객님의 아이디와 비밀번호는 아래과 같습니다.\n",
            "아이디 : eijf\n",
            "비밀번호 : lal\n"
          ]
        }
      ]
    },
    {
      "cell_type": "markdown",
      "metadata": {
        "id": "l3jPdFu1BVZ7"
      },
      "source": [
        "## 2.연산자"
      ]
    },
    {
      "cell_type": "markdown",
      "metadata": {
        "id": "3-9MJKOR8gGM"
      },
      "source": [
        "### 원의 면적과 둘레 구하기\n",
        "- 원의 반지름을 입력 받아 면적과 둘레를 구하는 코드를 작성하여 보자. (radius)\n",
        "- 원의 면적 = 3.14 * 반지름 * 반지름 (area)\n",
        "- 원의 둘레 = 3.14 * 반지름 *2 (circum)"
      ]
    },
    {
      "cell_type": "code",
      "metadata": {
        "colab": {
          "base_uri": "https://localhost:8080/"
        },
        "id": "lFKu_1nj8Zay",
        "outputId": "2cb7b724-1a79-4729-e037-be0e0e279b2e"
      },
      "source": [
        "radius = int(input('원의 반지름을 입력하시오 : '))\n",
        "area = 3.14 * radius**2\n",
        "circum = 3.14 * 2 * radius\n",
        "\n",
        "print('반지름 %.2f의 면적은 = %.2f' %(radius, area))\n",
        "print('반지름 %.2f의 둘레는 = %.2f' %(radius, circum))\n",
        "\n",
        "\n",
        "# radius = int(input('원의 반지름을 입력하시오. : '))\n",
        "# area = 3.14 * radius * radius\n",
        "# circum = 3.14*radius*2\n",
        "\n",
        "# print('반지름', round(radius, 2),'의 면적은 = ', round(area, 2))\n",
        "# print('반지름', round(radius, 2),'의 면적은 = ', round(circum, 2))\n",
        "\n",
        "\n",
        "# radius = int(input('원의 반지름을 입력하시오. : '))\n",
        "# area = 3.14 * radius * radius\n",
        "# circum = 3.14*radius*2\n",
        "\n",
        "# a = '반지름 : {:.2f} 의 면적은 = {:.2f}'.format(radius,area)\n",
        "# b = '반지름 : {:.2f} 의 면적은 = {:.2f}'.format(radius,circum)\n",
        "# print(a)\n",
        "# print(b)"
      ],
      "execution_count": null,
      "outputs": [
        {
          "output_type": "stream",
          "name": "stdout",
          "text": [
            "원의 반지름을 입력하시오 : 5\n",
            "반지름 5.00의 면적은 = 78.50\n",
            "반지름 5.00의 둘레는 = 31.40\n"
          ]
        }
      ]
    },
    {
      "cell_type": "markdown",
      "metadata": {
        "id": "NWGPvszcBZxz"
      },
      "source": [
        "## 3.조건문"
      ]
    },
    {
      "cell_type": "markdown",
      "metadata": {
        "id": "rCcxVnHX83Cl"
      },
      "source": [
        "### 차량 2부제 프로그램\n",
        "- 다음은 고농도 미세먼지 비상저감조치를 위한 차량 2부제 프로그램이다. 다음 요구 사항과 같은 결과 화면을 참고하여 프로그램을 만들어 보자.\n",
        "- datatime() 모듈 사용, 오늘날짜 : datetime.today().day"
      ]
    },
    {
      "cell_type": "code",
      "metadata": {
        "colab": {
          "base_uri": "https://localhost:8080/"
        },
        "id": "HT37Vhw180kn",
        "outputId": "894bfa92-802c-4586-cdea-a5867844c559"
      },
      "source": [
        "from datetime import datetime\n",
        "dayNum = datetime.today().day\n",
        "carNum = int(input('차량번호 : '))\n",
        "print('오늘 날짜 : %d일' %dayNum)\n",
        "if dayNum % 2 ==0:\n",
        "    print('오늘입차 : 번호가 짝수인 차량')\n",
        "else:\n",
        "    print('오늘입차 : 번호가 홀수인 차량')\n",
        "\n",
        "if dayNum % 2 == carNum % 2:\n",
        "    print('귀하의 차량은 입차 가능합니다.')\n",
        "else:\n",
        "    print('귀하의 차량은 입차 불가능합니다.')\n",
        "\n",
        "\n",
        "# from datetime import datetime\n",
        "# num = int(input('차량 번호 4자리를 입력하세요.'))\n",
        "# today = int(datetime.today().day)\n",
        "# print('오늘 날짜 :', today,'일')\n",
        "# if num % 2 == 0:\n",
        "#     print('오늘 입차 : 번호가 짝수인 차량')\n",
        "# else:\n",
        "#     print('오늘 입차 : 번호가 홀수인 차량')\n",
        "# if today % 2 == num % 2:\n",
        "#     print('\"귀하의 차량은 입차 가능합니다.\"')\n",
        "# else:\n",
        "#     print('\"귀하의 차량은 입차 불가합니다.\"')"
      ],
      "execution_count": null,
      "outputs": [
        {
          "output_type": "stream",
          "name": "stdout",
          "text": [
            "차량번호 : 4692\n",
            "오늘 날짜 : 13일\n",
            "오늘입차 : 번호가 홀수인 차량\n",
            "귀하의 차량은 입차 불가능합니다.\n"
          ]
        }
      ]
    },
    {
      "cell_type": "markdown",
      "metadata": {
        "id": "0d4OGQ8o9Em6"
      },
      "source": [
        "### 전기 요금 계산기\n",
        "- 전기를 많이 사용하면 누진세가 붙어 단가와 기본 요금이 올라간다. 다음 누진세가 적용된 단가표를 참고하여 전기 사용량을 입력하면 전기료가 출력되는 프로그램을 만들어 보자."
      ]
    },
    {
      "cell_type": "code",
      "metadata": {
        "colab": {
          "base_uri": "https://localhost:8080/"
        },
        "id": "VqSMJ8Vd9HxS",
        "outputId": "3f16c19e-f0b8-40a2-a20e-6a587898bb31"
      },
      "source": [
        "사용량 = float(input('전기 사용량 : '))\n",
        "\n",
        "if 사용량 > 400:\n",
        "    unitPrice = 280.6\n",
        "    basicPrice=7300\n",
        "elif 사용량 > 200:\n",
        "    unitPrice = 187.9\n",
        "    basicPrice= 1600\n",
        "else:\n",
        "    unitPrice = 99.3\n",
        "    basicPrice= 910\n",
        "\n",
        "totalPrice = 사용량*unitPrice + basicPrice\n",
        "print('사용량 : %.1f kwh' %사용량)\n",
        "print('기본요금 : %.1f 원' %basicPrice)\n",
        "print('단가 : %.2f 원' %unitPrice)\n",
        "print('전기요금 : %.1f 원' %totalPrice)\n",
        "\n",
        "# usage = int(input('전기 사용량을 입력하세요. : '))\n",
        "# if usage > 400 :\n",
        "#     unitprice = 280.6\n",
        "#     baseprice = 7300\n",
        "# elif usage > 200 :\n",
        "#     unitprice = 187.9\n",
        "#     baseprice = 1600\n",
        "# else :\n",
        "#     unitprice = 99.3\n",
        "#     baseprice = 910\n",
        "# elec = usage * unitprice + baseprice\n",
        "\n",
        "# print('사용량 : %.1f kwh' %(usage))\n",
        "# print('기본요금 : ', baseprice, '원')\n",
        "# print('단가 : ', unitprice, '원')\n",
        "# print('전기요금 : ', elec, '원')"
      ],
      "execution_count": null,
      "outputs": [
        {
          "output_type": "stream",
          "name": "stdout",
          "text": [
            "전기 사용량 : 659\n",
            "사용량 : 659.0 kwh\n",
            "기본요금 : 7300.0 원\n",
            "단가 : 280.60 원\n",
            "전기요금 : 192215.4 원\n"
          ]
        }
      ]
    },
    {
      "cell_type": "markdown",
      "metadata": {
        "id": "rWPZfVdbBfjM"
      },
      "source": [
        "## 4.반복문"
      ]
    },
    {
      "cell_type": "markdown",
      "metadata": {
        "id": "UzmBXEhW9eUq"
      },
      "source": [
        "### 로또 번호 만들기\n",
        "- 1부터 45까지 숫자 중 6개를 임의로 선택하여 로또 번호를 만들어 보자.\n",
        "- random  모듈 사용"
      ]
    },
    {
      "cell_type": "code",
      "metadata": {
        "colab": {
          "base_uri": "https://localhost:8080/"
        },
        "id": "p7UwHiGX9av-",
        "outputId": "990f7f5c-1b2a-411b-c357-285d8abc4ed1"
      },
      "source": [
        "import random\n",
        "lotto = []\n",
        "while len(lotto) < 6:\n",
        "    num = random.randint(1, 45)\n",
        "    if num not in lotto:\n",
        "        lotto.append(num)\n",
        "print(lotto)\n",
        "\n",
        "\n",
        "# import random\n",
        "# lotto = random.sample(range(1, 46), 6)\n",
        "# lotto.sort()\n",
        "# print(lotto)"
      ],
      "execution_count": null,
      "outputs": [
        {
          "output_type": "stream",
          "name": "stdout",
          "text": [
            "[5, 30, 16, 6, 8, 13]\n"
          ]
        }
      ]
    },
    {
      "cell_type": "markdown",
      "metadata": {
        "id": "M7ME6Px59lrn"
      },
      "source": [
        "### 로그인 기능 만들기\n",
        "- 시스템 관리자 로그인 기능을 만들어 보자.\n",
        "    - 관리자 암호를 입력하고 로그인을 시도할 때 암호가 틀렸다면 '암호를 다시 확인하세요!'를 출력하고 다시 암호를 물어본다. 5회 이상 로그인에 실패하면 '로그인 실패!! 횟수 초과!!' 메시지를 출력하고 종료한다.\n",
        "    - 암호가 올바르다면 '로그인 됐습니다.'를 출력하고 종료한다. 올바른 암호는 'aihub1234'이다."
      ]
    },
    {
      "cell_type": "code",
      "metadata": {
        "colab": {
          "base_uri": "https://localhost:8080/"
        },
        "id": "9B2poVgz9dv3",
        "outputId": "36b8072d-1066-4450-a3fb-913c42c7a222"
      },
      "source": [
        "adminPw = 'aihub1234'\n",
        "count = 1\n",
        "\n",
        "while True:\n",
        "    if count > 5:\n",
        "        print('로그인 실패!! 횟수 초과!!!')\n",
        "        break\n",
        "\n",
        "    inputPw = input('관리자 암호를 입력하세요. ')\n",
        "    \n",
        "    if inputPw != adminPw:\n",
        "        print('암호를 다시 확인하세요!')\n",
        "        count += 1\n",
        "    elif inputPw == adminPw:\n",
        "        print('로그인 됐습니다.')\n",
        "        break\n",
        "\n",
        "\n",
        "# cnt = 0\n",
        "\n",
        "# while True:\n",
        "#     pw = input('관리자 암호를 입력하세요. : ')\n",
        "#     adminpw = 'aihub1234'\n",
        "   \n",
        "#     if pw == adminpw:\n",
        "#         print('로그인이 됐습니다.')\n",
        "#         break\n",
        "#     else:\n",
        "#         cnt = cnt + 1\n",
        "#         print('암호를 다시 확인하세요!')\n",
        "\n",
        "#     if cnt >= 5:\n",
        "#         print('로그인 실패! 횟수 초과!')\n",
        "#         break"
      ],
      "execution_count": null,
      "outputs": [
        {
          "output_type": "stream",
          "name": "stdout",
          "text": [
            "관리자 암호를 입력하세요. 5645\n",
            "암호를 다시 확인하세요!\n",
            "관리자 암호를 입력하세요. 846513\n",
            "암호를 다시 확인하세요!\n",
            "관리자 암호를 입력하세요. 54981\n",
            "암호를 다시 확인하세요!\n",
            "관리자 암호를 입력하세요. 77885\n",
            "암호를 다시 확인하세요!\n",
            "관리자 암호를 입력하세요. aihub1234\n",
            "로그인 됐습니다.\n"
          ]
        }
      ]
    },
    {
      "cell_type": "markdown",
      "metadata": {
        "id": "veREwV3uBmcq"
      },
      "source": [
        "## 5.리스트"
      ]
    },
    {
      "cell_type": "markdown",
      "metadata": {
        "id": "u11DvtZF-Nqd"
      },
      "source": [
        "### 출석부 관리 시스템\n",
        "- 이번에 만들 출석부 관리 시스템은 리스트를 이용해서 학급의 학생 명단을 관리하는 프로그램이다. 다음 7개의 시나리오에 따라 프로그래밍을 전개한다.\n",
        "\n",
        "시나리오\n",
        "- 1 : 학습 학생수가 10명(정우람, 박으뜸, 배힘찬, 천영웅, 신석기, 배민규, 전민수, 박건우, 박찬호, 이승엽)인 리스트를 만든다.\n",
        "- 2 : '가나다' 순으로 정렬한다.\n",
        "- 3 : '박찬호' 학생이 전학을 가게 되었다. 출석부에서 삭제한 전체 학생과 학생 수를 출력한다.\n",
        "- 4 : 선생님을 돕기 위한 학생으로 앞에서 3명을 뽑는다.\n",
        "- 5 : 새로운 친구가 전학왔다. 이름은 '이병규' 이다.\n",
        "- 6 : 자리를 바꾸기 위해서 학생 순서를 역순으로 뒤집는다.\n",
        "- 7 : '정우람' 학생이 이름을 '정잘남'으로 개명했다."
      ]
    },
    {
      "cell_type": "code",
      "metadata": {
        "colab": {
          "base_uri": "https://localhost:8080/"
        },
        "id": "Lx0Edlil9k7x",
        "outputId": "96429219-1a15-4054-9f36-64be68559259"
      },
      "source": [
        "students = [\"정우람\", \"박으뜸\", \"배힘찬\", \"천영웅\", \"신석기\", \"배민규\", \"전민수\", \"박건우\", \"박찬호\", \"이승엽\"]\n",
        "print('시나리오 #1', students)\n",
        "print('')\n",
        "\n",
        "students.sort()\n",
        "print('시나리오 #2', students)\n",
        "print('')\n",
        "\n",
        "students.remove(\"박찬호\")\n",
        "print('시나리오 #3', students)\n",
        "print(len(students))\n",
        "print('')\n",
        "\n",
        "print('시나리오 #4', students[:3])\n",
        "print('')\n",
        "\n",
        "students.append(\"이병규\")\n",
        "students.sort()\n",
        "print('시나리오 #5', students)\n",
        "print('')\n",
        "\n",
        "students.reverse()\n",
        "print('시나리오 #6', students)\n",
        "print('')\n",
        "\n",
        "ind = students.index(\"정우람\")\n",
        "students[ind] = \"정잘남\"\n",
        "print('시나리오 #7', students)\n",
        "\n",
        "\n",
        "# #시나리오 1 학생 10명 리스트 만들기\n",
        "# students = ['정우람', '박으뜸', '배힘찬', '천영웅', '신석기', '배민규', '전민수', '박건우', '박찬호', '이승엽']\n",
        "# print(students)\n",
        "# #시나리오 2 가나다순 정렬\n",
        "# students.sort()\n",
        "# print(students)\n",
        "# #시나리오 3 박찬호 제거\n",
        "# students.remove('박찬호')\n",
        "# print(students)\n",
        "# print(len(students))\n",
        "# #시나리오 4 앞에서 셋 출력\n",
        "# print(students[:3])\n",
        "# #시나리오 5 이병규 추가\n",
        "# students.append('이병규')\n",
        "# students.sort()\n",
        "# print(students)\n",
        "# #시나리오 6 역순 정렬\n",
        "# students.reverse()\n",
        "# print(students)\n",
        "# #시나리오 7 정우람을 정잘남으로 교체\n",
        "# result = []\n",
        "# for i in students:\n",
        "#     new = i.replace('정우람', '정잘남')\n",
        "#     result.append(new)\n",
        "# print(result)"
      ],
      "execution_count": null,
      "outputs": [
        {
          "output_type": "stream",
          "name": "stdout",
          "text": [
            "시나리오 #1 ['정우람', '박으뜸', '배힘찬', '천영웅', '신석기', '배민규', '전민수', '박건우', '박찬호', '이승엽']\n",
            "\n",
            "시나리오 #2 ['박건우', '박으뜸', '박찬호', '배민규', '배힘찬', '신석기', '이승엽', '전민수', '정우람', '천영웅']\n",
            "\n",
            "시나리오 #3 ['박건우', '박으뜸', '배민규', '배힘찬', '신석기', '이승엽', '전민수', '정우람', '천영웅']\n",
            "9\n",
            "\n",
            "시나리오 #4 ['박건우', '박으뜸', '배민규']\n",
            "\n",
            "시나리오 #5 ['박건우', '박으뜸', '배민규', '배힘찬', '신석기', '이병규', '이승엽', '전민수', '정우람', '천영웅']\n",
            "\n",
            "시나리오 #6 ['천영웅', '정우람', '전민수', '이승엽', '이병규', '신석기', '배힘찬', '배민규', '박으뜸', '박건우']\n",
            "\n",
            "시나리오 #7 ['천영웅', '정잘남', '전민수', '이승엽', '이병규', '신석기', '배힘찬', '배민규', '박으뜸', '박건우']\n"
          ]
        }
      ]
    },
    {
      "cell_type": "markdown",
      "metadata": {
        "id": "JoGhMjmc-8zT"
      },
      "source": [
        "### 혈액 보관 시스템\n",
        "- 헌혈 프로그램을 통해서 10명의 기부자에게 혈액을 받아 리스트에 보관하고, 보관하고 있는 혈액형을 종류별로 몇 팩씩 보유하고 있는지 한눈에 보여주는 프로그램을 만들어 보자."
      ]
    },
    {
      "cell_type": "code",
      "metadata": {
        "colab": {
          "base_uri": "https://localhost:8080/"
        },
        "id": "0a4ufCas92Rx",
        "outputId": "f51ef56a-79b0-4b2b-83b7-e37350f5cead"
      },
      "source": [
        "boolds = []\n",
        "\n",
        "for i in range(10):\n",
        "    print('\\n헌혈해 주셔서 감사합니다. 헌혈하신 혈액형을 선택하세요')\n",
        "    boolds.append(input('A, B, AB, O : '))\n",
        "\n",
        "print('-' * 30)\n",
        "print('혈액형 :', '개수')\n",
        "print('-' * 30)\n",
        "print('A형 :', boolds.count('A'))\n",
        "print('B형 :', boolds.count('B'))\n",
        "print('AB형 :', boolds.count('AB'))\n",
        "print('O형 :', boolds.count('O'))\n",
        "print('-' * 30)\n",
        "\n",
        "\n",
        "# blood = []\n",
        "# for i in range(10):\n",
        "#     print('헌혈해 주셔서 감사합니다. 헌혈하신 혈액형을 선택하세요.')\n",
        "#     blood.append(input('A, B, AB, O : '))\n",
        "\n",
        "# print('총 혈액형과 개수')\n",
        "# print('A : ', blood.count('A'))\n",
        "# print('B : ', blood.count('B'))\n",
        "# print('AB : ', blood.count('AB'))\n",
        "# print('O : ', blood.count('O'))"
      ],
      "execution_count": null,
      "outputs": [
        {
          "output_type": "stream",
          "name": "stdout",
          "text": [
            "\n",
            "헌혈해 주셔서 감사합니다. 헌혈하신 혈액형을 선택하세요\n",
            "A, B, AB, O : O\n",
            "\n",
            "헌혈해 주셔서 감사합니다. 헌혈하신 혈액형을 선택하세요\n",
            "A, B, AB, O : A\n",
            "\n",
            "헌혈해 주셔서 감사합니다. 헌혈하신 혈액형을 선택하세요\n",
            "A, B, AB, O : B\n",
            "\n",
            "헌혈해 주셔서 감사합니다. 헌혈하신 혈액형을 선택하세요\n",
            "A, B, AB, O : AB\n",
            "\n",
            "헌혈해 주셔서 감사합니다. 헌혈하신 혈액형을 선택하세요\n",
            "A, B, AB, O : O\n",
            "\n",
            "헌혈해 주셔서 감사합니다. 헌혈하신 혈액형을 선택하세요\n",
            "A, B, AB, O : O\n",
            "\n",
            "헌혈해 주셔서 감사합니다. 헌혈하신 혈액형을 선택하세요\n",
            "A, B, AB, O : A\n",
            "\n",
            "헌혈해 주셔서 감사합니다. 헌혈하신 혈액형을 선택하세요\n",
            "A, B, AB, O : A\n",
            "\n",
            "헌혈해 주셔서 감사합니다. 헌혈하신 혈액형을 선택하세요\n",
            "A, B, AB, O : B\n",
            "\n",
            "헌혈해 주셔서 감사합니다. 헌혈하신 혈액형을 선택하세요\n",
            "A, B, AB, O : AB\n",
            "------------------------------\n",
            "혈액형 : 개수\n",
            "------------------------------\n",
            "A형 : 3\n",
            "B형 : 2\n",
            "AB형 : 2\n",
            "O형 : 3\n",
            "------------------------------\n"
          ]
        }
      ]
    },
    {
      "cell_type": "markdown",
      "metadata": {
        "id": "yZvTBSE2Bq4w"
      },
      "source": [
        "## 6.딕셔너리"
      ]
    },
    {
      "cell_type": "markdown",
      "metadata": {
        "id": "V-npCEB-_Mi_"
      },
      "source": [
        "### 회원 가입 프로그램\n",
        "- 다음 4단계에 따라 회원 가입 프로그램을 만들어 보자.\n",
        "1. 프로그램을 실행하면 '1. 회원가입', '2. 프로그램 종료'를 출력하고, 사용자에게 선택을 유도한다.\n",
        "2. 사용자가 '1'을 입력하면 '회원가입'을 진행하고, '2'를 입력하면 프롤그램을 종료한다. 프로그램이 종료되면 전체 회원의 아이디와 비밀번호를 출력한다.\n",
        "3. '회원가입'은 아이디와 비밀번호를 입력받아 딕셔너리에 저장한다. 이 때 아이디는 키(key), 비밀번호는 값(values)으로 한다.\n",
        "4. 회원가입이 끝나면 다시 1단계로 돌아가 '1.회원가입','2.프로그램 종료'를 출력하고, 사용자에게 선택을 유도한다."
      ]
    },
    {
      "cell_type": "code",
      "metadata": {
        "colab": {
          "base_uri": "https://localhost:8080/"
        },
        "id": "AupHuFaG_C77",
        "outputId": "d4265e6c-b069-4810-80de-9c7266df703f"
      },
      "source": [
        "members = {}\n",
        "flag = True\n",
        "\n",
        "while flag:\n",
        "    selectNum = int(input('\\n1. 회원가입, 2. 프로그램 종료\\t'))\n",
        "    \n",
        "    if selectNum == 1:\n",
        "        id = input('아이디를 입력하세요.\\t')\n",
        "        pw = input('비밀번호를 입력하세요.\\t')\n",
        "        members[id] = pw\n",
        "        \n",
        "    elif selectNum == 2:\n",
        "        print('-' * 30)\n",
        "        print('아이디  : 비밀번호')\n",
        "        print('-' * 30)\n",
        "        \n",
        "        for key in members.keys():\n",
        "            print(key, '\\t:\\t', members[key])\n",
        "        print('-' * 30)\n",
        "        \n",
        "        flag = False\n",
        "\n",
        "\n",
        "\n",
        "# members = {}\n",
        "# while True :\n",
        "#     choice = int(input('1.회원가입 or 2. 프로그램 종료'))\n",
        "#     if choice == 1:\n",
        "#         id = input('아이디를 입력하세요. : ')\n",
        "#         pw = input('비밀번호를 입력하세요. : ')\n",
        "#         members[id] = pw\n",
        "#     elif choice == 2:\n",
        "#         print('ID PW')\n",
        "\n",
        "#         for key in members.keys():\n",
        "#             print(key, members[key])\n",
        "#         print('프로그램을 종료합니다.')\n",
        "#         break"
      ],
      "execution_count": null,
      "outputs": [
        {
          "output_type": "stream",
          "name": "stdout",
          "text": [
            "\n",
            "1. 회원가입, 2. 프로그램 종료\t1\n",
            "아이디를 입력하세요.\tagad\n",
            "비밀번호를 입력하세요.\t51651\n",
            "\n",
            "1. 회원가입, 2. 프로그램 종료\t2\n",
            "------------------------------\n",
            "아이디  : 비밀번호\n",
            "------------------------------\n",
            "agad \t:\t 51651\n",
            "------------------------------\n"
          ]
        }
      ]
    },
    {
      "cell_type": "markdown",
      "metadata": {
        "id": "hBFt8DNoB1z0"
      },
      "source": [
        "## 7.함수"
      ]
    },
    {
      "cell_type": "markdown",
      "metadata": {
        "id": "G_jxU2Gm_lhS"
      },
      "source": [
        "### 계산기 프로그램\n",
        "- 사용자가 숫자 2개를 입력하고 연산자를 선택하면 연산결과가 출력되는 프로그램을 함수를 이용하여 만들어 보자."
      ]
    },
    {
      "cell_type": "code",
      "metadata": {
        "colab": {
          "base_uri": "https://localhost:8080/"
        },
        "id": "yqfvcvdS_L0g",
        "outputId": "3a52536d-cc05-4343-9c47-80e20fca9f0e"
      },
      "source": [
        "def add():  # 덧셈\n",
        "    print('덧셈 결과 : ', inputNumber1 + inputNumber2)\n",
        "\n",
        "def sub():  # 뺄셈\n",
        "    print('뺄셈 결과 : ', inputNumber1 - inputNumber2)\n",
        "\n",
        "def mul():  # 곱셈\n",
        "    print('곱셈 결과 : ', inputNumber1 * inputNumber2)\n",
        "\n",
        "def div():  # 나눗셈\n",
        "    print('나눗셈 결과 : ', inputNumber1 / inputNumber2)\n",
        "\n",
        "def calculator(): # 계산기\n",
        "    if(selectOperator == 1):\n",
        "        add()\n",
        "    elif(selectOperator == 2):\n",
        "        sub()\n",
        "    elif(selectOperator == 3):\n",
        "        mul()\n",
        "    elif(selectOperator == 4):\n",
        "        div()\n",
        "\n",
        "inputNumber1 = float(input('숫자를 입력하세요. '))\n",
        "selectOperator = int(input('연산자를 선택하세요. 1.덧셈, 2.뺄셈, 3.곱셈, 4.나눗셈 '))\n",
        "inputNumber2 = float(input('숫자를 입력하세요. '))\n",
        "\n",
        "calculator()\n",
        "\n",
        "\n",
        "\n",
        "# n1 = float(input('숫자를 입력하세요.'))\n",
        "# select = int(input('연산자를 선택하세요. 1.덧셈 2.뺄셈 3.곱셈 4.나눗셈'))\n",
        "# n2 = float(input('숫자를 입력하세요.'))\n",
        "\n",
        "# def get_result(n1, n2):\n",
        "#     if select == 1:\n",
        "#         return n1 + n2\n",
        "#     elif select == 2:\n",
        "#         return n1 - n2\n",
        "#     elif select == 3:\n",
        "#         return n1 * n2\n",
        "#     else:\n",
        "#         return n1 / n2\n",
        "# print(int(get_result(n1,n2)))\n",
        "\n",
        "\n",
        "\n",
        "# def plus():\n",
        "#     result = n1 + n2\n",
        "#     print(int(result))\n",
        "# def minus():\n",
        "#     result = n1 - n2\n",
        "#     print(int(result))\n",
        "# def mul():\n",
        "#     result = n1 * n2\n",
        "#     print(int(result))\n",
        "# def div():\n",
        "#     result = n1 / n2\n",
        "#     print(int(result))\n",
        "# def cal():\n",
        "#     if (select == 1):\n",
        "#         plus()\n",
        "#     elif (select == 2):\n",
        "#         minus()\n",
        "#     elif (select == 3):\n",
        "#         mul()\n",
        "#     else:\n",
        "#         div()\n",
        "# n1 = float(input('숫자를 입력하세요.'))\n",
        "# select = int(input('연산자를 선택하세요. 1.덧셈 2.뺄셈 3.곱셈 4.나눗셈'))\n",
        "# n2 = float(input('숫자를 입력하세요.'))\n",
        "# cal()"
      ],
      "execution_count": null,
      "outputs": [
        {
          "output_type": "stream",
          "name": "stdout",
          "text": [
            "숫자를 입력하세요. 64\n",
            "연산자를 선택하세요. 1.덧셈, 2.뺄셈, 3.곱셈, 4.나눗셈 2\n",
            "숫자를 입력하세요. 97\n",
            "뺄셈 결과 :  -33.0\n"
          ]
        }
      ]
    },
    {
      "cell_type": "markdown",
      "metadata": {
        "id": "YEjnnGJ3_tWj"
      },
      "source": [
        "### 할인된 상품 가격표 출력 프로그램\n",
        "- 할인 마트는 고객 감사의 일환으로 '오늘의 할인' 이벤트를 진행할 계획이다. 아래의 상품 가격표를 참고해서 '오늘의 할인'을 입력하면 할인된 가격이 출력되는 프로그램을 만들어 보자."
      ]
    },
    {
      "cell_type": "code",
      "metadata": {
        "colab": {
          "base_uri": "https://localhost:8080/"
        },
        "id": "6aJpWzhvAfvE",
        "outputId": "b8ca0e16-abab-4544-bd78-c6646ef7f119"
      },
      "source": [
        "standardPrice = {'쌀':9900, '상추':1900,'고추':2900,'마늘':8900,'통닭':5600,'햄':6900, '치즈':3900}\n",
        "\n",
        "def getDiscountPrice(rate):\n",
        "    dcPrice = {}\n",
        "    for goods in standardPrice.keys():\n",
        "        disPri = int(standardPrice[goods] * (1 - (rate / 100)))\n",
        "        dcPrice[goods] = disPri\n",
        "    return dcPrice\n",
        "\n",
        "def printPrice(priceList):\n",
        "    for goods in priceList.keys():\n",
        "        print(goods, '\\t:', standardPrice[goods], '원\\t', inputData, '%DC ->', priceList[goods], '원')\n",
        "\n",
        "print('---------------------------------------------')\n",
        "print('-- 할인마트 오늘의 할인 가격표 출력 시스템 --')\n",
        "print('---------------------------------------------')\n",
        "\n",
        "inputData = int(input('오늘의 할인율을 입력하세요. '))\n",
        "discountPrice = getDiscountPrice(inputData)\n",
        "\n",
        "printPrice(discountPrice)\n",
        "print('---------------------------------------------')\n",
        "\n",
        "\n",
        "# original = {'쌀':9900, '상추':1900, '고추':2900, '마늘':8900, '통닭':5600, '햄':6900, '치즈':3900}\n",
        "# dcrate = float(input('오늘의 할인율은? '))\n",
        "# def dcprice(rate):\n",
        "#     todayprice = {}\n",
        "#     for i in original.keys():\n",
        "#         dcprice = int(original[i] * (1 - (rate / 100)))\n",
        "#         todayprice[i] = dcprice\n",
        "#     return todayprice\n",
        "\n",
        "# def tableprice(pricelist):\n",
        "#     for i in pricelist.keys():\n",
        "#         print(i, '\\t:', original[i], '원', '->', pricelist[i], '원', '(',dcrate, '% 할인 )')\n",
        "\n",
        "# print('---------------------------------------------')\n",
        "# print('-- 할인마트 오늘의 할인 가격표 출력 시스템 --')\n",
        "# print('---------------------------------------------')\n",
        "\n",
        "# discountprice = dcprice(dcrate)\n",
        "# tableprice(discountprice)\n",
        "# print('---------------------------------------------')"
      ],
      "execution_count": null,
      "outputs": [
        {
          "output_type": "stream",
          "name": "stdout",
          "text": [
            "---------------------------------------------\n",
            "-- 할인마트 오늘의 할인 가격표 출력 시스템 --\n",
            "---------------------------------------------\n",
            "오늘의 할인율을 입력하세요. 15\n",
            "쌀 \t: 9900 원\t 15 %DC -> 8415 원\n",
            "상추 \t: 1900 원\t 15 %DC -> 1615 원\n",
            "고추 \t: 2900 원\t 15 %DC -> 2465 원\n",
            "마늘 \t: 8900 원\t 15 %DC -> 7565 원\n",
            "통닭 \t: 5600 원\t 15 %DC -> 4760 원\n",
            "햄 \t: 6900 원\t 15 %DC -> 5865 원\n",
            "치즈 \t: 3900 원\t 15 %DC -> 3315 원\n",
            "---------------------------------------------\n"
          ]
        }
      ]
    },
    {
      "cell_type": "markdown",
      "metadata": {
        "id": "xrBoKhU9_5tp"
      },
      "source": [
        "### 문자 메시지 요금 청구 프로그램\n",
        "- 이동 통신사에서 다음 요금표에 따라 문자 메시지 요금을 계산함\n",
        "- 알고리즘\n",
        "    - 이용자의 회원 등급을 입력한다.\n",
        "    - SMS 발송 건수를 입력한다.\n",
        "    - MMS 발송 건수를 입력한다.\n",
        "    - 회원 등급에 따라 요금표를 기준으로 요금을 계산한다.\n",
        "    - 청구 요금을 출력한다."
      ]
    },
    {
      "cell_type": "code",
      "metadata": {
        "colab": {
          "base_uri": "https://localhost:8080/"
        },
        "id": "KPJPHdON_x0O",
        "outputId": "1132c151-fa88-439d-da89-4c456c970c4f"
      },
      "source": [
        "# level = int(input('회원 등급을 선택하세요. \\n 1.VVIP 2. VIP 3. GOLD '))\n",
        "# sms = int(input('SMS 발송 건수를 입력하세요.'))\n",
        "# mms = int(input('MMS 발송 건수를 입력하세요.'))\n",
        "# if level == 1:\n",
        "#     smsprice = 0\n",
        "#     if mms > 50:\n",
        "#         mmsprice = (mms - 50) * 20\n",
        "#     else:\n",
        "#         mmsprice = 0\n",
        "# elif level == 2:\n",
        "#     if sms > 100:\n",
        "#         smsprice = (sms - 100) * 10\n",
        "#     else:\n",
        "#         smsprice = 0\n",
        "#     if mms > 10:\n",
        "#         mmsprice = (mms - 10) * 20\n",
        "#     else:\n",
        "#         mmsprice = 0\n",
        "# else:\n",
        "#     if sms > 10:\n",
        "#         smsprice = (sms - 10) * 10\n",
        "#     else:\n",
        "#         smsprice = 0\n",
        "#     if mms > 5:\n",
        "#         mmsprice = (mms - 5) * 20\n",
        "#     else:\n",
        "#         mmsprice = 0\n",
        "# totalprice = smsprice + mmsprice\n",
        "# print('smsprice : ', smsprice, '원')\n",
        "# print('mmsprice : ', mmsprice, '원')\n",
        "# print('totalprice : ', totalprice, '원')\n",
        "\n",
        "\n",
        "level = int(input('회원 등급을 선택하세요. \\n 1.VVIP 2. VIP 3. GOLD '))\n",
        "sms = int(input('SMS 발송 건수를 입력하세요.'))\n",
        "mms = int(input('MMS 발송 건수를 입력하세요.'))\n",
        "def smsprice(level, sms):\n",
        "    if level == 2 and sms > 100:\n",
        "        return (sms - 100) * 10\n",
        "    elif level == 3 and sms > 10:\n",
        "        return (sms - 10) * 10\n",
        "    else:\n",
        "        return 0\n",
        "print('smsprice \\t: ', int(smsprice(level, sms)), '원')\n",
        "def mmsprice(level, mms):\n",
        "    if level == 1 and mms > 50:\n",
        "        return (mms - 50) * 20\n",
        "    elif level == 2 and mms > 10:\n",
        "        return (mms - 10) * 20\n",
        "    elif level == 3 and mms > 5:\n",
        "        return (mms - 5) * 20\n",
        "    else:\n",
        "        return 0\n",
        "print('mmsprice \\t: ', int(mmsprice(level, mms)), '원')\n",
        "totalprice = int(smsprice(level, sms)) + int(mmsprice(level, mms))\n",
        "print('totalprice \\t: ', totalprice, '원')"
      ],
      "execution_count": null,
      "outputs": [
        {
          "output_type": "stream",
          "name": "stdout",
          "text": [
            "회원 등급을 선택하세요. \n",
            " 1.VVIP 2. VIP 3. GOLD 3\n",
            "SMS 발송 건수를 입력하세요.150\n",
            "MMS 발송 건수를 입력하세요.45\n",
            "smsprice \t:  1400 원\n",
            "mmsprice \t:  800 원\n",
            "totalprice \t:  2200 원\n"
          ]
        }
      ]
    }
  ]
}